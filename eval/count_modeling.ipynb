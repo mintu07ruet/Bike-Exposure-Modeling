{
 "cells": [
  {
   "cell_type": "code",
   "execution_count": 6,
   "id": "28bfee2d-4b98-46e4-9362-4bf00a5d436c",
   "metadata": {},
   "outputs": [],
   "source": [
    "import pandas as pd\n",
    "\n",
    "import geopandas as gpd\n",
    "\n",
    "from shapely import geometry\n",
    "\n",
    "from sklearn.linear_model import PoissonRegressor\n",
    "from sklearn.model_selection import train_test_split, GroupKFold, GroupShuffleSplit"
   ]
  },
  {
   "cell_type": "code",
   "execution_count": 2,
   "id": "fa36a0b8-af3d-4673-b893-094f399181ce",
   "metadata": {},
   "outputs": [
    {
     "name": "stderr",
     "output_type": "stream",
     "text": [
      "/opt/conda/lib/python3.7/site-packages/pandas/core/dtypes/cast.py:118: ShapelyDeprecationWarning: The array interface is deprecated and will no longer work in Shapely 2.0. Convert the '.coords' to a numpy array instead.\n",
      "  arr = construct_1d_object_array_from_listlike(values)\n"
     ]
    }
   ],
   "source": [
    "gcs_path = 'gs://smart4'\n",
    "\n",
    "count_data = pd.read_csv(f'{gcs_path}/count_file/Final_data_march18.csv')\n",
    "\n",
    "unwanted_columns = [\n",
    "    'Unnamed: 0',\n",
    "    'X', 'ID',\n",
    "    'ATT.in.Million',\n",
    "    'bgarea_t', 'bgcliparea_t', 'pctofbgarea_t',\n",
    "    'bgarea_q', 'bgcliparea_q', 'pctofbgarea_q',\n",
    "    'bgarea_h', 'bgcliparea_h', 'pctofbgarea_h',\n",
    "    'rt_i_shd_tot_width', 'lt_i_shd_tot_width',\n",
    "    'near_strava_id', \n",
    "    'ATT.in.Thousands',\n",
    "    'rowIndex', 'primary', 'secondary', 'tertiary', 'residential', 'trunk', 'secondary_link', 'unclassified',\n",
    "    'speed_0_25', 'speed_21_35', 'speed_greater_than_35',\n",
    "    'path', 'bike_lane',\n",
    "    'bike_route', 'cycle_track', 'trail', 'Interstate', 'Freeway', 'Principal_Arterial',\n",
    "    'Minor_Arterial', 'Major_Collector', 'Minor_Collector', 'Local'\n",
    "]\n",
    "count_data = count_data.drop(columns=unwanted_columns)\n",
    "\n",
    "count_data['centroid'] = count_data.apply(lambda x: geometry.Point(x['Long'], x['Lat']), axis=1)\n",
    "count_data = gpd.GeoDataFrame(count_data, geometry='centroid', crs=4326)"
   ]
  },
  {
   "cell_type": "code",
   "execution_count": 5,
   "id": "6035ad41-57b3-49d5-b445-0038db7031bb",
   "metadata": {},
   "outputs": [
    {
     "data": {
      "text/plain": [
       "<function sklearn.model_selection._split.train_test_split(*arrays, test_size=None, train_size=None, random_state=None, shuffle=True, stratify=None)>"
      ]
     },
     "execution_count": 5,
     "metadata": {},
     "output_type": "execute_result"
    }
   ],
   "source": [
    "train_test_split("
   ]
  },
  {
   "cell_type": "code",
   "execution_count": 7,
   "id": "ddfa0396-1e08-4ead-94aa-ff22eabbf9f0",
   "metadata": {},
   "outputs": [
    {
     "data": {
      "text/plain": [
       "Index(['location', 'Lat', 'Long', 'year', 'ATT', 'no_of_months_data_collected',\n",
       "       'type', 'AADB', 'matched_seg_id', 'segment_id', 'street_name', 'county',\n",
       "       'tdg_id', 'lrs_cal_id', 'bikes_proh', 'bike_facs', 'int_tdg_id',\n",
       "       'loc_id', 'seg_counter', 'fclass', 'tasas_ids', 'ataip_ids', 'fc_draft',\n",
       "       'speed', 'slope', 'empnum_density_t', 'pctwhite_t', 'totwhitepersqmi_t',\n",
       "       'pctbiketowork_t', 'totbiketoworkpersqmi_t', 'pctatleastbachelors_t',\n",
       "       'totatleastbachelorspersqmi_t', 'pctnoveh_t', 'totnovehpersqmi_t',\n",
       "       'popdensitysqmi_t', 'hshlddensitysqmi_t', 'pctwhite_q',\n",
       "       'totwhitepersqmi_q', 'pctbiketowork_q', 'totbiketoworkpersqmi_q',\n",
       "       'pctatleastbachelors_q', 'totatleastbachelorspersqmi_q', 'pctnoveh_q',\n",
       "       'totnovehpersqmi_q', 'popdensitysqmi_q', 'hshlddensitysqmi_q',\n",
       "       'pctwhite_h', 'totwhitepersqmi_h', 'pctbiketowork_h',\n",
       "       'totbiketoworkpersqmi_h', 'pctatleastbachelors_h',\n",
       "       'totatleastbachelorspersqmi_h', 'pctnoveh_h', 'totnovehpersqmi_h',\n",
       "       'popdensitysqmi_h', 'hshlddensitysqmi_h', 'geom_length', 'access_code',\n",
       "       'adt_amt', 'truck_adt_amt', 'rt_lanes_amt', 'lt_lanes_amt',\n",
       "       'rt_trav_way_width', 'rt_o_shd_tot_width', 'lt_trav_way_width',\n",
       "       'lt_o_shd_tot_width', 'empnum_density_q', 'empnum_density_h',\n",
       "       'near_univ_miles', 'near_large_univ_miles', 'eco_type', 'geometry',\n",
       "       'forward_trip_count', 'reverse_trip_count',\n",
       "       'forward_commute_trip_count', 'reverse_commute_trip_count',\n",
       "       'forward_leisure_trip_count', 'reverse_leisure_trip_count',\n",
       "       'forward_average_speed', 'reverse_average_speed', 'index', 'Leg',\n",
       "       'Stv_commute_adb', 'Stv_leisure_adb', 'Stv_Ave_speed', 'centroid'],\n",
       "      dtype='object')"
      ]
     },
     "execution_count": 7,
     "metadata": {},
     "output_type": "execute_result"
    }
   ],
   "source": [
    "count_data.columns"
   ]
  },
  {
   "cell_type": "code",
   "execution_count": 18,
   "id": "1849cf7f-aa63-4b14-9fa0-bbaa723e0419",
   "metadata": {},
   "outputs": [
    {
     "ename": "TypeError",
     "evalue": "drop_duplicates() got an unexpected keyword argument 'how'",
     "output_type": "error",
     "traceback": [
      "\u001b[0;31m---------------------------------------------------------------------------\u001b[0m",
      "\u001b[0;31mTypeError\u001b[0m                                 Traceback (most recent call last)",
      "\u001b[0;32m/var/tmp/ipykernel_27675/2207561589.py\u001b[0m in \u001b[0;36m<module>\u001b[0;34m\u001b[0m\n\u001b[1;32m      1\u001b[0m \u001b[0mcols\u001b[0m \u001b[0;34m=\u001b[0m \u001b[0;34m[\u001b[0m\u001b[0;34m'tdg_id'\u001b[0m\u001b[0;34m,\u001b[0m \u001b[0;34m'Leg'\u001b[0m\u001b[0;34m,\u001b[0m \u001b[0;34m'year'\u001b[0m\u001b[0;34m]\u001b[0m\u001b[0;34m\u001b[0m\u001b[0;34m\u001b[0m\u001b[0m\n\u001b[0;32m----> 2\u001b[0;31m \u001b[0mcount_data\u001b[0m\u001b[0;34m[\u001b[0m\u001b[0mcols\u001b[0m\u001b[0;34m]\u001b[0m\u001b[0;34m.\u001b[0m\u001b[0mdrop_duplicates\u001b[0m\u001b[0;34m(\u001b[0m\u001b[0mhow\u001b[0m\u001b[0;34m=\u001b[0m\u001b[0;34m'all'\u001b[0m\u001b[0;34m,\u001b[0m \u001b[0msubset\u001b[0m\u001b[0;34m=\u001b[0m\u001b[0mcols\u001b[0m\u001b[0;34m,\u001b[0m \u001b[0mkeep\u001b[0m\u001b[0;34m=\u001b[0m\u001b[0;32mFalse\u001b[0m\u001b[0;34m)\u001b[0m\u001b[0;34m.\u001b[0m\u001b[0msort_values\u001b[0m\u001b[0;34m(\u001b[0m\u001b[0mcols\u001b[0m\u001b[0;34m)\u001b[0m\u001b[0;34m\u001b[0m\u001b[0;34m\u001b[0m\u001b[0m\n\u001b[0m",
      "\u001b[0;32m/opt/conda/lib/python3.7/site-packages/pandas/util/_decorators.py\u001b[0m in \u001b[0;36mwrapper\u001b[0;34m(*args, **kwargs)\u001b[0m\n\u001b[1;32m    309\u001b[0m                     \u001b[0mstacklevel\u001b[0m\u001b[0;34m=\u001b[0m\u001b[0mstacklevel\u001b[0m\u001b[0;34m,\u001b[0m\u001b[0;34m\u001b[0m\u001b[0;34m\u001b[0m\u001b[0m\n\u001b[1;32m    310\u001b[0m                 )\n\u001b[0;32m--> 311\u001b[0;31m             \u001b[0;32mreturn\u001b[0m \u001b[0mfunc\u001b[0m\u001b[0;34m(\u001b[0m\u001b[0;34m*\u001b[0m\u001b[0margs\u001b[0m\u001b[0;34m,\u001b[0m \u001b[0;34m**\u001b[0m\u001b[0mkwargs\u001b[0m\u001b[0;34m)\u001b[0m\u001b[0;34m\u001b[0m\u001b[0;34m\u001b[0m\u001b[0m\n\u001b[0m\u001b[1;32m    312\u001b[0m \u001b[0;34m\u001b[0m\u001b[0m\n\u001b[1;32m    313\u001b[0m         \u001b[0;32mreturn\u001b[0m \u001b[0mwrapper\u001b[0m\u001b[0;34m\u001b[0m\u001b[0;34m\u001b[0m\u001b[0m\n",
      "\u001b[0;31mTypeError\u001b[0m: drop_duplicates() got an unexpected keyword argument 'how'"
     ]
    }
   ],
   "source": [
    "cols = ['tdg_id', 'Leg', 'year']\n",
    "count_data[cols].drop_duplicates(subset=cols, keep=False).sort_values(cols)"
   ]
  },
  {
   "cell_type": "code",
   "execution_count": 26,
   "id": "b9f3de22-6e13-463f-9af6-301065a6beaa",
   "metadata": {},
   "outputs": [
    {
     "data": {
      "text/plain": [
       "eco_permanent    172\n",
       "short_term         4\n",
       "Name: type, dtype: int64"
      ]
     },
     "execution_count": 26,
     "metadata": {},
     "output_type": "execute_result"
    }
   ],
   "source": [
    "count_data.loc[count_data.duplicated(subset=cols, keep=False), 'type'].value_counts()#.sort_values(cols)"
   ]
  },
  {
   "cell_type": "code",
   "execution_count": null,
   "id": "40e307e8-c576-45c3-a015-e71f52dc7f49",
   "metadata": {},
   "outputs": [],
   "source": []
  }
 ],
 "metadata": {
  "environment": {
   "kernel": "python3",
   "name": "common-cu110.m103",
   "type": "gcloud",
   "uri": "gcr.io/deeplearning-platform-release/base-cu110:m103"
  },
  "kernelspec": {
   "display_name": "Python 3",
   "language": "python",
   "name": "python3"
  },
  "language_info": {
   "codemirror_mode": {
    "name": "ipython",
    "version": 3
   },
   "file_extension": ".py",
   "mimetype": "text/x-python",
   "name": "python",
   "nbconvert_exporter": "python",
   "pygments_lexer": "ipython3",
   "version": "3.7.12"
  }
 },
 "nbformat": 4,
 "nbformat_minor": 5
}
