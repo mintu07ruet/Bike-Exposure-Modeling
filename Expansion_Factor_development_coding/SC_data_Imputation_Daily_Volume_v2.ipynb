{
 "cells": [
  {
   "cell_type": "code",
   "execution_count": 1,
   "id": "debf0704",
   "metadata": {},
   "outputs": [
    {
     "name": "stderr",
     "output_type": "stream",
     "text": [
      "C:\\Users\\Md Mintu Miah\\anaconda3\\envs\\geo_env\\lib\\site-packages\\geopandas\\_compat.py:112: UserWarning: The Shapely GEOS version (3.11.0-CAPI-1.17.0) is incompatible with the GEOS version PyGEOS was compiled with (3.10.1-CAPI-1.16.0). Conversions between both will be slow.\n",
      "  warnings.warn(\n"
     ]
    }
   ],
   "source": [
    "# import necessary library\n",
    "import pandas as pd\n",
    "import math\n",
    "import seaborn as sns\n",
    "from matplotlib import pyplot as plt\n",
    "import re\n",
    "import numpy as np\n",
    "import geopandas as gpd\n",
    "from shapely.geometry import Point # Point class\n",
    "from shapely.geometry import shape\n",
    "import networkx as nx\n",
    "import osmnx as ox\n",
    "import os \n",
    "from geopandas import GeoDataFrame, read_file\n",
    "from geopandas.tools import overlay\n",
    "import shapely.geometry as geom\n",
    "import shapely.wkt"
   ]
  },
  {
   "cell_type": "code",
   "execution_count": 2,
   "id": "78e57dc1",
   "metadata": {},
   "outputs": [],
   "source": [
    "# Helper Function\n",
    "def min_distance_ppoly(point, polygon):\n",
    "    return polygon.distance(point).min()"
   ]
  },
  {
   "cell_type": "code",
   "execution_count": 3,
   "id": "597bb4cb",
   "metadata": {},
   "outputs": [],
   "source": [
    "# read the shprt term sites count data from 2016 to 2019\n",
    "sc=pd.read_csv('C:/UC Berkeley Project Backup/Bike_ped Exposure Model Project/Processed Data/short_term_clean_data_2016_2019.csv')"
   ]
  },
  {
   "cell_type": "code",
   "execution_count": 4,
   "id": "98190336",
   "metadata": {},
   "outputs": [
    {
     "data": {
      "text/plain": [
       "count    32109.000000\n",
       "mean        10.709988\n",
       "std         21.411523\n",
       "min          0.000000\n",
       "25%          2.000000\n",
       "50%          5.000000\n",
       "75%         12.000000\n",
       "max       1141.000000\n",
       "Name: Count, dtype: float64"
      ]
     },
     "execution_count": 4,
     "metadata": {},
     "output_type": "execute_result"
    }
   ],
   "source": [
    "sc['Count'].describe()"
   ]
  },
  {
   "cell_type": "code",
   "execution_count": 5,
   "id": "e9d41c35",
   "metadata": {},
   "outputs": [],
   "source": [
    "sc['Leg'].replace({None: 'unknown'},inplace =True)\n",
    "sc['matched_seg_id'].replace({None: 'unknown'},inplace =True)"
   ]
  },
  {
   "cell_type": "code",
   "execution_count": 6,
   "id": "ceaf8a4f",
   "metadata": {},
   "outputs": [
    {
     "data": {
      "text/html": [
       "<div>\n",
       "<style scoped>\n",
       "    .dataframe tbody tr th:only-of-type {\n",
       "        vertical-align: middle;\n",
       "    }\n",
       "\n",
       "    .dataframe tbody tr th {\n",
       "        vertical-align: top;\n",
       "    }\n",
       "\n",
       "    .dataframe thead th {\n",
       "        text-align: right;\n",
       "    }\n",
       "</style>\n",
       "<table border=\"1\" class=\"dataframe\">\n",
       "  <thead>\n",
       "    <tr style=\"text-align: right;\">\n",
       "      <th></th>\n",
       "      <th>Unnamed: 0.2</th>\n",
       "      <th>Unnamed: 0.1</th>\n",
       "      <th>Unnamed: 0</th>\n",
       "      <th>ID</th>\n",
       "      <th>Date</th>\n",
       "      <th>Day of Week</th>\n",
       "      <th>Start Time</th>\n",
       "      <th>End Time</th>\n",
       "      <th>Count</th>\n",
       "      <th>Leg</th>\n",
       "      <th>...</th>\n",
       "      <th>dayofweek</th>\n",
       "      <th>weekday_Status</th>\n",
       "      <th>Week Day Status</th>\n",
       "      <th>starttime</th>\n",
       "      <th>endtime</th>\n",
       "      <th>starttime1</th>\n",
       "      <th>endtime1</th>\n",
       "      <th>startDateTime</th>\n",
       "      <th>endDateTime</th>\n",
       "      <th>diff</th>\n",
       "    </tr>\n",
       "  </thead>\n",
       "  <tbody>\n",
       "    <tr>\n",
       "      <th>0</th>\n",
       "      <td>3432</td>\n",
       "      <td>3432</td>\n",
       "      <td>0</td>\n",
       "      <td>CH0</td>\n",
       "      <td>2018-05-30</td>\n",
       "      <td>Wednesday</td>\n",
       "      <td>7:00 AM</td>\n",
       "      <td>8:00 AM</td>\n",
       "      <td>4</td>\n",
       "      <td>N</td>\n",
       "      <td>...</td>\n",
       "      <td>2.0</td>\n",
       "      <td>0</td>\n",
       "      <td>Week Day</td>\n",
       "      <td>07:00:00</td>\n",
       "      <td>08:00:00</td>\n",
       "      <td>NaN</td>\n",
       "      <td>NaN</td>\n",
       "      <td>2018-05-30 07:00:00</td>\n",
       "      <td>2018-05-30 08:00:00</td>\n",
       "      <td>1.0</td>\n",
       "    </tr>\n",
       "    <tr>\n",
       "      <th>1</th>\n",
       "      <td>3433</td>\n",
       "      <td>3433</td>\n",
       "      <td>1</td>\n",
       "      <td>CH0</td>\n",
       "      <td>2018-05-30</td>\n",
       "      <td>Wednesday</td>\n",
       "      <td>8:00 AM</td>\n",
       "      <td>9:00 AM</td>\n",
       "      <td>4</td>\n",
       "      <td>N</td>\n",
       "      <td>...</td>\n",
       "      <td>2.0</td>\n",
       "      <td>0</td>\n",
       "      <td>Week Day</td>\n",
       "      <td>08:00:00</td>\n",
       "      <td>09:00:00</td>\n",
       "      <td>NaN</td>\n",
       "      <td>NaN</td>\n",
       "      <td>2018-05-30 08:00:00</td>\n",
       "      <td>2018-05-30 09:00:00</td>\n",
       "      <td>1.0</td>\n",
       "    </tr>\n",
       "    <tr>\n",
       "      <th>2</th>\n",
       "      <td>3438</td>\n",
       "      <td>3438</td>\n",
       "      <td>6</td>\n",
       "      <td>CH0</td>\n",
       "      <td>2018-05-30</td>\n",
       "      <td>Wednesday</td>\n",
       "      <td>7:00 AM</td>\n",
       "      <td>8:00 AM</td>\n",
       "      <td>1</td>\n",
       "      <td>E</td>\n",
       "      <td>...</td>\n",
       "      <td>2.0</td>\n",
       "      <td>0</td>\n",
       "      <td>Week Day</td>\n",
       "      <td>07:00:00</td>\n",
       "      <td>08:00:00</td>\n",
       "      <td>NaN</td>\n",
       "      <td>NaN</td>\n",
       "      <td>2018-05-30 07:00:00</td>\n",
       "      <td>2018-05-30 08:00:00</td>\n",
       "      <td>1.0</td>\n",
       "    </tr>\n",
       "    <tr>\n",
       "      <th>3</th>\n",
       "      <td>3442</td>\n",
       "      <td>3442</td>\n",
       "      <td>10</td>\n",
       "      <td>CH0</td>\n",
       "      <td>2018-05-30</td>\n",
       "      <td>Wednesday</td>\n",
       "      <td>7:00 AM</td>\n",
       "      <td>8:00 AM</td>\n",
       "      <td>3</td>\n",
       "      <td>S</td>\n",
       "      <td>...</td>\n",
       "      <td>2.0</td>\n",
       "      <td>0</td>\n",
       "      <td>Week Day</td>\n",
       "      <td>07:00:00</td>\n",
       "      <td>08:00:00</td>\n",
       "      <td>NaN</td>\n",
       "      <td>NaN</td>\n",
       "      <td>2018-05-30 07:00:00</td>\n",
       "      <td>2018-05-30 08:00:00</td>\n",
       "      <td>1.0</td>\n",
       "    </tr>\n",
       "    <tr>\n",
       "      <th>4</th>\n",
       "      <td>3443</td>\n",
       "      <td>3443</td>\n",
       "      <td>11</td>\n",
       "      <td>CH0</td>\n",
       "      <td>2018-05-30</td>\n",
       "      <td>Wednesday</td>\n",
       "      <td>8:00 AM</td>\n",
       "      <td>9:00 AM</td>\n",
       "      <td>4</td>\n",
       "      <td>S</td>\n",
       "      <td>...</td>\n",
       "      <td>2.0</td>\n",
       "      <td>0</td>\n",
       "      <td>Week Day</td>\n",
       "      <td>08:00:00</td>\n",
       "      <td>09:00:00</td>\n",
       "      <td>NaN</td>\n",
       "      <td>NaN</td>\n",
       "      <td>2018-05-30 08:00:00</td>\n",
       "      <td>2018-05-30 09:00:00</td>\n",
       "      <td>1.0</td>\n",
       "    </tr>\n",
       "  </tbody>\n",
       "</table>\n",
       "<p>5 rows × 25 columns</p>\n",
       "</div>"
      ],
      "text/plain": [
       "   Unnamed: 0.2  Unnamed: 0.1  Unnamed: 0   ID        Date Day of Week  \\\n",
       "0          3432          3432           0  CH0  2018-05-30   Wednesday   \n",
       "1          3433          3433           1  CH0  2018-05-30   Wednesday   \n",
       "2          3438          3438           6  CH0  2018-05-30   Wednesday   \n",
       "3          3442          3442          10  CH0  2018-05-30   Wednesday   \n",
       "4          3443          3443          11  CH0  2018-05-30   Wednesday   \n",
       "\n",
       "  Start Time End Time  Count Leg  ... dayofweek weekday_Status  \\\n",
       "0    7:00 AM  8:00 AM      4   N  ...       2.0              0   \n",
       "1    8:00 AM  9:00 AM      4   N  ...       2.0              0   \n",
       "2    7:00 AM  8:00 AM      1   E  ...       2.0              0   \n",
       "3    7:00 AM  8:00 AM      3   S  ...       2.0              0   \n",
       "4    8:00 AM  9:00 AM      4   S  ...       2.0              0   \n",
       "\n",
       "   Week Day Status  starttime   endtime  starttime1  endtime1  \\\n",
       "0         Week Day   07:00:00  08:00:00         NaN       NaN   \n",
       "1         Week Day   08:00:00  09:00:00         NaN       NaN   \n",
       "2         Week Day   07:00:00  08:00:00         NaN       NaN   \n",
       "3         Week Day   07:00:00  08:00:00         NaN       NaN   \n",
       "4         Week Day   08:00:00  09:00:00         NaN       NaN   \n",
       "\n",
       "         startDateTime          endDateTime diff  \n",
       "0  2018-05-30 07:00:00  2018-05-30 08:00:00  1.0  \n",
       "1  2018-05-30 08:00:00  2018-05-30 09:00:00  1.0  \n",
       "2  2018-05-30 07:00:00  2018-05-30 08:00:00  1.0  \n",
       "3  2018-05-30 07:00:00  2018-05-30 08:00:00  1.0  \n",
       "4  2018-05-30 08:00:00  2018-05-30 09:00:00  1.0  \n",
       "\n",
       "[5 rows x 25 columns]"
      ]
     },
     "execution_count": 6,
     "metadata": {},
     "output_type": "execute_result"
    }
   ],
   "source": [
    "sc.head()"
   ]
  },
  {
   "cell_type": "code",
   "execution_count": 7,
   "id": "c4531fd5",
   "metadata": {},
   "outputs": [
    {
     "data": {
      "text/html": [
       "<div>\n",
       "<style scoped>\n",
       "    .dataframe tbody tr th:only-of-type {\n",
       "        vertical-align: middle;\n",
       "    }\n",
       "\n",
       "    .dataframe tbody tr th {\n",
       "        vertical-align: top;\n",
       "    }\n",
       "\n",
       "    .dataframe thead th {\n",
       "        text-align: right;\n",
       "    }\n",
       "</style>\n",
       "<table border=\"1\" class=\"dataframe\">\n",
       "  <thead>\n",
       "    <tr style=\"text-align: right;\">\n",
       "      <th></th>\n",
       "      <th>Unnamed: 0.2</th>\n",
       "      <th>Unnamed: 0.1</th>\n",
       "      <th>Unnamed: 0</th>\n",
       "      <th>ID</th>\n",
       "      <th>Date</th>\n",
       "      <th>Day of Week</th>\n",
       "      <th>Start Time</th>\n",
       "      <th>End Time</th>\n",
       "      <th>Count</th>\n",
       "      <th>Leg</th>\n",
       "      <th>...</th>\n",
       "      <th>dayofweek</th>\n",
       "      <th>weekday_Status</th>\n",
       "      <th>Week Day Status</th>\n",
       "      <th>starttime</th>\n",
       "      <th>endtime</th>\n",
       "      <th>starttime1</th>\n",
       "      <th>endtime1</th>\n",
       "      <th>startDateTime</th>\n",
       "      <th>endDateTime</th>\n",
       "      <th>diff</th>\n",
       "    </tr>\n",
       "  </thead>\n",
       "  <tbody>\n",
       "    <tr>\n",
       "      <th>8023</th>\n",
       "      <td>32670</td>\n",
       "      <td>32670</td>\n",
       "      <td>2495</td>\n",
       "      <td>Miovision81</td>\n",
       "      <td>2017-06-04</td>\n",
       "      <td>Sunday</td>\n",
       "      <td>6:00 AM</td>\n",
       "      <td>7:00 AM</td>\n",
       "      <td>1141</td>\n",
       "      <td>N</td>\n",
       "      <td>...</td>\n",
       "      <td>6.0</td>\n",
       "      <td>1</td>\n",
       "      <td>Weekend</td>\n",
       "      <td>06:00:00</td>\n",
       "      <td>07:00:00</td>\n",
       "      <td>NaN</td>\n",
       "      <td>NaN</td>\n",
       "      <td>2017-06-04 06:00:00</td>\n",
       "      <td>2017-06-04 07:00:00</td>\n",
       "      <td>1.0</td>\n",
       "    </tr>\n",
       "    <tr>\n",
       "      <th>8024</th>\n",
       "      <td>32671</td>\n",
       "      <td>32671</td>\n",
       "      <td>2496</td>\n",
       "      <td>Miovision81</td>\n",
       "      <td>2017-06-04</td>\n",
       "      <td>Sunday</td>\n",
       "      <td>7:00 AM</td>\n",
       "      <td>8:00 AM</td>\n",
       "      <td>1081</td>\n",
       "      <td>N</td>\n",
       "      <td>...</td>\n",
       "      <td>6.0</td>\n",
       "      <td>1</td>\n",
       "      <td>Weekend</td>\n",
       "      <td>07:00:00</td>\n",
       "      <td>08:00:00</td>\n",
       "      <td>NaN</td>\n",
       "      <td>NaN</td>\n",
       "      <td>2017-06-04 07:00:00</td>\n",
       "      <td>2017-06-04 08:00:00</td>\n",
       "      <td>1.0</td>\n",
       "    </tr>\n",
       "    <tr>\n",
       "      <th>8032</th>\n",
       "      <td>32691</td>\n",
       "      <td>32691</td>\n",
       "      <td>2516</td>\n",
       "      <td>Miovision81</td>\n",
       "      <td>2017-06-04</td>\n",
       "      <td>Sunday</td>\n",
       "      <td>6:00 AM</td>\n",
       "      <td>7:00 AM</td>\n",
       "      <td>1140</td>\n",
       "      <td>S</td>\n",
       "      <td>...</td>\n",
       "      <td>6.0</td>\n",
       "      <td>1</td>\n",
       "      <td>Weekend</td>\n",
       "      <td>06:00:00</td>\n",
       "      <td>07:00:00</td>\n",
       "      <td>NaN</td>\n",
       "      <td>NaN</td>\n",
       "      <td>2017-06-04 06:00:00</td>\n",
       "      <td>2017-06-04 07:00:00</td>\n",
       "      <td>1.0</td>\n",
       "    </tr>\n",
       "    <tr>\n",
       "      <th>8033</th>\n",
       "      <td>32692</td>\n",
       "      <td>32692</td>\n",
       "      <td>2517</td>\n",
       "      <td>Miovision81</td>\n",
       "      <td>2017-06-04</td>\n",
       "      <td>Sunday</td>\n",
       "      <td>7:00 AM</td>\n",
       "      <td>8:00 AM</td>\n",
       "      <td>1081</td>\n",
       "      <td>S</td>\n",
       "      <td>...</td>\n",
       "      <td>6.0</td>\n",
       "      <td>1</td>\n",
       "      <td>Weekend</td>\n",
       "      <td>07:00:00</td>\n",
       "      <td>08:00:00</td>\n",
       "      <td>NaN</td>\n",
       "      <td>NaN</td>\n",
       "      <td>2017-06-04 07:00:00</td>\n",
       "      <td>2017-06-04 08:00:00</td>\n",
       "      <td>1.0</td>\n",
       "    </tr>\n",
       "  </tbody>\n",
       "</table>\n",
       "<p>4 rows × 25 columns</p>\n",
       "</div>"
      ],
      "text/plain": [
       "      Unnamed: 0.2  Unnamed: 0.1  Unnamed: 0           ID        Date  \\\n",
       "8023         32670         32670        2495  Miovision81  2017-06-04   \n",
       "8024         32671         32671        2496  Miovision81  2017-06-04   \n",
       "8032         32691         32691        2516  Miovision81  2017-06-04   \n",
       "8033         32692         32692        2517  Miovision81  2017-06-04   \n",
       "\n",
       "     Day of Week Start Time End Time  Count Leg  ... dayofweek weekday_Status  \\\n",
       "8023      Sunday    6:00 AM  7:00 AM   1141   N  ...       6.0              1   \n",
       "8024      Sunday    7:00 AM  8:00 AM   1081   N  ...       6.0              1   \n",
       "8032      Sunday    6:00 AM  7:00 AM   1140   S  ...       6.0              1   \n",
       "8033      Sunday    7:00 AM  8:00 AM   1081   S  ...       6.0              1   \n",
       "\n",
       "      Week Day Status  starttime   endtime  starttime1  endtime1  \\\n",
       "8023          Weekend   06:00:00  07:00:00         NaN       NaN   \n",
       "8024          Weekend   07:00:00  08:00:00         NaN       NaN   \n",
       "8032          Weekend   06:00:00  07:00:00         NaN       NaN   \n",
       "8033          Weekend   07:00:00  08:00:00         NaN       NaN   \n",
       "\n",
       "            startDateTime          endDateTime diff  \n",
       "8023  2017-06-04 06:00:00  2017-06-04 07:00:00  1.0  \n",
       "8024  2017-06-04 07:00:00  2017-06-04 08:00:00  1.0  \n",
       "8032  2017-06-04 06:00:00  2017-06-04 07:00:00  1.0  \n",
       "8033  2017-06-04 07:00:00  2017-06-04 08:00:00  1.0  \n",
       "\n",
       "[4 rows x 25 columns]"
      ]
     },
     "execution_count": 7,
     "metadata": {},
     "output_type": "execute_result"
    }
   ],
   "source": [
    "check=sc.loc[sc['Count']>500]\n",
    "check"
   ]
  },
  {
   "cell_type": "code",
   "execution_count": 8,
   "id": "501a9eaa",
   "metadata": {},
   "outputs": [
    {
     "data": {
      "text/plain": [
       "Index(['Unnamed: 0.2', 'Unnamed: 0.1', 'Unnamed: 0', 'ID', 'Date',\n",
       "       'Day of Week', 'Start Time', 'End Time', 'Count', 'Leg',\n",
       "       'matched_seg_id', 'date', 'month', 'year', 'day', 'dayofweek',\n",
       "       'weekday_Status', 'Week Day Status', 'starttime', 'endtime',\n",
       "       'starttime1', 'endtime1', 'startDateTime', 'endDateTime', 'diff'],\n",
       "      dtype='object')"
      ]
     },
     "execution_count": 8,
     "metadata": {},
     "output_type": "execute_result"
    }
   ],
   "source": [
    "sc.columns"
   ]
  },
  {
   "cell_type": "code",
   "execution_count": 9,
   "id": "49730ddb",
   "metadata": {},
   "outputs": [
    {
     "data": {
      "text/plain": [
       "0"
      ]
     },
     "execution_count": 9,
     "metadata": {},
     "output_type": "execute_result"
    }
   ],
   "source": [
    "#sc['Leg'].isnull().sum()\n",
    "sc['matched_seg_id'].isnull().sum()"
   ]
  },
  {
   "cell_type": "code",
   "execution_count": 10,
   "id": "0bb47465",
   "metadata": {},
   "outputs": [
    {
     "data": {
      "text/plain": [
       "array(['N', 'E', 'S', 'W', 'unknown', 'NE', 'NW'], dtype=object)"
      ]
     },
     "execution_count": 10,
     "metadata": {},
     "output_type": "execute_result"
    }
   ],
   "source": [
    "sc['Leg'].unique()"
   ]
  },
  {
   "cell_type": "code",
   "execution_count": 11,
   "id": "84af7936",
   "metadata": {},
   "outputs": [],
   "source": [
    "# Winter: Dec, Jan, feb\n",
    "# spring- March, April, May\n",
    "#summer- June, july and August\n",
    "# Autumn- Spetember, October, November"
   ]
  },
  {
   "cell_type": "code",
   "execution_count": 12,
   "id": "f33d2a85",
   "metadata": {},
   "outputs": [
    {
     "data": {
      "text/html": [
       "<div>\n",
       "<style scoped>\n",
       "    .dataframe tbody tr th:only-of-type {\n",
       "        vertical-align: middle;\n",
       "    }\n",
       "\n",
       "    .dataframe tbody tr th {\n",
       "        vertical-align: top;\n",
       "    }\n",
       "\n",
       "    .dataframe thead th {\n",
       "        text-align: right;\n",
       "    }\n",
       "</style>\n",
       "<table border=\"1\" class=\"dataframe\">\n",
       "  <thead>\n",
       "    <tr style=\"text-align: right;\">\n",
       "      <th></th>\n",
       "      <th>Unnamed: 0.2</th>\n",
       "      <th>Unnamed: 0.1</th>\n",
       "      <th>Unnamed: 0</th>\n",
       "      <th>ID</th>\n",
       "      <th>Date</th>\n",
       "      <th>Day of Week</th>\n",
       "      <th>Start Time</th>\n",
       "      <th>End Time</th>\n",
       "      <th>Count</th>\n",
       "      <th>Leg</th>\n",
       "      <th>...</th>\n",
       "      <th>dayofweek</th>\n",
       "      <th>weekday_Status</th>\n",
       "      <th>Week Day Status</th>\n",
       "      <th>starttime</th>\n",
       "      <th>endtime</th>\n",
       "      <th>starttime1</th>\n",
       "      <th>endtime1</th>\n",
       "      <th>startDateTime</th>\n",
       "      <th>endDateTime</th>\n",
       "      <th>diff</th>\n",
       "    </tr>\n",
       "  </thead>\n",
       "  <tbody>\n",
       "    <tr>\n",
       "      <th>245</th>\n",
       "      <td>4078</td>\n",
       "      <td>4078</td>\n",
       "      <td>0</td>\n",
       "      <td>Davis0</td>\n",
       "      <td>2016-11-15</td>\n",
       "      <td>Tuesday</td>\n",
       "      <td>11:00 AM</td>\n",
       "      <td>12:00 PM</td>\n",
       "      <td>119</td>\n",
       "      <td>N</td>\n",
       "      <td>...</td>\n",
       "      <td>1.0</td>\n",
       "      <td>0</td>\n",
       "      <td>Week Day</td>\n",
       "      <td>11:00:00</td>\n",
       "      <td>12:00:00</td>\n",
       "      <td>NaN</td>\n",
       "      <td>NaN</td>\n",
       "      <td>2016-11-15 11:00:00</td>\n",
       "      <td>2016-11-15 12:00:00</td>\n",
       "      <td>1.0</td>\n",
       "    </tr>\n",
       "    <tr>\n",
       "      <th>246</th>\n",
       "      <td>4080</td>\n",
       "      <td>4080</td>\n",
       "      <td>2</td>\n",
       "      <td>Davis0</td>\n",
       "      <td>2016-11-15</td>\n",
       "      <td>Tuesday</td>\n",
       "      <td>11:00 AM</td>\n",
       "      <td>12:00 PM</td>\n",
       "      <td>41</td>\n",
       "      <td>E</td>\n",
       "      <td>...</td>\n",
       "      <td>1.0</td>\n",
       "      <td>0</td>\n",
       "      <td>Week Day</td>\n",
       "      <td>11:00:00</td>\n",
       "      <td>12:00:00</td>\n",
       "      <td>NaN</td>\n",
       "      <td>NaN</td>\n",
       "      <td>2016-11-15 11:00:00</td>\n",
       "      <td>2016-11-15 12:00:00</td>\n",
       "      <td>1.0</td>\n",
       "    </tr>\n",
       "    <tr>\n",
       "      <th>247</th>\n",
       "      <td>4082</td>\n",
       "      <td>4082</td>\n",
       "      <td>4</td>\n",
       "      <td>Davis0</td>\n",
       "      <td>2016-11-15</td>\n",
       "      <td>Tuesday</td>\n",
       "      <td>11:00 AM</td>\n",
       "      <td>12:00 PM</td>\n",
       "      <td>127</td>\n",
       "      <td>S</td>\n",
       "      <td>...</td>\n",
       "      <td>1.0</td>\n",
       "      <td>0</td>\n",
       "      <td>Week Day</td>\n",
       "      <td>11:00:00</td>\n",
       "      <td>12:00:00</td>\n",
       "      <td>NaN</td>\n",
       "      <td>NaN</td>\n",
       "      <td>2016-11-15 11:00:00</td>\n",
       "      <td>2016-11-15 12:00:00</td>\n",
       "      <td>1.0</td>\n",
       "    </tr>\n",
       "    <tr>\n",
       "      <th>248</th>\n",
       "      <td>4084</td>\n",
       "      <td>4084</td>\n",
       "      <td>6</td>\n",
       "      <td>Davis0</td>\n",
       "      <td>2016-11-15</td>\n",
       "      <td>Tuesday</td>\n",
       "      <td>11:00 AM</td>\n",
       "      <td>12:00 PM</td>\n",
       "      <td>23</td>\n",
       "      <td>W</td>\n",
       "      <td>...</td>\n",
       "      <td>1.0</td>\n",
       "      <td>0</td>\n",
       "      <td>Week Day</td>\n",
       "      <td>11:00:00</td>\n",
       "      <td>12:00:00</td>\n",
       "      <td>NaN</td>\n",
       "      <td>NaN</td>\n",
       "      <td>2016-11-15 11:00:00</td>\n",
       "      <td>2016-11-15 12:00:00</td>\n",
       "      <td>1.0</td>\n",
       "    </tr>\n",
       "    <tr>\n",
       "      <th>249</th>\n",
       "      <td>4086</td>\n",
       "      <td>4086</td>\n",
       "      <td>8</td>\n",
       "      <td>Davis1</td>\n",
       "      <td>2016-11-15</td>\n",
       "      <td>Tuesday</td>\n",
       "      <td>11:00 AM</td>\n",
       "      <td>12:00 PM</td>\n",
       "      <td>85</td>\n",
       "      <td>N</td>\n",
       "      <td>...</td>\n",
       "      <td>1.0</td>\n",
       "      <td>0</td>\n",
       "      <td>Week Day</td>\n",
       "      <td>11:00:00</td>\n",
       "      <td>12:00:00</td>\n",
       "      <td>NaN</td>\n",
       "      <td>NaN</td>\n",
       "      <td>2016-11-15 11:00:00</td>\n",
       "      <td>2016-11-15 12:00:00</td>\n",
       "      <td>1.0</td>\n",
       "    </tr>\n",
       "  </tbody>\n",
       "</table>\n",
       "<p>5 rows × 25 columns</p>\n",
       "</div>"
      ],
      "text/plain": [
       "     Unnamed: 0.2  Unnamed: 0.1  Unnamed: 0      ID        Date Day of Week  \\\n",
       "245          4078          4078           0  Davis0  2016-11-15     Tuesday   \n",
       "246          4080          4080           2  Davis0  2016-11-15     Tuesday   \n",
       "247          4082          4082           4  Davis0  2016-11-15     Tuesday   \n",
       "248          4084          4084           6  Davis0  2016-11-15     Tuesday   \n",
       "249          4086          4086           8  Davis1  2016-11-15     Tuesday   \n",
       "\n",
       "    Start Time  End Time  Count Leg  ... dayofweek weekday_Status  \\\n",
       "245   11:00 AM  12:00 PM    119   N  ...       1.0              0   \n",
       "246   11:00 AM  12:00 PM     41   E  ...       1.0              0   \n",
       "247   11:00 AM  12:00 PM    127   S  ...       1.0              0   \n",
       "248   11:00 AM  12:00 PM     23   W  ...       1.0              0   \n",
       "249   11:00 AM  12:00 PM     85   N  ...       1.0              0   \n",
       "\n",
       "     Week Day Status  starttime   endtime  starttime1  endtime1  \\\n",
       "245         Week Day   11:00:00  12:00:00         NaN       NaN   \n",
       "246         Week Day   11:00:00  12:00:00         NaN       NaN   \n",
       "247         Week Day   11:00:00  12:00:00         NaN       NaN   \n",
       "248         Week Day   11:00:00  12:00:00         NaN       NaN   \n",
       "249         Week Day   11:00:00  12:00:00         NaN       NaN   \n",
       "\n",
       "           startDateTime          endDateTime diff  \n",
       "245  2016-11-15 11:00:00  2016-11-15 12:00:00  1.0  \n",
       "246  2016-11-15 11:00:00  2016-11-15 12:00:00  1.0  \n",
       "247  2016-11-15 11:00:00  2016-11-15 12:00:00  1.0  \n",
       "248  2016-11-15 11:00:00  2016-11-15 12:00:00  1.0  \n",
       "249  2016-11-15 11:00:00  2016-11-15 12:00:00  1.0  \n",
       "\n",
       "[5 rows x 25 columns]"
      ]
     },
     "execution_count": 12,
     "metadata": {},
     "output_type": "execute_result"
    }
   ],
   "source": [
    "# check the seasonal data collection\n",
    "winter_mask=sc['month'].isin([12, 1,2])\n",
    "winter=sc[winter_mask]\n",
    "spring_mask=sc['month'].isin([3, 4,5])\n",
    "spring=sc[spring_mask]\n",
    "summer_mask=sc['month'].isin([6, 7,8])\n",
    "summer=sc[summer_mask]\n",
    "autumn_mask=sc['month'].isin([9, 10,11])\n",
    "autumn=sc[autumn_mask]\n",
    "autumn.head()"
   ]
  },
  {
   "cell_type": "code",
   "execution_count": 13,
   "id": "f7cce888",
   "metadata": {},
   "outputs": [
    {
     "name": "stdout",
     "output_type": "stream",
     "text": [
      "winter sites 550\n",
      "spring sites 612\n",
      "summer sites 305\n",
      "autumn sites 882\n"
     ]
    }
   ],
   "source": [
    "print('winter sites', winter['ID'].nunique())\n",
    "print('spring sites', spring['ID'].nunique())\n",
    "print('summer sites', summer['ID'].nunique())\n",
    "print('autumn sites', autumn['ID'].nunique())"
   ]
  },
  {
   "cell_type": "code",
   "execution_count": 14,
   "id": "15376503",
   "metadata": {},
   "outputs": [
    {
     "data": {
      "text/plain": [
       "161"
      ]
     },
     "execution_count": 14,
     "metadata": {},
     "output_type": "execute_result"
    }
   ],
   "source": [
    "# sites collected data in saturdaya nd sunday\n",
    "sat_sun=sc.loc[sc['Week Day Status']=='Weekend']\n",
    "sat_sun['ID'].nunique()"
   ]
  },
  {
   "cell_type": "code",
   "execution_count": 15,
   "id": "ab675cca",
   "metadata": {},
   "outputs": [
    {
     "data": {
      "text/plain": [
       "2106"
      ]
     },
     "execution_count": 15,
     "metadata": {},
     "output_type": "execute_result"
    }
   ],
   "source": [
    "# Sites collected data from monday to friday\n",
    "mon_fri=sc.loc[sc['Week Day Status']=='Week Day']\n",
    "mon_fri['ID'].nunique()"
   ]
  },
  {
   "cell_type": "code",
   "execution_count": 16,
   "id": "73a26406",
   "metadata": {},
   "outputs": [
    {
     "data": {
      "text/plain": [
       "2256"
      ]
     },
     "execution_count": 16,
     "metadata": {},
     "output_type": "execute_result"
    }
   ],
   "source": [
    "# unique number of sites\n",
    "sc['ID'].nunique()"
   ]
  },
  {
   "cell_type": "code",
   "execution_count": 17,
   "id": "6bd784ec",
   "metadata": {},
   "outputs": [
    {
     "data": {
      "text/html": [
       "<div>\n",
       "<style scoped>\n",
       "    .dataframe tbody tr th:only-of-type {\n",
       "        vertical-align: middle;\n",
       "    }\n",
       "\n",
       "    .dataframe tbody tr th {\n",
       "        vertical-align: top;\n",
       "    }\n",
       "\n",
       "    .dataframe thead th {\n",
       "        text-align: right;\n",
       "    }\n",
       "</style>\n",
       "<table border=\"1\" class=\"dataframe\">\n",
       "  <thead>\n",
       "    <tr style=\"text-align: right;\">\n",
       "      <th></th>\n",
       "      <th>OBJECTID</th>\n",
       "      <th>Source</th>\n",
       "      <th>ID</th>\n",
       "      <th>Intersection</th>\n",
       "      <th>City</th>\n",
       "      <th>County</th>\n",
       "      <th>State</th>\n",
       "      <th>RecentYear</th>\n",
       "      <th>Lat</th>\n",
       "      <th>Long</th>\n",
       "      <th>Inter_ID</th>\n",
       "      <th>Segment</th>\n",
       "    </tr>\n",
       "  </thead>\n",
       "  <tbody>\n",
       "    <tr>\n",
       "      <th>0</th>\n",
       "      <td>1</td>\n",
       "      <td>G:\\TSC\\Grants\\G2018_SMART3\\Data\\Counts\\Alameda...</td>\n",
       "      <td>AC130</td>\n",
       "      <td>HILLEGASS AVENUE &amp; ASHBY AVENUE</td>\n",
       "      <td>BERKELEY</td>\n",
       "      <td>NaN</td>\n",
       "      <td>CA</td>\n",
       "      <td>2012.0</td>\n",
       "      <td>37.85673</td>\n",
       "      <td>-122.25550</td>\n",
       "      <td>198.0</td>\n",
       "      <td>0</td>\n",
       "    </tr>\n",
       "    <tr>\n",
       "      <th>1</th>\n",
       "      <td>2</td>\n",
       "      <td>G:\\TSC\\Grants\\G2018_SMART3\\Data\\Counts\\Alameda...</td>\n",
       "      <td>AC134</td>\n",
       "      <td>SAN PABLO AVENUE  &amp; VIRGINIA STREET</td>\n",
       "      <td>BERKELEY</td>\n",
       "      <td>NaN</td>\n",
       "      <td>CA</td>\n",
       "      <td>2012.0</td>\n",
       "      <td>37.87345</td>\n",
       "      <td>-122.29348</td>\n",
       "      <td>117.0</td>\n",
       "      <td>0</td>\n",
       "    </tr>\n",
       "    <tr>\n",
       "      <th>2</th>\n",
       "      <td>3</td>\n",
       "      <td>G:\\TSC\\Grants\\G2018_SMART3\\Data\\Counts\\Alameda...</td>\n",
       "      <td>AC143</td>\n",
       "      <td>FREMONT BOULEVARD &amp; MOWRY AVENUE</td>\n",
       "      <td>FREMONT</td>\n",
       "      <td>NaN</td>\n",
       "      <td>CA</td>\n",
       "      <td>2012.0</td>\n",
       "      <td>37.54854</td>\n",
       "      <td>-121.98838</td>\n",
       "      <td>427.0</td>\n",
       "      <td>0</td>\n",
       "    </tr>\n",
       "    <tr>\n",
       "      <th>3</th>\n",
       "      <td>4</td>\n",
       "      <td>G:\\TSC\\Grants\\G2018_SMART3\\Data\\Counts\\Alameda...</td>\n",
       "      <td>AC139</td>\n",
       "      <td>HACIENDA BOULEVARD &amp; DUBLIN BOULEVARD</td>\n",
       "      <td>DUBLIN</td>\n",
       "      <td>NaN</td>\n",
       "      <td>CA</td>\n",
       "      <td>2012.0</td>\n",
       "      <td>37.70617</td>\n",
       "      <td>-121.88823</td>\n",
       "      <td>485.0</td>\n",
       "      <td>0</td>\n",
       "    </tr>\n",
       "    <tr>\n",
       "      <th>4</th>\n",
       "      <td>5</td>\n",
       "      <td>G:\\TSC\\Grants\\G2018_SMART3\\Data\\Counts\\Alameda...</td>\n",
       "      <td>AC136</td>\n",
       "      <td>MISSION BOUELVARD (CA 185) &amp; GROVE WAY</td>\n",
       "      <td>CHERRYLAND</td>\n",
       "      <td>NaN</td>\n",
       "      <td>CA</td>\n",
       "      <td>2012.0</td>\n",
       "      <td>37.68037</td>\n",
       "      <td>-122.09406</td>\n",
       "      <td>332.0</td>\n",
       "      <td>0</td>\n",
       "    </tr>\n",
       "  </tbody>\n",
       "</table>\n",
       "</div>"
      ],
      "text/plain": [
       "   OBJECTID                                             Source     ID  \\\n",
       "0         1  G:\\TSC\\Grants\\G2018_SMART3\\Data\\Counts\\Alameda...  AC130   \n",
       "1         2  G:\\TSC\\Grants\\G2018_SMART3\\Data\\Counts\\Alameda...  AC134   \n",
       "2         3  G:\\TSC\\Grants\\G2018_SMART3\\Data\\Counts\\Alameda...  AC143   \n",
       "3         4  G:\\TSC\\Grants\\G2018_SMART3\\Data\\Counts\\Alameda...  AC139   \n",
       "4         5  G:\\TSC\\Grants\\G2018_SMART3\\Data\\Counts\\Alameda...  AC136   \n",
       "\n",
       "                             Intersection        City County State  \\\n",
       "0         HILLEGASS AVENUE & ASHBY AVENUE    BERKELEY    NaN    CA   \n",
       "1     SAN PABLO AVENUE  & VIRGINIA STREET    BERKELEY    NaN    CA   \n",
       "2        FREMONT BOULEVARD & MOWRY AVENUE   FREMONT      NaN    CA   \n",
       "3   HACIENDA BOULEVARD & DUBLIN BOULEVARD    DUBLIN      NaN    CA   \n",
       "4  MISSION BOUELVARD (CA 185) & GROVE WAY  CHERRYLAND    NaN    CA   \n",
       "\n",
       "   RecentYear       Lat       Long  Inter_ID  Segment  \n",
       "0      2012.0  37.85673 -122.25550     198.0        0  \n",
       "1      2012.0  37.87345 -122.29348     117.0        0  \n",
       "2      2012.0  37.54854 -121.98838     427.0        0  \n",
       "3      2012.0  37.70617 -121.88823     485.0        0  \n",
       "4      2012.0  37.68037 -122.09406     332.0        0  "
      ]
     },
     "execution_count": 17,
     "metadata": {},
     "output_type": "execute_result"
    }
   ],
   "source": [
    "# bring the lat and long\n",
    "location=pd.read_csv('C:/UC Berkeley Project Backup/Bike_ped Exposure Model Project/Processed Data/SMART3_locations_20201130.csv',encoding='cp1252')\n",
    "#location['RecentYear'] = location['RecentYear'].apply(np.int64)\n",
    "location=location.rename(columns={'Study_ID':'ID'})\n",
    "location.head()"
   ]
  },
  {
   "cell_type": "code",
   "execution_count": 18,
   "id": "7d9920c2",
   "metadata": {},
   "outputs": [
    {
     "data": {
      "text/html": [
       "<div>\n",
       "<style scoped>\n",
       "    .dataframe tbody tr th:only-of-type {\n",
       "        vertical-align: middle;\n",
       "    }\n",
       "\n",
       "    .dataframe tbody tr th {\n",
       "        vertical-align: top;\n",
       "    }\n",
       "\n",
       "    .dataframe thead th {\n",
       "        text-align: right;\n",
       "    }\n",
       "</style>\n",
       "<table border=\"1\" class=\"dataframe\">\n",
       "  <thead>\n",
       "    <tr style=\"text-align: right;\">\n",
       "      <th></th>\n",
       "      <th>ID</th>\n",
       "      <th>Lat</th>\n",
       "      <th>Long</th>\n",
       "    </tr>\n",
       "  </thead>\n",
       "  <tbody>\n",
       "    <tr>\n",
       "      <th>0</th>\n",
       "      <td>AC130</td>\n",
       "      <td>37.85673</td>\n",
       "      <td>-122.25550</td>\n",
       "    </tr>\n",
       "    <tr>\n",
       "      <th>1</th>\n",
       "      <td>AC134</td>\n",
       "      <td>37.87345</td>\n",
       "      <td>-122.29348</td>\n",
       "    </tr>\n",
       "    <tr>\n",
       "      <th>2</th>\n",
       "      <td>AC143</td>\n",
       "      <td>37.54854</td>\n",
       "      <td>-121.98838</td>\n",
       "    </tr>\n",
       "    <tr>\n",
       "      <th>3</th>\n",
       "      <td>AC139</td>\n",
       "      <td>37.70617</td>\n",
       "      <td>-121.88823</td>\n",
       "    </tr>\n",
       "    <tr>\n",
       "      <th>4</th>\n",
       "      <td>AC136</td>\n",
       "      <td>37.68037</td>\n",
       "      <td>-122.09406</td>\n",
       "    </tr>\n",
       "  </tbody>\n",
       "</table>\n",
       "</div>"
      ],
      "text/plain": [
       "      ID       Lat       Long\n",
       "0  AC130  37.85673 -122.25550\n",
       "1  AC134  37.87345 -122.29348\n",
       "2  AC143  37.54854 -121.98838\n",
       "3  AC139  37.70617 -121.88823\n",
       "4  AC136  37.68037 -122.09406"
      ]
     },
     "execution_count": 18,
     "metadata": {},
     "output_type": "execute_result"
    }
   ],
   "source": [
    "location1=location[['ID', 'Lat', 'Long']]\n",
    "location1.head()"
   ]
  },
  {
   "cell_type": "code",
   "execution_count": 19,
   "id": "c8d59f1d",
   "metadata": {},
   "outputs": [
    {
     "name": "stderr",
     "output_type": "stream",
     "text": [
      "C:\\Users\\Md Mintu Miah\\AppData\\Local\\Temp\\ipykernel_20156\\1682324396.py:4: UserWarning: Geometry is in a geographic CRS. Results from 'centroid' are likely incorrect. Use 'GeoSeries.to_crs()' to re-project geometries to a projected CRS before this operation.\n",
      "\n",
      "  add_short[\"Long\"] = add_short.centroid.x\n",
      "C:\\Users\\Md Mintu Miah\\AppData\\Local\\Temp\\ipykernel_20156\\1682324396.py:5: UserWarning: Geometry is in a geographic CRS. Results from 'centroid' are likely incorrect. Use 'GeoSeries.to_crs()' to re-project geometries to a projected CRS before this operation.\n",
      "\n",
      "  add_short[\"Lat\"] =add_short.centroid.y\n"
     ]
    },
    {
     "data": {
      "text/html": [
       "<div>\n",
       "<style scoped>\n",
       "    .dataframe tbody tr th:only-of-type {\n",
       "        vertical-align: middle;\n",
       "    }\n",
       "\n",
       "    .dataframe tbody tr th {\n",
       "        vertical-align: top;\n",
       "    }\n",
       "\n",
       "    .dataframe thead th {\n",
       "        text-align: right;\n",
       "    }\n",
       "</style>\n",
       "<table border=\"1\" class=\"dataframe\">\n",
       "  <thead>\n",
       "    <tr style=\"text-align: right;\">\n",
       "      <th></th>\n",
       "      <th>ID</th>\n",
       "      <th>Lat</th>\n",
       "      <th>Long</th>\n",
       "    </tr>\n",
       "  </thead>\n",
       "  <tbody>\n",
       "    <tr>\n",
       "      <th>0</th>\n",
       "      <td>Kern559</td>\n",
       "      <td>35.594292</td>\n",
       "      <td>-119.352602</td>\n",
       "    </tr>\n",
       "    <tr>\n",
       "      <th>1</th>\n",
       "      <td>Kern564</td>\n",
       "      <td>35.593596</td>\n",
       "      <td>-119.345930</td>\n",
       "    </tr>\n",
       "    <tr>\n",
       "      <th>2</th>\n",
       "      <td>Kern424</td>\n",
       "      <td>35.055011</td>\n",
       "      <td>-118.173788</td>\n",
       "    </tr>\n",
       "    <tr>\n",
       "      <th>3</th>\n",
       "      <td>Kern421</td>\n",
       "      <td>35.050387</td>\n",
       "      <td>-118.173000</td>\n",
       "    </tr>\n",
       "    <tr>\n",
       "      <th>4</th>\n",
       "      <td>Kern422</td>\n",
       "      <td>35.052933</td>\n",
       "      <td>-118.173819</td>\n",
       "    </tr>\n",
       "  </tbody>\n",
       "</table>\n",
       "</div>"
      ],
      "text/plain": [
       "        ID        Lat        Long\n",
       "0  Kern559  35.594292 -119.352602\n",
       "1  Kern564  35.593596 -119.345930\n",
       "2  Kern424  35.055011 -118.173788\n",
       "3  Kern421  35.050387 -118.173000\n",
       "4  Kern422  35.052933 -118.173819"
      ]
     },
     "execution_count": 19,
     "metadata": {},
     "output_type": "execute_result"
    }
   ],
   "source": [
    "# Import additional short term location\n",
    "add_short=gpd.read_file('C:/UC Berkeley Project Backup/Bike_ped Exposure Model Project/ForMintu/ForMintu/sc_missing.shp')\n",
    "add_short=add_short.to_crs('epsg:4326')\n",
    "add_short[\"Long\"] = add_short.centroid.x\n",
    "add_short[\"Lat\"] =add_short.centroid.y\n",
    "add_short1=add_short[['ID','Lat', 'Long']]\n",
    "#add_short1=add_short1.rename(columns={'syear':'year'})\n",
    "add_short1.head()"
   ]
  },
  {
   "cell_type": "code",
   "execution_count": 20,
   "id": "15b7cf9e",
   "metadata": {},
   "outputs": [
    {
     "data": {
      "text/html": [
       "<div>\n",
       "<style scoped>\n",
       "    .dataframe tbody tr th:only-of-type {\n",
       "        vertical-align: middle;\n",
       "    }\n",
       "\n",
       "    .dataframe tbody tr th {\n",
       "        vertical-align: top;\n",
       "    }\n",
       "\n",
       "    .dataframe thead th {\n",
       "        text-align: right;\n",
       "    }\n",
       "</style>\n",
       "<table border=\"1\" class=\"dataframe\">\n",
       "  <thead>\n",
       "    <tr style=\"text-align: right;\">\n",
       "      <th></th>\n",
       "      <th>ID</th>\n",
       "      <th>Lat</th>\n",
       "      <th>Long</th>\n",
       "    </tr>\n",
       "  </thead>\n",
       "  <tbody>\n",
       "    <tr>\n",
       "      <th>500</th>\n",
       "      <td>Kern504</td>\n",
       "      <td>35.187839</td>\n",
       "      <td>-118.833041</td>\n",
       "    </tr>\n",
       "  </tbody>\n",
       "</table>\n",
       "</div>"
      ],
      "text/plain": [
       "          ID        Lat        Long\n",
       "500  Kern504  35.187839 -118.833041"
      ]
     },
     "execution_count": 20,
     "metadata": {},
     "output_type": "execute_result"
    }
   ],
   "source": [
    "c=add_short1.loc[add_short1[\"ID\"]=='Kern504']\n",
    "c"
   ]
  },
  {
   "cell_type": "code",
   "execution_count": 21,
   "id": "51f2306f",
   "metadata": {},
   "outputs": [
    {
     "data": {
      "text/html": [
       "<div>\n",
       "<style scoped>\n",
       "    .dataframe tbody tr th:only-of-type {\n",
       "        vertical-align: middle;\n",
       "    }\n",
       "\n",
       "    .dataframe tbody tr th {\n",
       "        vertical-align: top;\n",
       "    }\n",
       "\n",
       "    .dataframe thead th {\n",
       "        text-align: right;\n",
       "    }\n",
       "</style>\n",
       "<table border=\"1\" class=\"dataframe\">\n",
       "  <thead>\n",
       "    <tr style=\"text-align: right;\">\n",
       "      <th></th>\n",
       "      <th>ID</th>\n",
       "      <th>Lat</th>\n",
       "      <th>Long</th>\n",
       "    </tr>\n",
       "  </thead>\n",
       "  <tbody>\n",
       "    <tr>\n",
       "      <th>0</th>\n",
       "      <td>AC130</td>\n",
       "      <td>37.85673</td>\n",
       "      <td>-122.25550</td>\n",
       "    </tr>\n",
       "    <tr>\n",
       "      <th>1</th>\n",
       "      <td>AC134</td>\n",
       "      <td>37.87345</td>\n",
       "      <td>-122.29348</td>\n",
       "    </tr>\n",
       "    <tr>\n",
       "      <th>2</th>\n",
       "      <td>AC143</td>\n",
       "      <td>37.54854</td>\n",
       "      <td>-121.98838</td>\n",
       "    </tr>\n",
       "    <tr>\n",
       "      <th>3</th>\n",
       "      <td>AC139</td>\n",
       "      <td>37.70617</td>\n",
       "      <td>-121.88823</td>\n",
       "    </tr>\n",
       "    <tr>\n",
       "      <th>4</th>\n",
       "      <td>AC136</td>\n",
       "      <td>37.68037</td>\n",
       "      <td>-122.09406</td>\n",
       "    </tr>\n",
       "  </tbody>\n",
       "</table>\n",
       "</div>"
      ],
      "text/plain": [
       "      ID       Lat       Long\n",
       "0  AC130  37.85673 -122.25550\n",
       "1  AC134  37.87345 -122.29348\n",
       "2  AC143  37.54854 -121.98838\n",
       "3  AC139  37.70617 -121.88823\n",
       "4  AC136  37.68037 -122.09406"
      ]
     },
     "execution_count": 21,
     "metadata": {},
     "output_type": "execute_result"
    }
   ],
   "source": [
    "# Combine all short term togther\n",
    "short_all=pd.concat([location1,add_short1],axis=0)\n",
    "short_all.head()"
   ]
  },
  {
   "cell_type": "code",
   "execution_count": 22,
   "id": "bdb66e10",
   "metadata": {},
   "outputs": [
    {
     "data": {
      "text/plain": [
       "4740"
      ]
     },
     "execution_count": 22,
     "metadata": {},
     "output_type": "execute_result"
    }
   ],
   "source": [
    "short_all['ID'].nunique()"
   ]
  },
  {
   "cell_type": "code",
   "execution_count": 23,
   "id": "6bc75c6c",
   "metadata": {},
   "outputs": [
    {
     "data": {
      "text/plain": [
       "(2256, (32109, 25))"
      ]
     },
     "execution_count": 23,
     "metadata": {},
     "output_type": "execute_result"
    }
   ],
   "source": [
    "sc['ID'].nunique(), sc.shape"
   ]
  },
  {
   "cell_type": "code",
   "execution_count": 24,
   "id": "8fa5a230",
   "metadata": {},
   "outputs": [
    {
     "data": {
      "text/html": [
       "<div>\n",
       "<style scoped>\n",
       "    .dataframe tbody tr th:only-of-type {\n",
       "        vertical-align: middle;\n",
       "    }\n",
       "\n",
       "    .dataframe tbody tr th {\n",
       "        vertical-align: top;\n",
       "    }\n",
       "\n",
       "    .dataframe thead th {\n",
       "        text-align: right;\n",
       "    }\n",
       "</style>\n",
       "<table border=\"1\" class=\"dataframe\">\n",
       "  <thead>\n",
       "    <tr style=\"text-align: right;\">\n",
       "      <th></th>\n",
       "      <th>Unnamed: 0.2</th>\n",
       "      <th>Unnamed: 0.1</th>\n",
       "      <th>Unnamed: 0</th>\n",
       "      <th>ID</th>\n",
       "      <th>Date</th>\n",
       "      <th>Day of Week</th>\n",
       "      <th>Start Time</th>\n",
       "      <th>End Time</th>\n",
       "      <th>Count</th>\n",
       "      <th>Leg</th>\n",
       "      <th>...</th>\n",
       "      <th>Week Day Status</th>\n",
       "      <th>starttime</th>\n",
       "      <th>endtime</th>\n",
       "      <th>starttime1</th>\n",
       "      <th>endtime1</th>\n",
       "      <th>startDateTime</th>\n",
       "      <th>endDateTime</th>\n",
       "      <th>diff</th>\n",
       "      <th>Lat</th>\n",
       "      <th>Long</th>\n",
       "    </tr>\n",
       "  </thead>\n",
       "  <tbody>\n",
       "    <tr>\n",
       "      <th>30689</th>\n",
       "      <td>43867</td>\n",
       "      <td>43867</td>\n",
       "      <td>13692</td>\n",
       "      <td>Eric_Fischer1111</td>\n",
       "      <td>2016-06-07</td>\n",
       "      <td>Tuesday</td>\n",
       "      <td>16:00</td>\n",
       "      <td>17:00</td>\n",
       "      <td>3</td>\n",
       "      <td>N</td>\n",
       "      <td>...</td>\n",
       "      <td>Week Day</td>\n",
       "      <td>16:00:00</td>\n",
       "      <td>17:00:00</td>\n",
       "      <td>NaN</td>\n",
       "      <td>NaN</td>\n",
       "      <td>2016-06-07 16:00:00</td>\n",
       "      <td>2016-06-07 17:00:00</td>\n",
       "      <td>1.0</td>\n",
       "      <td>34.220200</td>\n",
       "      <td>-118.571035</td>\n",
       "    </tr>\n",
       "    <tr>\n",
       "      <th>30690</th>\n",
       "      <td>43868</td>\n",
       "      <td>43868</td>\n",
       "      <td>13693</td>\n",
       "      <td>Eric_Fischer1111</td>\n",
       "      <td>2016-06-07</td>\n",
       "      <td>Tuesday</td>\n",
       "      <td>16:00</td>\n",
       "      <td>17:00</td>\n",
       "      <td>3</td>\n",
       "      <td>S</td>\n",
       "      <td>...</td>\n",
       "      <td>Week Day</td>\n",
       "      <td>16:00:00</td>\n",
       "      <td>17:00:00</td>\n",
       "      <td>NaN</td>\n",
       "      <td>NaN</td>\n",
       "      <td>2016-06-07 16:00:00</td>\n",
       "      <td>2016-06-07 17:00:00</td>\n",
       "      <td>1.0</td>\n",
       "      <td>34.220200</td>\n",
       "      <td>-118.571035</td>\n",
       "    </tr>\n",
       "    <tr>\n",
       "      <th>30691</th>\n",
       "      <td>43869</td>\n",
       "      <td>43869</td>\n",
       "      <td>13694</td>\n",
       "      <td>Eric_Fischer1111</td>\n",
       "      <td>2016-06-07</td>\n",
       "      <td>Tuesday</td>\n",
       "      <td>16:00</td>\n",
       "      <td>17:00</td>\n",
       "      <td>2</td>\n",
       "      <td>W</td>\n",
       "      <td>...</td>\n",
       "      <td>Week Day</td>\n",
       "      <td>16:00:00</td>\n",
       "      <td>17:00:00</td>\n",
       "      <td>NaN</td>\n",
       "      <td>NaN</td>\n",
       "      <td>2016-06-07 16:00:00</td>\n",
       "      <td>2016-06-07 17:00:00</td>\n",
       "      <td>1.0</td>\n",
       "      <td>34.220200</td>\n",
       "      <td>-118.571035</td>\n",
       "    </tr>\n",
       "    <tr>\n",
       "      <th>30692</th>\n",
       "      <td>43870</td>\n",
       "      <td>43870</td>\n",
       "      <td>13695</td>\n",
       "      <td>Eric_Fischer1112</td>\n",
       "      <td>2016-06-07</td>\n",
       "      <td>Tuesday</td>\n",
       "      <td>16:00</td>\n",
       "      <td>17:00</td>\n",
       "      <td>3</td>\n",
       "      <td>N</td>\n",
       "      <td>...</td>\n",
       "      <td>Week Day</td>\n",
       "      <td>16:00:00</td>\n",
       "      <td>17:00:00</td>\n",
       "      <td>NaN</td>\n",
       "      <td>NaN</td>\n",
       "      <td>2016-06-07 16:00:00</td>\n",
       "      <td>2016-06-07 17:00:00</td>\n",
       "      <td>1.0</td>\n",
       "      <td>34.130331</td>\n",
       "      <td>-118.460759</td>\n",
       "    </tr>\n",
       "    <tr>\n",
       "      <th>30693</th>\n",
       "      <td>43871</td>\n",
       "      <td>43871</td>\n",
       "      <td>13696</td>\n",
       "      <td>Eric_Fischer1112</td>\n",
       "      <td>2016-06-07</td>\n",
       "      <td>Tuesday</td>\n",
       "      <td>16:00</td>\n",
       "      <td>17:00</td>\n",
       "      <td>2</td>\n",
       "      <td>S</td>\n",
       "      <td>...</td>\n",
       "      <td>Week Day</td>\n",
       "      <td>16:00:00</td>\n",
       "      <td>17:00:00</td>\n",
       "      <td>NaN</td>\n",
       "      <td>NaN</td>\n",
       "      <td>2016-06-07 16:00:00</td>\n",
       "      <td>2016-06-07 17:00:00</td>\n",
       "      <td>1.0</td>\n",
       "      <td>34.130331</td>\n",
       "      <td>-118.460759</td>\n",
       "    </tr>\n",
       "  </tbody>\n",
       "</table>\n",
       "<p>5 rows × 27 columns</p>\n",
       "</div>"
      ],
      "text/plain": [
       "       Unnamed: 0.2  Unnamed: 0.1  Unnamed: 0                ID        Date  \\\n",
       "30689         43867         43867       13692  Eric_Fischer1111  2016-06-07   \n",
       "30690         43868         43868       13693  Eric_Fischer1111  2016-06-07   \n",
       "30691         43869         43869       13694  Eric_Fischer1111  2016-06-07   \n",
       "30692         43870         43870       13695  Eric_Fischer1112  2016-06-07   \n",
       "30693         43871         43871       13696  Eric_Fischer1112  2016-06-07   \n",
       "\n",
       "      Day of Week Start Time End Time  Count Leg  ... Week Day Status  \\\n",
       "30689     Tuesday      16:00    17:00      3   N  ...        Week Day   \n",
       "30690     Tuesday      16:00    17:00      3   S  ...        Week Day   \n",
       "30691     Tuesday      16:00    17:00      2   W  ...        Week Day   \n",
       "30692     Tuesday      16:00    17:00      3   N  ...        Week Day   \n",
       "30693     Tuesday      16:00    17:00      2   S  ...        Week Day   \n",
       "\n",
       "      starttime   endtime  starttime1  endtime1        startDateTime  \\\n",
       "30689  16:00:00  17:00:00         NaN       NaN  2016-06-07 16:00:00   \n",
       "30690  16:00:00  17:00:00         NaN       NaN  2016-06-07 16:00:00   \n",
       "30691  16:00:00  17:00:00         NaN       NaN  2016-06-07 16:00:00   \n",
       "30692  16:00:00  17:00:00         NaN       NaN  2016-06-07 16:00:00   \n",
       "30693  16:00:00  17:00:00         NaN       NaN  2016-06-07 16:00:00   \n",
       "\n",
       "               endDateTime diff        Lat        Long  \n",
       "30689  2016-06-07 17:00:00  1.0  34.220200 -118.571035  \n",
       "30690  2016-06-07 17:00:00  1.0  34.220200 -118.571035  \n",
       "30691  2016-06-07 17:00:00  1.0  34.220200 -118.571035  \n",
       "30692  2016-06-07 17:00:00  1.0  34.130331 -118.460759  \n",
       "30693  2016-06-07 17:00:00  1.0  34.130331 -118.460759  \n",
       "\n",
       "[5 rows x 27 columns]"
      ]
     },
     "execution_count": 24,
     "metadata": {},
     "output_type": "execute_result"
    }
   ],
   "source": [
    "# jpin short term counts sites data with location\n",
    "sc_loc=pd.merge(sc, short_all, left_on=['ID'], right_on=['ID'], how='inner')\n",
    "sc_loc.tail()"
   ]
  },
  {
   "cell_type": "code",
   "execution_count": 25,
   "id": "da541c62",
   "metadata": {},
   "outputs": [
    {
     "data": {
      "text/plain": [
       "(30694, 27)"
      ]
     },
     "execution_count": 25,
     "metadata": {},
     "output_type": "execute_result"
    }
   ],
   "source": [
    "sc_loc.shape"
   ]
  },
  {
   "cell_type": "code",
   "execution_count": 26,
   "id": "4a7420d0",
   "metadata": {},
   "outputs": [
    {
     "data": {
      "text/plain": [
       "(2256, 2129)"
      ]
     },
     "execution_count": 26,
     "metadata": {},
     "output_type": "execute_result"
    }
   ],
   "source": [
    "sc['ID'].nunique(),sc_loc['ID'].nunique()"
   ]
  },
  {
   "cell_type": "code",
   "execution_count": 27,
   "id": "9b4529ac",
   "metadata": {},
   "outputs": [],
   "source": [
    "# export useable unique short term sites\n",
    "sc_loc_unique=sc_loc.drop_duplicates(subset=['ID'], keep='first')\n",
    "sc_loc_unique.to_csv('C:/UC Berkeley Project Backup/Bike_ped Exposure Model Project/Processed Data/SC_with_Valid_loc.csv')"
   ]
  },
  {
   "cell_type": "code",
   "execution_count": 28,
   "id": "9f0856ec",
   "metadata": {},
   "outputs": [],
   "source": [
    "# First Separate the counters by weekday and weekend, then Calculate the Max AMI and PMI"
   ]
  },
  {
   "cell_type": "code",
   "execution_count": 29,
   "id": "bedcc44d",
   "metadata": {},
   "outputs": [
    {
     "data": {
      "text/plain": [
       "Index(['Unnamed: 0.2', 'Unnamed: 0.1', 'Unnamed: 0', 'ID', 'Date',\n",
       "       'Day of Week', 'Start Time', 'End Time', 'Count', 'Leg',\n",
       "       'matched_seg_id', 'date', 'month', 'year', 'day', 'dayofweek',\n",
       "       'weekday_Status', 'Week Day Status', 'starttime', 'endtime',\n",
       "       'starttime1', 'endtime1', 'startDateTime', 'endDateTime', 'diff', 'Lat',\n",
       "       'Long'],\n",
       "      dtype='object')"
      ]
     },
     "execution_count": 29,
     "metadata": {},
     "output_type": "execute_result"
    }
   ],
   "source": [
    "sc_loc.columns"
   ]
  },
  {
   "cell_type": "markdown",
   "id": "b1482730",
   "metadata": {},
   "source": [
    "#  Imput weekday Daily Volume"
   ]
  },
  {
   "cell_type": "code",
   "execution_count": 30,
   "id": "9e361c3e",
   "metadata": {},
   "outputs": [
    {
     "data": {
      "text/html": [
       "<div>\n",
       "<style scoped>\n",
       "    .dataframe tbody tr th:only-of-type {\n",
       "        vertical-align: middle;\n",
       "    }\n",
       "\n",
       "    .dataframe tbody tr th {\n",
       "        vertical-align: top;\n",
       "    }\n",
       "\n",
       "    .dataframe thead th {\n",
       "        text-align: right;\n",
       "    }\n",
       "</style>\n",
       "<table border=\"1\" class=\"dataframe\">\n",
       "  <thead>\n",
       "    <tr style=\"text-align: right;\">\n",
       "      <th></th>\n",
       "      <th>Unnamed: 0.2</th>\n",
       "      <th>Unnamed: 0.1</th>\n",
       "      <th>Unnamed: 0</th>\n",
       "      <th>ID</th>\n",
       "      <th>Date</th>\n",
       "      <th>Day of Week</th>\n",
       "      <th>Start Time</th>\n",
       "      <th>End Time</th>\n",
       "      <th>Count</th>\n",
       "      <th>Leg</th>\n",
       "      <th>...</th>\n",
       "      <th>Week Day Status</th>\n",
       "      <th>starttime</th>\n",
       "      <th>endtime</th>\n",
       "      <th>starttime1</th>\n",
       "      <th>endtime1</th>\n",
       "      <th>startDateTime</th>\n",
       "      <th>endDateTime</th>\n",
       "      <th>diff</th>\n",
       "      <th>Lat</th>\n",
       "      <th>Long</th>\n",
       "    </tr>\n",
       "  </thead>\n",
       "  <tbody>\n",
       "    <tr>\n",
       "      <th>0</th>\n",
       "      <td>3432</td>\n",
       "      <td>3432</td>\n",
       "      <td>0</td>\n",
       "      <td>CH0</td>\n",
       "      <td>2018-05-30</td>\n",
       "      <td>Wednesday</td>\n",
       "      <td>7:00 AM</td>\n",
       "      <td>8:00 AM</td>\n",
       "      <td>4</td>\n",
       "      <td>N</td>\n",
       "      <td>...</td>\n",
       "      <td>Week Day</td>\n",
       "      <td>07:00:00</td>\n",
       "      <td>08:00:00</td>\n",
       "      <td>NaN</td>\n",
       "      <td>NaN</td>\n",
       "      <td>2018-05-30 07:00:00</td>\n",
       "      <td>2018-05-30 08:00:00</td>\n",
       "      <td>1.0</td>\n",
       "      <td>38.71844</td>\n",
       "      <td>-121.29042</td>\n",
       "    </tr>\n",
       "    <tr>\n",
       "      <th>1</th>\n",
       "      <td>3433</td>\n",
       "      <td>3433</td>\n",
       "      <td>1</td>\n",
       "      <td>CH0</td>\n",
       "      <td>2018-05-30</td>\n",
       "      <td>Wednesday</td>\n",
       "      <td>8:00 AM</td>\n",
       "      <td>9:00 AM</td>\n",
       "      <td>4</td>\n",
       "      <td>N</td>\n",
       "      <td>...</td>\n",
       "      <td>Week Day</td>\n",
       "      <td>08:00:00</td>\n",
       "      <td>09:00:00</td>\n",
       "      <td>NaN</td>\n",
       "      <td>NaN</td>\n",
       "      <td>2018-05-30 08:00:00</td>\n",
       "      <td>2018-05-30 09:00:00</td>\n",
       "      <td>1.0</td>\n",
       "      <td>38.71844</td>\n",
       "      <td>-121.29042</td>\n",
       "    </tr>\n",
       "    <tr>\n",
       "      <th>2</th>\n",
       "      <td>3438</td>\n",
       "      <td>3438</td>\n",
       "      <td>6</td>\n",
       "      <td>CH0</td>\n",
       "      <td>2018-05-30</td>\n",
       "      <td>Wednesday</td>\n",
       "      <td>7:00 AM</td>\n",
       "      <td>8:00 AM</td>\n",
       "      <td>1</td>\n",
       "      <td>E</td>\n",
       "      <td>...</td>\n",
       "      <td>Week Day</td>\n",
       "      <td>07:00:00</td>\n",
       "      <td>08:00:00</td>\n",
       "      <td>NaN</td>\n",
       "      <td>NaN</td>\n",
       "      <td>2018-05-30 07:00:00</td>\n",
       "      <td>2018-05-30 08:00:00</td>\n",
       "      <td>1.0</td>\n",
       "      <td>38.71844</td>\n",
       "      <td>-121.29042</td>\n",
       "    </tr>\n",
       "    <tr>\n",
       "      <th>3</th>\n",
       "      <td>3442</td>\n",
       "      <td>3442</td>\n",
       "      <td>10</td>\n",
       "      <td>CH0</td>\n",
       "      <td>2018-05-30</td>\n",
       "      <td>Wednesday</td>\n",
       "      <td>7:00 AM</td>\n",
       "      <td>8:00 AM</td>\n",
       "      <td>3</td>\n",
       "      <td>S</td>\n",
       "      <td>...</td>\n",
       "      <td>Week Day</td>\n",
       "      <td>07:00:00</td>\n",
       "      <td>08:00:00</td>\n",
       "      <td>NaN</td>\n",
       "      <td>NaN</td>\n",
       "      <td>2018-05-30 07:00:00</td>\n",
       "      <td>2018-05-30 08:00:00</td>\n",
       "      <td>1.0</td>\n",
       "      <td>38.71844</td>\n",
       "      <td>-121.29042</td>\n",
       "    </tr>\n",
       "    <tr>\n",
       "      <th>4</th>\n",
       "      <td>3443</td>\n",
       "      <td>3443</td>\n",
       "      <td>11</td>\n",
       "      <td>CH0</td>\n",
       "      <td>2018-05-30</td>\n",
       "      <td>Wednesday</td>\n",
       "      <td>8:00 AM</td>\n",
       "      <td>9:00 AM</td>\n",
       "      <td>4</td>\n",
       "      <td>S</td>\n",
       "      <td>...</td>\n",
       "      <td>Week Day</td>\n",
       "      <td>08:00:00</td>\n",
       "      <td>09:00:00</td>\n",
       "      <td>NaN</td>\n",
       "      <td>NaN</td>\n",
       "      <td>2018-05-30 08:00:00</td>\n",
       "      <td>2018-05-30 09:00:00</td>\n",
       "      <td>1.0</td>\n",
       "      <td>38.71844</td>\n",
       "      <td>-121.29042</td>\n",
       "    </tr>\n",
       "  </tbody>\n",
       "</table>\n",
       "<p>5 rows × 27 columns</p>\n",
       "</div>"
      ],
      "text/plain": [
       "   Unnamed: 0.2  Unnamed: 0.1  Unnamed: 0   ID        Date Day of Week  \\\n",
       "0          3432          3432           0  CH0  2018-05-30   Wednesday   \n",
       "1          3433          3433           1  CH0  2018-05-30   Wednesday   \n",
       "2          3438          3438           6  CH0  2018-05-30   Wednesday   \n",
       "3          3442          3442          10  CH0  2018-05-30   Wednesday   \n",
       "4          3443          3443          11  CH0  2018-05-30   Wednesday   \n",
       "\n",
       "  Start Time End Time  Count Leg  ... Week Day Status starttime   endtime  \\\n",
       "0    7:00 AM  8:00 AM      4   N  ...        Week Day  07:00:00  08:00:00   \n",
       "1    8:00 AM  9:00 AM      4   N  ...        Week Day  08:00:00  09:00:00   \n",
       "2    7:00 AM  8:00 AM      1   E  ...        Week Day  07:00:00  08:00:00   \n",
       "3    7:00 AM  8:00 AM      3   S  ...        Week Day  07:00:00  08:00:00   \n",
       "4    8:00 AM  9:00 AM      4   S  ...        Week Day  08:00:00  09:00:00   \n",
       "\n",
       "   starttime1  endtime1        startDateTime          endDateTime diff  \\\n",
       "0         NaN       NaN  2018-05-30 07:00:00  2018-05-30 08:00:00  1.0   \n",
       "1         NaN       NaN  2018-05-30 08:00:00  2018-05-30 09:00:00  1.0   \n",
       "2         NaN       NaN  2018-05-30 07:00:00  2018-05-30 08:00:00  1.0   \n",
       "3         NaN       NaN  2018-05-30 07:00:00  2018-05-30 08:00:00  1.0   \n",
       "4         NaN       NaN  2018-05-30 08:00:00  2018-05-30 09:00:00  1.0   \n",
       "\n",
       "        Lat       Long  \n",
       "0  38.71844 -121.29042  \n",
       "1  38.71844 -121.29042  \n",
       "2  38.71844 -121.29042  \n",
       "3  38.71844 -121.29042  \n",
       "4  38.71844 -121.29042  \n",
       "\n",
       "[5 rows x 27 columns]"
      ]
     },
     "execution_count": 30,
     "metadata": {},
     "output_type": "execute_result"
    }
   ],
   "source": [
    "# weekend=1 and weekday=0\n",
    "weekend_hr_data=sc_loc.loc[sc_loc['weekday_Status']==1]\n",
    "weekday_hr_data=sc_loc.loc[sc_loc['weekday_Status']==0]\n",
    "weekday_hr_data.head()"
   ]
  },
  {
   "cell_type": "code",
   "execution_count": 31,
   "id": "92362e2c",
   "metadata": {},
   "outputs": [
    {
     "data": {
      "text/plain": [
       "(1992, 148)"
      ]
     },
     "execution_count": 31,
     "metadata": {},
     "output_type": "execute_result"
    }
   ],
   "source": [
    "weekday_hr_data['ID'].nunique(),weekend_hr_data['ID'].nunique()"
   ]
  },
  {
   "cell_type": "code",
   "execution_count": 32,
   "id": "27c7185b",
   "metadata": {},
   "outputs": [
    {
     "data": {
      "text/html": [
       "<div>\n",
       "<style scoped>\n",
       "    .dataframe tbody tr th:only-of-type {\n",
       "        vertical-align: middle;\n",
       "    }\n",
       "\n",
       "    .dataframe tbody tr th {\n",
       "        vertical-align: top;\n",
       "    }\n",
       "\n",
       "    .dataframe thead th {\n",
       "        text-align: right;\n",
       "    }\n",
       "</style>\n",
       "<table border=\"1\" class=\"dataframe\">\n",
       "  <thead>\n",
       "    <tr style=\"text-align: right;\">\n",
       "      <th></th>\n",
       "      <th>ID</th>\n",
       "      <th>year</th>\n",
       "      <th>Leg</th>\n",
       "      <th>AM_count</th>\n",
       "      <th>PM_count</th>\n",
       "      <th>AMI</th>\n",
       "    </tr>\n",
       "  </thead>\n",
       "  <tbody>\n",
       "    <tr>\n",
       "      <th>0</th>\n",
       "      <td>CH11</td>\n",
       "      <td>2019.0</td>\n",
       "      <td>E</td>\n",
       "      <td>4</td>\n",
       "      <td>2</td>\n",
       "      <td>2.0</td>\n",
       "    </tr>\n",
       "    <tr>\n",
       "      <th>1</th>\n",
       "      <td>CH11</td>\n",
       "      <td>2019.0</td>\n",
       "      <td>W</td>\n",
       "      <td>4</td>\n",
       "      <td>1</td>\n",
       "      <td>4.0</td>\n",
       "    </tr>\n",
       "    <tr>\n",
       "      <th>2</th>\n",
       "      <td>CH13</td>\n",
       "      <td>2019.0</td>\n",
       "      <td>E</td>\n",
       "      <td>7</td>\n",
       "      <td>1</td>\n",
       "      <td>7.0</td>\n",
       "    </tr>\n",
       "    <tr>\n",
       "      <th>3</th>\n",
       "      <td>CH13</td>\n",
       "      <td>2019.0</td>\n",
       "      <td>W</td>\n",
       "      <td>7</td>\n",
       "      <td>1</td>\n",
       "      <td>7.0</td>\n",
       "    </tr>\n",
       "    <tr>\n",
       "      <th>4</th>\n",
       "      <td>CH15</td>\n",
       "      <td>2019.0</td>\n",
       "      <td>E</td>\n",
       "      <td>7</td>\n",
       "      <td>5</td>\n",
       "      <td>1.4</td>\n",
       "    </tr>\n",
       "  </tbody>\n",
       "</table>\n",
       "</div>"
      ],
      "text/plain": [
       "     ID    year Leg  AM_count  PM_count  AMI\n",
       "0  CH11  2019.0   E         4         2  2.0\n",
       "1  CH11  2019.0   W         4         1  4.0\n",
       "2  CH13  2019.0   E         7         1  7.0\n",
       "3  CH13  2019.0   W         7         1  7.0\n",
       "4  CH15  2019.0   E         7         5  1.4"
      ]
     },
     "execution_count": 32,
     "metadata": {},
     "output_type": "execute_result"
    }
   ],
   "source": [
    "# Calculate AM Count by eco id\n",
    "weekday_am1=weekday_hr_data[(weekday_hr_data['starttime']=='07:00:00')]\n",
    "weekday_am2=weekday_hr_data[(weekday_hr_data['starttime']=='08:00:00')]\n",
    "weekday_am=pd.concat([weekday_am1,weekday_am2],axis=0)\n",
    "#df181amg=df181am.groupby(['ID'])['Bicycle Count'].sum()\n",
    "df181amg=pd.DataFrame({'AM_count' : weekday_am.groupby(['ID','year','Leg'])['Count'].sum()}).reset_index()\n",
    "\n",
    "# Calculate pM count by Eco ID\n",
    "weekday_pm1=weekday_hr_data[(weekday_hr_data['starttime']=='11:00:00')]\n",
    "weekday_pm2=weekday_hr_data[(weekday_hr_data['starttime']=='12:00:00')]\n",
    "df181pm=pd.concat([weekday_pm1,weekday_pm2],axis=0)\n",
    "#df181amg=df181am.groupby(['ID'])['Bicycle Count'].sum()\n",
    "df181pmg=pd.DataFrame({'PM_count' : df181pm.groupby(['ID','year','Leg'])['Count'].sum()}).reset_index()\n",
    "\n",
    "# Join am and Pm count by eco id\n",
    "df181_am_pm=pd.merge(df181amg,df181pmg,left_on=['ID','year','Leg'],right_on=['ID','year','Leg'],how='inner')\n",
    "# Calculate the AMI\n",
    "df181_am_pm['AMI']=df181_am_pm['AM_count']/df181_am_pm['PM_count']\n",
    "df181_am_pm.head()"
   ]
  },
  {
   "cell_type": "code",
   "execution_count": 33,
   "id": "fed9af24",
   "metadata": {},
   "outputs": [
    {
     "data": {
      "text/plain": [
       "701"
      ]
     },
     "execution_count": 33,
     "metadata": {},
     "output_type": "execute_result"
    }
   ],
   "source": [
    "df181_am_pm['ID'].nunique()"
   ]
  },
  {
   "cell_type": "code",
   "execution_count": 34,
   "id": "97415686",
   "metadata": {},
   "outputs": [
    {
     "data": {
      "text/plain": [
       "year    Leg    \n",
       "2016.0  E          119\n",
       "        N          126\n",
       "        S          121\n",
       "        W          100\n",
       "        unknown    111\n",
       "2017.0  E           21\n",
       "        N           46\n",
       "        S           34\n",
       "        W           22\n",
       "        unknown      1\n",
       "2018.0  E           62\n",
       "        N           52\n",
       "        S           49\n",
       "        W           37\n",
       "2019.0  E           74\n",
       "        N           68\n",
       "        S           57\n",
       "        W           64\n",
       "        unknown      5\n",
       "Name: ID, dtype: int64"
      ]
     },
     "execution_count": 34,
     "metadata": {},
     "output_type": "execute_result"
    }
   ],
   "source": [
    "df181_am_pm.groupby(['year','Leg'])['ID'].count()"
   ]
  },
  {
   "cell_type": "code",
   "execution_count": 35,
   "id": "2b971b25",
   "metadata": {},
   "outputs": [
    {
     "data": {
      "text/html": [
       "<div>\n",
       "<style scoped>\n",
       "    .dataframe tbody tr th:only-of-type {\n",
       "        vertical-align: middle;\n",
       "    }\n",
       "\n",
       "    .dataframe tbody tr th {\n",
       "        vertical-align: top;\n",
       "    }\n",
       "\n",
       "    .dataframe thead th {\n",
       "        text-align: right;\n",
       "    }\n",
       "</style>\n",
       "<table border=\"1\" class=\"dataframe\">\n",
       "  <thead>\n",
       "    <tr style=\"text-align: right;\">\n",
       "      <th></th>\n",
       "      <th>ID</th>\n",
       "      <th>year</th>\n",
       "      <th>Leg</th>\n",
       "      <th>late_PM_count</th>\n",
       "      <th>early_PM_count</th>\n",
       "      <th>PMI</th>\n",
       "    </tr>\n",
       "  </thead>\n",
       "  <tbody>\n",
       "    <tr>\n",
       "      <th>0</th>\n",
       "      <td>AC20160</td>\n",
       "      <td>2016.0</td>\n",
       "      <td>E</td>\n",
       "      <td>7</td>\n",
       "      <td>2</td>\n",
       "      <td>3.500000</td>\n",
       "    </tr>\n",
       "    <tr>\n",
       "      <th>1</th>\n",
       "      <td>AC20160</td>\n",
       "      <td>2016.0</td>\n",
       "      <td>N</td>\n",
       "      <td>4</td>\n",
       "      <td>4</td>\n",
       "      <td>1.000000</td>\n",
       "    </tr>\n",
       "    <tr>\n",
       "      <th>2</th>\n",
       "      <td>AC20160</td>\n",
       "      <td>2016.0</td>\n",
       "      <td>S</td>\n",
       "      <td>8</td>\n",
       "      <td>3</td>\n",
       "      <td>2.666667</td>\n",
       "    </tr>\n",
       "    <tr>\n",
       "      <th>3</th>\n",
       "      <td>AC20160</td>\n",
       "      <td>2016.0</td>\n",
       "      <td>W</td>\n",
       "      <td>13</td>\n",
       "      <td>5</td>\n",
       "      <td>2.600000</td>\n",
       "    </tr>\n",
       "    <tr>\n",
       "      <th>4</th>\n",
       "      <td>AC201610</td>\n",
       "      <td>2016.0</td>\n",
       "      <td>E</td>\n",
       "      <td>22</td>\n",
       "      <td>7</td>\n",
       "      <td>3.142857</td>\n",
       "    </tr>\n",
       "  </tbody>\n",
       "</table>\n",
       "</div>"
      ],
      "text/plain": [
       "         ID    year Leg  late_PM_count  early_PM_count       PMI\n",
       "0   AC20160  2016.0   E              7               2  3.500000\n",
       "1   AC20160  2016.0   N              4               4  1.000000\n",
       "2   AC20160  2016.0   S              8               3  2.666667\n",
       "3   AC20160  2016.0   W             13               5  2.600000\n",
       "4  AC201610  2016.0   E             22               7  3.142857"
      ]
     },
     "execution_count": 35,
     "metadata": {},
     "output_type": "execute_result"
    }
   ],
   "source": [
    "# Calculate AM Count by eco id\n",
    "df181pm1=weekday_hr_data[(weekday_hr_data['starttime']=='17:00:00')]\n",
    "df181pm2=weekday_hr_data[(weekday_hr_data['starttime']=='18:00:00')]\n",
    "df181pm=pd.concat([df181pm1,df181pm2],axis=0)\n",
    "#df181amg=df181am.groupby(['ID'])['Bicycle Count'].sum()\n",
    "df181pmg=pd.DataFrame({'late_PM_count' : df181pm.groupby(['ID','year','Leg'])['Count'].sum()}).reset_index()\n",
    "\n",
    "# Calculate pM count by Eco ID\n",
    "df181pm2g1=weekday_hr_data[(weekday_hr_data['starttime']=='11:00:00')]\n",
    "df181pm2g2=weekday_hr_data[(weekday_hr_data['starttime']=='12:00:00')]\n",
    "df181pm2g=pd.concat([df181pm2g1,df181pm2g2],axis=0)\n",
    "#df181amg=df181am.groupby(['ID'])['Bicycle Count'].sum()\n",
    "df181pm2g=pd.DataFrame({'early_PM_count' : df181pm2g.groupby(['ID','year','Leg'])['Count'].sum()}).reset_index()\n",
    "\n",
    "# Join am and Pm count by eco id\n",
    "df181_pm_pm=pd.merge(df181pmg,df181pm2g,left_on=['ID','year','Leg'],right_on=['ID','year','Leg'],how='inner')\n",
    "# Calculate the AMI\n",
    "df181_pm_pm['PMI']=df181_pm_pm['late_PM_count']/df181_pm_pm['early_PM_count']\n",
    "df181_pm_pm.head()"
   ]
  },
  {
   "cell_type": "code",
   "execution_count": 36,
   "id": "669137e2",
   "metadata": {},
   "outputs": [
    {
     "data": {
      "text/plain": [
       "661"
      ]
     },
     "execution_count": 36,
     "metadata": {},
     "output_type": "execute_result"
    }
   ],
   "source": [
    "df181_pm_pm['ID'].nunique()"
   ]
  },
  {
   "cell_type": "code",
   "execution_count": 37,
   "id": "7092acee",
   "metadata": {},
   "outputs": [
    {
     "data": {
      "text/plain": [
       "year    Leg    \n",
       "2016.0  E           61\n",
       "        N           57\n",
       "        S           56\n",
       "        W           51\n",
       "        unknown    115\n",
       "2017.0  E           33\n",
       "        N           54\n",
       "        S           39\n",
       "        W           32\n",
       "        unknown      2\n",
       "2018.0  E           83\n",
       "        N           73\n",
       "        NW           1\n",
       "        S           73\n",
       "        W           61\n",
       "        unknown      2\n",
       "2019.0  E           76\n",
       "        N           65\n",
       "        S           54\n",
       "        W           72\n",
       "        unknown      4\n",
       "Name: ID, dtype: int64"
      ]
     },
     "execution_count": 37,
     "metadata": {},
     "output_type": "execute_result"
    }
   ],
   "source": [
    "df181_pm_pm.groupby(['year','Leg'])['ID'].count()"
   ]
  },
  {
   "cell_type": "code",
   "execution_count": 38,
   "id": "a0c4267b",
   "metadata": {},
   "outputs": [
    {
     "data": {
      "text/html": [
       "<div>\n",
       "<style scoped>\n",
       "    .dataframe tbody tr th:only-of-type {\n",
       "        vertical-align: middle;\n",
       "    }\n",
       "\n",
       "    .dataframe tbody tr th {\n",
       "        vertical-align: top;\n",
       "    }\n",
       "\n",
       "    .dataframe thead th {\n",
       "        text-align: right;\n",
       "    }\n",
       "</style>\n",
       "<table border=\"1\" class=\"dataframe\">\n",
       "  <thead>\n",
       "    <tr style=\"text-align: right;\">\n",
       "      <th></th>\n",
       "      <th>ID</th>\n",
       "      <th>year</th>\n",
       "      <th>Leg</th>\n",
       "      <th>AM_count</th>\n",
       "      <th>PM_count</th>\n",
       "      <th>AMI</th>\n",
       "      <th>late_PM_count</th>\n",
       "      <th>early_PM_count</th>\n",
       "      <th>PMI</th>\n",
       "    </tr>\n",
       "  </thead>\n",
       "  <tbody>\n",
       "    <tr>\n",
       "      <th>0</th>\n",
       "      <td>CH11</td>\n",
       "      <td>2019.0</td>\n",
       "      <td>E</td>\n",
       "      <td>4</td>\n",
       "      <td>2</td>\n",
       "      <td>2.000000</td>\n",
       "      <td>4</td>\n",
       "      <td>2</td>\n",
       "      <td>2.000000</td>\n",
       "    </tr>\n",
       "    <tr>\n",
       "      <th>1</th>\n",
       "      <td>CH11</td>\n",
       "      <td>2019.0</td>\n",
       "      <td>W</td>\n",
       "      <td>4</td>\n",
       "      <td>1</td>\n",
       "      <td>4.000000</td>\n",
       "      <td>2</td>\n",
       "      <td>1</td>\n",
       "      <td>2.000000</td>\n",
       "    </tr>\n",
       "    <tr>\n",
       "      <th>2</th>\n",
       "      <td>CH13</td>\n",
       "      <td>2019.0</td>\n",
       "      <td>E</td>\n",
       "      <td>7</td>\n",
       "      <td>1</td>\n",
       "      <td>7.000000</td>\n",
       "      <td>1</td>\n",
       "      <td>1</td>\n",
       "      <td>1.000000</td>\n",
       "    </tr>\n",
       "    <tr>\n",
       "      <th>3</th>\n",
       "      <td>CH13</td>\n",
       "      <td>2019.0</td>\n",
       "      <td>W</td>\n",
       "      <td>7</td>\n",
       "      <td>1</td>\n",
       "      <td>7.000000</td>\n",
       "      <td>1</td>\n",
       "      <td>1</td>\n",
       "      <td>1.000000</td>\n",
       "    </tr>\n",
       "    <tr>\n",
       "      <th>4</th>\n",
       "      <td>CH15</td>\n",
       "      <td>2019.0</td>\n",
       "      <td>E</td>\n",
       "      <td>7</td>\n",
       "      <td>5</td>\n",
       "      <td>1.400000</td>\n",
       "      <td>2</td>\n",
       "      <td>5</td>\n",
       "      <td>0.400000</td>\n",
       "    </tr>\n",
       "    <tr>\n",
       "      <th>5</th>\n",
       "      <td>CH15</td>\n",
       "      <td>2019.0</td>\n",
       "      <td>W</td>\n",
       "      <td>7</td>\n",
       "      <td>2</td>\n",
       "      <td>3.500000</td>\n",
       "      <td>2</td>\n",
       "      <td>2</td>\n",
       "      <td>1.000000</td>\n",
       "    </tr>\n",
       "    <tr>\n",
       "      <th>6</th>\n",
       "      <td>CH17</td>\n",
       "      <td>2019.0</td>\n",
       "      <td>E</td>\n",
       "      <td>7</td>\n",
       "      <td>9</td>\n",
       "      <td>0.777778</td>\n",
       "      <td>6</td>\n",
       "      <td>9</td>\n",
       "      <td>0.666667</td>\n",
       "    </tr>\n",
       "    <tr>\n",
       "      <th>7</th>\n",
       "      <td>CH17</td>\n",
       "      <td>2019.0</td>\n",
       "      <td>N</td>\n",
       "      <td>4</td>\n",
       "      <td>4</td>\n",
       "      <td>1.000000</td>\n",
       "      <td>2</td>\n",
       "      <td>4</td>\n",
       "      <td>0.500000</td>\n",
       "    </tr>\n",
       "    <tr>\n",
       "      <th>8</th>\n",
       "      <td>CH17</td>\n",
       "      <td>2019.0</td>\n",
       "      <td>S</td>\n",
       "      <td>3</td>\n",
       "      <td>3</td>\n",
       "      <td>1.000000</td>\n",
       "      <td>2</td>\n",
       "      <td>3</td>\n",
       "      <td>0.666667</td>\n",
       "    </tr>\n",
       "    <tr>\n",
       "      <th>9</th>\n",
       "      <td>CH17</td>\n",
       "      <td>2019.0</td>\n",
       "      <td>W</td>\n",
       "      <td>10</td>\n",
       "      <td>7</td>\n",
       "      <td>1.428571</td>\n",
       "      <td>8</td>\n",
       "      <td>7</td>\n",
       "      <td>1.142857</td>\n",
       "    </tr>\n",
       "  </tbody>\n",
       "</table>\n",
       "</div>"
      ],
      "text/plain": [
       "     ID    year Leg  AM_count  PM_count       AMI  late_PM_count  \\\n",
       "0  CH11  2019.0   E         4         2  2.000000              4   \n",
       "1  CH11  2019.0   W         4         1  4.000000              2   \n",
       "2  CH13  2019.0   E         7         1  7.000000              1   \n",
       "3  CH13  2019.0   W         7         1  7.000000              1   \n",
       "4  CH15  2019.0   E         7         5  1.400000              2   \n",
       "5  CH15  2019.0   W         7         2  3.500000              2   \n",
       "6  CH17  2019.0   E         7         9  0.777778              6   \n",
       "7  CH17  2019.0   N         4         4  1.000000              2   \n",
       "8  CH17  2019.0   S         3         3  1.000000              2   \n",
       "9  CH17  2019.0   W        10         7  1.428571              8   \n",
       "\n",
       "   early_PM_count       PMI  \n",
       "0               2  2.000000  \n",
       "1               1  2.000000  \n",
       "2               1  1.000000  \n",
       "3               1  1.000000  \n",
       "4               5  0.400000  \n",
       "5               2  1.000000  \n",
       "6               9  0.666667  \n",
       "7               4  0.500000  \n",
       "8               3  0.666667  \n",
       "9               7  1.142857  "
      ]
     },
     "execution_count": 38,
     "metadata": {},
     "output_type": "execute_result"
    }
   ],
   "source": [
    "AMI_PMI=pd.merge(df181_am_pm,df181_pm_pm, left_on=['ID','year','Leg'], right_on=['ID','year','Leg'], how='inner')\n",
    "AMI_PMI.head(10)"
   ]
  },
  {
   "cell_type": "code",
   "execution_count": 39,
   "id": "ce8eef69",
   "metadata": {},
   "outputs": [
    {
     "data": {
      "text/plain": [
       "((780, 9), 572)"
      ]
     },
     "execution_count": 39,
     "metadata": {},
     "output_type": "execute_result"
    }
   ],
   "source": [
    "AMI_PMI.shape,AMI_PMI[\"ID\"].nunique()"
   ]
  },
  {
   "cell_type": "code",
   "execution_count": 40,
   "id": "ab983bb0",
   "metadata": {},
   "outputs": [
    {
     "data": {
      "text/plain": [
       "572"
      ]
     },
     "execution_count": 40,
     "metadata": {},
     "output_type": "execute_result"
    }
   ],
   "source": [
    "AMI_PMI['ID'].nunique()"
   ]
  },
  {
   "cell_type": "code",
   "execution_count": 41,
   "id": "b55b6b24",
   "metadata": {},
   "outputs": [],
   "source": [
    "# mask=sc['ID'].isin(location['Study_ID'])\n",
    "# sc_mis=sc[mask]\n",
    "# sc_mis.shape"
   ]
  },
  {
   "cell_type": "code",
   "execution_count": 42,
   "id": "9eecba25",
   "metadata": {},
   "outputs": [],
   "source": [
    "# expoort short term location with missing lat and long\n",
    "# sc_m=sc[~sc.ID.isin(location.Study_ID)]\n",
    "# sc_m1=sc_m.drop_duplicates(subset=['ID','Leg','year'], keep='first')\n",
    "# sc_m1.columns"
   ]
  },
  {
   "cell_type": "code",
   "execution_count": 43,
   "id": "fa1a2aea",
   "metadata": {},
   "outputs": [],
   "source": [
    "# sc_m2=sc_m1[['ID', 'year','Leg','matched_seg_id']]\n",
    "# sc_m2.shape"
   ]
  },
  {
   "cell_type": "code",
   "execution_count": 44,
   "id": "4f9a55ad",
   "metadata": {},
   "outputs": [],
   "source": [
    "# sc_m2.to_csv('C:/UC Berkeley Project Backup/Bike_ped Exposure Model Project/Processed Data/SC_with_missing_location.csv')"
   ]
  },
  {
   "cell_type": "code",
   "execution_count": 45,
   "id": "48097464",
   "metadata": {},
   "outputs": [],
   "source": [
    "# Calculate the max AMI_PMI Value\n",
    "def max_weekday_value(Max_weekday_AMI,Max_weekday_PMI):\n",
    "    if Max_weekday_AMI>Max_weekday_PMI:\n",
    "        return Max_weekday_AMI\n",
    "    else:\n",
    "        return Max_weekday_PMI"
   ]
  },
  {
   "cell_type": "code",
   "execution_count": 46,
   "id": "825bad82",
   "metadata": {},
   "outputs": [
    {
     "data": {
      "text/html": [
       "<div>\n",
       "<style scoped>\n",
       "    .dataframe tbody tr th:only-of-type {\n",
       "        vertical-align: middle;\n",
       "    }\n",
       "\n",
       "    .dataframe tbody tr th {\n",
       "        vertical-align: top;\n",
       "    }\n",
       "\n",
       "    .dataframe thead th {\n",
       "        text-align: right;\n",
       "    }\n",
       "</style>\n",
       "<table border=\"1\" class=\"dataframe\">\n",
       "  <thead>\n",
       "    <tr style=\"text-align: right;\">\n",
       "      <th></th>\n",
       "      <th>Unnamed: 0.2</th>\n",
       "      <th>Unnamed: 0.1</th>\n",
       "      <th>Unnamed: 0</th>\n",
       "      <th>ID</th>\n",
       "      <th>Date</th>\n",
       "      <th>Day of Week</th>\n",
       "      <th>Start Time</th>\n",
       "      <th>End Time</th>\n",
       "      <th>Count</th>\n",
       "      <th>Leg</th>\n",
       "      <th>...</th>\n",
       "      <th>starttime</th>\n",
       "      <th>endtime</th>\n",
       "      <th>starttime1</th>\n",
       "      <th>endtime1</th>\n",
       "      <th>startDateTime</th>\n",
       "      <th>endDateTime</th>\n",
       "      <th>diff</th>\n",
       "      <th>Lat</th>\n",
       "      <th>Long</th>\n",
       "      <th>Max_AMI_PMI</th>\n",
       "    </tr>\n",
       "  </thead>\n",
       "  <tbody>\n",
       "    <tr>\n",
       "      <th>0</th>\n",
       "      <td>3489</td>\n",
       "      <td>3489</td>\n",
       "      <td>57</td>\n",
       "      <td>CH3</td>\n",
       "      <td>2019-01-23</td>\n",
       "      <td>Wednesday</td>\n",
       "      <td>4:00 AM</td>\n",
       "      <td>5:00 AM</td>\n",
       "      <td>1</td>\n",
       "      <td>E</td>\n",
       "      <td>...</td>\n",
       "      <td>04:00:00</td>\n",
       "      <td>05:00:00</td>\n",
       "      <td>NaN</td>\n",
       "      <td>NaN</td>\n",
       "      <td>2019-01-23 04:00:00</td>\n",
       "      <td>2019-01-23 05:00:00</td>\n",
       "      <td>1.0</td>\n",
       "      <td>38.70285</td>\n",
       "      <td>-121.27365</td>\n",
       "      <td>1.1</td>\n",
       "    </tr>\n",
       "    <tr>\n",
       "      <th>1</th>\n",
       "      <td>3490</td>\n",
       "      <td>3490</td>\n",
       "      <td>58</td>\n",
       "      <td>CH3</td>\n",
       "      <td>2019-01-23</td>\n",
       "      <td>Wednesday</td>\n",
       "      <td>5:00 AM</td>\n",
       "      <td>6:00 AM</td>\n",
       "      <td>1</td>\n",
       "      <td>E</td>\n",
       "      <td>...</td>\n",
       "      <td>05:00:00</td>\n",
       "      <td>06:00:00</td>\n",
       "      <td>NaN</td>\n",
       "      <td>NaN</td>\n",
       "      <td>2019-01-23 05:00:00</td>\n",
       "      <td>2019-01-23 06:00:00</td>\n",
       "      <td>1.0</td>\n",
       "      <td>38.70285</td>\n",
       "      <td>-121.27365</td>\n",
       "      <td>1.1</td>\n",
       "    </tr>\n",
       "    <tr>\n",
       "      <th>2</th>\n",
       "      <td>3491</td>\n",
       "      <td>3491</td>\n",
       "      <td>59</td>\n",
       "      <td>CH3</td>\n",
       "      <td>2019-01-23</td>\n",
       "      <td>Wednesday</td>\n",
       "      <td>6:00 AM</td>\n",
       "      <td>7:00 AM</td>\n",
       "      <td>1</td>\n",
       "      <td>E</td>\n",
       "      <td>...</td>\n",
       "      <td>06:00:00</td>\n",
       "      <td>07:00:00</td>\n",
       "      <td>NaN</td>\n",
       "      <td>NaN</td>\n",
       "      <td>2019-01-23 06:00:00</td>\n",
       "      <td>2019-01-23 07:00:00</td>\n",
       "      <td>1.0</td>\n",
       "      <td>38.70285</td>\n",
       "      <td>-121.27365</td>\n",
       "      <td>1.1</td>\n",
       "    </tr>\n",
       "    <tr>\n",
       "      <th>3</th>\n",
       "      <td>3492</td>\n",
       "      <td>3492</td>\n",
       "      <td>60</td>\n",
       "      <td>CH3</td>\n",
       "      <td>2019-01-23</td>\n",
       "      <td>Wednesday</td>\n",
       "      <td>7:00 AM</td>\n",
       "      <td>8:00 AM</td>\n",
       "      <td>3</td>\n",
       "      <td>E</td>\n",
       "      <td>...</td>\n",
       "      <td>07:00:00</td>\n",
       "      <td>08:00:00</td>\n",
       "      <td>NaN</td>\n",
       "      <td>NaN</td>\n",
       "      <td>2019-01-23 07:00:00</td>\n",
       "      <td>2019-01-23 08:00:00</td>\n",
       "      <td>1.0</td>\n",
       "      <td>38.70285</td>\n",
       "      <td>-121.27365</td>\n",
       "      <td>1.1</td>\n",
       "    </tr>\n",
       "    <tr>\n",
       "      <th>4</th>\n",
       "      <td>3493</td>\n",
       "      <td>3493</td>\n",
       "      <td>61</td>\n",
       "      <td>CH3</td>\n",
       "      <td>2019-01-23</td>\n",
       "      <td>Wednesday</td>\n",
       "      <td>8:00 AM</td>\n",
       "      <td>9:00 AM</td>\n",
       "      <td>4</td>\n",
       "      <td>E</td>\n",
       "      <td>...</td>\n",
       "      <td>08:00:00</td>\n",
       "      <td>09:00:00</td>\n",
       "      <td>NaN</td>\n",
       "      <td>NaN</td>\n",
       "      <td>2019-01-23 08:00:00</td>\n",
       "      <td>2019-01-23 09:00:00</td>\n",
       "      <td>1.0</td>\n",
       "      <td>38.70285</td>\n",
       "      <td>-121.27365</td>\n",
       "      <td>1.1</td>\n",
       "    </tr>\n",
       "  </tbody>\n",
       "</table>\n",
       "<p>5 rows × 28 columns</p>\n",
       "</div>"
      ],
      "text/plain": [
       "   Unnamed: 0.2  Unnamed: 0.1  Unnamed: 0   ID        Date Day of Week  \\\n",
       "0          3489          3489          57  CH3  2019-01-23   Wednesday   \n",
       "1          3490          3490          58  CH3  2019-01-23   Wednesday   \n",
       "2          3491          3491          59  CH3  2019-01-23   Wednesday   \n",
       "3          3492          3492          60  CH3  2019-01-23   Wednesday   \n",
       "4          3493          3493          61  CH3  2019-01-23   Wednesday   \n",
       "\n",
       "  Start Time End Time  Count Leg  ... starttime   endtime  starttime1  \\\n",
       "0    4:00 AM  5:00 AM      1   E  ...  04:00:00  05:00:00         NaN   \n",
       "1    5:00 AM  6:00 AM      1   E  ...  05:00:00  06:00:00         NaN   \n",
       "2    6:00 AM  7:00 AM      1   E  ...  06:00:00  07:00:00         NaN   \n",
       "3    7:00 AM  8:00 AM      3   E  ...  07:00:00  08:00:00         NaN   \n",
       "4    8:00 AM  9:00 AM      4   E  ...  08:00:00  09:00:00         NaN   \n",
       "\n",
       "   endtime1        startDateTime          endDateTime  diff       Lat  \\\n",
       "0       NaN  2019-01-23 04:00:00  2019-01-23 05:00:00   1.0  38.70285   \n",
       "1       NaN  2019-01-23 05:00:00  2019-01-23 06:00:00   1.0  38.70285   \n",
       "2       NaN  2019-01-23 06:00:00  2019-01-23 07:00:00   1.0  38.70285   \n",
       "3       NaN  2019-01-23 07:00:00  2019-01-23 08:00:00   1.0  38.70285   \n",
       "4       NaN  2019-01-23 08:00:00  2019-01-23 09:00:00   1.0  38.70285   \n",
       "\n",
       "        Long Max_AMI_PMI  \n",
       "0 -121.27365         1.1  \n",
       "1 -121.27365         1.1  \n",
       "2 -121.27365         1.1  \n",
       "3 -121.27365         1.1  \n",
       "4 -121.27365         1.1  \n",
       "\n",
       "[5 rows x 28 columns]"
      ]
     },
     "execution_count": 46,
     "metadata": {},
     "output_type": "execute_result"
    }
   ],
   "source": [
    "AMI_PMI['Max_AMI_PMI']=AMI_PMI.apply(lambda row:max_weekday_value(row['AMI'],row['PMI']),axis=1)\n",
    "AMI_PMI1=AMI_PMI[['ID','year','Leg','Max_AMI_PMI']]\n",
    "AMI_PMI2=pd.merge(weekday_hr_data,AMI_PMI1,on=['ID','year','Leg'], how='inner')\n",
    "AMI_PMI2.head()"
   ]
  },
  {
   "cell_type": "code",
   "execution_count": 47,
   "id": "35cd8ead",
   "metadata": {},
   "outputs": [
    {
     "data": {
      "text/plain": [
       "(12376, 28)"
      ]
     },
     "execution_count": 47,
     "metadata": {},
     "output_type": "execute_result"
    }
   ],
   "source": [
    "AMI_PMI2.shape"
   ]
  },
  {
   "cell_type": "code",
   "execution_count": 48,
   "id": "1121e8e3",
   "metadata": {},
   "outputs": [],
   "source": [
    "AMI_PMI2=AMI_PMI2.drop_duplicates(subset=['ID','year','month','day','Leg','Day of Week','matched_seg_id','Lat','Long','starttime'], keep='first')"
   ]
  },
  {
   "cell_type": "code",
   "execution_count": 49,
   "id": "bd2ccbb3",
   "metadata": {},
   "outputs": [
    {
     "data": {
      "text/plain": [
       "(11219, 28)"
      ]
     },
     "execution_count": 49,
     "metadata": {},
     "output_type": "execute_result"
    }
   ],
   "source": [
    "AMI_PMI2.shape"
   ]
  },
  {
   "cell_type": "code",
   "execution_count": 50,
   "id": "59edc669",
   "metadata": {},
   "outputs": [
    {
     "data": {
      "text/plain": [
       "year    Leg    \n",
       "2016.0  E           42\n",
       "        N           33\n",
       "        S           32\n",
       "        W           32\n",
       "        unknown    111\n",
       "2017.0  E           19\n",
       "        N           43\n",
       "        S           30\n",
       "        W           18\n",
       "        unknown      1\n",
       "2018.0  E           54\n",
       "        N           47\n",
       "        S           45\n",
       "        W           33\n",
       "2019.0  E           70\n",
       "        N           59\n",
       "        S           47\n",
       "        W           60\n",
       "        unknown      4\n",
       "Name: ID, dtype: int64"
      ]
     },
     "execution_count": 50,
     "metadata": {},
     "output_type": "execute_result"
    }
   ],
   "source": [
    "AMI_PMI.groupby(['year','Leg'])['ID'].count()"
   ]
  },
  {
   "cell_type": "code",
   "execution_count": 51,
   "id": "5d2704ef",
   "metadata": {},
   "outputs": [
    {
     "data": {
      "text/plain": [
       "year\n",
       "2016.0    250\n",
       "2017.0    111\n",
       "2018.0    179\n",
       "2019.0    240\n",
       "Name: ID, dtype: int64"
      ]
     },
     "execution_count": 51,
     "metadata": {},
     "output_type": "execute_result"
    }
   ],
   "source": [
    "AMI_PMI.groupby(['year'])['ID'].count()"
   ]
  },
  {
   "cell_type": "code",
   "execution_count": 52,
   "id": "525bb1c6",
   "metadata": {},
   "outputs": [],
   "source": [
    "# split the data by Max_AMI_PMI Value\n",
    "AMI_PMI2_g1=AMI_PMI2.loc[AMI_PMI2['Max_AMI_PMI']<=1]\n",
    "AMI_PMI2_g1=AMI_PMI2_g1.drop(['Unnamed: 0.2','Unnamed: 0.1','Unnamed: 0','Start Time', 'End Time', 'starttime1', 'endtime1','startDateTime',\n",
    "       'endDateTime'],axis=1)\n",
    "AMI_PMI2_g2=AMI_PMI2[(AMI_PMI2.Max_AMI_PMI>1) &(AMI_PMI2.Max_AMI_PMI<=2.50)]\n",
    "AMI_PMI2_g3=AMI_PMI2.loc[AMI_PMI2['Max_AMI_PMI']>2.50]"
   ]
  },
  {
   "cell_type": "code",
   "execution_count": 53,
   "id": "c1595a3b",
   "metadata": {},
   "outputs": [],
   "source": [
    "#AMI_PMI2_g1.loc[AMI_PMI2_g1['ID']=='Kern125']"
   ]
  },
  {
   "cell_type": "code",
   "execution_count": 54,
   "id": "2bbd34c6",
   "metadata": {},
   "outputs": [
    {
     "data": {
      "text/plain": [
       "((780, 4), (11219, 28))"
      ]
     },
     "execution_count": 54,
     "metadata": {},
     "output_type": "execute_result"
    }
   ],
   "source": [
    "AMI_PMI1.shape,AMI_PMI2.shape"
   ]
  },
  {
   "cell_type": "code",
   "execution_count": 55,
   "id": "bbb935c8",
   "metadata": {},
   "outputs": [],
   "source": [
    "# read the HOD factor for weekday and group it by criteria\n",
    "HOD=pd.read_csv('C:/UC Berkeley Project Backup/Bike_ped Exposure Model Project/Final Factor/Final_HOD_Factor.csv')\n",
    "HOD_weekday=HOD.loc[HOD['day_of_status']=='weekday']\n",
    "HOD_weekday_g1=HOD_weekday.loc[HOD_weekday['Criteria']=='Max_AMI_PMI<=1']\n",
    "HOD_weekday_g2=HOD_weekday.loc[HOD_weekday['Criteria']=='1<Max_AMI_PMI<=2.5']\n",
    "HOD_weekday_g3=HOD_weekday.loc[HOD_weekday['Criteria']=='Max_AMI_PMI>2.5']"
   ]
  },
  {
   "cell_type": "code",
   "execution_count": 56,
   "id": "e3305e91",
   "metadata": {},
   "outputs": [
    {
     "data": {
      "text/html": [
       "<div>\n",
       "<style scoped>\n",
       "    .dataframe tbody tr th:only-of-type {\n",
       "        vertical-align: middle;\n",
       "    }\n",
       "\n",
       "    .dataframe tbody tr th {\n",
       "        vertical-align: top;\n",
       "    }\n",
       "\n",
       "    .dataframe thead th {\n",
       "        text-align: right;\n",
       "    }\n",
       "</style>\n",
       "<table border=\"1\" class=\"dataframe\">\n",
       "  <thead>\n",
       "    <tr style=\"text-align: right;\">\n",
       "      <th></th>\n",
       "      <th>Unnamed: 0</th>\n",
       "      <th>starttime</th>\n",
       "      <th>Average_Group_HOD_Factor</th>\n",
       "      <th>Criteria</th>\n",
       "      <th>day_of_status</th>\n",
       "    </tr>\n",
       "  </thead>\n",
       "  <tbody>\n",
       "    <tr>\n",
       "      <th>0</th>\n",
       "      <td>0</td>\n",
       "      <td>00:00:00</td>\n",
       "      <td>0.002970</td>\n",
       "      <td>Max_AMI_PMI&lt;=1</td>\n",
       "      <td>weekday</td>\n",
       "    </tr>\n",
       "    <tr>\n",
       "      <th>1</th>\n",
       "      <td>1</td>\n",
       "      <td>01:00:00</td>\n",
       "      <td>0.002145</td>\n",
       "      <td>Max_AMI_PMI&lt;=1</td>\n",
       "      <td>weekday</td>\n",
       "    </tr>\n",
       "    <tr>\n",
       "      <th>2</th>\n",
       "      <td>2</td>\n",
       "      <td>02:00:00</td>\n",
       "      <td>0.001953</td>\n",
       "      <td>Max_AMI_PMI&lt;=1</td>\n",
       "      <td>weekday</td>\n",
       "    </tr>\n",
       "    <tr>\n",
       "      <th>3</th>\n",
       "      <td>3</td>\n",
       "      <td>03:00:00</td>\n",
       "      <td>0.001807</td>\n",
       "      <td>Max_AMI_PMI&lt;=1</td>\n",
       "      <td>weekday</td>\n",
       "    </tr>\n",
       "    <tr>\n",
       "      <th>4</th>\n",
       "      <td>4</td>\n",
       "      <td>04:00:00</td>\n",
       "      <td>0.002084</td>\n",
       "      <td>Max_AMI_PMI&lt;=1</td>\n",
       "      <td>weekday</td>\n",
       "    </tr>\n",
       "  </tbody>\n",
       "</table>\n",
       "</div>"
      ],
      "text/plain": [
       "   Unnamed: 0 starttime  Average_Group_HOD_Factor        Criteria  \\\n",
       "0           0  00:00:00                  0.002970  Max_AMI_PMI<=1   \n",
       "1           1  01:00:00                  0.002145  Max_AMI_PMI<=1   \n",
       "2           2  02:00:00                  0.001953  Max_AMI_PMI<=1   \n",
       "3           3  03:00:00                  0.001807  Max_AMI_PMI<=1   \n",
       "4           4  04:00:00                  0.002084  Max_AMI_PMI<=1   \n",
       "\n",
       "  day_of_status  \n",
       "0       weekday  \n",
       "1       weekday  \n",
       "2       weekday  \n",
       "3       weekday  \n",
       "4       weekday  "
      ]
     },
     "execution_count": 56,
     "metadata": {},
     "output_type": "execute_result"
    }
   ],
   "source": [
    "HOD_weekday_g1.head()"
   ]
  },
  {
   "cell_type": "code",
   "execution_count": 57,
   "id": "1f6290fb",
   "metadata": {},
   "outputs": [],
   "source": [
    "# Calculate daily Volume for group 1\n",
    "g1_DV=pd.merge(AMI_PMI2_g1,HOD_weekday_g1, on=['starttime'], how='inner')\n",
    "g1_DV1=pd.DataFrame({'agge_count' : g1_DV.groupby(['ID','year','month','day','Leg','Day of Week','matched_seg_id','Lat','Long'])['Count'].sum()}).reset_index()\n",
    "g1_DV1f=pd.DataFrame({'agge_factor' : g1_DV.groupby(['ID','year','month','day','Leg','Day of Week','matched_seg_id','Lat','Long'])['Average_Group_HOD_Factor'].sum()}).reset_index()\n",
    "g1_DV1r=pd.merge(g1_DV1,g1_DV1f, on=['ID','year','month','day','Leg','Day of Week','matched_seg_id','Lat','Long'], how='inner')\n",
    "g1_DV1r['Daily_Volume']=g1_DV1r['agge_count']/g1_DV1r['agge_factor']\n",
    "g1_DV1rf=pd.DataFrame({'TDV' : g1_DV1r.groupby(['ID','year','Leg','Day of Week','month','matched_seg_id','Lat','Long'])['Daily_Volume'].mean()}).reset_index()"
   ]
  },
  {
   "cell_type": "code",
   "execution_count": 58,
   "id": "5f651122",
   "metadata": {},
   "outputs": [
    {
     "data": {
      "text/plain": [
       "((355, 10), (355, 12))"
      ]
     },
     "execution_count": 58,
     "metadata": {},
     "output_type": "execute_result"
    }
   ],
   "source": [
    "g1_DV1.shape,g1_DV1r.shape"
   ]
  },
  {
   "cell_type": "code",
   "execution_count": 59,
   "id": "ee6d1514",
   "metadata": {},
   "outputs": [
    {
     "data": {
      "text/plain": [
       "((0, 23), (0, 10))"
      ]
     },
     "execution_count": 59,
     "metadata": {},
     "output_type": "execute_result"
    }
   ],
   "source": [
    "c=g1_DV.loc[g1_DV['Count']==0]\n",
    "c1=g1_DV1.loc[g1_DV1['agge_count']==0]\n",
    "c.shape,c1.shape"
   ]
  },
  {
   "cell_type": "code",
   "execution_count": 60,
   "id": "ad69a519",
   "metadata": {},
   "outputs": [],
   "source": [
    "# Calculate daily Volume for group 2\n",
    "g2_DV=pd.merge(AMI_PMI2_g2,HOD_weekday_g2, on=['starttime'], how='inner')\n",
    "g2_DV2=pd.DataFrame({'agge_count' : g2_DV.groupby(['ID','year','month','day','Leg','Day of Week','matched_seg_id','Lat','Long'])['Count'].sum()}).reset_index()\n",
    "g2_DV2f=pd.DataFrame({'agge_factor' : g2_DV.groupby(['ID','year','month','day','Leg','Day of Week','matched_seg_id','Lat','Long'])['Average_Group_HOD_Factor'].sum()}).reset_index()\n",
    "g2_DV2r=pd.merge(g2_DV2,g2_DV2f, on=['ID','year','month','day','Leg','Day of Week','matched_seg_id','Lat','Long'], how='inner')\n",
    "g2_DV2r['Daily_Volume']=g2_DV2r['agge_count']/g2_DV2r['agge_factor']\n",
    "g2_DV2rf=pd.DataFrame({'TDV' : g2_DV2r.groupby(['ID','year','Leg','Day of Week','month','matched_seg_id','Lat','Long'])['Daily_Volume'].mean()}).reset_index()"
   ]
  },
  {
   "cell_type": "code",
   "execution_count": 61,
   "id": "1a8fadf7",
   "metadata": {},
   "outputs": [
    {
     "data": {
      "text/plain": [
       "((341, 10), (341, 12))"
      ]
     },
     "execution_count": 61,
     "metadata": {},
     "output_type": "execute_result"
    }
   ],
   "source": [
    "g2_DV2.shape,g2_DV2r.shape"
   ]
  },
  {
   "cell_type": "code",
   "execution_count": 62,
   "id": "775777f0",
   "metadata": {},
   "outputs": [],
   "source": [
    "# Calculate daily Volume for group 3\n",
    "g3_DV=pd.merge(AMI_PMI2_g3,HOD_weekday_g3, on=['starttime'], how='inner')\n",
    "g3_DV3=pd.DataFrame({'agge_count' : g3_DV.groupby(['ID','year','month','day','Leg','Day of Week','matched_seg_id','Lat','Long'])['Count'].sum()}).reset_index()\n",
    "g3_DV3f=pd.DataFrame({'agge_factor' : g3_DV.groupby(['ID','year','month','day','Leg','Day of Week','matched_seg_id','Lat','Long'])['Average_Group_HOD_Factor'].sum()}).reset_index()\n",
    "g3_DV3r=pd.merge(g3_DV3,g3_DV3f, on=['ID','year','month','day','Leg','Day of Week','matched_seg_id','Lat','Long'], how='inner')\n",
    "g3_DV3r['Daily_Volume']=g3_DV3r['agge_count']/g3_DV3r['agge_factor']\n",
    "g3_DV3rf=pd.DataFrame({'TDV' : g3_DV3r.groupby(['ID','year','Leg','Day of Week','month','matched_seg_id','Lat','Long'])['Daily_Volume'].mean()}).reset_index()"
   ]
  },
  {
   "cell_type": "code",
   "execution_count": 63,
   "id": "7789f0fb",
   "metadata": {},
   "outputs": [
    {
     "data": {
      "text/plain": [
       "((177, 10), (177, 12))"
      ]
     },
     "execution_count": 63,
     "metadata": {},
     "output_type": "execute_result"
    }
   ],
   "source": [
    "g3_DV3.shape,g3_DV3r.shape"
   ]
  },
  {
   "cell_type": "code",
   "execution_count": 64,
   "id": "c16ba739",
   "metadata": {},
   "outputs": [],
   "source": [
    "# Apply HOD factor to get Daily Total volume\n",
    "# g1_DV=pd.merge(AMI_PMI2_g1,HOD_weekday_g1, on=['starttime'], how='inner')\n",
    "# g1_DV['Daily_Volume']=g1_DV['Count']/g1_DV['Average_Group_HOD_Factor']\n",
    "# g1_DV1=pd.DataFrame({'TDV' : g1_DV.groupby(['ID','year','Leg','Day of Week','month','matched_seg_id','Lat','Long'])['Daily_Volume'].mean()}).reset_index()\n",
    "# g2_DV=pd.merge(AMI_PMI2_g2,HOD_weekday_g2, on=['starttime'], how='inner')\n",
    "# g2_DV['Daily_Volume']=g2_DV['Count']/g2_DV['Average_Group_HOD_Factor']\n",
    "# g2_DV2=pd.DataFrame({'TDV' : g2_DV.groupby(['ID','year','Leg','Day of Week','month','matched_seg_id','Lat','Long'])['Daily_Volume'].mean()}).reset_index()\n",
    "# g3_DV=pd.merge(AMI_PMI2_g3,HOD_weekday_g3, on=['starttime'], how='inner')\n",
    "# g3_DV['Daily_Volume']=g3_DV['Count']/g3_DV['Average_Group_HOD_Factor']\n",
    "# g3_DV3=pd.DataFrame({'TDV' : g3_DV.groupby(['ID','year','Leg','Day of Week','month','matched_seg_id','Lat','Long'])['Daily_Volume'].mean()}).reset_index()\n",
    "# g3_DV3.head()"
   ]
  },
  {
   "cell_type": "code",
   "execution_count": 65,
   "id": "c4a1054c",
   "metadata": {},
   "outputs": [
    {
     "data": {
      "text/plain": [
       "(873, 10)"
      ]
     },
     "execution_count": 65,
     "metadata": {},
     "output_type": "execute_result"
    }
   ],
   "source": [
    "# combine these three group of estimated daily volume together\n",
    "DV_part1=pd.concat([g1_DV1rf,g2_DV2rf,g3_DV3rf],axis=0).reset_index()\n",
    "DV_part1.shape"
   ]
  },
  {
   "cell_type": "code",
   "execution_count": 66,
   "id": "ada73f6f",
   "metadata": {},
   "outputs": [
    {
     "data": {
      "text/plain": [
       "index             0\n",
       "ID                0\n",
       "year              0\n",
       "Leg               0\n",
       "Day of Week       0\n",
       "month             0\n",
       "matched_seg_id    0\n",
       "Lat               0\n",
       "Long              0\n",
       "TDV               0\n",
       "dtype: int64"
      ]
     },
     "execution_count": 66,
     "metadata": {},
     "output_type": "execute_result"
    }
   ],
   "source": [
    "DV_part1.isnull().sum()"
   ]
  },
  {
   "cell_type": "code",
   "execution_count": 67,
   "id": "7feb9163",
   "metadata": {},
   "outputs": [
    {
     "data": {
      "text/plain": [
       "<AxesSubplot:>"
      ]
     },
     "execution_count": 67,
     "metadata": {},
     "output_type": "execute_result"
    },
    {
     "data": {
      "image/png": "[encoded data removed]",
      "text/plain": [
       "<Figure size 432x288 with 1 Axes>"
      ]
     },
     "metadata": {
      "needs_background": "light"
     },
     "output_type": "display_data"
    }
   ],
   "source": [
    "DV_part1['TDV'].plot()"
   ]
  },
  {
   "cell_type": "code",
   "execution_count": 68,
   "id": "5c1b49f4",
   "metadata": {},
   "outputs": [
    {
     "data": {
      "text/plain": [
       "Index(['index', 'ID', 'year', 'Leg', 'Day of Week', 'month', 'matched_seg_id',\n",
       "       'Lat', 'Long', 'TDV'],\n",
       "      dtype='object')"
      ]
     },
     "execution_count": 68,
     "metadata": {},
     "output_type": "execute_result"
    }
   ],
   "source": [
    "DV_part1.columns"
   ]
  },
  {
   "cell_type": "code",
   "execution_count": 69,
   "id": "5bf4044c",
   "metadata": {},
   "outputs": [
    {
     "data": {
      "text/plain": [
       "array([2019., 2016., 2017., 2018.])"
      ]
     },
     "execution_count": 69,
     "metadata": {},
     "output_type": "execute_result"
    }
   ],
   "source": [
    "DV_part1['year'].unique()"
   ]
  },
  {
   "cell_type": "code",
   "execution_count": 70,
   "id": "39b7da74",
   "metadata": {},
   "outputs": [],
   "source": [
    "# it seems still 1992--456= 1536 sites weekday saily volume still need to be estimated\n",
    "# use Maximum Weekday AMI_PMI= 5.57710+7.58428e-05* population Density -4.76462* Strava Recreational Ratio"
   ]
  },
  {
   "cell_type": "code",
   "execution_count": 71,
   "id": "50d48ba1",
   "metadata": {},
   "outputs": [
    {
     "data": {
      "text/html": [
       "<div>\n",
       "<style scoped>\n",
       "    .dataframe tbody tr th:only-of-type {\n",
       "        vertical-align: middle;\n",
       "    }\n",
       "\n",
       "    .dataframe tbody tr th {\n",
       "        vertical-align: top;\n",
       "    }\n",
       "\n",
       "    .dataframe thead th {\n",
       "        text-align: right;\n",
       "    }\n",
       "</style>\n",
       "<table border=\"1\" class=\"dataframe\">\n",
       "  <thead>\n",
       "    <tr style=\"text-align: right;\">\n",
       "      <th></th>\n",
       "      <th>Unnamed: 0.2</th>\n",
       "      <th>Unnamed: 0.1</th>\n",
       "      <th>Unnamed: 0</th>\n",
       "      <th>ID</th>\n",
       "      <th>Date</th>\n",
       "      <th>Day of Week</th>\n",
       "      <th>Start Time</th>\n",
       "      <th>End Time</th>\n",
       "      <th>Count</th>\n",
       "      <th>Leg</th>\n",
       "      <th>...</th>\n",
       "      <th>Week Day Status</th>\n",
       "      <th>starttime</th>\n",
       "      <th>endtime</th>\n",
       "      <th>starttime1</th>\n",
       "      <th>endtime1</th>\n",
       "      <th>startDateTime</th>\n",
       "      <th>endDateTime</th>\n",
       "      <th>diff</th>\n",
       "      <th>Lat</th>\n",
       "      <th>Long</th>\n",
       "    </tr>\n",
       "  </thead>\n",
       "  <tbody>\n",
       "    <tr>\n",
       "      <th>0</th>\n",
       "      <td>3432</td>\n",
       "      <td>3432</td>\n",
       "      <td>0</td>\n",
       "      <td>CH0</td>\n",
       "      <td>2018-05-30</td>\n",
       "      <td>Wednesday</td>\n",
       "      <td>7:00 AM</td>\n",
       "      <td>8:00 AM</td>\n",
       "      <td>4</td>\n",
       "      <td>N</td>\n",
       "      <td>...</td>\n",
       "      <td>Week Day</td>\n",
       "      <td>07:00:00</td>\n",
       "      <td>08:00:00</td>\n",
       "      <td>NaN</td>\n",
       "      <td>NaN</td>\n",
       "      <td>2018-05-30 07:00:00</td>\n",
       "      <td>2018-05-30 08:00:00</td>\n",
       "      <td>1.0</td>\n",
       "      <td>38.71844</td>\n",
       "      <td>-121.29042</td>\n",
       "    </tr>\n",
       "    <tr>\n",
       "      <th>1</th>\n",
       "      <td>3433</td>\n",
       "      <td>3433</td>\n",
       "      <td>1</td>\n",
       "      <td>CH0</td>\n",
       "      <td>2018-05-30</td>\n",
       "      <td>Wednesday</td>\n",
       "      <td>8:00 AM</td>\n",
       "      <td>9:00 AM</td>\n",
       "      <td>4</td>\n",
       "      <td>N</td>\n",
       "      <td>...</td>\n",
       "      <td>Week Day</td>\n",
       "      <td>08:00:00</td>\n",
       "      <td>09:00:00</td>\n",
       "      <td>NaN</td>\n",
       "      <td>NaN</td>\n",
       "      <td>2018-05-30 08:00:00</td>\n",
       "      <td>2018-05-30 09:00:00</td>\n",
       "      <td>1.0</td>\n",
       "      <td>38.71844</td>\n",
       "      <td>-121.29042</td>\n",
       "    </tr>\n",
       "    <tr>\n",
       "      <th>2</th>\n",
       "      <td>3438</td>\n",
       "      <td>3438</td>\n",
       "      <td>6</td>\n",
       "      <td>CH0</td>\n",
       "      <td>2018-05-30</td>\n",
       "      <td>Wednesday</td>\n",
       "      <td>7:00 AM</td>\n",
       "      <td>8:00 AM</td>\n",
       "      <td>1</td>\n",
       "      <td>E</td>\n",
       "      <td>...</td>\n",
       "      <td>Week Day</td>\n",
       "      <td>07:00:00</td>\n",
       "      <td>08:00:00</td>\n",
       "      <td>NaN</td>\n",
       "      <td>NaN</td>\n",
       "      <td>2018-05-30 07:00:00</td>\n",
       "      <td>2018-05-30 08:00:00</td>\n",
       "      <td>1.0</td>\n",
       "      <td>38.71844</td>\n",
       "      <td>-121.29042</td>\n",
       "    </tr>\n",
       "    <tr>\n",
       "      <th>3</th>\n",
       "      <td>3442</td>\n",
       "      <td>3442</td>\n",
       "      <td>10</td>\n",
       "      <td>CH0</td>\n",
       "      <td>2018-05-30</td>\n",
       "      <td>Wednesday</td>\n",
       "      <td>7:00 AM</td>\n",
       "      <td>8:00 AM</td>\n",
       "      <td>3</td>\n",
       "      <td>S</td>\n",
       "      <td>...</td>\n",
       "      <td>Week Day</td>\n",
       "      <td>07:00:00</td>\n",
       "      <td>08:00:00</td>\n",
       "      <td>NaN</td>\n",
       "      <td>NaN</td>\n",
       "      <td>2018-05-30 07:00:00</td>\n",
       "      <td>2018-05-30 08:00:00</td>\n",
       "      <td>1.0</td>\n",
       "      <td>38.71844</td>\n",
       "      <td>-121.29042</td>\n",
       "    </tr>\n",
       "    <tr>\n",
       "      <th>4</th>\n",
       "      <td>3443</td>\n",
       "      <td>3443</td>\n",
       "      <td>11</td>\n",
       "      <td>CH0</td>\n",
       "      <td>2018-05-30</td>\n",
       "      <td>Wednesday</td>\n",
       "      <td>8:00 AM</td>\n",
       "      <td>9:00 AM</td>\n",
       "      <td>4</td>\n",
       "      <td>S</td>\n",
       "      <td>...</td>\n",
       "      <td>Week Day</td>\n",
       "      <td>08:00:00</td>\n",
       "      <td>09:00:00</td>\n",
       "      <td>NaN</td>\n",
       "      <td>NaN</td>\n",
       "      <td>2018-05-30 08:00:00</td>\n",
       "      <td>2018-05-30 09:00:00</td>\n",
       "      <td>1.0</td>\n",
       "      <td>38.71844</td>\n",
       "      <td>-121.29042</td>\n",
       "    </tr>\n",
       "  </tbody>\n",
       "</table>\n",
       "<p>5 rows × 27 columns</p>\n",
       "</div>"
      ],
      "text/plain": [
       "   Unnamed: 0.2  Unnamed: 0.1  Unnamed: 0   ID        Date Day of Week  \\\n",
       "0          3432          3432           0  CH0  2018-05-30   Wednesday   \n",
       "1          3433          3433           1  CH0  2018-05-30   Wednesday   \n",
       "2          3438          3438           6  CH0  2018-05-30   Wednesday   \n",
       "3          3442          3442          10  CH0  2018-05-30   Wednesday   \n",
       "4          3443          3443          11  CH0  2018-05-30   Wednesday   \n",
       "\n",
       "  Start Time End Time  Count Leg  ... Week Day Status starttime   endtime  \\\n",
       "0    7:00 AM  8:00 AM      4   N  ...        Week Day  07:00:00  08:00:00   \n",
       "1    8:00 AM  9:00 AM      4   N  ...        Week Day  08:00:00  09:00:00   \n",
       "2    7:00 AM  8:00 AM      1   E  ...        Week Day  07:00:00  08:00:00   \n",
       "3    7:00 AM  8:00 AM      3   S  ...        Week Day  07:00:00  08:00:00   \n",
       "4    8:00 AM  9:00 AM      4   S  ...        Week Day  08:00:00  09:00:00   \n",
       "\n",
       "   starttime1  endtime1        startDateTime          endDateTime diff  \\\n",
       "0         NaN       NaN  2018-05-30 07:00:00  2018-05-30 08:00:00  1.0   \n",
       "1         NaN       NaN  2018-05-30 08:00:00  2018-05-30 09:00:00  1.0   \n",
       "2         NaN       NaN  2018-05-30 07:00:00  2018-05-30 08:00:00  1.0   \n",
       "3         NaN       NaN  2018-05-30 07:00:00  2018-05-30 08:00:00  1.0   \n",
       "4         NaN       NaN  2018-05-30 08:00:00  2018-05-30 09:00:00  1.0   \n",
       "\n",
       "        Lat       Long  \n",
       "0  38.71844 -121.29042  \n",
       "1  38.71844 -121.29042  \n",
       "2  38.71844 -121.29042  \n",
       "3  38.71844 -121.29042  \n",
       "4  38.71844 -121.29042  \n",
       "\n",
       "[5 rows x 27 columns]"
      ]
     },
     "execution_count": 71,
     "metadata": {},
     "output_type": "execute_result"
    }
   ],
   "source": [
    "# Now find the short term sites in the weekday where Max_AMI_PMI was not able to calculate due to lack of data\n",
    "common = weekday_hr_data.merge(DV_part1,on=['ID', 'year', 'Leg'])\n",
    "sc_weekday=weekday_hr_data[(~weekday_hr_data.ID.isin(common.ID))]\n",
    "sc_weekday.head()"
   ]
  },
  {
   "cell_type": "code",
   "execution_count": 72,
   "id": "ee6cfe05",
   "metadata": {},
   "outputs": [
    {
     "data": {
      "text/plain": [
       "((28226, 27), (15204, 27), (873, 10))"
      ]
     },
     "execution_count": 72,
     "metadata": {},
     "output_type": "execute_result"
    }
   ],
   "source": [
    "weekday_hr_data.shape, sc_weekday.shape, DV_part1.shape"
   ]
  },
  {
   "cell_type": "code",
   "execution_count": 73,
   "id": "0bcc8900",
   "metadata": {},
   "outputs": [
    {
     "data": {
      "text/plain": [
       "(1992, 570, 1422)"
      ]
     },
     "execution_count": 73,
     "metadata": {},
     "output_type": "execute_result"
    }
   ],
   "source": [
    "weekday_hr_data['ID'].nunique(),DV_part1['ID'].nunique(),sc_weekday['ID'].nunique()"
   ]
  },
  {
   "cell_type": "code",
   "execution_count": 74,
   "id": "e124ef81",
   "metadata": {},
   "outputs": [
    {
     "data": {
      "text/html": [
       "<div>\n",
       "<style scoped>\n",
       "    .dataframe tbody tr th:only-of-type {\n",
       "        vertical-align: middle;\n",
       "    }\n",
       "\n",
       "    .dataframe tbody tr th {\n",
       "        vertical-align: top;\n",
       "    }\n",
       "\n",
       "    .dataframe thead th {\n",
       "        text-align: right;\n",
       "    }\n",
       "</style>\n",
       "<table border=\"1\" class=\"dataframe\">\n",
       "  <thead>\n",
       "    <tr style=\"text-align: right;\">\n",
       "      <th></th>\n",
       "      <th>Unnamed: 0.2</th>\n",
       "      <th>Unnamed: 0.1</th>\n",
       "      <th>Unnamed: 0</th>\n",
       "      <th>ID</th>\n",
       "      <th>Date</th>\n",
       "      <th>Day of Week</th>\n",
       "      <th>Start Time</th>\n",
       "      <th>End Time</th>\n",
       "      <th>Count</th>\n",
       "      <th>Leg</th>\n",
       "      <th>...</th>\n",
       "      <th>Week Day Status</th>\n",
       "      <th>starttime</th>\n",
       "      <th>endtime</th>\n",
       "      <th>starttime1</th>\n",
       "      <th>endtime1</th>\n",
       "      <th>startDateTime</th>\n",
       "      <th>endDateTime</th>\n",
       "      <th>diff</th>\n",
       "      <th>Lat</th>\n",
       "      <th>Long</th>\n",
       "    </tr>\n",
       "  </thead>\n",
       "  <tbody>\n",
       "    <tr>\n",
       "      <th>0</th>\n",
       "      <td>3432</td>\n",
       "      <td>3432</td>\n",
       "      <td>0</td>\n",
       "      <td>CH0</td>\n",
       "      <td>2018-05-30</td>\n",
       "      <td>Wednesday</td>\n",
       "      <td>7:00 AM</td>\n",
       "      <td>8:00 AM</td>\n",
       "      <td>4</td>\n",
       "      <td>N</td>\n",
       "      <td>...</td>\n",
       "      <td>Week Day</td>\n",
       "      <td>07:00:00</td>\n",
       "      <td>08:00:00</td>\n",
       "      <td>NaN</td>\n",
       "      <td>NaN</td>\n",
       "      <td>2018-05-30 07:00:00</td>\n",
       "      <td>2018-05-30 08:00:00</td>\n",
       "      <td>1.0</td>\n",
       "      <td>38.71844</td>\n",
       "      <td>-121.29042</td>\n",
       "    </tr>\n",
       "    <tr>\n",
       "      <th>1</th>\n",
       "      <td>3433</td>\n",
       "      <td>3433</td>\n",
       "      <td>1</td>\n",
       "      <td>CH0</td>\n",
       "      <td>2018-05-30</td>\n",
       "      <td>Wednesday</td>\n",
       "      <td>8:00 AM</td>\n",
       "      <td>9:00 AM</td>\n",
       "      <td>4</td>\n",
       "      <td>N</td>\n",
       "      <td>...</td>\n",
       "      <td>Week Day</td>\n",
       "      <td>08:00:00</td>\n",
       "      <td>09:00:00</td>\n",
       "      <td>NaN</td>\n",
       "      <td>NaN</td>\n",
       "      <td>2018-05-30 08:00:00</td>\n",
       "      <td>2018-05-30 09:00:00</td>\n",
       "      <td>1.0</td>\n",
       "      <td>38.71844</td>\n",
       "      <td>-121.29042</td>\n",
       "    </tr>\n",
       "    <tr>\n",
       "      <th>2</th>\n",
       "      <td>3438</td>\n",
       "      <td>3438</td>\n",
       "      <td>6</td>\n",
       "      <td>CH0</td>\n",
       "      <td>2018-05-30</td>\n",
       "      <td>Wednesday</td>\n",
       "      <td>7:00 AM</td>\n",
       "      <td>8:00 AM</td>\n",
       "      <td>1</td>\n",
       "      <td>E</td>\n",
       "      <td>...</td>\n",
       "      <td>Week Day</td>\n",
       "      <td>07:00:00</td>\n",
       "      <td>08:00:00</td>\n",
       "      <td>NaN</td>\n",
       "      <td>NaN</td>\n",
       "      <td>2018-05-30 07:00:00</td>\n",
       "      <td>2018-05-30 08:00:00</td>\n",
       "      <td>1.0</td>\n",
       "      <td>38.71844</td>\n",
       "      <td>-121.29042</td>\n",
       "    </tr>\n",
       "    <tr>\n",
       "      <th>3</th>\n",
       "      <td>3442</td>\n",
       "      <td>3442</td>\n",
       "      <td>10</td>\n",
       "      <td>CH0</td>\n",
       "      <td>2018-05-30</td>\n",
       "      <td>Wednesday</td>\n",
       "      <td>7:00 AM</td>\n",
       "      <td>8:00 AM</td>\n",
       "      <td>3</td>\n",
       "      <td>S</td>\n",
       "      <td>...</td>\n",
       "      <td>Week Day</td>\n",
       "      <td>07:00:00</td>\n",
       "      <td>08:00:00</td>\n",
       "      <td>NaN</td>\n",
       "      <td>NaN</td>\n",
       "      <td>2018-05-30 07:00:00</td>\n",
       "      <td>2018-05-30 08:00:00</td>\n",
       "      <td>1.0</td>\n",
       "      <td>38.71844</td>\n",
       "      <td>-121.29042</td>\n",
       "    </tr>\n",
       "    <tr>\n",
       "      <th>4</th>\n",
       "      <td>3443</td>\n",
       "      <td>3443</td>\n",
       "      <td>11</td>\n",
       "      <td>CH0</td>\n",
       "      <td>2018-05-30</td>\n",
       "      <td>Wednesday</td>\n",
       "      <td>8:00 AM</td>\n",
       "      <td>9:00 AM</td>\n",
       "      <td>4</td>\n",
       "      <td>S</td>\n",
       "      <td>...</td>\n",
       "      <td>Week Day</td>\n",
       "      <td>08:00:00</td>\n",
       "      <td>09:00:00</td>\n",
       "      <td>NaN</td>\n",
       "      <td>NaN</td>\n",
       "      <td>2018-05-30 08:00:00</td>\n",
       "      <td>2018-05-30 09:00:00</td>\n",
       "      <td>1.0</td>\n",
       "      <td>38.71844</td>\n",
       "      <td>-121.29042</td>\n",
       "    </tr>\n",
       "  </tbody>\n",
       "</table>\n",
       "<p>5 rows × 27 columns</p>\n",
       "</div>"
      ],
      "text/plain": [
       "   Unnamed: 0.2  Unnamed: 0.1  Unnamed: 0   ID        Date Day of Week  \\\n",
       "0          3432          3432           0  CH0  2018-05-30   Wednesday   \n",
       "1          3433          3433           1  CH0  2018-05-30   Wednesday   \n",
       "2          3438          3438           6  CH0  2018-05-30   Wednesday   \n",
       "3          3442          3442          10  CH0  2018-05-30   Wednesday   \n",
       "4          3443          3443          11  CH0  2018-05-30   Wednesday   \n",
       "\n",
       "  Start Time End Time  Count Leg  ... Week Day Status starttime   endtime  \\\n",
       "0    7:00 AM  8:00 AM      4   N  ...        Week Day  07:00:00  08:00:00   \n",
       "1    8:00 AM  9:00 AM      4   N  ...        Week Day  08:00:00  09:00:00   \n",
       "2    7:00 AM  8:00 AM      1   E  ...        Week Day  07:00:00  08:00:00   \n",
       "3    7:00 AM  8:00 AM      3   S  ...        Week Day  07:00:00  08:00:00   \n",
       "4    8:00 AM  9:00 AM      4   S  ...        Week Day  08:00:00  09:00:00   \n",
       "\n",
       "   starttime1  endtime1        startDateTime          endDateTime diff  \\\n",
       "0         NaN       NaN  2018-05-30 07:00:00  2018-05-30 08:00:00  1.0   \n",
       "1         NaN       NaN  2018-05-30 08:00:00  2018-05-30 09:00:00  1.0   \n",
       "2         NaN       NaN  2018-05-30 07:00:00  2018-05-30 08:00:00  1.0   \n",
       "3         NaN       NaN  2018-05-30 07:00:00  2018-05-30 08:00:00  1.0   \n",
       "4         NaN       NaN  2018-05-30 08:00:00  2018-05-30 09:00:00  1.0   \n",
       "\n",
       "        Lat       Long  \n",
       "0  38.71844 -121.29042  \n",
       "1  38.71844 -121.29042  \n",
       "2  38.71844 -121.29042  \n",
       "3  38.71844 -121.29042  \n",
       "4  38.71844 -121.29042  \n",
       "\n",
       "[5 rows x 27 columns]"
      ]
     },
     "execution_count": 74,
     "metadata": {},
     "output_type": "execute_result"
    }
   ],
   "source": [
    "sc_weekday.head()"
   ]
  },
  {
   "cell_type": "code",
   "execution_count": 75,
   "id": "8a997071",
   "metadata": {},
   "outputs": [
    {
     "data": {
      "text/html": [
       "<div>\n",
       "<style scoped>\n",
       "    .dataframe tbody tr th:only-of-type {\n",
       "        vertical-align: middle;\n",
       "    }\n",
       "\n",
       "    .dataframe tbody tr th {\n",
       "        vertical-align: top;\n",
       "    }\n",
       "\n",
       "    .dataframe thead th {\n",
       "        text-align: right;\n",
       "    }\n",
       "</style>\n",
       "<table border=\"1\" class=\"dataframe\">\n",
       "  <thead>\n",
       "    <tr style=\"text-align: right;\">\n",
       "      <th></th>\n",
       "      <th>Unnamed: 0</th>\n",
       "      <th>ID</th>\n",
       "      <th>Leg</th>\n",
       "      <th>year</th>\n",
       "      <th>Lat</th>\n",
       "      <th>Long</th>\n",
       "      <th>edgeUID</th>\n",
       "      <th>osmId</th>\n",
       "      <th>stv_total</th>\n",
       "      <th>stv_com_total</th>\n",
       "      <th>stv_rec_total</th>\n",
       "      <th>stv_com_ratio</th>\n",
       "      <th>stv_rec_ratio</th>\n",
       "    </tr>\n",
       "  </thead>\n",
       "  <tbody>\n",
       "    <tr>\n",
       "      <th>0</th>\n",
       "      <td>0</td>\n",
       "      <td>CH33</td>\n",
       "      <td>N</td>\n",
       "      <td>2016.0</td>\n",
       "      <td>38.69575</td>\n",
       "      <td>-121.26919</td>\n",
       "      <td>310797458.0</td>\n",
       "      <td>10507917.0</td>\n",
       "      <td>60.0</td>\n",
       "      <td>15.0</td>\n",
       "      <td>45.0</td>\n",
       "      <td>NaN</td>\n",
       "      <td>0.750000</td>\n",
       "    </tr>\n",
       "    <tr>\n",
       "      <th>1</th>\n",
       "      <td>1</td>\n",
       "      <td>CH34</td>\n",
       "      <td>N</td>\n",
       "      <td>2016.0</td>\n",
       "      <td>38.70045</td>\n",
       "      <td>-121.26244</td>\n",
       "      <td>310798228.0</td>\n",
       "      <td>530730915.0</td>\n",
       "      <td>955.0</td>\n",
       "      <td>320.0</td>\n",
       "      <td>635.0</td>\n",
       "      <td>NaN</td>\n",
       "      <td>0.664921</td>\n",
       "    </tr>\n",
       "    <tr>\n",
       "      <th>2</th>\n",
       "      <td>2</td>\n",
       "      <td>CH35</td>\n",
       "      <td>N</td>\n",
       "      <td>2016.0</td>\n",
       "      <td>38.66973</td>\n",
       "      <td>-121.28464</td>\n",
       "      <td>310670023.0</td>\n",
       "      <td>965928012.0</td>\n",
       "      <td>170.0</td>\n",
       "      <td>25.0</td>\n",
       "      <td>145.0</td>\n",
       "      <td>NaN</td>\n",
       "      <td>0.852941</td>\n",
       "    </tr>\n",
       "    <tr>\n",
       "      <th>3</th>\n",
       "      <td>3</td>\n",
       "      <td>CH36</td>\n",
       "      <td>N</td>\n",
       "      <td>2016.0</td>\n",
       "      <td>38.66382</td>\n",
       "      <td>-121.28461</td>\n",
       "      <td>310669935.0</td>\n",
       "      <td>10500789.0</td>\n",
       "      <td>30.0</td>\n",
       "      <td>15.0</td>\n",
       "      <td>15.0</td>\n",
       "      <td>NaN</td>\n",
       "      <td>0.500000</td>\n",
       "    </tr>\n",
       "    <tr>\n",
       "      <th>4</th>\n",
       "      <td>4</td>\n",
       "      <td>CH37</td>\n",
       "      <td>N</td>\n",
       "      <td>2016.0</td>\n",
       "      <td>38.70046</td>\n",
       "      <td>-121.25426</td>\n",
       "      <td>310798370.0</td>\n",
       "      <td>530730915.0</td>\n",
       "      <td>980.0</td>\n",
       "      <td>295.0</td>\n",
       "      <td>685.0</td>\n",
       "      <td>NaN</td>\n",
       "      <td>0.698980</td>\n",
       "    </tr>\n",
       "    <tr>\n",
       "      <th>5</th>\n",
       "      <td>5</td>\n",
       "      <td>CH38</td>\n",
       "      <td>N</td>\n",
       "      <td>2016.0</td>\n",
       "      <td>38.70379</td>\n",
       "      <td>-121.27187</td>\n",
       "      <td>310797633.0</td>\n",
       "      <td>493808104.0</td>\n",
       "      <td>340.0</td>\n",
       "      <td>100.0</td>\n",
       "      <td>240.0</td>\n",
       "      <td>NaN</td>\n",
       "      <td>0.705882</td>\n",
       "    </tr>\n",
       "    <tr>\n",
       "      <th>6</th>\n",
       "      <td>6</td>\n",
       "      <td>CH39</td>\n",
       "      <td>N</td>\n",
       "      <td>2016.0</td>\n",
       "      <td>38.68536</td>\n",
       "      <td>-121.27166</td>\n",
       "      <td>310795653.0</td>\n",
       "      <td>978662300.0</td>\n",
       "      <td>25.0</td>\n",
       "      <td>5.0</td>\n",
       "      <td>20.0</td>\n",
       "      <td>NaN</td>\n",
       "      <td>0.800000</td>\n",
       "    </tr>\n",
       "    <tr>\n",
       "      <th>7</th>\n",
       "      <td>7</td>\n",
       "      <td>CH40</td>\n",
       "      <td>N</td>\n",
       "      <td>2016.0</td>\n",
       "      <td>38.70581</td>\n",
       "      <td>-121.25678</td>\n",
       "      <td>310798646.0</td>\n",
       "      <td>10500385.0</td>\n",
       "      <td>100.0</td>\n",
       "      <td>10.0</td>\n",
       "      <td>90.0</td>\n",
       "      <td>NaN</td>\n",
       "      <td>0.900000</td>\n",
       "    </tr>\n",
       "  </tbody>\n",
       "</table>\n",
       "</div>"
      ],
      "text/plain": [
       "   Unnamed: 0    ID Leg    year       Lat       Long      edgeUID  \\\n",
       "0           0  CH33   N  2016.0  38.69575 -121.26919  310797458.0   \n",
       "1           1  CH34   N  2016.0  38.70045 -121.26244  310798228.0   \n",
       "2           2  CH35   N  2016.0  38.66973 -121.28464  310670023.0   \n",
       "3           3  CH36   N  2016.0  38.66382 -121.28461  310669935.0   \n",
       "4           4  CH37   N  2016.0  38.70046 -121.25426  310798370.0   \n",
       "5           5  CH38   N  2016.0  38.70379 -121.27187  310797633.0   \n",
       "6           6  CH39   N  2016.0  38.68536 -121.27166  310795653.0   \n",
       "7           7  CH40   N  2016.0  38.70581 -121.25678  310798646.0   \n",
       "\n",
       "         osmId  stv_total  stv_com_total  stv_rec_total  stv_com_ratio  \\\n",
       "0   10507917.0       60.0           15.0           45.0            NaN   \n",
       "1  530730915.0      955.0          320.0          635.0            NaN   \n",
       "2  965928012.0      170.0           25.0          145.0            NaN   \n",
       "3   10500789.0       30.0           15.0           15.0            NaN   \n",
       "4  530730915.0      980.0          295.0          685.0            NaN   \n",
       "5  493808104.0      340.0          100.0          240.0            NaN   \n",
       "6  978662300.0       25.0            5.0           20.0            NaN   \n",
       "7   10500385.0      100.0           10.0           90.0            NaN   \n",
       "\n",
       "   stv_rec_ratio  \n",
       "0       0.750000  \n",
       "1       0.664921  \n",
       "2       0.852941  \n",
       "3       0.500000  \n",
       "4       0.698980  \n",
       "5       0.705882  \n",
       "6       0.800000  \n",
       "7       0.900000  "
      ]
     },
     "execution_count": 75,
     "metadata": {},
     "output_type": "execute_result"
    }
   ],
   "source": [
    "# read Strava recreation ratio data for corresponding short term sites\n",
    "sc_stv=pd.read_csv('C:/UC Berkeley Project Backup/Bike_ped Exposure Model Project/Processed Data/sc_stv_2016_2019.csv')\n",
    "sc_stv.head(8)"
   ]
  },
  {
   "cell_type": "code",
   "execution_count": 76,
   "id": "224d9522",
   "metadata": {},
   "outputs": [],
   "source": [
    "# Calculate the populationden\n",
    "count_sites=sc_stv\n",
    "# Use Dr. Frank Code to get population density for each location of the counter within buffer\n",
    "count_sites['geometry'] = gpd.points_from_xy(count_sites.Long, count_sites.Lat)\n",
    "count_sites = gpd.GeoDataFrame(count_sites, geometry='geometry', crs='EPSG:4326')\n",
    "# project the data for geographic analysis\n",
    "count_sites = count_sites.to_crs(3310)"
   ]
  },
  {
   "cell_type": "code",
   "execution_count": 77,
   "id": "578172b7",
   "metadata": {},
   "outputs": [],
   "source": [
    "# Calculate the CBD Distance\n",
    "## Try to pull whole CA state Network using polygon\n",
    "# ca_poly=gpd.read_file('H:/Desktop/AT Census/OSM Bike Network/ca-state-boundary/CA_State_TIGER2016.shp',encoding='utf-8')\n",
    "# ca_poly2=gpd.GeoDataFrame(ca_poly, geometry='geometry', crs='EPSG:3857')\n",
    "# one_mile=1609.34\n",
    "# ca_poly2['geometry'] = ca_poly2['geometry'].buffer(one_mile)\n",
    "# ca_poly3=ca_poly2.to_crs(\"epsg:4326\")\n",
    "# polygon=ca_poly3.loc[0,'geometry']\n",
    "# polygon"
   ]
  },
  {
   "cell_type": "code",
   "execution_count": 78,
   "id": "61c148ed",
   "metadata": {},
   "outputs": [],
   "source": [
    "# Calculate the CBD distance\n",
    "#https://wiki.openstreetmap.org/wiki/Tag:amenity%3Dtownhall\n",
    "# Import University\n",
    "# tags = {'office': 'government'}\n",
    "# city_hall = ox.geometries_from_polygon(polygon, tags)\n",
    "# city_proj = city_hall.to_crs(epsg=3310)"
   ]
  },
  {
   "cell_type": "code",
   "execution_count": 79,
   "id": "9ef2afc5",
   "metadata": {},
   "outputs": [],
   "source": [
    "# Consider the rows that have city hall\n",
    "# city_proj1 = city_proj[city_proj['name'].str.contains('City Hall', regex=False, case=False, na=False)]\n",
    "# city_proj2 = city_proj[city_proj['name'].str.contains('Town Hall', regex=False, case=False, na=False)]\n",
    "# city_proj3 = city_proj[city_proj['name'].str.contains('Civic Center', regex=False, case=False, na=False)]\n",
    "# city_proj4 = city_proj[city_proj['name'].str.contains('Administration Building', regex=False, case=False, na=False)]\n",
    "# city_proj5=pd.concat([city_proj1,city_proj2,city_proj3,city_proj4]).reset_index()\n",
    "# city_proj5.head(2)"
   ]
  },
  {
   "cell_type": "code",
   "execution_count": 80,
   "id": "e602d3c0",
   "metadata": {},
   "outputs": [],
   "source": [
    "# Distance to CBD\n",
    "# count_sites['CBD Distance'] = count_sites.geometry.apply(min_distance_ppoly, args=(city_proj5,))*0.000621371\n",
    "# count_sites=count_sites.reset_index()\n",
    "# count_sites.head(2)"
   ]
  },
  {
   "cell_type": "code",
   "execution_count": 81,
   "id": "8190da44",
   "metadata": {},
   "outputs": [],
   "source": [
    "# count_sites['CBD Distance'].isnull().sum()"
   ]
  },
  {
   "cell_type": "code",
   "execution_count": 82,
   "id": "5a1d6bc2",
   "metadata": {},
   "outputs": [
    {
     "data": {
      "text/html": [
       "<div>\n",
       "<style scoped>\n",
       "    .dataframe tbody tr th:only-of-type {\n",
       "        vertical-align: middle;\n",
       "    }\n",
       "\n",
       "    .dataframe tbody tr th {\n",
       "        vertical-align: top;\n",
       "    }\n",
       "\n",
       "    .dataframe thead th {\n",
       "        text-align: right;\n",
       "    }\n",
       "</style>\n",
       "<table border=\"1\" class=\"dataframe\">\n",
       "  <thead>\n",
       "    <tr style=\"text-align: right;\">\n",
       "      <th></th>\n",
       "      <th>GISJOIN</th>\n",
       "      <th>STATEFP</th>\n",
       "      <th>COUNTYFP</th>\n",
       "      <th>TRACTCE</th>\n",
       "      <th>BLKGRPCE</th>\n",
       "      <th>NAMELSAD</th>\n",
       "      <th>MTFCC</th>\n",
       "      <th>FUNCSTAT</th>\n",
       "      <th>ALAND</th>\n",
       "      <th>AWATER</th>\n",
       "      <th>INTPTLAT</th>\n",
       "      <th>INTPTLON</th>\n",
       "      <th>Shape_Leng</th>\n",
       "      <th>Shape_Area</th>\n",
       "      <th>geometry</th>\n",
       "      <th>aland_sqmi</th>\n",
       "    </tr>\n",
       "    <tr>\n",
       "      <th>GEOID</th>\n",
       "      <th></th>\n",
       "      <th></th>\n",
       "      <th></th>\n",
       "      <th></th>\n",
       "      <th></th>\n",
       "      <th></th>\n",
       "      <th></th>\n",
       "      <th></th>\n",
       "      <th></th>\n",
       "      <th></th>\n",
       "      <th></th>\n",
       "      <th></th>\n",
       "      <th></th>\n",
       "      <th></th>\n",
       "      <th></th>\n",
       "      <th></th>\n",
       "    </tr>\n",
       "  </thead>\n",
       "  <tbody>\n",
       "    <tr>\n",
       "      <th>060014001001</th>\n",
       "      <td>G06000104001001</td>\n",
       "      <td>06</td>\n",
       "      <td>001</td>\n",
       "      <td>400100</td>\n",
       "      <td>1</td>\n",
       "      <td>Block Group 1</td>\n",
       "      <td>G5030</td>\n",
       "      <td>S</td>\n",
       "      <td>6894339.0</td>\n",
       "      <td>0.0</td>\n",
       "      <td>+37.8676275</td>\n",
       "      <td>-122.2319460</td>\n",
       "      <td>14302.721555</td>\n",
       "      <td>6.894335e+06</td>\n",
       "      <td>POLYGON ((-2255602.272 353149.335, -2255597.39...</td>\n",
       "      <td>2.663058</td>\n",
       "    </tr>\n",
       "    <tr>\n",
       "      <th>060014002001</th>\n",
       "      <td>G06000104002001</td>\n",
       "      <td>06</td>\n",
       "      <td>001</td>\n",
       "      <td>400200</td>\n",
       "      <td>1</td>\n",
       "      <td>Block Group 1</td>\n",
       "      <td>G5030</td>\n",
       "      <td>S</td>\n",
       "      <td>288069.0</td>\n",
       "      <td>0.0</td>\n",
       "      <td>+37.8497451</td>\n",
       "      <td>-122.2488478</td>\n",
       "      <td>2971.010308</td>\n",
       "      <td>2.880696e+05</td>\n",
       "      <td>POLYGON ((-2258184.246 353217.527, -2258186.81...</td>\n",
       "      <td>0.111272</td>\n",
       "    </tr>\n",
       "  </tbody>\n",
       "</table>\n",
       "</div>"
      ],
      "text/plain": [
       "                      GISJOIN STATEFP COUNTYFP TRACTCE BLKGRPCE  \\\n",
       "GEOID                                                             \n",
       "060014001001  G06000104001001      06      001  400100        1   \n",
       "060014002001  G06000104002001      06      001  400200        1   \n",
       "\n",
       "                   NAMELSAD  MTFCC FUNCSTAT      ALAND  AWATER     INTPTLAT  \\\n",
       "GEOID                                                                         \n",
       "060014001001  Block Group 1  G5030        S  6894339.0     0.0  +37.8676275   \n",
       "060014002001  Block Group 1  G5030        S   288069.0     0.0  +37.8497451   \n",
       "\n",
       "                  INTPTLON    Shape_Leng    Shape_Area  \\\n",
       "GEOID                                                    \n",
       "060014001001  -122.2319460  14302.721555  6.894335e+06   \n",
       "060014002001  -122.2488478   2971.010308  2.880696e+05   \n",
       "\n",
       "                                                       geometry  aland_sqmi  \n",
       "GEOID                                                                        \n",
       "060014001001  POLYGON ((-2255602.272 353149.335, -2255597.39...    2.663058  \n",
       "060014002001  POLYGON ((-2258184.246 353217.527, -2258186.81...    0.111272  "
      ]
     },
     "execution_count": 82,
     "metadata": {},
     "output_type": "execute_result"
    }
   ],
   "source": [
    "#read Block group\n",
    "block_groups_CA = gpd.read_file('C:/UC Berkeley Project Backup/Bike_ped Exposure Model Project/Block_Gp/nhgis0101_shape/nhgis0101_shape/nhgis0101_shapefile_tl2019_060_blck_grp_2019/CA_blck_grp_2019.shp')\n",
    "block_groups_Ne=  gpd.read_file('C:/UC Berkeley Project Backup/Bike_ped Exposure Model Project/Block_Gp/nhgis0101_shape/nhgis0101_shape/nhgis0101_shapefile_tl2019_320_blck_grp_2019/NV_blck_grp_2019.shp')\n",
    "block_groups=pd.concat([block_groups_CA,block_groups_Ne],axis=0).set_index('GEOID')\n",
    "block_groups['aland_sqmi'] = block_groups['ALAND'] / (1609.*1609.)\n",
    "block_groups.head(2)"
   ]
  },
  {
   "cell_type": "code",
   "execution_count": 83,
   "id": "7673a830",
   "metadata": {},
   "outputs": [
    {
     "data": {
      "text/html": [
       "<div>\n",
       "<style scoped>\n",
       "    .dataframe tbody tr th:only-of-type {\n",
       "        vertical-align: middle;\n",
       "    }\n",
       "\n",
       "    .dataframe tbody tr th {\n",
       "        vertical-align: top;\n",
       "    }\n",
       "\n",
       "    .dataframe thead th {\n",
       "        text-align: right;\n",
       "    }\n",
       "</style>\n",
       "<table border=\"1\" class=\"dataframe\">\n",
       "  <thead>\n",
       "    <tr style=\"text-align: right;\">\n",
       "      <th></th>\n",
       "      <th>GISJOIN</th>\n",
       "      <th>YEAR</th>\n",
       "      <th>STUSAB</th>\n",
       "      <th>REGIONA</th>\n",
       "      <th>DIVISIONA</th>\n",
       "      <th>STATE</th>\n",
       "      <th>STATEA</th>\n",
       "      <th>COUNTY</th>\n",
       "      <th>COUNTYA</th>\n",
       "      <th>COUSUBA</th>\n",
       "      <th>...</th>\n",
       "      <th>SDUNIA</th>\n",
       "      <th>PCI</th>\n",
       "      <th>PUMAA</th>\n",
       "      <th>GEOID</th>\n",
       "      <th>BTTRA</th>\n",
       "      <th>BTBGA</th>\n",
       "      <th>NAME_E</th>\n",
       "      <th>pop</th>\n",
       "      <th>NAME_M</th>\n",
       "      <th>ALUBM001</th>\n",
       "    </tr>\n",
       "    <tr>\n",
       "      <th>geoid</th>\n",
       "      <th></th>\n",
       "      <th></th>\n",
       "      <th></th>\n",
       "      <th></th>\n",
       "      <th></th>\n",
       "      <th></th>\n",
       "      <th></th>\n",
       "      <th></th>\n",
       "      <th></th>\n",
       "      <th></th>\n",
       "      <th></th>\n",
       "      <th></th>\n",
       "      <th></th>\n",
       "      <th></th>\n",
       "      <th></th>\n",
       "      <th></th>\n",
       "      <th></th>\n",
       "      <th></th>\n",
       "      <th></th>\n",
       "      <th></th>\n",
       "      <th></th>\n",
       "    </tr>\n",
       "  </thead>\n",
       "  <tbody>\n",
       "    <tr>\n",
       "      <th>060014001001</th>\n",
       "      <td>G06000104001001</td>\n",
       "      <td>2015-2019</td>\n",
       "      <td>CA</td>\n",
       "      <td>NaN</td>\n",
       "      <td>NaN</td>\n",
       "      <td>California</td>\n",
       "      <td>6</td>\n",
       "      <td>Alameda County</td>\n",
       "      <td>1</td>\n",
       "      <td>NaN</td>\n",
       "      <td>...</td>\n",
       "      <td>NaN</td>\n",
       "      <td>NaN</td>\n",
       "      <td>NaN</td>\n",
       "      <td>15000US060014001001</td>\n",
       "      <td>NaN</td>\n",
       "      <td>NaN</td>\n",
       "      <td>Block Group 1, Census Tract 4001, Alameda Coun...</td>\n",
       "      <td>3120</td>\n",
       "      <td>Block Group 1, Census Tract 4001, Alameda Coun...</td>\n",
       "      <td>208</td>\n",
       "    </tr>\n",
       "    <tr>\n",
       "      <th>060014002001</th>\n",
       "      <td>G06000104002001</td>\n",
       "      <td>2015-2019</td>\n",
       "      <td>CA</td>\n",
       "      <td>NaN</td>\n",
       "      <td>NaN</td>\n",
       "      <td>California</td>\n",
       "      <td>6</td>\n",
       "      <td>Alameda County</td>\n",
       "      <td>1</td>\n",
       "      <td>NaN</td>\n",
       "      <td>...</td>\n",
       "      <td>NaN</td>\n",
       "      <td>NaN</td>\n",
       "      <td>NaN</td>\n",
       "      <td>15000US060014002001</td>\n",
       "      <td>NaN</td>\n",
       "      <td>NaN</td>\n",
       "      <td>Block Group 1, Census Tract 4002, Alameda Coun...</td>\n",
       "      <td>990</td>\n",
       "      <td>Block Group 1, Census Tract 4002, Alameda Coun...</td>\n",
       "      <td>138</td>\n",
       "    </tr>\n",
       "  </tbody>\n",
       "</table>\n",
       "<p>2 rows × 45 columns</p>\n",
       "</div>"
      ],
      "text/plain": [
       "                      GISJOIN       YEAR STUSAB  REGIONA  DIVISIONA  \\\n",
       "geoid                                                                 \n",
       "060014001001  G06000104001001  2015-2019     CA      NaN        NaN   \n",
       "060014002001  G06000104002001  2015-2019     CA      NaN        NaN   \n",
       "\n",
       "                   STATE  STATEA          COUNTY  COUNTYA  COUSUBA  ...  \\\n",
       "geoid                                                               ...   \n",
       "060014001001  California       6  Alameda County        1      NaN  ...   \n",
       "060014002001  California       6  Alameda County        1      NaN  ...   \n",
       "\n",
       "              SDUNIA  PCI  PUMAA                GEOID  BTTRA  BTBGA  \\\n",
       "geoid                                                                 \n",
       "060014001001     NaN  NaN    NaN  15000US060014001001    NaN    NaN   \n",
       "060014002001     NaN  NaN    NaN  15000US060014002001    NaN    NaN   \n",
       "\n",
       "                                                         NAME_E   pop  \\\n",
       "geoid                                                                   \n",
       "060014001001  Block Group 1, Census Tract 4001, Alameda Coun...  3120   \n",
       "060014002001  Block Group 1, Census Tract 4002, Alameda Coun...   990   \n",
       "\n",
       "                                                         NAME_M  ALUBM001  \n",
       "geoid                                                                      \n",
       "060014001001  Block Group 1, Census Tract 4001, Alameda Coun...       208  \n",
       "060014002001  Block Group 1, Census Tract 4002, Alameda Coun...       138  \n",
       "\n",
       "[2 rows x 45 columns]"
      ]
     },
     "execution_count": 83,
     "metadata": {},
     "output_type": "execute_result"
    }
   ],
   "source": [
    "bg_pop = pd.read_csv('C:/UC Berkeley Project Backup/Bike_ped Exposure Model Project/Block_Gp/pop/nhgis0102_csv/nhgis0102_ds244_20195_blck_grp.csv')\n",
    "bg_pop['geoid'] = bg_pop['GEOID'].str[7:]\n",
    "bg_pop = bg_pop.set_index('geoid')\n",
    "bg_pop = bg_pop.rename(columns={'ALUBE001': 'pop'})\n",
    "bg_pop.head(2)"
   ]
  },
  {
   "cell_type": "code",
   "execution_count": 84,
   "id": "d4c90cd3",
   "metadata": {},
   "outputs": [],
   "source": [
    "block_groups = block_groups.join(bg_pop[['pop']])\n",
    "# calculate area-weightd average population density - make this a function if needed\n",
    "count_sites = count_sites.set_index(['ID', 'year'])\n",
    "\n",
    "block_groups['popden'] = block_groups['pop']/block_groups['aland_sqmi']\n",
    "block_groups = block_groups.to_crs(3310)\n",
    "\n",
    "count_sites['buffer_geometry'] = count_sites.buffer(1609.)\n",
    "count_sites = count_sites.set_geometry('buffer_geometry')\n",
    "\n",
    "joined_geos = count_sites[['buffer_geometry']].\\\n",
    "    sjoin(block_groups[['geometry']]).\\\n",
    "    join(block_groups[['geometry']], on='index_right')\n",
    "\n",
    "joined_geos['overlap'] = joined_geos['buffer_geometry'].intersection(joined_geos['geometry']).area\n",
    "\n",
    "joined_geos['overlap_ratio'] = joined_geos['overlap']/(joined_geos['buffer_geometry'].area)\n",
    "\n",
    "joined_geos = joined_geos.join(block_groups[['popden']], on='index_right')\n",
    "\n",
    "joined_geos['weighted_popden'] = joined_geos['overlap_ratio'] * joined_geos['popden']\n",
    "\n",
    "count_sites['popden'] = joined_geos.groupby(['ID', 'year'])['weighted_popden'].sum()"
   ]
  },
  {
   "cell_type": "code",
   "execution_count": 85,
   "id": "88195d83",
   "metadata": {},
   "outputs": [],
   "source": [
    "count_sites = count_sites.set_geometry('geometry').drop(columns='buffer_geometry')"
   ]
  },
  {
   "cell_type": "code",
   "execution_count": 86,
   "id": "c2176e4f",
   "metadata": {},
   "outputs": [
    {
     "data": {
      "text/html": [
       "<div>\n",
       "<style scoped>\n",
       "    .dataframe tbody tr th:only-of-type {\n",
       "        vertical-align: middle;\n",
       "    }\n",
       "\n",
       "    .dataframe tbody tr th {\n",
       "        vertical-align: top;\n",
       "    }\n",
       "\n",
       "    .dataframe thead th {\n",
       "        text-align: right;\n",
       "    }\n",
       "</style>\n",
       "<table border=\"1\" class=\"dataframe\">\n",
       "  <thead>\n",
       "    <tr style=\"text-align: right;\">\n",
       "      <th></th>\n",
       "      <th>ID</th>\n",
       "      <th>year</th>\n",
       "      <th>Unnamed: 0</th>\n",
       "      <th>Leg</th>\n",
       "      <th>Lat</th>\n",
       "      <th>Long</th>\n",
       "      <th>edgeUID</th>\n",
       "      <th>osmId</th>\n",
       "      <th>stv_total</th>\n",
       "      <th>stv_com_total</th>\n",
       "      <th>stv_rec_total</th>\n",
       "      <th>stv_com_ratio</th>\n",
       "      <th>stv_rec_ratio</th>\n",
       "      <th>geometry</th>\n",
       "      <th>popden</th>\n",
       "    </tr>\n",
       "  </thead>\n",
       "  <tbody>\n",
       "    <tr>\n",
       "      <th>0</th>\n",
       "      <td>CH33</td>\n",
       "      <td>2016.0</td>\n",
       "      <td>0</td>\n",
       "      <td>N</td>\n",
       "      <td>38.69575</td>\n",
       "      <td>-121.26919</td>\n",
       "      <td>310797458.0</td>\n",
       "      <td>10507917.0</td>\n",
       "      <td>60.0</td>\n",
       "      <td>15.0</td>\n",
       "      <td>45.0</td>\n",
       "      <td>NaN</td>\n",
       "      <td>0.750000</td>\n",
       "      <td>POINT (-110266.628 76259.750)</td>\n",
       "      <td>5747.314076</td>\n",
       "    </tr>\n",
       "    <tr>\n",
       "      <th>1</th>\n",
       "      <td>CH34</td>\n",
       "      <td>2016.0</td>\n",
       "      <td>1</td>\n",
       "      <td>N</td>\n",
       "      <td>38.70045</td>\n",
       "      <td>-121.26244</td>\n",
       "      <td>310798228.0</td>\n",
       "      <td>530730915.0</td>\n",
       "      <td>955.0</td>\n",
       "      <td>320.0</td>\n",
       "      <td>635.0</td>\n",
       "      <td>NaN</td>\n",
       "      <td>0.664921</td>\n",
       "      <td>POINT (-109673.279 76774.311)</td>\n",
       "      <td>5526.284064</td>\n",
       "    </tr>\n",
       "  </tbody>\n",
       "</table>\n",
       "</div>"
      ],
      "text/plain": [
       "     ID    year  Unnamed: 0 Leg       Lat       Long      edgeUID  \\\n",
       "0  CH33  2016.0           0   N  38.69575 -121.26919  310797458.0   \n",
       "1  CH34  2016.0           1   N  38.70045 -121.26244  310798228.0   \n",
       "\n",
       "         osmId  stv_total  stv_com_total  stv_rec_total  stv_com_ratio  \\\n",
       "0   10507917.0       60.0           15.0           45.0            NaN   \n",
       "1  530730915.0      955.0          320.0          635.0            NaN   \n",
       "\n",
       "   stv_rec_ratio                       geometry       popden  \n",
       "0       0.750000  POINT (-110266.628 76259.750)  5747.314076  \n",
       "1       0.664921  POINT (-109673.279 76774.311)  5526.284064  "
      ]
     },
     "execution_count": 86,
     "metadata": {},
     "output_type": "execute_result"
    }
   ],
   "source": [
    "count_sites=count_sites.reset_index()\n",
    "count_sites.head(2)"
   ]
  },
  {
   "cell_type": "code",
   "execution_count": 87,
   "id": "36fe2456",
   "metadata": {},
   "outputs": [],
   "source": [
    "count_sites.to_csv('C:/UC Berkeley Project Backup/Bike_ped Exposure Model Project/Estimated_Outcomes/Sc_Stv_pop_CBD.csv')"
   ]
  },
  {
   "cell_type": "code",
   "execution_count": 88,
   "id": "3c8fac6c",
   "metadata": {},
   "outputs": [
    {
     "data": {
      "text/html": [
       "<div>\n",
       "<style scoped>\n",
       "    .dataframe tbody tr th:only-of-type {\n",
       "        vertical-align: middle;\n",
       "    }\n",
       "\n",
       "    .dataframe tbody tr th {\n",
       "        vertical-align: top;\n",
       "    }\n",
       "\n",
       "    .dataframe thead th {\n",
       "        text-align: right;\n",
       "    }\n",
       "</style>\n",
       "<table border=\"1\" class=\"dataframe\">\n",
       "  <thead>\n",
       "    <tr style=\"text-align: right;\">\n",
       "      <th></th>\n",
       "      <th>ID</th>\n",
       "      <th>year</th>\n",
       "      <th>Unnamed: 0</th>\n",
       "      <th>Leg</th>\n",
       "      <th>Lat</th>\n",
       "      <th>Long</th>\n",
       "      <th>edgeUID</th>\n",
       "      <th>osmId</th>\n",
       "      <th>stv_total</th>\n",
       "      <th>stv_com_total</th>\n",
       "      <th>stv_rec_total</th>\n",
       "      <th>stv_com_ratio</th>\n",
       "      <th>stv_rec_ratio</th>\n",
       "      <th>geometry</th>\n",
       "      <th>popden</th>\n",
       "    </tr>\n",
       "  </thead>\n",
       "  <tbody>\n",
       "    <tr>\n",
       "      <th>0</th>\n",
       "      <td>CH33</td>\n",
       "      <td>2016.0</td>\n",
       "      <td>0</td>\n",
       "      <td>N</td>\n",
       "      <td>38.69575</td>\n",
       "      <td>-121.26919</td>\n",
       "      <td>310797458.0</td>\n",
       "      <td>10507917.0</td>\n",
       "      <td>60.0</td>\n",
       "      <td>15.0</td>\n",
       "      <td>45.0</td>\n",
       "      <td>NaN</td>\n",
       "      <td>0.750000</td>\n",
       "      <td>POINT (-110266.628 76259.750)</td>\n",
       "      <td>5747.314076</td>\n",
       "    </tr>\n",
       "    <tr>\n",
       "      <th>1</th>\n",
       "      <td>CH34</td>\n",
       "      <td>2016.0</td>\n",
       "      <td>1</td>\n",
       "      <td>N</td>\n",
       "      <td>38.70045</td>\n",
       "      <td>-121.26244</td>\n",
       "      <td>310798228.0</td>\n",
       "      <td>530730915.0</td>\n",
       "      <td>955.0</td>\n",
       "      <td>320.0</td>\n",
       "      <td>635.0</td>\n",
       "      <td>NaN</td>\n",
       "      <td>0.664921</td>\n",
       "      <td>POINT (-109673.279 76774.311)</td>\n",
       "      <td>5526.284064</td>\n",
       "    </tr>\n",
       "    <tr>\n",
       "      <th>2</th>\n",
       "      <td>CH35</td>\n",
       "      <td>2016.0</td>\n",
       "      <td>2</td>\n",
       "      <td>N</td>\n",
       "      <td>38.66973</td>\n",
       "      <td>-121.28464</td>\n",
       "      <td>310670023.0</td>\n",
       "      <td>965928012.0</td>\n",
       "      <td>170.0</td>\n",
       "      <td>25.0</td>\n",
       "      <td>145.0</td>\n",
       "      <td>NaN</td>\n",
       "      <td>0.852941</td>\n",
       "      <td>POINT (-111648.027 73385.817)</td>\n",
       "      <td>6284.000212</td>\n",
       "    </tr>\n",
       "    <tr>\n",
       "      <th>3</th>\n",
       "      <td>CH36</td>\n",
       "      <td>2016.0</td>\n",
       "      <td>3</td>\n",
       "      <td>N</td>\n",
       "      <td>38.66382</td>\n",
       "      <td>-121.28461</td>\n",
       "      <td>310669935.0</td>\n",
       "      <td>10500789.0</td>\n",
       "      <td>30.0</td>\n",
       "      <td>15.0</td>\n",
       "      <td>15.0</td>\n",
       "      <td>NaN</td>\n",
       "      <td>0.500000</td>\n",
       "      <td>POINT (-111654.322 72728.910)</td>\n",
       "      <td>5461.086301</td>\n",
       "    </tr>\n",
       "    <tr>\n",
       "      <th>4</th>\n",
       "      <td>CH37</td>\n",
       "      <td>2016.0</td>\n",
       "      <td>4</td>\n",
       "      <td>N</td>\n",
       "      <td>38.70046</td>\n",
       "      <td>-121.25426</td>\n",
       "      <td>310798370.0</td>\n",
       "      <td>530730915.0</td>\n",
       "      <td>980.0</td>\n",
       "      <td>295.0</td>\n",
       "      <td>685.0</td>\n",
       "      <td>NaN</td>\n",
       "      <td>0.698980</td>\n",
       "      <td>POINT (-108962.669 76765.993)</td>\n",
       "      <td>5112.178477</td>\n",
       "    </tr>\n",
       "  </tbody>\n",
       "</table>\n",
       "</div>"
      ],
      "text/plain": [
       "     ID    year  Unnamed: 0 Leg       Lat       Long      edgeUID  \\\n",
       "0  CH33  2016.0           0   N  38.69575 -121.26919  310797458.0   \n",
       "1  CH34  2016.0           1   N  38.70045 -121.26244  310798228.0   \n",
       "2  CH35  2016.0           2   N  38.66973 -121.28464  310670023.0   \n",
       "3  CH36  2016.0           3   N  38.66382 -121.28461  310669935.0   \n",
       "4  CH37  2016.0           4   N  38.70046 -121.25426  310798370.0   \n",
       "\n",
       "         osmId  stv_total  stv_com_total  stv_rec_total  stv_com_ratio  \\\n",
       "0   10507917.0       60.0           15.0           45.0            NaN   \n",
       "1  530730915.0      955.0          320.0          635.0            NaN   \n",
       "2  965928012.0      170.0           25.0          145.0            NaN   \n",
       "3   10500789.0       30.0           15.0           15.0            NaN   \n",
       "4  530730915.0      980.0          295.0          685.0            NaN   \n",
       "\n",
       "   stv_rec_ratio                       geometry       popden  \n",
       "0       0.750000  POINT (-110266.628 76259.750)  5747.314076  \n",
       "1       0.664921  POINT (-109673.279 76774.311)  5526.284064  \n",
       "2       0.852941  POINT (-111648.027 73385.817)  6284.000212  \n",
       "3       0.500000  POINT (-111654.322 72728.910)  5461.086301  \n",
       "4       0.698980  POINT (-108962.669 76765.993)  5112.178477  "
      ]
     },
     "execution_count": 88,
     "metadata": {},
     "output_type": "execute_result"
    }
   ],
   "source": [
    "# separate 2019 and 2018 data as it has strava \n",
    "#count_sites1=count_sites[(count_sites['year']==2019)|(count_sites['year']==2018)]\n",
    "count_sites1=count_sites\n",
    "count_sites1['stv_rec_ratio'].fillna(0, inplace=True)\n",
    "count_sites1['popden'].fillna(1, inplace=True)\n",
    "count_sites1.head()"
   ]
  },
  {
   "cell_type": "code",
   "execution_count": 89,
   "id": "14556ada",
   "metadata": {},
   "outputs": [
    {
     "data": {
      "text/plain": [
       "0"
      ]
     },
     "execution_count": 89,
     "metadata": {},
     "output_type": "execute_result"
    }
   ],
   "source": [
    "count_sites1['stv_rec_ratio'].isnull().sum()"
   ]
  },
  {
   "cell_type": "code",
   "execution_count": 90,
   "id": "0b907d91",
   "metadata": {},
   "outputs": [
    {
     "data": {
      "text/plain": [
       "2129"
      ]
     },
     "execution_count": 90,
     "metadata": {},
     "output_type": "execute_result"
    }
   ],
   "source": [
    "count_sites1['ID'].nunique()"
   ]
  },
  {
   "cell_type": "markdown",
   "id": "9b705eb9",
   "metadata": {},
   "source": [
    "# Now estimate Weekday Max AMI_PMI \n"
   ]
  },
  {
   "cell_type": "code",
   "execution_count": 91,
   "id": "e47a30a1",
   "metadata": {},
   "outputs": [
    {
     "data": {
      "text/html": [
       "<div>\n",
       "<style scoped>\n",
       "    .dataframe tbody tr th:only-of-type {\n",
       "        vertical-align: middle;\n",
       "    }\n",
       "\n",
       "    .dataframe tbody tr th {\n",
       "        vertical-align: top;\n",
       "    }\n",
       "\n",
       "    .dataframe thead th {\n",
       "        text-align: right;\n",
       "    }\n",
       "</style>\n",
       "<table border=\"1\" class=\"dataframe\">\n",
       "  <thead>\n",
       "    <tr style=\"text-align: right;\">\n",
       "      <th></th>\n",
       "      <th>ID</th>\n",
       "      <th>year</th>\n",
       "      <th>Unnamed: 0</th>\n",
       "      <th>Leg</th>\n",
       "      <th>Lat</th>\n",
       "      <th>Long</th>\n",
       "      <th>edgeUID</th>\n",
       "      <th>osmId</th>\n",
       "      <th>stv_total</th>\n",
       "      <th>stv_com_total</th>\n",
       "      <th>stv_rec_total</th>\n",
       "      <th>stv_com_ratio</th>\n",
       "      <th>stv_rec_ratio</th>\n",
       "      <th>geometry</th>\n",
       "      <th>popden</th>\n",
       "      <th>Max_AMI_PMI</th>\n",
       "    </tr>\n",
       "  </thead>\n",
       "  <tbody>\n",
       "    <tr>\n",
       "      <th>0</th>\n",
       "      <td>CH33</td>\n",
       "      <td>2016.0</td>\n",
       "      <td>0</td>\n",
       "      <td>N</td>\n",
       "      <td>38.69575</td>\n",
       "      <td>-121.26919</td>\n",
       "      <td>310797458.0</td>\n",
       "      <td>10507917.0</td>\n",
       "      <td>60.0</td>\n",
       "      <td>15.0</td>\n",
       "      <td>45.0</td>\n",
       "      <td>NaN</td>\n",
       "      <td>0.750000</td>\n",
       "      <td>POINT (-110266.628 76259.750)</td>\n",
       "      <td>5747.314076</td>\n",
       "      <td>2.565094</td>\n",
       "    </tr>\n",
       "    <tr>\n",
       "      <th>1</th>\n",
       "      <td>CH34</td>\n",
       "      <td>2016.0</td>\n",
       "      <td>1</td>\n",
       "      <td>N</td>\n",
       "      <td>38.70045</td>\n",
       "      <td>-121.26244</td>\n",
       "      <td>310798228.0</td>\n",
       "      <td>530730915.0</td>\n",
       "      <td>955.0</td>\n",
       "      <td>320.0</td>\n",
       "      <td>635.0</td>\n",
       "      <td>NaN</td>\n",
       "      <td>0.664921</td>\n",
       "      <td>POINT (-109673.279 76774.311)</td>\n",
       "      <td>5526.284064</td>\n",
       "      <td>2.917919</td>\n",
       "    </tr>\n",
       "    <tr>\n",
       "      <th>2</th>\n",
       "      <td>CH35</td>\n",
       "      <td>2016.0</td>\n",
       "      <td>2</td>\n",
       "      <td>N</td>\n",
       "      <td>38.66973</td>\n",
       "      <td>-121.28464</td>\n",
       "      <td>310670023.0</td>\n",
       "      <td>965928012.0</td>\n",
       "      <td>170.0</td>\n",
       "      <td>25.0</td>\n",
       "      <td>145.0</td>\n",
       "      <td>NaN</td>\n",
       "      <td>0.852941</td>\n",
       "      <td>POINT (-111648.027 73385.817)</td>\n",
       "      <td>6284.000212</td>\n",
       "      <td>2.103177</td>\n",
       "    </tr>\n",
       "  </tbody>\n",
       "</table>\n",
       "</div>"
      ],
      "text/plain": [
       "     ID    year  Unnamed: 0 Leg       Lat       Long      edgeUID  \\\n",
       "0  CH33  2016.0           0   N  38.69575 -121.26919  310797458.0   \n",
       "1  CH34  2016.0           1   N  38.70045 -121.26244  310798228.0   \n",
       "2  CH35  2016.0           2   N  38.66973 -121.28464  310670023.0   \n",
       "\n",
       "         osmId  stv_total  stv_com_total  stv_rec_total  stv_com_ratio  \\\n",
       "0   10507917.0       60.0           15.0           45.0            NaN   \n",
       "1  530730915.0      955.0          320.0          635.0            NaN   \n",
       "2  965928012.0      170.0           25.0          145.0            NaN   \n",
       "\n",
       "   stv_rec_ratio                       geometry       popden  Max_AMI_PMI  \n",
       "0       0.750000  POINT (-110266.628 76259.750)  5747.314076     2.565094  \n",
       "1       0.664921  POINT (-109673.279 76774.311)  5526.284064     2.917919  \n",
       "2       0.852941  POINT (-111648.027 73385.817)  6284.000212     2.103177  "
      ]
     },
     "execution_count": 91,
     "metadata": {},
     "output_type": "execute_result"
    }
   ],
   "source": [
    "a=3.77571742\n",
    "b= 9.29116576e-05\n",
    "c= -3.10154018e+00\n",
    "count_sites1['Max_AMI_PMI']=a+b*count_sites1['popden']+c*np.power(count_sites1['stv_rec_ratio'],2)\n",
    "count_sites1.head(3)"
   ]
  },
  {
   "cell_type": "code",
   "execution_count": 92,
   "id": "2a501921",
   "metadata": {},
   "outputs": [
    {
     "data": {
      "text/plain": [
       "count    2130.000000\n",
       "mean        2.295837\n",
       "std         1.228000\n",
       "min         0.674576\n",
       "25%         1.191508\n",
       "50%         2.015868\n",
       "75%         3.360500\n",
       "max         6.060179\n",
       "Name: Max_AMI_PMI, dtype: float64"
      ]
     },
     "execution_count": 92,
     "metadata": {},
     "output_type": "execute_result"
    }
   ],
   "source": [
    "count_sites1['Max_AMI_PMI'].describe()"
   ]
  },
  {
   "cell_type": "code",
   "execution_count": 93,
   "id": "bceff6b6",
   "metadata": {},
   "outputs": [],
   "source": [
    "#count_sites2=count_sites[(count_sites['year']==2016)|(count_sites['year']==2017)]\n",
    "count_sites1['popden'].fillna(1, inplace=True)"
   ]
  },
  {
   "cell_type": "code",
   "execution_count": 94,
   "id": "7a90b664",
   "metadata": {},
   "outputs": [],
   "source": [
    "#count_sites1['popden'].isnull().sum(),count_sites1['CBD Distance'].isnull().sum()"
   ]
  },
  {
   "cell_type": "code",
   "execution_count": 95,
   "id": "71b8782a",
   "metadata": {},
   "outputs": [
    {
     "data": {
      "text/plain": [
       "2129"
      ]
     },
     "execution_count": 95,
     "metadata": {},
     "output_type": "execute_result"
    }
   ],
   "source": [
    "count_sites1['ID'].nunique()"
   ]
  },
  {
   "cell_type": "code",
   "execution_count": 96,
   "id": "a803f860",
   "metadata": {},
   "outputs": [],
   "source": [
    "# Strava is missing for 2016 and 2017, therefore,now use Maximum Weekday AMI_PMI= -0.32406+0.03444*√(\"population Density\" ) +𝟎.𝟎𝟒𝟐𝟖𝟑∗𝐥𝐧(𝐃𝐢𝐬𝐭𝐚𝐧𝐜𝐞 𝐭𝐨 𝐂𝐁𝐃 𝐢𝐧 𝐦𝐢𝐥𝐞) to \n",
    "#calculate max AMI_PMI for 2016 and 2017 data \n",
    "#count_sites2=count_sites[(count_sites['year']==2016)|(count_sites['year']==2017)]\n",
    "# a=-0.32406\n",
    "# b=0.03444\n",
    "# c=0.04283\n",
    "# count_sites2['Max_AMI_PMI']=a+b*np.sqrt(count_sites2['popden'])+c*np.log(count_sites2['CBD Distance'])\n",
    "# count_sites2.head()"
   ]
  },
  {
   "cell_type": "code",
   "execution_count": 97,
   "id": "8c9c5ff5",
   "metadata": {},
   "outputs": [],
   "source": [
    "# count_sites1['Max_AMI_PMI'].isnull().sum(), count_sites2['Max_AMI_PMI'].isnull().sum()"
   ]
  },
  {
   "cell_type": "code",
   "execution_count": 98,
   "id": "e61af137",
   "metadata": {},
   "outputs": [
    {
     "data": {
      "text/html": [
       "<div>\n",
       "<style scoped>\n",
       "    .dataframe tbody tr th:only-of-type {\n",
       "        vertical-align: middle;\n",
       "    }\n",
       "\n",
       "    .dataframe tbody tr th {\n",
       "        vertical-align: top;\n",
       "    }\n",
       "\n",
       "    .dataframe thead th {\n",
       "        text-align: right;\n",
       "    }\n",
       "</style>\n",
       "<table border=\"1\" class=\"dataframe\">\n",
       "  <thead>\n",
       "    <tr style=\"text-align: right;\">\n",
       "      <th></th>\n",
       "      <th>Unnamed: 0.2</th>\n",
       "      <th>Unnamed: 0.1</th>\n",
       "      <th>Unnamed: 0</th>\n",
       "      <th>ID</th>\n",
       "      <th>Date</th>\n",
       "      <th>Day of Week</th>\n",
       "      <th>Start Time</th>\n",
       "      <th>End Time</th>\n",
       "      <th>Count</th>\n",
       "      <th>Leg</th>\n",
       "      <th>...</th>\n",
       "      <th>Week Day Status</th>\n",
       "      <th>starttime</th>\n",
       "      <th>endtime</th>\n",
       "      <th>starttime1</th>\n",
       "      <th>endtime1</th>\n",
       "      <th>startDateTime</th>\n",
       "      <th>endDateTime</th>\n",
       "      <th>diff</th>\n",
       "      <th>Lat</th>\n",
       "      <th>Long</th>\n",
       "    </tr>\n",
       "  </thead>\n",
       "  <tbody>\n",
       "    <tr>\n",
       "      <th>0</th>\n",
       "      <td>3432</td>\n",
       "      <td>3432</td>\n",
       "      <td>0</td>\n",
       "      <td>CH0</td>\n",
       "      <td>2018-05-30</td>\n",
       "      <td>Wednesday</td>\n",
       "      <td>7:00 AM</td>\n",
       "      <td>8:00 AM</td>\n",
       "      <td>4</td>\n",
       "      <td>N</td>\n",
       "      <td>...</td>\n",
       "      <td>Week Day</td>\n",
       "      <td>07:00:00</td>\n",
       "      <td>08:00:00</td>\n",
       "      <td>NaN</td>\n",
       "      <td>NaN</td>\n",
       "      <td>2018-05-30 07:00:00</td>\n",
       "      <td>2018-05-30 08:00:00</td>\n",
       "      <td>1.0</td>\n",
       "      <td>38.71844</td>\n",
       "      <td>-121.29042</td>\n",
       "    </tr>\n",
       "    <tr>\n",
       "      <th>1</th>\n",
       "      <td>3433</td>\n",
       "      <td>3433</td>\n",
       "      <td>1</td>\n",
       "      <td>CH0</td>\n",
       "      <td>2018-05-30</td>\n",
       "      <td>Wednesday</td>\n",
       "      <td>8:00 AM</td>\n",
       "      <td>9:00 AM</td>\n",
       "      <td>4</td>\n",
       "      <td>N</td>\n",
       "      <td>...</td>\n",
       "      <td>Week Day</td>\n",
       "      <td>08:00:00</td>\n",
       "      <td>09:00:00</td>\n",
       "      <td>NaN</td>\n",
       "      <td>NaN</td>\n",
       "      <td>2018-05-30 08:00:00</td>\n",
       "      <td>2018-05-30 09:00:00</td>\n",
       "      <td>1.0</td>\n",
       "      <td>38.71844</td>\n",
       "      <td>-121.29042</td>\n",
       "    </tr>\n",
       "    <tr>\n",
       "      <th>2</th>\n",
       "      <td>3438</td>\n",
       "      <td>3438</td>\n",
       "      <td>6</td>\n",
       "      <td>CH0</td>\n",
       "      <td>2018-05-30</td>\n",
       "      <td>Wednesday</td>\n",
       "      <td>7:00 AM</td>\n",
       "      <td>8:00 AM</td>\n",
       "      <td>1</td>\n",
       "      <td>E</td>\n",
       "      <td>...</td>\n",
       "      <td>Week Day</td>\n",
       "      <td>07:00:00</td>\n",
       "      <td>08:00:00</td>\n",
       "      <td>NaN</td>\n",
       "      <td>NaN</td>\n",
       "      <td>2018-05-30 07:00:00</td>\n",
       "      <td>2018-05-30 08:00:00</td>\n",
       "      <td>1.0</td>\n",
       "      <td>38.71844</td>\n",
       "      <td>-121.29042</td>\n",
       "    </tr>\n",
       "    <tr>\n",
       "      <th>3</th>\n",
       "      <td>3442</td>\n",
       "      <td>3442</td>\n",
       "      <td>10</td>\n",
       "      <td>CH0</td>\n",
       "      <td>2018-05-30</td>\n",
       "      <td>Wednesday</td>\n",
       "      <td>7:00 AM</td>\n",
       "      <td>8:00 AM</td>\n",
       "      <td>3</td>\n",
       "      <td>S</td>\n",
       "      <td>...</td>\n",
       "      <td>Week Day</td>\n",
       "      <td>07:00:00</td>\n",
       "      <td>08:00:00</td>\n",
       "      <td>NaN</td>\n",
       "      <td>NaN</td>\n",
       "      <td>2018-05-30 07:00:00</td>\n",
       "      <td>2018-05-30 08:00:00</td>\n",
       "      <td>1.0</td>\n",
       "      <td>38.71844</td>\n",
       "      <td>-121.29042</td>\n",
       "    </tr>\n",
       "    <tr>\n",
       "      <th>4</th>\n",
       "      <td>3443</td>\n",
       "      <td>3443</td>\n",
       "      <td>11</td>\n",
       "      <td>CH0</td>\n",
       "      <td>2018-05-30</td>\n",
       "      <td>Wednesday</td>\n",
       "      <td>8:00 AM</td>\n",
       "      <td>9:00 AM</td>\n",
       "      <td>4</td>\n",
       "      <td>S</td>\n",
       "      <td>...</td>\n",
       "      <td>Week Day</td>\n",
       "      <td>08:00:00</td>\n",
       "      <td>09:00:00</td>\n",
       "      <td>NaN</td>\n",
       "      <td>NaN</td>\n",
       "      <td>2018-05-30 08:00:00</td>\n",
       "      <td>2018-05-30 09:00:00</td>\n",
       "      <td>1.0</td>\n",
       "      <td>38.71844</td>\n",
       "      <td>-121.29042</td>\n",
       "    </tr>\n",
       "  </tbody>\n",
       "</table>\n",
       "<p>5 rows × 27 columns</p>\n",
       "</div>"
      ],
      "text/plain": [
       "   Unnamed: 0.2  Unnamed: 0.1  Unnamed: 0   ID        Date Day of Week  \\\n",
       "0          3432          3432           0  CH0  2018-05-30   Wednesday   \n",
       "1          3433          3433           1  CH0  2018-05-30   Wednesday   \n",
       "2          3438          3438           6  CH0  2018-05-30   Wednesday   \n",
       "3          3442          3442          10  CH0  2018-05-30   Wednesday   \n",
       "4          3443          3443          11  CH0  2018-05-30   Wednesday   \n",
       "\n",
       "  Start Time End Time  Count Leg  ... Week Day Status starttime   endtime  \\\n",
       "0    7:00 AM  8:00 AM      4   N  ...        Week Day  07:00:00  08:00:00   \n",
       "1    8:00 AM  9:00 AM      4   N  ...        Week Day  08:00:00  09:00:00   \n",
       "2    7:00 AM  8:00 AM      1   E  ...        Week Day  07:00:00  08:00:00   \n",
       "3    7:00 AM  8:00 AM      3   S  ...        Week Day  07:00:00  08:00:00   \n",
       "4    8:00 AM  9:00 AM      4   S  ...        Week Day  08:00:00  09:00:00   \n",
       "\n",
       "   starttime1  endtime1        startDateTime          endDateTime diff  \\\n",
       "0         NaN       NaN  2018-05-30 07:00:00  2018-05-30 08:00:00  1.0   \n",
       "1         NaN       NaN  2018-05-30 08:00:00  2018-05-30 09:00:00  1.0   \n",
       "2         NaN       NaN  2018-05-30 07:00:00  2018-05-30 08:00:00  1.0   \n",
       "3         NaN       NaN  2018-05-30 07:00:00  2018-05-30 08:00:00  1.0   \n",
       "4         NaN       NaN  2018-05-30 08:00:00  2018-05-30 09:00:00  1.0   \n",
       "\n",
       "        Lat       Long  \n",
       "0  38.71844 -121.29042  \n",
       "1  38.71844 -121.29042  \n",
       "2  38.71844 -121.29042  \n",
       "3  38.71844 -121.29042  \n",
       "4  38.71844 -121.29042  \n",
       "\n",
       "[5 rows x 27 columns]"
      ]
     },
     "execution_count": 98,
     "metadata": {},
     "output_type": "execute_result"
    }
   ],
   "source": [
    "sc_weekday.head()"
   ]
  },
  {
   "cell_type": "code",
   "execution_count": 99,
   "id": "524f62a0",
   "metadata": {},
   "outputs": [
    {
     "data": {
      "text/html": [
       "<div>\n",
       "<style scoped>\n",
       "    .dataframe tbody tr th:only-of-type {\n",
       "        vertical-align: middle;\n",
       "    }\n",
       "\n",
       "    .dataframe tbody tr th {\n",
       "        vertical-align: top;\n",
       "    }\n",
       "\n",
       "    .dataframe thead th {\n",
       "        text-align: right;\n",
       "    }\n",
       "</style>\n",
       "<table border=\"1\" class=\"dataframe\">\n",
       "  <thead>\n",
       "    <tr style=\"text-align: right;\">\n",
       "      <th></th>\n",
       "      <th>Unnamed: 0.2</th>\n",
       "      <th>Unnamed: 0.1</th>\n",
       "      <th>Unnamed: 0_x</th>\n",
       "      <th>ID</th>\n",
       "      <th>Date</th>\n",
       "      <th>Day of Week</th>\n",
       "      <th>Start Time</th>\n",
       "      <th>End Time</th>\n",
       "      <th>Count</th>\n",
       "      <th>Leg_x</th>\n",
       "      <th>...</th>\n",
       "      <th>edgeUID</th>\n",
       "      <th>osmId</th>\n",
       "      <th>stv_total</th>\n",
       "      <th>stv_com_total</th>\n",
       "      <th>stv_rec_total</th>\n",
       "      <th>stv_com_ratio</th>\n",
       "      <th>stv_rec_ratio</th>\n",
       "      <th>geometry</th>\n",
       "      <th>popden</th>\n",
       "      <th>Max_AMI_PMI</th>\n",
       "    </tr>\n",
       "  </thead>\n",
       "  <tbody>\n",
       "    <tr>\n",
       "      <th>0</th>\n",
       "      <td>3432</td>\n",
       "      <td>3432</td>\n",
       "      <td>0</td>\n",
       "      <td>CH0</td>\n",
       "      <td>2018-05-30</td>\n",
       "      <td>Wednesday</td>\n",
       "      <td>7:00 AM</td>\n",
       "      <td>8:00 AM</td>\n",
       "      <td>4</td>\n",
       "      <td>N</td>\n",
       "      <td>...</td>\n",
       "      <td>310765851.0</td>\n",
       "      <td>617513986.0</td>\n",
       "      <td>25.0</td>\n",
       "      <td>0.0</td>\n",
       "      <td>25.0</td>\n",
       "      <td>0.0</td>\n",
       "      <td>1.0</td>\n",
       "      <td>POINT (-112076.632 78806.505)</td>\n",
       "      <td>5039.838905</td>\n",
       "      <td>1.142437</td>\n",
       "    </tr>\n",
       "    <tr>\n",
       "      <th>1</th>\n",
       "      <td>3433</td>\n",
       "      <td>3433</td>\n",
       "      <td>1</td>\n",
       "      <td>CH0</td>\n",
       "      <td>2018-05-30</td>\n",
       "      <td>Wednesday</td>\n",
       "      <td>8:00 AM</td>\n",
       "      <td>9:00 AM</td>\n",
       "      <td>4</td>\n",
       "      <td>N</td>\n",
       "      <td>...</td>\n",
       "      <td>310765851.0</td>\n",
       "      <td>617513986.0</td>\n",
       "      <td>25.0</td>\n",
       "      <td>0.0</td>\n",
       "      <td>25.0</td>\n",
       "      <td>0.0</td>\n",
       "      <td>1.0</td>\n",
       "      <td>POINT (-112076.632 78806.505)</td>\n",
       "      <td>5039.838905</td>\n",
       "      <td>1.142437</td>\n",
       "    </tr>\n",
       "    <tr>\n",
       "      <th>2</th>\n",
       "      <td>3438</td>\n",
       "      <td>3438</td>\n",
       "      <td>6</td>\n",
       "      <td>CH0</td>\n",
       "      <td>2018-05-30</td>\n",
       "      <td>Wednesday</td>\n",
       "      <td>7:00 AM</td>\n",
       "      <td>8:00 AM</td>\n",
       "      <td>1</td>\n",
       "      <td>E</td>\n",
       "      <td>...</td>\n",
       "      <td>310765851.0</td>\n",
       "      <td>617513986.0</td>\n",
       "      <td>25.0</td>\n",
       "      <td>0.0</td>\n",
       "      <td>25.0</td>\n",
       "      <td>0.0</td>\n",
       "      <td>1.0</td>\n",
       "      <td>POINT (-112076.632 78806.505)</td>\n",
       "      <td>5039.838905</td>\n",
       "      <td>1.142437</td>\n",
       "    </tr>\n",
       "    <tr>\n",
       "      <th>3</th>\n",
       "      <td>3442</td>\n",
       "      <td>3442</td>\n",
       "      <td>10</td>\n",
       "      <td>CH0</td>\n",
       "      <td>2018-05-30</td>\n",
       "      <td>Wednesday</td>\n",
       "      <td>7:00 AM</td>\n",
       "      <td>8:00 AM</td>\n",
       "      <td>3</td>\n",
       "      <td>S</td>\n",
       "      <td>...</td>\n",
       "      <td>310765851.0</td>\n",
       "      <td>617513986.0</td>\n",
       "      <td>25.0</td>\n",
       "      <td>0.0</td>\n",
       "      <td>25.0</td>\n",
       "      <td>0.0</td>\n",
       "      <td>1.0</td>\n",
       "      <td>POINT (-112076.632 78806.505)</td>\n",
       "      <td>5039.838905</td>\n",
       "      <td>1.142437</td>\n",
       "    </tr>\n",
       "    <tr>\n",
       "      <th>4</th>\n",
       "      <td>3443</td>\n",
       "      <td>3443</td>\n",
       "      <td>11</td>\n",
       "      <td>CH0</td>\n",
       "      <td>2018-05-30</td>\n",
       "      <td>Wednesday</td>\n",
       "      <td>8:00 AM</td>\n",
       "      <td>9:00 AM</td>\n",
       "      <td>4</td>\n",
       "      <td>S</td>\n",
       "      <td>...</td>\n",
       "      <td>310765851.0</td>\n",
       "      <td>617513986.0</td>\n",
       "      <td>25.0</td>\n",
       "      <td>0.0</td>\n",
       "      <td>25.0</td>\n",
       "      <td>0.0</td>\n",
       "      <td>1.0</td>\n",
       "      <td>POINT (-112076.632 78806.505)</td>\n",
       "      <td>5039.838905</td>\n",
       "      <td>1.142437</td>\n",
       "    </tr>\n",
       "  </tbody>\n",
       "</table>\n",
       "<p>5 rows × 41 columns</p>\n",
       "</div>"
      ],
      "text/plain": [
       "   Unnamed: 0.2  Unnamed: 0.1  Unnamed: 0_x   ID        Date Day of Week  \\\n",
       "0          3432          3432             0  CH0  2018-05-30   Wednesday   \n",
       "1          3433          3433             1  CH0  2018-05-30   Wednesday   \n",
       "2          3438          3438             6  CH0  2018-05-30   Wednesday   \n",
       "3          3442          3442            10  CH0  2018-05-30   Wednesday   \n",
       "4          3443          3443            11  CH0  2018-05-30   Wednesday   \n",
       "\n",
       "  Start Time End Time  Count Leg_x  ...      edgeUID        osmId  stv_total  \\\n",
       "0    7:00 AM  8:00 AM      4     N  ...  310765851.0  617513986.0       25.0   \n",
       "1    8:00 AM  9:00 AM      4     N  ...  310765851.0  617513986.0       25.0   \n",
       "2    7:00 AM  8:00 AM      1     E  ...  310765851.0  617513986.0       25.0   \n",
       "3    7:00 AM  8:00 AM      3     S  ...  310765851.0  617513986.0       25.0   \n",
       "4    8:00 AM  9:00 AM      4     S  ...  310765851.0  617513986.0       25.0   \n",
       "\n",
       "   stv_com_total  stv_rec_total  stv_com_ratio  stv_rec_ratio  \\\n",
       "0            0.0           25.0            0.0            1.0   \n",
       "1            0.0           25.0            0.0            1.0   \n",
       "2            0.0           25.0            0.0            1.0   \n",
       "3            0.0           25.0            0.0            1.0   \n",
       "4            0.0           25.0            0.0            1.0   \n",
       "\n",
       "                        geometry       popden Max_AMI_PMI  \n",
       "0  POINT (-112076.632 78806.505)  5039.838905    1.142437  \n",
       "1  POINT (-112076.632 78806.505)  5039.838905    1.142437  \n",
       "2  POINT (-112076.632 78806.505)  5039.838905    1.142437  \n",
       "3  POINT (-112076.632 78806.505)  5039.838905    1.142437  \n",
       "4  POINT (-112076.632 78806.505)  5039.838905    1.142437  \n",
       "\n",
       "[5 rows x 41 columns]"
      ]
     },
     "execution_count": 99,
     "metadata": {},
     "output_type": "execute_result"
    }
   ],
   "source": [
    "# Now combine count_sites1 and count sites 2 data\n",
    "#count_sites3=pd.concat([count_sites1,count_sites2],axis=0)\n",
    "count_sites4=pd.merge(sc_weekday,count_sites1,on=['ID','year'], how='inner')\n",
    "count_sites4.head()"
   ]
  },
  {
   "cell_type": "code",
   "execution_count": 100,
   "id": "354b8e3f",
   "metadata": {},
   "outputs": [
    {
     "data": {
      "text/plain": [
       "(1422, 1422)"
      ]
     },
     "execution_count": 100,
     "metadata": {},
     "output_type": "execute_result"
    }
   ],
   "source": [
    "sc_weekday['ID'].nunique(), count_sites4['ID'].nunique()"
   ]
  },
  {
   "cell_type": "code",
   "execution_count": 101,
   "id": "e739e682",
   "metadata": {},
   "outputs": [],
   "source": [
    "count_sites4=count_sites4.rename(columns={\"Leg_x\":'Leg'})\n",
    "count_sites4=count_sites4.rename(columns={\"Lat_x\":'Lat'})\n",
    "count_sites4=count_sites4.rename(columns={\"Long_x\":'Long'})"
   ]
  },
  {
   "cell_type": "code",
   "execution_count": 102,
   "id": "a0791276",
   "metadata": {},
   "outputs": [
    {
     "data": {
      "text/plain": [
       "(0, 0)"
      ]
     },
     "execution_count": 102,
     "metadata": {},
     "output_type": "execute_result"
    }
   ],
   "source": [
    "count_sites1['Max_AMI_PMI'].isnull().sum(), count_sites4['Max_AMI_PMI'].isnull().sum()"
   ]
  },
  {
   "cell_type": "code",
   "execution_count": 103,
   "id": "2dacad48",
   "metadata": {},
   "outputs": [
    {
     "data": {
      "text/plain": [
       "((15204, 27), (2130, 16))"
      ]
     },
     "execution_count": 103,
     "metadata": {},
     "output_type": "execute_result"
    }
   ],
   "source": [
    "sc_weekday.shape,count_sites1.shape"
   ]
  },
  {
   "cell_type": "code",
   "execution_count": 104,
   "id": "7a9707ff",
   "metadata": {},
   "outputs": [
    {
     "data": {
      "text/plain": [
       "(1422, 1422)"
      ]
     },
     "execution_count": 104,
     "metadata": {},
     "output_type": "execute_result"
    }
   ],
   "source": [
    "sc_weekday['ID'].nunique(),count_sites4['ID'].nunique()"
   ]
  },
  {
   "cell_type": "code",
   "execution_count": 105,
   "id": "54fd2ac8",
   "metadata": {},
   "outputs": [
    {
     "data": {
      "text/html": [
       "<div>\n",
       "<style scoped>\n",
       "    .dataframe tbody tr th:only-of-type {\n",
       "        vertical-align: middle;\n",
       "    }\n",
       "\n",
       "    .dataframe tbody tr th {\n",
       "        vertical-align: top;\n",
       "    }\n",
       "\n",
       "    .dataframe thead th {\n",
       "        text-align: right;\n",
       "    }\n",
       "</style>\n",
       "<table border=\"1\" class=\"dataframe\">\n",
       "  <thead>\n",
       "    <tr style=\"text-align: right;\">\n",
       "      <th></th>\n",
       "      <th>Unnamed: 0.2</th>\n",
       "      <th>Unnamed: 0.1</th>\n",
       "      <th>Unnamed: 0_x</th>\n",
       "      <th>ID</th>\n",
       "      <th>Date</th>\n",
       "      <th>Day of Week</th>\n",
       "      <th>Start Time</th>\n",
       "      <th>End Time</th>\n",
       "      <th>Count</th>\n",
       "      <th>Leg</th>\n",
       "      <th>...</th>\n",
       "      <th>edgeUID</th>\n",
       "      <th>osmId</th>\n",
       "      <th>stv_total</th>\n",
       "      <th>stv_com_total</th>\n",
       "      <th>stv_rec_total</th>\n",
       "      <th>stv_com_ratio</th>\n",
       "      <th>stv_rec_ratio</th>\n",
       "      <th>geometry</th>\n",
       "      <th>popden</th>\n",
       "      <th>Max_AMI_PMI</th>\n",
       "    </tr>\n",
       "  </thead>\n",
       "  <tbody>\n",
       "    <tr>\n",
       "      <th>19</th>\n",
       "      <td>3451</td>\n",
       "      <td>3451</td>\n",
       "      <td>19</td>\n",
       "      <td>CH1</td>\n",
       "      <td>2018-05-30</td>\n",
       "      <td>Wednesday</td>\n",
       "      <td>7:00 AM</td>\n",
       "      <td>8:00 AM</td>\n",
       "      <td>1</td>\n",
       "      <td>N</td>\n",
       "      <td>...</td>\n",
       "      <td>310761780.0</td>\n",
       "      <td>502915570.0</td>\n",
       "      <td>100.0</td>\n",
       "      <td>35.0</td>\n",
       "      <td>65.0</td>\n",
       "      <td>0.35</td>\n",
       "      <td>0.65</td>\n",
       "      <td>POINT (-112091.072 77490.506)</td>\n",
       "      <td>5537.456647</td>\n",
       "      <td>2.979811</td>\n",
       "    </tr>\n",
       "    <tr>\n",
       "      <th>20</th>\n",
       "      <td>3452</td>\n",
       "      <td>3452</td>\n",
       "      <td>20</td>\n",
       "      <td>CH1</td>\n",
       "      <td>2018-05-30</td>\n",
       "      <td>Wednesday</td>\n",
       "      <td>8:00 AM</td>\n",
       "      <td>9:00 AM</td>\n",
       "      <td>4</td>\n",
       "      <td>N</td>\n",
       "      <td>...</td>\n",
       "      <td>310761780.0</td>\n",
       "      <td>502915570.0</td>\n",
       "      <td>100.0</td>\n",
       "      <td>35.0</td>\n",
       "      <td>65.0</td>\n",
       "      <td>0.35</td>\n",
       "      <td>0.65</td>\n",
       "      <td>POINT (-112091.072 77490.506)</td>\n",
       "      <td>5537.456647</td>\n",
       "      <td>2.979811</td>\n",
       "    </tr>\n",
       "  </tbody>\n",
       "</table>\n",
       "<p>2 rows × 41 columns</p>\n",
       "</div>"
      ],
      "text/plain": [
       "    Unnamed: 0.2  Unnamed: 0.1  Unnamed: 0_x   ID        Date Day of Week  \\\n",
       "19          3451          3451            19  CH1  2018-05-30   Wednesday   \n",
       "20          3452          3452            20  CH1  2018-05-30   Wednesday   \n",
       "\n",
       "   Start Time End Time  Count Leg  ...      edgeUID        osmId  stv_total  \\\n",
       "19    7:00 AM  8:00 AM      1   N  ...  310761780.0  502915570.0      100.0   \n",
       "20    8:00 AM  9:00 AM      4   N  ...  310761780.0  502915570.0      100.0   \n",
       "\n",
       "    stv_com_total  stv_rec_total  stv_com_ratio  stv_rec_ratio  \\\n",
       "19           35.0           65.0           0.35           0.65   \n",
       "20           35.0           65.0           0.35           0.65   \n",
       "\n",
       "                         geometry       popden Max_AMI_PMI  \n",
       "19  POINT (-112091.072 77490.506)  5537.456647    2.979811  \n",
       "20  POINT (-112091.072 77490.506)  5537.456647    2.979811  \n",
       "\n",
       "[2 rows x 41 columns]"
      ]
     },
     "execution_count": 105,
     "metadata": {},
     "output_type": "execute_result"
    }
   ],
   "source": [
    "# split by MAX AMI_PMI Value\n",
    "m_g1=count_sites4.loc[count_sites4['Max_AMI_PMI']<=1]\n",
    "m_g2=count_sites4[(count_sites4.Max_AMI_PMI>1) &(count_sites4.Max_AMI_PMI<=2.50)]\n",
    "m_g3=count_sites4.loc[count_sites4['Max_AMI_PMI']>2.50]\n",
    "m_g3.head(2)"
   ]
  },
  {
   "cell_type": "code",
   "execution_count": 106,
   "id": "07c68744",
   "metadata": {},
   "outputs": [
    {
     "data": {
      "text/plain": [
       "((1213, 41), (7744, 41), (6140, 41), (15097, 41))"
      ]
     },
     "execution_count": 106,
     "metadata": {},
     "output_type": "execute_result"
    }
   ],
   "source": [
    "m_g1.shape,m_g2.shape,m_g3.shape,count_sites4.shape"
   ]
  },
  {
   "cell_type": "code",
   "execution_count": 107,
   "id": "e59c767c",
   "metadata": {},
   "outputs": [
    {
     "data": {
      "text/plain": [
       "Index(['Unnamed: 0.2', 'Unnamed: 0.1', 'Unnamed: 0_x', 'ID', 'Date',\n",
       "       'Day of Week', 'Start Time', 'End Time', 'Count', 'Leg',\n",
       "       'matched_seg_id', 'date', 'month', 'year', 'day', 'dayofweek',\n",
       "       'weekday_Status', 'Week Day Status', 'starttime', 'endtime',\n",
       "       'starttime1', 'endtime1', 'startDateTime', 'endDateTime', 'diff', 'Lat',\n",
       "       'Long', 'Unnamed: 0_y', 'Leg_y', 'Lat_y', 'Long_y', 'edgeUID', 'osmId',\n",
       "       'stv_total', 'stv_com_total', 'stv_rec_total', 'stv_com_ratio',\n",
       "       'stv_rec_ratio', 'geometry', 'popden', 'Max_AMI_PMI'],\n",
       "      dtype='object')"
      ]
     },
     "execution_count": 107,
     "metadata": {},
     "output_type": "execute_result"
    }
   ],
   "source": [
    "m_g3.columns"
   ]
  },
  {
   "cell_type": "code",
   "execution_count": 108,
   "id": "7ab0e417",
   "metadata": {},
   "outputs": [],
   "source": [
    "# Calculate daily Volume for group 1\n",
    "mg1_DV=pd.merge(m_g1,HOD_weekday_g1, on=['starttime'], how='inner')\n",
    "mg1_DV1=pd.DataFrame({'agge_count' : mg1_DV.groupby(['ID','year','month','day','Leg','Day of Week','matched_seg_id','Lat','Long'])['Count'].sum()}).reset_index()\n",
    "mg1_DV1f=pd.DataFrame({'agge_factor' : mg1_DV.groupby(['ID','year','month','day','Leg','Day of Week','matched_seg_id','Lat','Long'])['Average_Group_HOD_Factor'].sum()}).reset_index()\n",
    "mg1_DV1r=pd.merge(mg1_DV1,mg1_DV1f, on=['ID','year','month','day','Leg','Day of Week','matched_seg_id','Lat','Long'], how='inner')\n",
    "mg1_DV1r['Daily_Volume']=mg1_DV1r['agge_count']/mg1_DV1r['agge_factor']\n",
    "mg1_DV1rf=pd.DataFrame({'TDV' : mg1_DV1r.groupby(['ID','year','Leg','Day of Week','month','matched_seg_id','Lat','Long'])['Daily_Volume'].mean()}).reset_index()"
   ]
  },
  {
   "cell_type": "code",
   "execution_count": 109,
   "id": "3ee15974",
   "metadata": {},
   "outputs": [
    {
     "data": {
      "text/plain": [
       "((12, 45), (2, 10))"
      ]
     },
     "execution_count": 109,
     "metadata": {},
     "output_type": "execute_result"
    }
   ],
   "source": [
    "c=mg1_DV.loc[mg1_DV['Count']==0]\n",
    "c1=mg1_DV1.loc[mg1_DV1['agge_count']==0]\n",
    "c.shape,c1.shape"
   ]
  },
  {
   "cell_type": "code",
   "execution_count": 110,
   "id": "d0dad2ec",
   "metadata": {},
   "outputs": [
    {
     "data": {
      "text/plain": [
       "ID                0\n",
       "year              0\n",
       "Leg               0\n",
       "Day of Week       0\n",
       "month             0\n",
       "matched_seg_id    0\n",
       "Lat               0\n",
       "Long              0\n",
       "TDV               0\n",
       "dtype: int64"
      ]
     },
     "execution_count": 110,
     "metadata": {},
     "output_type": "execute_result"
    }
   ],
   "source": [
    "mg1_DV1rf.isnull().sum()"
   ]
  },
  {
   "cell_type": "code",
   "execution_count": 111,
   "id": "61cb861f",
   "metadata": {},
   "outputs": [],
   "source": [
    "# Calculate daily Volume for group 2\n",
    "mg2_DV=pd.merge(m_g2,HOD_weekday_g2, on=['starttime'], how='inner')\n",
    "mg2_DV2=pd.DataFrame({'agge_count' : mg2_DV.groupby(['ID','year','month','day','Leg','Day of Week','matched_seg_id','Lat','Long'])['Count'].sum()}).reset_index()\n",
    "mg2_DV2f=pd.DataFrame({'agge_factor' : mg2_DV.groupby(['ID','year','month','day','Leg','Day of Week','matched_seg_id','Lat','Long'])['Average_Group_HOD_Factor'].sum()}).reset_index()\n",
    "mg2_DV2r=pd.merge(mg2_DV2,mg2_DV2f, on=['ID','year','month','day','Leg','Day of Week','matched_seg_id','Lat','Long'], how='inner')\n",
    "mg2_DV2r['Daily_Volume']=mg2_DV2r['agge_count']/mg2_DV2r['agge_factor']\n",
    "mg2_DV2rf=pd.DataFrame({'TDV' : mg2_DV2r.groupby(['ID','year','Leg','Day of Week','month','matched_seg_id','Lat','Long'])['Daily_Volume'].mean()}).reset_index()"
   ]
  },
  {
   "cell_type": "code",
   "execution_count": 112,
   "id": "109a003a",
   "metadata": {},
   "outputs": [
    {
     "data": {
      "text/plain": [
       "((238, 45), (49, 10))"
      ]
     },
     "execution_count": 112,
     "metadata": {},
     "output_type": "execute_result"
    }
   ],
   "source": [
    "c=mg2_DV.loc[mg2_DV['Count']==0]\n",
    "c1=mg2_DV2.loc[mg2_DV2['agge_count']==0]\n",
    "c.shape,c1.shape"
   ]
  },
  {
   "cell_type": "code",
   "execution_count": 113,
   "id": "daf87d95",
   "metadata": {},
   "outputs": [
    {
     "data": {
      "text/plain": [
       "((1996, 10), (1996, 10), (1996, 12))"
      ]
     },
     "execution_count": 113,
     "metadata": {},
     "output_type": "execute_result"
    }
   ],
   "source": [
    "mg2_DV2.shape,mg2_DV2f.shape,mg2_DV2r.shape"
   ]
  },
  {
   "cell_type": "code",
   "execution_count": 114,
   "id": "8adbe525",
   "metadata": {},
   "outputs": [
    {
     "data": {
      "text/plain": [
       "(49, 12)"
      ]
     },
     "execution_count": 114,
     "metadata": {},
     "output_type": "execute_result"
    }
   ],
   "source": [
    "c=mg2_DV2r.loc[mg2_DV2r['agge_count']==0]\n",
    "c.shape"
   ]
  },
  {
   "cell_type": "code",
   "execution_count": 115,
   "id": "6f930e36",
   "metadata": {},
   "outputs": [
    {
     "data": {
      "text/plain": [
       "ID                0\n",
       "year              0\n",
       "month             0\n",
       "day               0\n",
       "Leg               0\n",
       "Day of Week       0\n",
       "matched_seg_id    0\n",
       "Lat               0\n",
       "Long              0\n",
       "agge_count        0\n",
       "agge_factor       0\n",
       "Daily_Volume      0\n",
       "dtype: int64"
      ]
     },
     "execution_count": 115,
     "metadata": {},
     "output_type": "execute_result"
    }
   ],
   "source": [
    "mg2_DV2r.isnull().sum()"
   ]
  },
  {
   "cell_type": "code",
   "execution_count": 116,
   "id": "e261be52",
   "metadata": {},
   "outputs": [],
   "source": [
    "# Calculate daily Volume for group 3\n",
    "mg3_DV=pd.merge(m_g3,HOD_weekday_g3, on=['starttime'], how='inner')\n",
    "mg3_DV3=pd.DataFrame({'agge_count' : mg3_DV.groupby(['ID','year','month','day','Leg','Day of Week','matched_seg_id','Lat','Long'])['Count'].sum()}).reset_index()\n",
    "mg3_DV3f=pd.DataFrame({'agge_factor' : mg3_DV.groupby(['ID','year','month','day','Leg','Day of Week','matched_seg_id','Lat','Long'])['Average_Group_HOD_Factor'].sum()}).reset_index()\n",
    "mg3_DV3r=pd.merge(mg3_DV3,mg3_DV3f, on=['ID','year','month','day','Leg','Day of Week','matched_seg_id','Lat','Long'], how='inner')\n",
    "mg3_DV3r['Daily_Volume']=mg3_DV3r['agge_count']/mg3_DV3r['agge_factor']\n",
    "mg3_DV3rf=pd.DataFrame({'TDV' : mg3_DV3r.groupby(['ID','year','Leg','Day of Week','month','matched_seg_id','Lat','Long'])['Daily_Volume'].mean()}).reset_index()"
   ]
  },
  {
   "cell_type": "code",
   "execution_count": 117,
   "id": "06915a58",
   "metadata": {},
   "outputs": [
    {
     "data": {
      "text/plain": [
       "((187, 45), (44, 10))"
      ]
     },
     "execution_count": 117,
     "metadata": {},
     "output_type": "execute_result"
    }
   ],
   "source": [
    "c=mg3_DV.loc[mg3_DV['Count']==0]\n",
    "c1=mg3_DV3.loc[mg3_DV3['agge_count']==0]\n",
    "c.shape,c1.shape"
   ]
  },
  {
   "cell_type": "code",
   "execution_count": 118,
   "id": "73d07567",
   "metadata": {},
   "outputs": [
    {
     "data": {
      "text/plain": [
       "ID                0\n",
       "year              0\n",
       "Leg               0\n",
       "Day of Week       0\n",
       "month             0\n",
       "matched_seg_id    0\n",
       "Lat               0\n",
       "Long              0\n",
       "TDV               0\n",
       "dtype: int64"
      ]
     },
     "execution_count": 118,
     "metadata": {},
     "output_type": "execute_result"
    }
   ],
   "source": [
    "mg3_DV3rf.isnull().sum()"
   ]
  },
  {
   "cell_type": "code",
   "execution_count": 119,
   "id": "80790216",
   "metadata": {},
   "outputs": [],
   "source": [
    "# Apply factor to obtain daily Volume\n",
    "# mg1_DV=pd.merge(m_g1,HOD_weekday_g1, on=['starttime'], how='inner')\n",
    "# mg1_DV['Daily_Volume']=mg1_DV['Count']/mg1_DV['Average_Group_HOD_Factor']\n",
    "# mg1_DV1=pd.DataFrame({'TDV' : mg1_DV.groupby(['ID','year','Leg','Day of Week','month','matched_seg_id','Lat','Long'])['Daily_Volume'].mean()}).reset_index()\n",
    "# mg2_DV=pd.merge(m_g2,HOD_weekday_g2, on=['starttime'], how='inner')\n",
    "# mg2_DV['Daily_Volume']=mg2_DV['Count']/mg2_DV['Average_Group_HOD_Factor']\n",
    "# mg2_DV2=pd.DataFrame({'TDV' : mg2_DV.groupby(['ID','year','Leg','Day of Week','month','matched_seg_id','Lat','Long'])['Daily_Volume'].mean()}).reset_index()\n",
    "# mg3_DV=pd.merge(m_g3,HOD_weekday_g3, on=['starttime'], how='inner')\n",
    "# mg3_DV['Daily_Volume']=mg3_DV['Count']/mg3_DV['Average_Group_HOD_Factor']\n",
    "# mg3_DV3=pd.DataFrame({'TDV' : mg3_DV.groupby(['ID','year','Leg','Day of Week','month','matched_seg_id','Lat','Long'])['Daily_Volume'].mean()}).reset_index()\n",
    "# mg3_DV3.head()"
   ]
  },
  {
   "cell_type": "code",
   "execution_count": 120,
   "id": "694e43a5",
   "metadata": {},
   "outputs": [
    {
     "data": {
      "text/plain": [
       "(158, 158, 604, 604, 645, 645)"
      ]
     },
     "execution_count": 120,
     "metadata": {},
     "output_type": "execute_result"
    }
   ],
   "source": [
    "mg1_DV1rf['ID'].nunique(),mg1_DV1rf['ID'].nunique(),mg2_DV2rf['ID'].nunique(),mg2_DV2rf['ID'].nunique(),mg3_DV3rf['ID'].nunique(),mg3_DV3rf['ID'].nunique()"
   ]
  },
  {
   "cell_type": "code",
   "execution_count": 121,
   "id": "63639058",
   "metadata": {},
   "outputs": [
    {
     "data": {
      "text/plain": [
       "((350, 9), (350, 12))"
      ]
     },
     "execution_count": 121,
     "metadata": {},
     "output_type": "execute_result"
    }
   ],
   "source": [
    "mg1_DV1rf.shape, mg1_DV1r.shape"
   ]
  },
  {
   "cell_type": "code",
   "execution_count": 122,
   "id": "2fc41b90",
   "metadata": {},
   "outputs": [
    {
     "data": {
      "text/plain": [
       "(4457, 10)"
      ]
     },
     "execution_count": 122,
     "metadata": {},
     "output_type": "execute_result"
    }
   ],
   "source": [
    "# combine these three group of estimated daily volume together\n",
    "DV_part2=pd.concat([mg1_DV1rf,mg2_DV2rf,mg3_DV3rf],axis=0).reset_index()\n",
    "DV_part2.shape"
   ]
  },
  {
   "cell_type": "code",
   "execution_count": 123,
   "id": "61884305",
   "metadata": {},
   "outputs": [
    {
     "data": {
      "text/plain": [
       "index             0\n",
       "ID                0\n",
       "year              0\n",
       "Leg               0\n",
       "Day of Week       0\n",
       "month             0\n",
       "matched_seg_id    0\n",
       "Lat               0\n",
       "Long              0\n",
       "TDV               0\n",
       "dtype: int64"
      ]
     },
     "execution_count": 123,
     "metadata": {},
     "output_type": "execute_result"
    }
   ],
   "source": [
    "DV_part2.isnull().sum()"
   ]
  },
  {
   "cell_type": "code",
   "execution_count": 124,
   "id": "3da3c75c",
   "metadata": {},
   "outputs": [
    {
     "data": {
      "text/html": [
       "<div>\n",
       "<style scoped>\n",
       "    .dataframe tbody tr th:only-of-type {\n",
       "        vertical-align: middle;\n",
       "    }\n",
       "\n",
       "    .dataframe tbody tr th {\n",
       "        vertical-align: top;\n",
       "    }\n",
       "\n",
       "    .dataframe thead th {\n",
       "        text-align: right;\n",
       "    }\n",
       "</style>\n",
       "<table border=\"1\" class=\"dataframe\">\n",
       "  <thead>\n",
       "    <tr style=\"text-align: right;\">\n",
       "      <th></th>\n",
       "      <th>index</th>\n",
       "      <th>ID</th>\n",
       "      <th>year</th>\n",
       "      <th>Leg</th>\n",
       "      <th>Day of Week</th>\n",
       "      <th>month</th>\n",
       "      <th>matched_seg_id</th>\n",
       "      <th>Lat</th>\n",
       "      <th>Long</th>\n",
       "      <th>TDV</th>\n",
       "    </tr>\n",
       "  </thead>\n",
       "  <tbody>\n",
       "    <tr>\n",
       "      <th>0</th>\n",
       "      <td>0</td>\n",
       "      <td>AC201639</td>\n",
       "      <td>2016.0</td>\n",
       "      <td>E</td>\n",
       "      <td>Wednesday</td>\n",
       "      <td>9.0</td>\n",
       "      <td>154438</td>\n",
       "      <td>37.68136</td>\n",
       "      <td>-121.70956</td>\n",
       "      <td>25.966442</td>\n",
       "    </tr>\n",
       "    <tr>\n",
       "      <th>1</th>\n",
       "      <td>1</td>\n",
       "      <td>AC201639</td>\n",
       "      <td>2016.0</td>\n",
       "      <td>N</td>\n",
       "      <td>Wednesday</td>\n",
       "      <td>9.0</td>\n",
       "      <td>bearing calculation not match with TMS count</td>\n",
       "      <td>37.68136</td>\n",
       "      <td>-121.70956</td>\n",
       "      <td>43.277403</td>\n",
       "    </tr>\n",
       "    <tr>\n",
       "      <th>2</th>\n",
       "      <td>2</td>\n",
       "      <td>AC201639</td>\n",
       "      <td>2016.0</td>\n",
       "      <td>S</td>\n",
       "      <td>Wednesday</td>\n",
       "      <td>9.0</td>\n",
       "      <td>154433</td>\n",
       "      <td>37.68136</td>\n",
       "      <td>-121.70956</td>\n",
       "      <td>37.507083</td>\n",
       "    </tr>\n",
       "    <tr>\n",
       "      <th>3</th>\n",
       "      <td>3</td>\n",
       "      <td>AC201639</td>\n",
       "      <td>2016.0</td>\n",
       "      <td>W</td>\n",
       "      <td>Wednesday</td>\n",
       "      <td>9.0</td>\n",
       "      <td>154430</td>\n",
       "      <td>37.68136</td>\n",
       "      <td>-121.70956</td>\n",
       "      <td>37.507083</td>\n",
       "    </tr>\n",
       "    <tr>\n",
       "      <th>4</th>\n",
       "      <td>4</td>\n",
       "      <td>AC20179</td>\n",
       "      <td>2017.0</td>\n",
       "      <td>E</td>\n",
       "      <td>Wednesday</td>\n",
       "      <td>11.0</td>\n",
       "      <td>154395</td>\n",
       "      <td>37.66512</td>\n",
       "      <td>-121.73288</td>\n",
       "      <td>34.508641</td>\n",
       "    </tr>\n",
       "  </tbody>\n",
       "</table>\n",
       "</div>"
      ],
      "text/plain": [
       "   index        ID    year Leg Day of Week  month  \\\n",
       "0      0  AC201639  2016.0   E   Wednesday    9.0   \n",
       "1      1  AC201639  2016.0   N   Wednesday    9.0   \n",
       "2      2  AC201639  2016.0   S   Wednesday    9.0   \n",
       "3      3  AC201639  2016.0   W   Wednesday    9.0   \n",
       "4      4   AC20179  2017.0   E   Wednesday   11.0   \n",
       "\n",
       "                                 matched_seg_id       Lat       Long  \\\n",
       "0                                        154438  37.68136 -121.70956   \n",
       "1  bearing calculation not match with TMS count  37.68136 -121.70956   \n",
       "2                                        154433  37.68136 -121.70956   \n",
       "3                                        154430  37.68136 -121.70956   \n",
       "4                                        154395  37.66512 -121.73288   \n",
       "\n",
       "         TDV  \n",
       "0  25.966442  \n",
       "1  43.277403  \n",
       "2  37.507083  \n",
       "3  37.507083  \n",
       "4  34.508641  "
      ]
     },
     "execution_count": 124,
     "metadata": {},
     "output_type": "execute_result"
    }
   ],
   "source": [
    "DV_part2.head()"
   ]
  },
  {
   "cell_type": "code",
   "execution_count": 125,
   "id": "af1fdb18",
   "metadata": {},
   "outputs": [
    {
     "data": {
      "text/plain": [
       "<AxesSubplot:>"
      ]
     },
     "execution_count": 125,
     "metadata": {},
     "output_type": "execute_result"
    },
    {
     "data": {
      "image/png": "[encoded data removed]",
      "text/plain": [
       "<Figure size 432x288 with 1 Axes>"
      ]
     },
     "metadata": {
      "needs_background": "light"
     },
     "output_type": "display_data"
    }
   ],
   "source": [
    "DV_part2['TDV'].plot()"
   ]
  },
  {
   "cell_type": "code",
   "execution_count": 126,
   "id": "071a5caf",
   "metadata": {},
   "outputs": [
    {
     "data": {
      "text/plain": [
       "(5330, 10)"
      ]
     },
     "execution_count": 126,
     "metadata": {},
     "output_type": "execute_result"
    }
   ],
   "source": [
    "# Combine all Estimated weekday Daily Volume\n",
    "Weekday_DV=pd.concat([DV_part1,DV_part2],axis=0)\n",
    "Weekday_DV.shape"
   ]
  },
  {
   "cell_type": "code",
   "execution_count": 127,
   "id": "8eab1847",
   "metadata": {},
   "outputs": [
    {
     "data": {
      "text/plain": [
       "(1992, 1977, 570, 1407)"
      ]
     },
     "execution_count": 127,
     "metadata": {},
     "output_type": "execute_result"
    }
   ],
   "source": [
    "weekday_hr_data['ID'].nunique(),Weekday_DV['ID'].nunique(),DV_part1['ID'].nunique(),DV_part2['ID'].nunique()"
   ]
  },
  {
   "cell_type": "markdown",
   "id": "4cf2b274",
   "metadata": {},
   "source": [
    "# Now Estimate weekend Daily Volume"
   ]
  },
  {
   "cell_type": "code",
   "execution_count": 128,
   "id": "b714e804",
   "metadata": {},
   "outputs": [
    {
     "data": {
      "text/html": [
       "<div>\n",
       "<style scoped>\n",
       "    .dataframe tbody tr th:only-of-type {\n",
       "        vertical-align: middle;\n",
       "    }\n",
       "\n",
       "    .dataframe tbody tr th {\n",
       "        vertical-align: top;\n",
       "    }\n",
       "\n",
       "    .dataframe thead th {\n",
       "        text-align: right;\n",
       "    }\n",
       "</style>\n",
       "<table border=\"1\" class=\"dataframe\">\n",
       "  <thead>\n",
       "    <tr style=\"text-align: right;\">\n",
       "      <th></th>\n",
       "      <th>Unnamed: 0.2</th>\n",
       "      <th>Unnamed: 0.1</th>\n",
       "      <th>Unnamed: 0</th>\n",
       "      <th>ID</th>\n",
       "      <th>Date</th>\n",
       "      <th>Day of Week</th>\n",
       "      <th>Start Time</th>\n",
       "      <th>End Time</th>\n",
       "      <th>Count</th>\n",
       "      <th>Leg</th>\n",
       "      <th>...</th>\n",
       "      <th>Week Day Status</th>\n",
       "      <th>starttime</th>\n",
       "      <th>endtime</th>\n",
       "      <th>starttime1</th>\n",
       "      <th>endtime1</th>\n",
       "      <th>startDateTime</th>\n",
       "      <th>endDateTime</th>\n",
       "      <th>diff</th>\n",
       "      <th>Lat</th>\n",
       "      <th>Long</th>\n",
       "    </tr>\n",
       "  </thead>\n",
       "  <tbody>\n",
       "    <tr>\n",
       "      <th>1086</th>\n",
       "      <td>4676</td>\n",
       "      <td>4676</td>\n",
       "      <td>446</td>\n",
       "      <td>Kern7</td>\n",
       "      <td>2016-12-17</td>\n",
       "      <td>Saturday</td>\n",
       "      <td>7:00 AM</td>\n",
       "      <td>8:00 AM</td>\n",
       "      <td>4</td>\n",
       "      <td>N</td>\n",
       "      <td>...</td>\n",
       "      <td>Weekend</td>\n",
       "      <td>07:00:00</td>\n",
       "      <td>08:00:00</td>\n",
       "      <td>NaN</td>\n",
       "      <td>NaN</td>\n",
       "      <td>2016-12-17 07:00:00</td>\n",
       "      <td>2016-12-17 08:00:00</td>\n",
       "      <td>1.0</td>\n",
       "      <td>35.365131</td>\n",
       "      <td>-118.93197</td>\n",
       "    </tr>\n",
       "    <tr>\n",
       "      <th>1087</th>\n",
       "      <td>4677</td>\n",
       "      <td>4677</td>\n",
       "      <td>447</td>\n",
       "      <td>Kern7</td>\n",
       "      <td>2016-12-17</td>\n",
       "      <td>Saturday</td>\n",
       "      <td>8:00 AM</td>\n",
       "      <td>9:00 AM</td>\n",
       "      <td>1</td>\n",
       "      <td>N</td>\n",
       "      <td>...</td>\n",
       "      <td>Weekend</td>\n",
       "      <td>08:00:00</td>\n",
       "      <td>09:00:00</td>\n",
       "      <td>NaN</td>\n",
       "      <td>NaN</td>\n",
       "      <td>2016-12-17 08:00:00</td>\n",
       "      <td>2016-12-17 09:00:00</td>\n",
       "      <td>1.0</td>\n",
       "      <td>35.365131</td>\n",
       "      <td>-118.93197</td>\n",
       "    </tr>\n",
       "    <tr>\n",
       "      <th>1088</th>\n",
       "      <td>4678</td>\n",
       "      <td>4678</td>\n",
       "      <td>448</td>\n",
       "      <td>Kern7</td>\n",
       "      <td>2016-12-17</td>\n",
       "      <td>Saturday</td>\n",
       "      <td>9:00 AM</td>\n",
       "      <td>10:00 AM</td>\n",
       "      <td>2</td>\n",
       "      <td>N</td>\n",
       "      <td>...</td>\n",
       "      <td>Weekend</td>\n",
       "      <td>09:00:00</td>\n",
       "      <td>10:00:00</td>\n",
       "      <td>NaN</td>\n",
       "      <td>NaN</td>\n",
       "      <td>2016-12-17 09:00:00</td>\n",
       "      <td>2016-12-17 10:00:00</td>\n",
       "      <td>1.0</td>\n",
       "      <td>35.365131</td>\n",
       "      <td>-118.93197</td>\n",
       "    </tr>\n",
       "    <tr>\n",
       "      <th>1089</th>\n",
       "      <td>4679</td>\n",
       "      <td>4679</td>\n",
       "      <td>449</td>\n",
       "      <td>Kern7</td>\n",
       "      <td>2016-12-17</td>\n",
       "      <td>Saturday</td>\n",
       "      <td>10:00 AM</td>\n",
       "      <td>11:00 AM</td>\n",
       "      <td>4</td>\n",
       "      <td>N</td>\n",
       "      <td>...</td>\n",
       "      <td>Weekend</td>\n",
       "      <td>10:00:00</td>\n",
       "      <td>11:00:00</td>\n",
       "      <td>NaN</td>\n",
       "      <td>NaN</td>\n",
       "      <td>2016-12-17 10:00:00</td>\n",
       "      <td>2016-12-17 11:00:00</td>\n",
       "      <td>1.0</td>\n",
       "      <td>35.365131</td>\n",
       "      <td>-118.93197</td>\n",
       "    </tr>\n",
       "    <tr>\n",
       "      <th>1095</th>\n",
       "      <td>4680</td>\n",
       "      <td>4680</td>\n",
       "      <td>450</td>\n",
       "      <td>Kern7</td>\n",
       "      <td>2016-12-17</td>\n",
       "      <td>Saturday</td>\n",
       "      <td>12:00 PM</td>\n",
       "      <td>1:00 PM</td>\n",
       "      <td>1</td>\n",
       "      <td>N</td>\n",
       "      <td>...</td>\n",
       "      <td>Weekend</td>\n",
       "      <td>12:00:00</td>\n",
       "      <td>13:00:00</td>\n",
       "      <td>NaN</td>\n",
       "      <td>NaN</td>\n",
       "      <td>2016-12-17 12:00:00</td>\n",
       "      <td>2016-12-17 13:00:00</td>\n",
       "      <td>1.0</td>\n",
       "      <td>35.365131</td>\n",
       "      <td>-118.93197</td>\n",
       "    </tr>\n",
       "  </tbody>\n",
       "</table>\n",
       "<p>5 rows × 27 columns</p>\n",
       "</div>"
      ],
      "text/plain": [
       "      Unnamed: 0.2  Unnamed: 0.1  Unnamed: 0     ID        Date Day of Week  \\\n",
       "1086          4676          4676         446  Kern7  2016-12-17    Saturday   \n",
       "1087          4677          4677         447  Kern7  2016-12-17    Saturday   \n",
       "1088          4678          4678         448  Kern7  2016-12-17    Saturday   \n",
       "1089          4679          4679         449  Kern7  2016-12-17    Saturday   \n",
       "1095          4680          4680         450  Kern7  2016-12-17    Saturday   \n",
       "\n",
       "     Start Time  End Time  Count Leg  ... Week Day Status starttime   endtime  \\\n",
       "1086    7:00 AM   8:00 AM      4   N  ...         Weekend  07:00:00  08:00:00   \n",
       "1087    8:00 AM   9:00 AM      1   N  ...         Weekend  08:00:00  09:00:00   \n",
       "1088    9:00 AM  10:00 AM      2   N  ...         Weekend  09:00:00  10:00:00   \n",
       "1089   10:00 AM  11:00 AM      4   N  ...         Weekend  10:00:00  11:00:00   \n",
       "1095   12:00 PM   1:00 PM      1   N  ...         Weekend  12:00:00  13:00:00   \n",
       "\n",
       "      starttime1  endtime1        startDateTime          endDateTime diff  \\\n",
       "1086         NaN       NaN  2016-12-17 07:00:00  2016-12-17 08:00:00  1.0   \n",
       "1087         NaN       NaN  2016-12-17 08:00:00  2016-12-17 09:00:00  1.0   \n",
       "1088         NaN       NaN  2016-12-17 09:00:00  2016-12-17 10:00:00  1.0   \n",
       "1089         NaN       NaN  2016-12-17 10:00:00  2016-12-17 11:00:00  1.0   \n",
       "1095         NaN       NaN  2016-12-17 12:00:00  2016-12-17 13:00:00  1.0   \n",
       "\n",
       "            Lat       Long  \n",
       "1086  35.365131 -118.93197  \n",
       "1087  35.365131 -118.93197  \n",
       "1088  35.365131 -118.93197  \n",
       "1089  35.365131 -118.93197  \n",
       "1095  35.365131 -118.93197  \n",
       "\n",
       "[5 rows x 27 columns]"
      ]
     },
     "execution_count": 128,
     "metadata": {},
     "output_type": "execute_result"
    }
   ],
   "source": [
    "weekend_hr_data.head()"
   ]
  },
  {
   "cell_type": "code",
   "execution_count": 129,
   "id": "5b0e20b5",
   "metadata": {},
   "outputs": [
    {
     "data": {
      "text/plain": [
       "0"
      ]
     },
     "execution_count": 129,
     "metadata": {},
     "output_type": "execute_result"
    }
   ],
   "source": [
    "weekend_hr_data['Count'].min()"
   ]
  },
  {
   "cell_type": "code",
   "execution_count": 130,
   "id": "27e0ddb5",
   "metadata": {},
   "outputs": [
    {
     "data": {
      "text/html": [
       "<div>\n",
       "<style scoped>\n",
       "    .dataframe tbody tr th:only-of-type {\n",
       "        vertical-align: middle;\n",
       "    }\n",
       "\n",
       "    .dataframe tbody tr th {\n",
       "        vertical-align: top;\n",
       "    }\n",
       "\n",
       "    .dataframe thead th {\n",
       "        text-align: right;\n",
       "    }\n",
       "</style>\n",
       "<table border=\"1\" class=\"dataframe\">\n",
       "  <thead>\n",
       "    <tr style=\"text-align: right;\">\n",
       "      <th></th>\n",
       "      <th>ID</th>\n",
       "      <th>year</th>\n",
       "      <th>Unnamed: 0</th>\n",
       "      <th>edgeUID</th>\n",
       "      <th>osmId</th>\n",
       "      <th>stv_total</th>\n",
       "      <th>stv_com_total</th>\n",
       "      <th>stv_rec_total</th>\n",
       "      <th>stv_com_ratio</th>\n",
       "      <th>stv_rec_ratio</th>\n",
       "      <th>geometry</th>\n",
       "      <th>popden</th>\n",
       "      <th>Max_AMI_PMI</th>\n",
       "    </tr>\n",
       "  </thead>\n",
       "  <tbody>\n",
       "    <tr>\n",
       "      <th>0</th>\n",
       "      <td>CH33</td>\n",
       "      <td>2016.0</td>\n",
       "      <td>0</td>\n",
       "      <td>310797458.0</td>\n",
       "      <td>10507917.0</td>\n",
       "      <td>60.0</td>\n",
       "      <td>15.0</td>\n",
       "      <td>45.0</td>\n",
       "      <td>NaN</td>\n",
       "      <td>0.750000</td>\n",
       "      <td>POINT (-110266.628 76259.750)</td>\n",
       "      <td>5747.314076</td>\n",
       "      <td>2.565094</td>\n",
       "    </tr>\n",
       "    <tr>\n",
       "      <th>1</th>\n",
       "      <td>CH34</td>\n",
       "      <td>2016.0</td>\n",
       "      <td>1</td>\n",
       "      <td>310798228.0</td>\n",
       "      <td>530730915.0</td>\n",
       "      <td>955.0</td>\n",
       "      <td>320.0</td>\n",
       "      <td>635.0</td>\n",
       "      <td>NaN</td>\n",
       "      <td>0.664921</td>\n",
       "      <td>POINT (-109673.279 76774.311)</td>\n",
       "      <td>5526.284064</td>\n",
       "      <td>2.917919</td>\n",
       "    </tr>\n",
       "  </tbody>\n",
       "</table>\n",
       "</div>"
      ],
      "text/plain": [
       "     ID    year  Unnamed: 0      edgeUID        osmId  stv_total  \\\n",
       "0  CH33  2016.0           0  310797458.0   10507917.0       60.0   \n",
       "1  CH34  2016.0           1  310798228.0  530730915.0      955.0   \n",
       "\n",
       "   stv_com_total  stv_rec_total  stv_com_ratio  stv_rec_ratio  \\\n",
       "0           15.0           45.0            NaN       0.750000   \n",
       "1          320.0          635.0            NaN       0.664921   \n",
       "\n",
       "                        geometry       popden  Max_AMI_PMI  \n",
       "0  POINT (-110266.628 76259.750)  5747.314076     2.565094  \n",
       "1  POINT (-109673.279 76774.311)  5526.284064     2.917919  "
      ]
     },
     "execution_count": 130,
     "metadata": {},
     "output_type": "execute_result"
    }
   ],
   "source": [
    "count_sites=count_sites.drop(['Leg','Lat','Long'],axis=1)\n",
    "count_sites.head(2)"
   ]
  },
  {
   "cell_type": "code",
   "execution_count": 131,
   "id": "741c3359",
   "metadata": {},
   "outputs": [
    {
     "data": {
      "text/plain": [
       "((2468, 27), (2130, 13))"
      ]
     },
     "execution_count": 131,
     "metadata": {},
     "output_type": "execute_result"
    }
   ],
   "source": [
    "weekend_hr_data.shape, count_sites.shape"
   ]
  },
  {
   "cell_type": "code",
   "execution_count": 132,
   "id": "19879364",
   "metadata": {},
   "outputs": [
    {
     "data": {
      "text/plain": [
       "(2462, 38)"
      ]
     },
     "execution_count": 132,
     "metadata": {},
     "output_type": "execute_result"
    }
   ],
   "source": [
    "weekend_hr_data1=pd.merge(weekend_hr_data,count_sites,on=['ID','year'], how='inner')\n",
    "weekend_hr_data1.shape"
   ]
  },
  {
   "cell_type": "code",
   "execution_count": 133,
   "id": "d9d76a5b",
   "metadata": {},
   "outputs": [
    {
     "data": {
      "text/html": [
       "<div>\n",
       "<style scoped>\n",
       "    .dataframe tbody tr th:only-of-type {\n",
       "        vertical-align: middle;\n",
       "    }\n",
       "\n",
       "    .dataframe tbody tr th {\n",
       "        vertical-align: top;\n",
       "    }\n",
       "\n",
       "    .dataframe thead th {\n",
       "        text-align: right;\n",
       "    }\n",
       "</style>\n",
       "<table border=\"1\" class=\"dataframe\">\n",
       "  <thead>\n",
       "    <tr style=\"text-align: right;\">\n",
       "      <th></th>\n",
       "      <th>Unnamed: 0.2</th>\n",
       "      <th>Unnamed: 0.1</th>\n",
       "      <th>Unnamed: 0_x</th>\n",
       "      <th>ID</th>\n",
       "      <th>Date</th>\n",
       "      <th>Day of Week</th>\n",
       "      <th>Start Time</th>\n",
       "      <th>End Time</th>\n",
       "      <th>Count</th>\n",
       "      <th>Leg</th>\n",
       "      <th>...</th>\n",
       "      <th>edgeUID</th>\n",
       "      <th>osmId</th>\n",
       "      <th>stv_total</th>\n",
       "      <th>stv_com_total</th>\n",
       "      <th>stv_rec_total</th>\n",
       "      <th>stv_com_ratio</th>\n",
       "      <th>stv_rec_ratio</th>\n",
       "      <th>geometry</th>\n",
       "      <th>popden</th>\n",
       "      <th>Max_AMI_PMI</th>\n",
       "    </tr>\n",
       "  </thead>\n",
       "  <tbody>\n",
       "    <tr>\n",
       "      <th>0</th>\n",
       "      <td>4676</td>\n",
       "      <td>4676</td>\n",
       "      <td>446</td>\n",
       "      <td>Kern7</td>\n",
       "      <td>2016-12-17</td>\n",
       "      <td>Saturday</td>\n",
       "      <td>7:00 AM</td>\n",
       "      <td>8:00 AM</td>\n",
       "      <td>4</td>\n",
       "      <td>N</td>\n",
       "      <td>...</td>\n",
       "      <td>308518631.0</td>\n",
       "      <td>10411960.0</td>\n",
       "      <td>10.0</td>\n",
       "      <td>0.0</td>\n",
       "      <td>10.0</td>\n",
       "      <td>NaN</td>\n",
       "      <td>1.0</td>\n",
       "      <td>POINT (96960.699 -294095.797)</td>\n",
       "      <td>5554.147258</td>\n",
       "      <td>1.190222</td>\n",
       "    </tr>\n",
       "    <tr>\n",
       "      <th>1</th>\n",
       "      <td>4677</td>\n",
       "      <td>4677</td>\n",
       "      <td>447</td>\n",
       "      <td>Kern7</td>\n",
       "      <td>2016-12-17</td>\n",
       "      <td>Saturday</td>\n",
       "      <td>8:00 AM</td>\n",
       "      <td>9:00 AM</td>\n",
       "      <td>1</td>\n",
       "      <td>N</td>\n",
       "      <td>...</td>\n",
       "      <td>308518631.0</td>\n",
       "      <td>10411960.0</td>\n",
       "      <td>10.0</td>\n",
       "      <td>0.0</td>\n",
       "      <td>10.0</td>\n",
       "      <td>NaN</td>\n",
       "      <td>1.0</td>\n",
       "      <td>POINT (96960.699 -294095.797)</td>\n",
       "      <td>5554.147258</td>\n",
       "      <td>1.190222</td>\n",
       "    </tr>\n",
       "    <tr>\n",
       "      <th>2</th>\n",
       "      <td>4678</td>\n",
       "      <td>4678</td>\n",
       "      <td>448</td>\n",
       "      <td>Kern7</td>\n",
       "      <td>2016-12-17</td>\n",
       "      <td>Saturday</td>\n",
       "      <td>9:00 AM</td>\n",
       "      <td>10:00 AM</td>\n",
       "      <td>2</td>\n",
       "      <td>N</td>\n",
       "      <td>...</td>\n",
       "      <td>308518631.0</td>\n",
       "      <td>10411960.0</td>\n",
       "      <td>10.0</td>\n",
       "      <td>0.0</td>\n",
       "      <td>10.0</td>\n",
       "      <td>NaN</td>\n",
       "      <td>1.0</td>\n",
       "      <td>POINT (96960.699 -294095.797)</td>\n",
       "      <td>5554.147258</td>\n",
       "      <td>1.190222</td>\n",
       "    </tr>\n",
       "    <tr>\n",
       "      <th>3</th>\n",
       "      <td>4679</td>\n",
       "      <td>4679</td>\n",
       "      <td>449</td>\n",
       "      <td>Kern7</td>\n",
       "      <td>2016-12-17</td>\n",
       "      <td>Saturday</td>\n",
       "      <td>10:00 AM</td>\n",
       "      <td>11:00 AM</td>\n",
       "      <td>4</td>\n",
       "      <td>N</td>\n",
       "      <td>...</td>\n",
       "      <td>308518631.0</td>\n",
       "      <td>10411960.0</td>\n",
       "      <td>10.0</td>\n",
       "      <td>0.0</td>\n",
       "      <td>10.0</td>\n",
       "      <td>NaN</td>\n",
       "      <td>1.0</td>\n",
       "      <td>POINT (96960.699 -294095.797)</td>\n",
       "      <td>5554.147258</td>\n",
       "      <td>1.190222</td>\n",
       "    </tr>\n",
       "    <tr>\n",
       "      <th>4</th>\n",
       "      <td>4680</td>\n",
       "      <td>4680</td>\n",
       "      <td>450</td>\n",
       "      <td>Kern7</td>\n",
       "      <td>2016-12-17</td>\n",
       "      <td>Saturday</td>\n",
       "      <td>12:00 PM</td>\n",
       "      <td>1:00 PM</td>\n",
       "      <td>1</td>\n",
       "      <td>N</td>\n",
       "      <td>...</td>\n",
       "      <td>308518631.0</td>\n",
       "      <td>10411960.0</td>\n",
       "      <td>10.0</td>\n",
       "      <td>0.0</td>\n",
       "      <td>10.0</td>\n",
       "      <td>NaN</td>\n",
       "      <td>1.0</td>\n",
       "      <td>POINT (96960.699 -294095.797)</td>\n",
       "      <td>5554.147258</td>\n",
       "      <td>1.190222</td>\n",
       "    </tr>\n",
       "  </tbody>\n",
       "</table>\n",
       "<p>5 rows × 38 columns</p>\n",
       "</div>"
      ],
      "text/plain": [
       "   Unnamed: 0.2  Unnamed: 0.1  Unnamed: 0_x     ID        Date Day of Week  \\\n",
       "0          4676          4676           446  Kern7  2016-12-17    Saturday   \n",
       "1          4677          4677           447  Kern7  2016-12-17    Saturday   \n",
       "2          4678          4678           448  Kern7  2016-12-17    Saturday   \n",
       "3          4679          4679           449  Kern7  2016-12-17    Saturday   \n",
       "4          4680          4680           450  Kern7  2016-12-17    Saturday   \n",
       "\n",
       "  Start Time  End Time  Count Leg  ...      edgeUID       osmId  stv_total  \\\n",
       "0    7:00 AM   8:00 AM      4   N  ...  308518631.0  10411960.0       10.0   \n",
       "1    8:00 AM   9:00 AM      1   N  ...  308518631.0  10411960.0       10.0   \n",
       "2    9:00 AM  10:00 AM      2   N  ...  308518631.0  10411960.0       10.0   \n",
       "3   10:00 AM  11:00 AM      4   N  ...  308518631.0  10411960.0       10.0   \n",
       "4   12:00 PM   1:00 PM      1   N  ...  308518631.0  10411960.0       10.0   \n",
       "\n",
       "   stv_com_total  stv_rec_total  stv_com_ratio  stv_rec_ratio  \\\n",
       "0            0.0           10.0            NaN            1.0   \n",
       "1            0.0           10.0            NaN            1.0   \n",
       "2            0.0           10.0            NaN            1.0   \n",
       "3            0.0           10.0            NaN            1.0   \n",
       "4            0.0           10.0            NaN            1.0   \n",
       "\n",
       "                        geometry       popden Max_AMI_PMI  \n",
       "0  POINT (96960.699 -294095.797)  5554.147258    1.190222  \n",
       "1  POINT (96960.699 -294095.797)  5554.147258    1.190222  \n",
       "2  POINT (96960.699 -294095.797)  5554.147258    1.190222  \n",
       "3  POINT (96960.699 -294095.797)  5554.147258    1.190222  \n",
       "4  POINT (96960.699 -294095.797)  5554.147258    1.190222  \n",
       "\n",
       "[5 rows x 38 columns]"
      ]
     },
     "execution_count": 133,
     "metadata": {},
     "output_type": "execute_result"
    }
   ],
   "source": [
    "weekend_hr_data1.head()"
   ]
  },
  {
   "cell_type": "code",
   "execution_count": 134,
   "id": "ebf55b91",
   "metadata": {},
   "outputs": [
    {
     "data": {
      "text/plain": [
       "Index(['Unnamed: 0.2', 'Unnamed: 0.1', 'Unnamed: 0_x', 'ID', 'Date',\n",
       "       'Day of Week', 'Start Time', 'End Time', 'Count', 'Leg',\n",
       "       'matched_seg_id', 'date', 'month', 'year', 'day', 'dayofweek',\n",
       "       'weekday_Status', 'Week Day Status', 'starttime', 'endtime',\n",
       "       'starttime1', 'endtime1', 'startDateTime', 'endDateTime', 'diff', 'Lat',\n",
       "       'Long', 'Unnamed: 0_y', 'edgeUID', 'osmId', 'stv_total',\n",
       "       'stv_com_total', 'stv_rec_total', 'stv_com_ratio', 'stv_rec_ratio',\n",
       "       'geometry', 'popden', 'Max_AMI_PMI'],\n",
       "      dtype='object')"
      ]
     },
     "execution_count": 134,
     "metadata": {},
     "output_type": "execute_result"
    }
   ],
   "source": [
    "weekend_hr_data1.columns"
   ]
  },
  {
   "cell_type": "code",
   "execution_count": 135,
   "id": "a341cdf4",
   "metadata": {},
   "outputs": [
    {
     "data": {
      "text/plain": [
       "0"
      ]
     },
     "execution_count": 135,
     "metadata": {},
     "output_type": "execute_result"
    }
   ],
   "source": [
    "weekend_hr_data1['starttime'].isnull().sum()"
   ]
  },
  {
   "cell_type": "code",
   "execution_count": 136,
   "id": "52908d89",
   "metadata": {},
   "outputs": [
    {
     "data": {
      "text/plain": [
       "(148, 147)"
      ]
     },
     "execution_count": 136,
     "metadata": {},
     "output_type": "execute_result"
    }
   ],
   "source": [
    "weekend_hr_data['ID'].nunique(),weekend_hr_data1['ID'].nunique()"
   ]
  },
  {
   "cell_type": "code",
   "execution_count": 137,
   "id": "fd037621",
   "metadata": {},
   "outputs": [],
   "source": [
    "# weekend_hr_data1=weekend_hr_data1.rename(columns={\"Leg_x\":'Leg'})\n",
    "# weekend_hr_data1=weekend_hr_data1.rename(columns={\"Lat_x\":'Lat'})\n",
    "# weekend_hr_data11=weekend_hr_data1.rename(columns={\"Long_x\":'Long'})"
   ]
  },
  {
   "cell_type": "code",
   "execution_count": 138,
   "id": "f49c2f01",
   "metadata": {},
   "outputs": [
    {
     "data": {
      "text/html": [
       "<div>\n",
       "<style scoped>\n",
       "    .dataframe tbody tr th:only-of-type {\n",
       "        vertical-align: middle;\n",
       "    }\n",
       "\n",
       "    .dataframe tbody tr th {\n",
       "        vertical-align: top;\n",
       "    }\n",
       "\n",
       "    .dataframe thead th {\n",
       "        text-align: right;\n",
       "    }\n",
       "</style>\n",
       "<table border=\"1\" class=\"dataframe\">\n",
       "  <thead>\n",
       "    <tr style=\"text-align: right;\">\n",
       "      <th></th>\n",
       "      <th>Unnamed: 0.2</th>\n",
       "      <th>Unnamed: 0.1</th>\n",
       "      <th>Unnamed: 0_x</th>\n",
       "      <th>ID</th>\n",
       "      <th>Date</th>\n",
       "      <th>Day of Week</th>\n",
       "      <th>Start Time</th>\n",
       "      <th>End Time</th>\n",
       "      <th>Count</th>\n",
       "      <th>Leg</th>\n",
       "      <th>...</th>\n",
       "      <th>edgeUID</th>\n",
       "      <th>osmId</th>\n",
       "      <th>stv_total</th>\n",
       "      <th>stv_com_total</th>\n",
       "      <th>stv_rec_total</th>\n",
       "      <th>stv_com_ratio</th>\n",
       "      <th>stv_rec_ratio</th>\n",
       "      <th>geometry</th>\n",
       "      <th>popden</th>\n",
       "      <th>Max_AMI_PMI</th>\n",
       "    </tr>\n",
       "  </thead>\n",
       "  <tbody>\n",
       "    <tr>\n",
       "      <th>2460</th>\n",
       "      <td>19310</td>\n",
       "      <td>19310</td>\n",
       "      <td>558</td>\n",
       "      <td>SCC73</td>\n",
       "      <td>2018-06-02</td>\n",
       "      <td>Saturday</td>\n",
       "      <td>1/1/1900 11:00</td>\n",
       "      <td>1/1/1900 12:00</td>\n",
       "      <td>38</td>\n",
       "      <td>W</td>\n",
       "      <td>...</td>\n",
       "      <td>308903477.0</td>\n",
       "      <td>10551966.0</td>\n",
       "      <td>4075.0</td>\n",
       "      <td>355.0</td>\n",
       "      <td>3720.0</td>\n",
       "      <td>0.087117</td>\n",
       "      <td>0.912883</td>\n",
       "      <td>POINT (-184099.677 -106086.871)</td>\n",
       "      <td>695.462189</td>\n",
       "      <td>1.255646</td>\n",
       "    </tr>\n",
       "    <tr>\n",
       "      <th>2461</th>\n",
       "      <td>19311</td>\n",
       "      <td>19311</td>\n",
       "      <td>559</td>\n",
       "      <td>SCC73</td>\n",
       "      <td>2018-06-02</td>\n",
       "      <td>Saturday</td>\n",
       "      <td>1/1/1900 12:00</td>\n",
       "      <td>1/1/1900 13:00</td>\n",
       "      <td>24</td>\n",
       "      <td>W</td>\n",
       "      <td>...</td>\n",
       "      <td>308903477.0</td>\n",
       "      <td>10551966.0</td>\n",
       "      <td>4075.0</td>\n",
       "      <td>355.0</td>\n",
       "      <td>3720.0</td>\n",
       "      <td>0.087117</td>\n",
       "      <td>0.912883</td>\n",
       "      <td>POINT (-184099.677 -106086.871)</td>\n",
       "      <td>695.462189</td>\n",
       "      <td>1.255646</td>\n",
       "    </tr>\n",
       "  </tbody>\n",
       "</table>\n",
       "<p>2 rows × 38 columns</p>\n",
       "</div>"
      ],
      "text/plain": [
       "      Unnamed: 0.2  Unnamed: 0.1  Unnamed: 0_x     ID        Date Day of Week  \\\n",
       "2460         19310         19310           558  SCC73  2018-06-02    Saturday   \n",
       "2461         19311         19311           559  SCC73  2018-06-02    Saturday   \n",
       "\n",
       "          Start Time        End Time  Count Leg  ...      edgeUID       osmId  \\\n",
       "2460  1/1/1900 11:00  1/1/1900 12:00     38   W  ...  308903477.0  10551966.0   \n",
       "2461  1/1/1900 12:00  1/1/1900 13:00     24   W  ...  308903477.0  10551966.0   \n",
       "\n",
       "      stv_total  stv_com_total  stv_rec_total  stv_com_ratio  stv_rec_ratio  \\\n",
       "2460     4075.0          355.0         3720.0       0.087117       0.912883   \n",
       "2461     4075.0          355.0         3720.0       0.087117       0.912883   \n",
       "\n",
       "                             geometry      popden Max_AMI_PMI  \n",
       "2460  POINT (-184099.677 -106086.871)  695.462189    1.255646  \n",
       "2461  POINT (-184099.677 -106086.871)  695.462189    1.255646  \n",
       "\n",
       "[2 rows x 38 columns]"
      ]
     },
     "execution_count": 138,
     "metadata": {},
     "output_type": "execute_result"
    }
   ],
   "source": [
    "# Split the weekend data by strava recreational threshold to apply factor\n",
    "w_g1=weekend_hr_data1.loc[weekend_hr_data1['stv_rec_ratio']<=0.75]\n",
    "w_g2=weekend_hr_data1.loc[weekend_hr_data1['stv_rec_ratio']>0.75]\n",
    "w_g2.tail(2)"
   ]
  },
  {
   "cell_type": "code",
   "execution_count": 139,
   "id": "b0ab45af",
   "metadata": {},
   "outputs": [
    {
     "data": {
      "text/plain": [
       "0"
      ]
     },
     "execution_count": 139,
     "metadata": {},
     "output_type": "execute_result"
    }
   ],
   "source": [
    "weekend_hr_data1['stv_rec_ratio'].isnull().sum()"
   ]
  },
  {
   "cell_type": "code",
   "execution_count": 140,
   "id": "8c671c28",
   "metadata": {},
   "outputs": [
    {
     "data": {
      "text/plain": [
       "((325, 38), (2137, 38), (2462, 38))"
      ]
     },
     "execution_count": 140,
     "metadata": {},
     "output_type": "execute_result"
    }
   ],
   "source": [
    "w_g1.shape,w_g2.shape, weekend_hr_data1.shape"
   ]
  },
  {
   "cell_type": "code",
   "execution_count": 141,
   "id": "cc8a0b38",
   "metadata": {},
   "outputs": [
    {
     "data": {
      "text/html": [
       "<div>\n",
       "<style scoped>\n",
       "    .dataframe tbody tr th:only-of-type {\n",
       "        vertical-align: middle;\n",
       "    }\n",
       "\n",
       "    .dataframe tbody tr th {\n",
       "        vertical-align: top;\n",
       "    }\n",
       "\n",
       "    .dataframe thead th {\n",
       "        text-align: right;\n",
       "    }\n",
       "</style>\n",
       "<table border=\"1\" class=\"dataframe\">\n",
       "  <thead>\n",
       "    <tr style=\"text-align: right;\">\n",
       "      <th></th>\n",
       "      <th>Unnamed: 0</th>\n",
       "      <th>starttime</th>\n",
       "      <th>Average_Group_HOD_Factor</th>\n",
       "      <th>Criteria</th>\n",
       "      <th>day_of_status</th>\n",
       "    </tr>\n",
       "  </thead>\n",
       "  <tbody>\n",
       "    <tr>\n",
       "      <th>72</th>\n",
       "      <td>0</td>\n",
       "      <td>00:00:00</td>\n",
       "      <td>0.012068</td>\n",
       "      <td>Average_stv_rec_ratio&lt;=0.75</td>\n",
       "      <td>weekend</td>\n",
       "    </tr>\n",
       "    <tr>\n",
       "      <th>73</th>\n",
       "      <td>1</td>\n",
       "      <td>01:00:00</td>\n",
       "      <td>0.007182</td>\n",
       "      <td>Average_stv_rec_ratio&lt;=0.75</td>\n",
       "      <td>weekend</td>\n",
       "    </tr>\n",
       "    <tr>\n",
       "      <th>74</th>\n",
       "      <td>2</td>\n",
       "      <td>02:00:00</td>\n",
       "      <td>0.005637</td>\n",
       "      <td>Average_stv_rec_ratio&lt;=0.75</td>\n",
       "      <td>weekend</td>\n",
       "    </tr>\n",
       "    <tr>\n",
       "      <th>75</th>\n",
       "      <td>3</td>\n",
       "      <td>03:00:00</td>\n",
       "      <td>0.003976</td>\n",
       "      <td>Average_stv_rec_ratio&lt;=0.75</td>\n",
       "      <td>weekend</td>\n",
       "    </tr>\n",
       "    <tr>\n",
       "      <th>76</th>\n",
       "      <td>4</td>\n",
       "      <td>04:00:00</td>\n",
       "      <td>0.003748</td>\n",
       "      <td>Average_stv_rec_ratio&lt;=0.75</td>\n",
       "      <td>weekend</td>\n",
       "    </tr>\n",
       "  </tbody>\n",
       "</table>\n",
       "</div>"
      ],
      "text/plain": [
       "    Unnamed: 0 starttime  Average_Group_HOD_Factor  \\\n",
       "72           0  00:00:00                  0.012068   \n",
       "73           1  01:00:00                  0.007182   \n",
       "74           2  02:00:00                  0.005637   \n",
       "75           3  03:00:00                  0.003976   \n",
       "76           4  04:00:00                  0.003748   \n",
       "\n",
       "                       Criteria day_of_status  \n",
       "72  Average_stv_rec_ratio<=0.75       weekend  \n",
       "73  Average_stv_rec_ratio<=0.75       weekend  \n",
       "74  Average_stv_rec_ratio<=0.75       weekend  \n",
       "75  Average_stv_rec_ratio<=0.75       weekend  \n",
       "76  Average_stv_rec_ratio<=0.75       weekend  "
      ]
     },
     "execution_count": 141,
     "metadata": {},
     "output_type": "execute_result"
    }
   ],
   "source": [
    "# Split the factor by criteria\n",
    "HOD_weekend=HOD.loc[HOD['day_of_status']=='weekend']\n",
    "HOD_weekend_g1=HOD_weekend.loc[HOD_weekend['Criteria']=='Average_stv_rec_ratio<=0.75']\n",
    "HOD_weekend_g2=HOD_weekend.loc[HOD_weekend['Criteria']=='Average_stv_rec_ratio>0.75']\n",
    "HOD_weekend_g1.head()"
   ]
  },
  {
   "cell_type": "code",
   "execution_count": 142,
   "id": "f65d3773",
   "metadata": {},
   "outputs": [
    {
     "data": {
      "text/plain": [
       "Index(['Unnamed: 0.2', 'Unnamed: 0.1', 'Unnamed: 0_x', 'ID', 'Date',\n",
       "       'Day of Week', 'Start Time', 'End Time', 'Count', 'Leg',\n",
       "       'matched_seg_id', 'date', 'month', 'year', 'day', 'dayofweek',\n",
       "       'weekday_Status', 'Week Day Status', 'starttime', 'endtime',\n",
       "       'starttime1', 'endtime1', 'startDateTime', 'endDateTime', 'diff', 'Lat',\n",
       "       'Long', 'Unnamed: 0_y', 'edgeUID', 'osmId', 'stv_total',\n",
       "       'stv_com_total', 'stv_rec_total', 'stv_com_ratio', 'stv_rec_ratio',\n",
       "       'geometry', 'popden', 'Max_AMI_PMI'],\n",
       "      dtype='object')"
      ]
     },
     "execution_count": 142,
     "metadata": {},
     "output_type": "execute_result"
    }
   ],
   "source": [
    "weekend_hr_data1.columns"
   ]
  },
  {
   "cell_type": "code",
   "execution_count": 143,
   "id": "e0057d5e",
   "metadata": {},
   "outputs": [],
   "source": [
    "# Calculate daily Volume for group 1\n",
    "wg1_DV=pd.merge(w_g1,HOD_weekend_g1, on=['starttime'], how='inner')\n",
    "wg1_DV1=pd.DataFrame({'agge_count' : wg1_DV.groupby(['ID','year','month','day','Leg','Day of Week','matched_seg_id','Lat','Long'])['Count'].sum()}).reset_index()\n",
    "wg1_DV1f=pd.DataFrame({'agge_factor' : wg1_DV.groupby(['ID','year','month','day','Leg','Day of Week','matched_seg_id','Lat','Long'])['Average_Group_HOD_Factor'].sum()}).reset_index()\n",
    "wg1_DV1r=pd.merge(wg1_DV1,wg1_DV1f, on=['ID','year','month','day','Leg','Day of Week','matched_seg_id','Lat','Long'], how='inner')\n",
    "wg1_DV1r['Daily_Volume']=wg1_DV1r['agge_count']/wg1_DV1r['agge_factor']\n",
    "wg1_DV1rf=pd.DataFrame({'TDV' : wg1_DV1r.groupby(['ID','year','Leg','Day of Week','month','matched_seg_id','Lat','Long'])['Daily_Volume'].mean()}).reset_index()"
   ]
  },
  {
   "cell_type": "code",
   "execution_count": 144,
   "id": "89c0a05d",
   "metadata": {},
   "outputs": [
    {
     "data": {
      "text/plain": [
       "((4, 42), (1, 10))"
      ]
     },
     "execution_count": 144,
     "metadata": {},
     "output_type": "execute_result"
    }
   ],
   "source": [
    "c=wg1_DV.loc[wg1_DV['Count']==0]\n",
    "c1=wg1_DV1.loc[wg1_DV1['agge_count']==0]\n",
    "c.shape,c1.shape"
   ]
  },
  {
   "cell_type": "code",
   "execution_count": 145,
   "id": "5445e847",
   "metadata": {},
   "outputs": [],
   "source": [
    "# Calculate daily Volume for group 1\n",
    "wg2_DV=pd.merge(w_g2,HOD_weekend_g2, on=['starttime'], how='inner')\n",
    "wg2_DV2=pd.DataFrame({'agge_count' : wg2_DV.groupby(['ID','year','month','day','Leg','Day of Week','matched_seg_id','Lat','Long'])['Count'].sum()}).reset_index()\n",
    "wg2_DV2f=pd.DataFrame({'agge_factor' : wg2_DV.groupby(['ID','year','month','day','Leg','Day of Week','matched_seg_id','Lat','Long'])['Average_Group_HOD_Factor'].sum()}).reset_index()\n",
    "wg2_DV2r=pd.merge(wg2_DV2,wg2_DV2f, on=['ID','year','month','day','Leg','Day of Week','matched_seg_id','Lat','Long'], how='inner')\n",
    "wg2_DV2r['Daily_Volume']=wg2_DV2r['agge_count']/wg2_DV2r['agge_factor']\n",
    "wg2_DV2rf=pd.DataFrame({'TDV' : wg2_DV2r.groupby(['ID','year','Leg','Day of Week','month','matched_seg_id','Lat','Long'])['Daily_Volume'].mean()}).reset_index()"
   ]
  },
  {
   "cell_type": "code",
   "execution_count": 146,
   "id": "d7230acb",
   "metadata": {},
   "outputs": [
    {
     "data": {
      "text/plain": [
       "((30, 42), (6, 10))"
      ]
     },
     "execution_count": 146,
     "metadata": {},
     "output_type": "execute_result"
    }
   ],
   "source": [
    "c=wg2_DV.loc[wg2_DV['Count']==0]\n",
    "c1=wg2_DV2.loc[wg2_DV2['agge_count']==0]\n",
    "c.shape,c1.shape"
   ]
  },
  {
   "cell_type": "code",
   "execution_count": 147,
   "id": "9f3402d2",
   "metadata": {},
   "outputs": [],
   "source": [
    "# Apply factor to obtain daily Volume\n",
    "# wg1_DV=pd.merge(w_g1,HOD_weekend_g1, on=['starttime'], how='inner')\n",
    "# wg1_DV['Daily_Volume']=wg1_DV['Count']/wg1_DV['Average_Group_HOD_Factor']\n",
    "# wg1_DV1=pd.DataFrame({'TDV' : wg1_DV.groupby(['ID','year','Leg','Day of Week','month','matched_seg_id','Lat','Long'])['Daily_Volume'].mean()}).reset_index()\n",
    "# wg2_DV=pd.merge(w_g2,HOD_weekend_g2, on=['starttime'], how='inner')\n",
    "# wg2_DV['Daily_Volume']=wg2_DV['Count']/wg2_DV['Average_Group_HOD_Factor']\n",
    "# wg2_DV2=pd.DataFrame({'TDV' : wg2_DV.groupby(['ID','year','Leg','Day of Week','month','matched_seg_id','Lat','Long'])['Daily_Volume'].mean()}).reset_index()"
   ]
  },
  {
   "cell_type": "code",
   "execution_count": 148,
   "id": "fb13b33f",
   "metadata": {},
   "outputs": [
    {
     "data": {
      "text/plain": [
       "(25, 25, 122, 122)"
      ]
     },
     "execution_count": 148,
     "metadata": {},
     "output_type": "execute_result"
    }
   ],
   "source": [
    "wg1_DV1rf['ID'].nunique(),wg1_DV1rf['ID'].nunique(),wg2_DV2rf['ID'].nunique(),wg2_DV2rf['ID'].nunique()"
   ]
  },
  {
   "cell_type": "code",
   "execution_count": 149,
   "id": "c38e4483",
   "metadata": {},
   "outputs": [
    {
     "data": {
      "text/plain": [
       "(499, 10)"
      ]
     },
     "execution_count": 149,
     "metadata": {},
     "output_type": "execute_result"
    }
   ],
   "source": [
    "# combine these three group of estimated daily volume together\n",
    "Weekend_DV_part1=pd.concat([wg1_DV1rf,wg2_DV2rf],axis=0).reset_index()\n",
    "Weekend_DV_part1.shape"
   ]
  },
  {
   "cell_type": "code",
   "execution_count": 150,
   "id": "4e6df7f1",
   "metadata": {},
   "outputs": [
    {
     "data": {
      "text/html": [
       "<div>\n",
       "<style scoped>\n",
       "    .dataframe tbody tr th:only-of-type {\n",
       "        vertical-align: middle;\n",
       "    }\n",
       "\n",
       "    .dataframe tbody tr th {\n",
       "        vertical-align: top;\n",
       "    }\n",
       "\n",
       "    .dataframe thead th {\n",
       "        text-align: right;\n",
       "    }\n",
       "</style>\n",
       "<table border=\"1\" class=\"dataframe\">\n",
       "  <thead>\n",
       "    <tr style=\"text-align: right;\">\n",
       "      <th></th>\n",
       "      <th>Unnamed: 0.2</th>\n",
       "      <th>Unnamed: 0.1</th>\n",
       "      <th>Unnamed: 0_x</th>\n",
       "      <th>ID</th>\n",
       "      <th>Date</th>\n",
       "      <th>Day of Week</th>\n",
       "      <th>Start Time</th>\n",
       "      <th>End Time</th>\n",
       "      <th>Count</th>\n",
       "      <th>Leg</th>\n",
       "      <th>...</th>\n",
       "      <th>Unnamed: 0_y</th>\n",
       "      <th>edgeUID</th>\n",
       "      <th>osmId</th>\n",
       "      <th>stv_total</th>\n",
       "      <th>stv_com_total</th>\n",
       "      <th>stv_rec_total</th>\n",
       "      <th>stv_com_ratio</th>\n",
       "      <th>geometry</th>\n",
       "      <th>popden</th>\n",
       "      <th>Max_AMI_PMI</th>\n",
       "    </tr>\n",
       "  </thead>\n",
       "  <tbody>\n",
       "  </tbody>\n",
       "</table>\n",
       "<p>0 rows × 37 columns</p>\n",
       "</div>"
      ],
      "text/plain": [
       "Empty DataFrame\n",
       "Columns: [Unnamed: 0.2, Unnamed: 0.1, Unnamed: 0_x, ID, Date, Day of Week, Start Time, End Time, Count, Leg, matched_seg_id, date, month, year, day, dayofweek, weekday_Status, Week Day Status, starttime, endtime, starttime1, endtime1, startDateTime, endDateTime, diff, Lat, Long, Unnamed: 0_y, edgeUID, osmId, stv_total, stv_com_total, stv_rec_total, stv_com_ratio, geometry, popden, Max_AMI_PMI]\n",
       "Index: []\n",
       "\n",
       "[0 rows x 37 columns]"
      ]
     },
     "execution_count": 150,
     "metadata": {},
     "output_type": "execute_result"
    }
   ],
   "source": [
    "# Now find the short term sites in the weekend where strava recreation data was not available to calculate due to lack of data\n",
    "common = weekend_hr_data1.merge(Weekend_DV_part1,on=['ID', 'year', 'Leg'])\n",
    "weekend_hr_data2=weekend_hr_data1[(~weekend_hr_data1.ID.isin(common.ID))]\n",
    "weekend_hr_data2=weekend_hr_data2.drop(['stv_rec_ratio'],axis=1)\n",
    "weekend_hr_data2.head()"
   ]
  },
  {
   "cell_type": "code",
   "execution_count": 151,
   "id": "6e31bab0",
   "metadata": {},
   "outputs": [],
   "source": [
    "# Now estimate Strava recreation Ratio using the formula Strava Recreational Ratio (SRR)= 0.96967-0.00303*√(\"population Density\" ) +𝟎.𝟎𝟐𝟑𝟗𝟓∗𝐥𝐧(𝐃𝐢𝐬𝐭𝐚𝐧𝐜𝐞 𝐭𝐨 𝐂𝐁𝐃 𝐢𝐧 𝐦𝐢𝐥𝐞)\n",
    "# a=0.96967\n",
    "# b=-0.00303\n",
    "# c=0.02395\n",
    "# weekend_hr_data2['stv_rec_ratio']=a+b*np.sqrt(weekend_hr_data2['popden'])+c*np.log(weekend_hr_data2['CBD Distance'])\n",
    "# weekend_hr_data2.head()"
   ]
  },
  {
   "cell_type": "code",
   "execution_count": 152,
   "id": "16b021ac",
   "metadata": {},
   "outputs": [],
   "source": [
    "#weekend_hr_data2['stv_rec_ratio'].describe()"
   ]
  },
  {
   "cell_type": "code",
   "execution_count": 153,
   "id": "8de1c7e1",
   "metadata": {},
   "outputs": [],
   "source": [
    "# Split the weekend data by strava recreational threshold to apply factor\n",
    "# w_g11=weekend_hr_data2.loc[weekend_hr_data2['stv_rec_ratio']<=0.75]\n",
    "# w_g22=weekend_hr_data2.loc[weekend_hr_data2['stv_rec_ratio']>0.75]\n",
    "# w_g22.tail(2)"
   ]
  },
  {
   "cell_type": "code",
   "execution_count": 154,
   "id": "401c0868",
   "metadata": {},
   "outputs": [],
   "source": [
    "# Apply factor to obtain daily Volume\n",
    "# wg11_DV=pd.merge(w_g11,HOD_weekend_g1, on=['starttime'], how='inner')\n",
    "# wg11_DV['Daily_Volume']=wg11_DV['Count']/wg11_DV['Average_Group_HOD_Factor']\n",
    "# wg11_DV11=pd.DataFrame({'TDV' : wg11_DV.groupby(['ID','year','Leg','Day of Week','month','matched_seg_id','Lat','Long'])['Daily_Volume'].mean()}).reset_index()\n",
    "# wg22_DV=pd.merge(w_g22,HOD_weekend_g2, on=['starttime'], how='inner')\n",
    "# wg22_DV['Daily_Volume']=wg22_DV['Count']/wg22_DV['Average_Group_HOD_Factor']\n",
    "# wg22_DV22=pd.DataFrame({'TDV' : wg22_DV.groupby(['ID','year','Leg','Day of Week','month','matched_seg_id','Lat','Long'])['Daily_Volume'].mean()}).reset_index()"
   ]
  },
  {
   "cell_type": "code",
   "execution_count": 155,
   "id": "76bcd329",
   "metadata": {},
   "outputs": [],
   "source": [
    "# combine these three group of estimated daily volume together\n",
    "# Weekend_DV_part2=pd.concat([wg11_DV11,wg22_DV22],axis=0).reset_index()\n",
    "# Weekend_DV_part2.shape"
   ]
  },
  {
   "cell_type": "code",
   "execution_count": 156,
   "id": "8e7b55c4",
   "metadata": {},
   "outputs": [],
   "source": [
    "# combine weekend total estimated daily volume data\n",
    "Weekend_DV=Weekend_DV_part1"
   ]
  },
  {
   "cell_type": "code",
   "execution_count": 157,
   "id": "2e179dff",
   "metadata": {},
   "outputs": [
    {
     "data": {
      "text/plain": [
       "<AxesSubplot:>"
      ]
     },
     "execution_count": 157,
     "metadata": {},
     "output_type": "execute_result"
    },
    {
     "data": {
      "image/png": "[encoded data removed]",
      "text/plain": [
       "<Figure size 432x288 with 1 Axes>"
      ]
     },
     "metadata": {
      "needs_background": "light"
     },
     "output_type": "display_data"
    }
   ],
   "source": [
    "Weekend_DV['TDV'].plot()"
   ]
  },
  {
   "cell_type": "code",
   "execution_count": 158,
   "id": "78090dcc",
   "metadata": {},
   "outputs": [
    {
     "data": {
      "text/plain": [
       "147"
      ]
     },
     "execution_count": 158,
     "metadata": {},
     "output_type": "execute_result"
    }
   ],
   "source": [
    "Weekend_DV['ID'].nunique()"
   ]
  },
  {
   "cell_type": "markdown",
   "id": "0d2242a4",
   "metadata": {},
   "source": [
    "# Combine weekday and weekend Estimated Daily Volume"
   ]
  },
  {
   "cell_type": "code",
   "execution_count": 159,
   "id": "2f9ce2a0",
   "metadata": {},
   "outputs": [
    {
     "data": {
      "text/html": [
       "<div>\n",
       "<style scoped>\n",
       "    .dataframe tbody tr th:only-of-type {\n",
       "        vertical-align: middle;\n",
       "    }\n",
       "\n",
       "    .dataframe tbody tr th {\n",
       "        vertical-align: top;\n",
       "    }\n",
       "\n",
       "    .dataframe thead th {\n",
       "        text-align: right;\n",
       "    }\n",
       "</style>\n",
       "<table border=\"1\" class=\"dataframe\">\n",
       "  <thead>\n",
       "    <tr style=\"text-align: right;\">\n",
       "      <th></th>\n",
       "      <th>level_0</th>\n",
       "      <th>index</th>\n",
       "      <th>ID</th>\n",
       "      <th>year</th>\n",
       "      <th>Leg</th>\n",
       "      <th>Day of Week</th>\n",
       "      <th>month</th>\n",
       "      <th>matched_seg_id</th>\n",
       "      <th>Lat</th>\n",
       "      <th>Long</th>\n",
       "      <th>TDV</th>\n",
       "    </tr>\n",
       "  </thead>\n",
       "  <tbody>\n",
       "    <tr>\n",
       "      <th>0</th>\n",
       "      <td>0</td>\n",
       "      <td>0</td>\n",
       "      <td>CH17</td>\n",
       "      <td>2019.0</td>\n",
       "      <td>E</td>\n",
       "      <td>Tuesday</td>\n",
       "      <td>3.0</td>\n",
       "      <td>89834</td>\n",
       "      <td>38.67821</td>\n",
       "      <td>-121.29246</td>\n",
       "      <td>67.478012</td>\n",
       "    </tr>\n",
       "    <tr>\n",
       "      <th>1</th>\n",
       "      <td>1</td>\n",
       "      <td>1</td>\n",
       "      <td>CH17</td>\n",
       "      <td>2019.0</td>\n",
       "      <td>N</td>\n",
       "      <td>Tuesday</td>\n",
       "      <td>3.0</td>\n",
       "      <td>89833</td>\n",
       "      <td>38.67821</td>\n",
       "      <td>-121.29246</td>\n",
       "      <td>41.480372</td>\n",
       "    </tr>\n",
       "    <tr>\n",
       "      <th>2</th>\n",
       "      <td>2</td>\n",
       "      <td>2</td>\n",
       "      <td>CH17</td>\n",
       "      <td>2019.0</td>\n",
       "      <td>S</td>\n",
       "      <td>Tuesday</td>\n",
       "      <td>3.0</td>\n",
       "      <td>89698</td>\n",
       "      <td>38.67821</td>\n",
       "      <td>-121.29246</td>\n",
       "      <td>30.248764</td>\n",
       "    </tr>\n",
       "    <tr>\n",
       "      <th>3</th>\n",
       "      <td>3</td>\n",
       "      <td>3</td>\n",
       "      <td>CH23</td>\n",
       "      <td>2019.0</td>\n",
       "      <td>N</td>\n",
       "      <td>Tuesday</td>\n",
       "      <td>3.0</td>\n",
       "      <td>89504</td>\n",
       "      <td>38.67837</td>\n",
       "      <td>-121.28207</td>\n",
       "      <td>36.878528</td>\n",
       "    </tr>\n",
       "    <tr>\n",
       "      <th>4</th>\n",
       "      <td>4</td>\n",
       "      <td>4</td>\n",
       "      <td>CH25</td>\n",
       "      <td>2019.0</td>\n",
       "      <td>S</td>\n",
       "      <td>Tuesday</td>\n",
       "      <td>3.0</td>\n",
       "      <td>bearing calculation not match with TMS count</td>\n",
       "      <td>38.67829</td>\n",
       "      <td>-121.27601</td>\n",
       "      <td>37.229248</td>\n",
       "    </tr>\n",
       "  </tbody>\n",
       "</table>\n",
       "</div>"
      ],
      "text/plain": [
       "   level_0  index    ID    year Leg Day of Week  month  \\\n",
       "0        0      0  CH17  2019.0   E     Tuesday    3.0   \n",
       "1        1      1  CH17  2019.0   N     Tuesday    3.0   \n",
       "2        2      2  CH17  2019.0   S     Tuesday    3.0   \n",
       "3        3      3  CH23  2019.0   N     Tuesday    3.0   \n",
       "4        4      4  CH25  2019.0   S     Tuesday    3.0   \n",
       "\n",
       "                                 matched_seg_id       Lat       Long  \\\n",
       "0                                         89834  38.67821 -121.29246   \n",
       "1                                         89833  38.67821 -121.29246   \n",
       "2                                         89698  38.67821 -121.29246   \n",
       "3                                         89504  38.67837 -121.28207   \n",
       "4  bearing calculation not match with TMS count  38.67829 -121.27601   \n",
       "\n",
       "         TDV  \n",
       "0  67.478012  \n",
       "1  41.480372  \n",
       "2  30.248764  \n",
       "3  36.878528  \n",
       "4  37.229248  "
      ]
     },
     "execution_count": 159,
     "metadata": {},
     "output_type": "execute_result"
    }
   ],
   "source": [
    "ES_DV=pd.concat([Weekday_DV, Weekend_DV],axis=0).reset_index()\n",
    "ES_DV.head()"
   ]
  },
  {
   "cell_type": "code",
   "execution_count": 160,
   "id": "cb54a67f",
   "metadata": {},
   "outputs": [
    {
     "data": {
      "text/plain": [
       "(102, 11)"
      ]
     },
     "execution_count": 160,
     "metadata": {},
     "output_type": "execute_result"
    }
   ],
   "source": [
    "zero=ES_DV.loc[ES_DV['TDV']==0]\n",
    "zero.shape"
   ]
  },
  {
   "cell_type": "code",
   "execution_count": 161,
   "id": "afe1607f",
   "metadata": {},
   "outputs": [
    {
     "data": {
      "text/plain": [
       "(2114, 83)"
      ]
     },
     "execution_count": 161,
     "metadata": {},
     "output_type": "execute_result"
    }
   ],
   "source": [
    "ES_DV['ID'].nunique(),zero['ID'].nunique()"
   ]
  },
  {
   "cell_type": "code",
   "execution_count": 162,
   "id": "b3747f23",
   "metadata": {},
   "outputs": [
    {
     "data": {
      "text/plain": [
       "year\n",
       "2016.0    2814\n",
       "2017.0     860\n",
       "2018.0    1600\n",
       "2019.0     555\n",
       "Name: ID, dtype: int64"
      ]
     },
     "execution_count": 162,
     "metadata": {},
     "output_type": "execute_result"
    }
   ],
   "source": [
    "ES_DV.groupby(['year'])['ID'].count()"
   ]
  },
  {
   "cell_type": "code",
   "execution_count": 163,
   "id": "a1484709",
   "metadata": {},
   "outputs": [
    {
     "data": {
      "text/plain": [
       "year\n",
       "2016.0    896\n",
       "2017.0    406\n",
       "2018.0    575\n",
       "2019.0    300\n",
       "Name: ID, dtype: int64"
      ]
     },
     "execution_count": 163,
     "metadata": {},
     "output_type": "execute_result"
    }
   ],
   "source": [
    "ES_DV.groupby(['year'])['ID'].nunique()"
   ]
  },
  {
   "cell_type": "code",
   "execution_count": 164,
   "id": "43091b2f",
   "metadata": {},
   "outputs": [
    {
     "data": {
      "text/plain": [
       "<AxesSubplot:>"
      ]
     },
     "execution_count": 164,
     "metadata": {},
     "output_type": "execute_result"
    },
    {
     "data": {
      "image/png": "[encoded data removed]",
      "text/plain": [
       "<Figure size 432x288 with 1 Axes>"
      ]
     },
     "metadata": {
      "needs_background": "light"
     },
     "output_type": "display_data"
    }
   ],
   "source": [
    "ES_DV['TDV'].plot()"
   ]
  },
  {
   "cell_type": "code",
   "execution_count": 165,
   "id": "ddaf5bf7",
   "metadata": {},
   "outputs": [
    {
     "data": {
      "text/plain": [
       "level_0           0\n",
       "index             0\n",
       "ID                0\n",
       "year              0\n",
       "Leg               0\n",
       "Day of Week       0\n",
       "month             0\n",
       "matched_seg_id    0\n",
       "Lat               0\n",
       "Long              0\n",
       "TDV               0\n",
       "dtype: int64"
      ]
     },
     "execution_count": 165,
     "metadata": {},
     "output_type": "execute_result"
    }
   ],
   "source": [
    "ES_DV.isnull().sum()"
   ]
  },
  {
   "cell_type": "code",
   "execution_count": 166,
   "id": "29829484",
   "metadata": {},
   "outputs": [
    {
     "data": {
      "text/html": [
       "<div>\n",
       "<style scoped>\n",
       "    .dataframe tbody tr th:only-of-type {\n",
       "        vertical-align: middle;\n",
       "    }\n",
       "\n",
       "    .dataframe tbody tr th {\n",
       "        vertical-align: top;\n",
       "    }\n",
       "\n",
       "    .dataframe thead th {\n",
       "        text-align: right;\n",
       "    }\n",
       "</style>\n",
       "<table border=\"1\" class=\"dataframe\">\n",
       "  <thead>\n",
       "    <tr style=\"text-align: right;\">\n",
       "      <th></th>\n",
       "      <th>level_0</th>\n",
       "      <th>index</th>\n",
       "      <th>ID</th>\n",
       "      <th>year</th>\n",
       "      <th>Leg</th>\n",
       "      <th>Day of Week</th>\n",
       "      <th>month</th>\n",
       "      <th>matched_seg_id</th>\n",
       "      <th>Lat</th>\n",
       "      <th>Long</th>\n",
       "      <th>TDV</th>\n",
       "    </tr>\n",
       "  </thead>\n",
       "  <tbody>\n",
       "  </tbody>\n",
       "</table>\n",
       "</div>"
      ],
      "text/plain": [
       "Empty DataFrame\n",
       "Columns: [level_0, index, ID, year, Leg, Day of Week, month, matched_seg_id, Lat, Long, TDV]\n",
       "Index: []"
      ]
     },
     "execution_count": 166,
     "metadata": {},
     "output_type": "execute_result"
    }
   ],
   "source": [
    "anomally=ES_DV.loc[ES_DV['TDV']>4000]\n",
    "anomally"
   ]
  },
  {
   "cell_type": "code",
   "execution_count": 167,
   "id": "7282aae3",
   "metadata": {},
   "outputs": [
    {
     "data": {
      "text/html": [
       "<div>\n",
       "<style scoped>\n",
       "    .dataframe tbody tr th:only-of-type {\n",
       "        vertical-align: middle;\n",
       "    }\n",
       "\n",
       "    .dataframe tbody tr th {\n",
       "        vertical-align: top;\n",
       "    }\n",
       "\n",
       "    .dataframe thead th {\n",
       "        text-align: right;\n",
       "    }\n",
       "</style>\n",
       "<table border=\"1\" class=\"dataframe\">\n",
       "  <thead>\n",
       "    <tr style=\"text-align: right;\">\n",
       "      <th></th>\n",
       "      <th>Unnamed: 0.2</th>\n",
       "      <th>Unnamed: 0.1</th>\n",
       "      <th>Unnamed: 0</th>\n",
       "      <th>ID</th>\n",
       "      <th>Date</th>\n",
       "      <th>Day of Week</th>\n",
       "      <th>Start Time</th>\n",
       "      <th>End Time</th>\n",
       "      <th>Count</th>\n",
       "      <th>Leg</th>\n",
       "      <th>...</th>\n",
       "      <th>dayofweek</th>\n",
       "      <th>weekday_Status</th>\n",
       "      <th>Week Day Status</th>\n",
       "      <th>starttime</th>\n",
       "      <th>endtime</th>\n",
       "      <th>starttime1</th>\n",
       "      <th>endtime1</th>\n",
       "      <th>startDateTime</th>\n",
       "      <th>endDateTime</th>\n",
       "      <th>diff</th>\n",
       "    </tr>\n",
       "  </thead>\n",
       "  <tbody>\n",
       "    <tr>\n",
       "      <th>8023</th>\n",
       "      <td>32670</td>\n",
       "      <td>32670</td>\n",
       "      <td>2495</td>\n",
       "      <td>Miovision81</td>\n",
       "      <td>2017-06-04</td>\n",
       "      <td>Sunday</td>\n",
       "      <td>6:00 AM</td>\n",
       "      <td>7:00 AM</td>\n",
       "      <td>1141</td>\n",
       "      <td>N</td>\n",
       "      <td>...</td>\n",
       "      <td>6.0</td>\n",
       "      <td>1</td>\n",
       "      <td>Weekend</td>\n",
       "      <td>06:00:00</td>\n",
       "      <td>07:00:00</td>\n",
       "      <td>NaN</td>\n",
       "      <td>NaN</td>\n",
       "      <td>2017-06-04 06:00:00</td>\n",
       "      <td>2017-06-04 07:00:00</td>\n",
       "      <td>1.0</td>\n",
       "    </tr>\n",
       "    <tr>\n",
       "      <th>8024</th>\n",
       "      <td>32671</td>\n",
       "      <td>32671</td>\n",
       "      <td>2496</td>\n",
       "      <td>Miovision81</td>\n",
       "      <td>2017-06-04</td>\n",
       "      <td>Sunday</td>\n",
       "      <td>7:00 AM</td>\n",
       "      <td>8:00 AM</td>\n",
       "      <td>1081</td>\n",
       "      <td>N</td>\n",
       "      <td>...</td>\n",
       "      <td>6.0</td>\n",
       "      <td>1</td>\n",
       "      <td>Weekend</td>\n",
       "      <td>07:00:00</td>\n",
       "      <td>08:00:00</td>\n",
       "      <td>NaN</td>\n",
       "      <td>NaN</td>\n",
       "      <td>2017-06-04 07:00:00</td>\n",
       "      <td>2017-06-04 08:00:00</td>\n",
       "      <td>1.0</td>\n",
       "    </tr>\n",
       "    <tr>\n",
       "      <th>8025</th>\n",
       "      <td>32672</td>\n",
       "      <td>32672</td>\n",
       "      <td>2497</td>\n",
       "      <td>Miovision81</td>\n",
       "      <td>2017-06-04</td>\n",
       "      <td>Sunday</td>\n",
       "      <td>8:00 AM</td>\n",
       "      <td>9:00 AM</td>\n",
       "      <td>81</td>\n",
       "      <td>N</td>\n",
       "      <td>...</td>\n",
       "      <td>6.0</td>\n",
       "      <td>1</td>\n",
       "      <td>Weekend</td>\n",
       "      <td>08:00:00</td>\n",
       "      <td>09:00:00</td>\n",
       "      <td>NaN</td>\n",
       "      <td>NaN</td>\n",
       "      <td>2017-06-04 08:00:00</td>\n",
       "      <td>2017-06-04 09:00:00</td>\n",
       "      <td>1.0</td>\n",
       "    </tr>\n",
       "    <tr>\n",
       "      <th>8026</th>\n",
       "      <td>32673</td>\n",
       "      <td>32673</td>\n",
       "      <td>2498</td>\n",
       "      <td>Miovision81</td>\n",
       "      <td>2017-06-04</td>\n",
       "      <td>Sunday</td>\n",
       "      <td>9:00 AM</td>\n",
       "      <td>10:00 AM</td>\n",
       "      <td>28</td>\n",
       "      <td>N</td>\n",
       "      <td>...</td>\n",
       "      <td>6.0</td>\n",
       "      <td>1</td>\n",
       "      <td>Weekend</td>\n",
       "      <td>09:00:00</td>\n",
       "      <td>10:00:00</td>\n",
       "      <td>NaN</td>\n",
       "      <td>NaN</td>\n",
       "      <td>2017-06-04 09:00:00</td>\n",
       "      <td>2017-06-04 10:00:00</td>\n",
       "      <td>1.0</td>\n",
       "    </tr>\n",
       "    <tr>\n",
       "      <th>8027</th>\n",
       "      <td>32674</td>\n",
       "      <td>32674</td>\n",
       "      <td>2499</td>\n",
       "      <td>Miovision81</td>\n",
       "      <td>2017-06-04</td>\n",
       "      <td>Sunday</td>\n",
       "      <td>10:00 AM</td>\n",
       "      <td>11:00 AM</td>\n",
       "      <td>17</td>\n",
       "      <td>N</td>\n",
       "      <td>...</td>\n",
       "      <td>6.0</td>\n",
       "      <td>1</td>\n",
       "      <td>Weekend</td>\n",
       "      <td>10:00:00</td>\n",
       "      <td>11:00:00</td>\n",
       "      <td>NaN</td>\n",
       "      <td>NaN</td>\n",
       "      <td>2017-06-04 10:00:00</td>\n",
       "      <td>2017-06-04 11:00:00</td>\n",
       "      <td>1.0</td>\n",
       "    </tr>\n",
       "  </tbody>\n",
       "</table>\n",
       "<p>5 rows × 25 columns</p>\n",
       "</div>"
      ],
      "text/plain": [
       "      Unnamed: 0.2  Unnamed: 0.1  Unnamed: 0           ID        Date  \\\n",
       "8023         32670         32670        2495  Miovision81  2017-06-04   \n",
       "8024         32671         32671        2496  Miovision81  2017-06-04   \n",
       "8025         32672         32672        2497  Miovision81  2017-06-04   \n",
       "8026         32673         32673        2498  Miovision81  2017-06-04   \n",
       "8027         32674         32674        2499  Miovision81  2017-06-04   \n",
       "\n",
       "     Day of Week Start Time  End Time  Count Leg  ... dayofweek  \\\n",
       "8023      Sunday    6:00 AM   7:00 AM   1141   N  ...       6.0   \n",
       "8024      Sunday    7:00 AM   8:00 AM   1081   N  ...       6.0   \n",
       "8025      Sunday    8:00 AM   9:00 AM     81   N  ...       6.0   \n",
       "8026      Sunday    9:00 AM  10:00 AM     28   N  ...       6.0   \n",
       "8027      Sunday   10:00 AM  11:00 AM     17   N  ...       6.0   \n",
       "\n",
       "     weekday_Status  Week Day Status  starttime   endtime  starttime1  \\\n",
       "8023              1          Weekend   06:00:00  07:00:00         NaN   \n",
       "8024              1          Weekend   07:00:00  08:00:00         NaN   \n",
       "8025              1          Weekend   08:00:00  09:00:00         NaN   \n",
       "8026              1          Weekend   09:00:00  10:00:00         NaN   \n",
       "8027              1          Weekend   10:00:00  11:00:00         NaN   \n",
       "\n",
       "      endtime1        startDateTime          endDateTime diff  \n",
       "8023       NaN  2017-06-04 06:00:00  2017-06-04 07:00:00  1.0  \n",
       "8024       NaN  2017-06-04 07:00:00  2017-06-04 08:00:00  1.0  \n",
       "8025       NaN  2017-06-04 08:00:00  2017-06-04 09:00:00  1.0  \n",
       "8026       NaN  2017-06-04 09:00:00  2017-06-04 10:00:00  1.0  \n",
       "8027       NaN  2017-06-04 10:00:00  2017-06-04 11:00:00  1.0  \n",
       "\n",
       "[5 rows x 25 columns]"
      ]
     },
     "execution_count": 167,
     "metadata": {},
     "output_type": "execute_result"
    }
   ],
   "source": [
    "an1=sc.loc[sc['ID']=='Miovision81']\n",
    "an1.head()"
   ]
  },
  {
   "cell_type": "code",
   "execution_count": 168,
   "id": "63e99347",
   "metadata": {},
   "outputs": [],
   "source": [
    "ES_DV.to_csv('C:/UC Berkeley Project Backup/Bike_ped Exposure Model Project/Estimated_Outcomes/Revised_Estimated_SC_DV.csv',index=False)"
   ]
  },
  {
   "cell_type": "markdown",
   "id": "a41e93ed",
   "metadata": {},
   "source": [
    "# End of the Code"
   ]
  }
 ],
 "metadata": {
  "kernelspec": {
   "display_name": "Python 3 (ipykernel)",
   "language": "python",
   "name": "python3"
  },
  "language_info": {
   "codemirror_mode": {
    "name": "ipython",
    "version": 3
   },
   "file_extension": ".py",
   "mimetype": "text/x-python",
   "name": "python",
   "nbconvert_exporter": "python",
   "pygments_lexer": "ipython3",
   "version": "3.10.5"
  }
 },
 "nbformat": 4,
 "nbformat_minor": 5
}
