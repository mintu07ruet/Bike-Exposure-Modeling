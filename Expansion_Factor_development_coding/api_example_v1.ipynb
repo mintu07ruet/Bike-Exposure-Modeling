{
 "cells": [
  {
   "cell_type": "code",
   "execution_count": 227,
   "id": "d7d9142b-294f-4972-ba42-b29e9f00be2c",
   "metadata": {},
   "outputs": [],
   "source": [
    "import pandas as pd\n",
    "import numpy as np\n",
    "import requests"
   ]
  },
  {
   "cell_type": "code",
   "execution_count": 228,
   "id": "a21e6b19",
   "metadata": {},
   "outputs": [],
   "source": [
    "#!pip install geopy"
   ]
  },
  {
   "cell_type": "code",
   "execution_count": 229,
   "id": "eb5f0988",
   "metadata": {},
   "outputs": [],
   "source": [
    "import io\n",
    "from geopy.geocoders import Nominatim\n",
    "geolocator = Nominatim(user_agent=\"geoapiExercises\")\n",
    "from geopy.geocoders import Nominatim\n",
    "from time import sleep"
   ]
  },
  {
   "cell_type": "code",
   "execution_count": 230,
   "id": "57c654fd-74b2-47f5-9d66-676dcd00897f",
   "metadata": {},
   "outputs": [],
   "source": [
    "### API Tools ###\n",
    "def get_api_token():\n",
    "    r\"\"\"\n",
    "    Function to retrieve API token. Token must be refreshed every hour.\n",
    "    Parameters\n",
    "    ----------\n",
    "    None\n",
    "    Returns\n",
    "    -------\n",
    "    API token\n",
    "    \"\"\"\n",
    "    # URL to retrieve token\n",
    "    url = \"https://apieco.eco-counter-tools.com/token\"\n",
    "    # API username and password\n",
    "    username = \"uc_berkeley_atc_api\"\n",
    "    password = \"6A399=A529f54d2dAY6d\"\n",
    "    # API information\n",
    "    payload={'f': 'json',\n",
    "    'username': username,\n",
    "    'password': password,\n",
    "    'grant_type' : 'password',\n",
    "    'client_secret' : 'oqxQcZErq2DMn2MdghyQLT8rWpsa', \n",
    "    'client_id' : '3YApOOeY_Ab76YV817TC4dCF9roa',\n",
    "    'referer': f\"ttps://apieco.eco-counter-tools.com/\"}\n",
    "    # get API token\n",
    "    response = requests.request(\"POST\", url, data=payload)\n",
    "    # return API token\n",
    "    return response.json()['access_token']\n",
    "\n",
    "# Note: currently issue where won't let you grab just 1 site, need at least 2\n",
    "def get_data(sites_json, token, userType, start_date, end_date, step_len = \"hour\"):\n",
    "    r\"\"\"\n",
    "    Function to retrieve data for sites in sites_json.\n",
    "    Parameters\n",
    "    ----------\n",
    "    sites_json : json\n",
    "        json of sites\n",
    "    token : str\n",
    "        API token\n",
    "    userType : int\n",
    "        type of user data to retrieve\n",
    "        {1: \"pedestrian\", 2: \"bicycle\", 3: \"horse\", 4: \"car\", 5: \"bus\", 6: \"minibus\", \n",
    "        7: \"undefined\", 8: \"motorcycle\", 9: \"kayak\", 13: \"e-scooter\", 14: \"truck\"}\n",
    "    start_date : str\n",
    "    end_date : str\n",
    "    step_len : str\n",
    "        level of data aggregation, e.g., hour, day, month\n",
    "    Returns\n",
    "    -------\n",
    "    dataframe\n",
    "        count data for sites specified over specified time period\n",
    "    \"\"\"\n",
    "    headers = {'Authorization': \"Bearer {}\".format(token)}\n",
    "    df = pd.DataFrame()\n",
    "    for item in sites_json: \n",
    "        site_df = pd.DataFrame()\n",
    "        for channel_item in item['channels']:\n",
    "            # check if userType is the mode we want, and if so get data\n",
    "            if channel_item['userType'] == userType:\n",
    "                # set up count data request\n",
    "                site_id = str(channel_item['id'])\n",
    "                base_url = \"https://apieco.eco-counter-tools.com/api/1.0/data/site/\" + \\\n",
    "                site_id + \\\n",
    "                \"?begin=\" + start_date + \\\n",
    "                \"T00:00:00&end=\" + end_date + \"T23:59:59&step=\" + step_len\n",
    "                # get count data\n",
    "                auth_response = requests.get(base_url, headers=headers)\n",
    "                # convert JSON to dataframe form\n",
    "                channel_df = pd.json_normalize(auth_response.json())\n",
    "                # add site and channel name\n",
    "                channel_df['id'] = channel_item['id']\n",
    "                channel_df['site_name'] = item['name']\n",
    "                channel_df['channel_name'] = channel_item['name']\n",
    "                channel_df['latitude'] = channel_item['latitude']\n",
    "                channel_df['longitude'] = channel_item['longitude']\n",
    "                channel_df['direction'] = channel_item['sens']\n",
    "                channel_df['type'] = channel_item['type']\n",
    "                channel_df['installationDate'] = channel_item['installationDate']\n",
    "                channel_df['counter'] = channel_item['counter']\n",
    "                channel_df['interval'] = channel_item['interval']\n",
    "                # add channel_df to site_df\n",
    "                site_df = pd.concat([site_df, channel_df])\n",
    "        df = pd.concat([df, site_df])\n",
    "    # return all data\n",
    "    return df"
   ]
  },
  {
   "cell_type": "code",
   "execution_count": 231,
   "id": "0dca2bc8-34d9-442b-b7fe-6cdc22f94ca5",
   "metadata": {},
   "outputs": [],
   "source": [
    "# Generate API token\n",
    "token = get_api_token()"
   ]
  },
  {
   "cell_type": "code",
   "execution_count": 232,
   "id": "df01ef3a-41f2-4a43-9fb9-cbc0d8a186b3",
   "metadata": {},
   "outputs": [],
   "source": [
    "# List all sites\n",
    "base_url = \"https://apieco.eco-counter-tools.com/api/1.0/site\"\n",
    "\n",
    "headers = {'Authorization': \"Bearer {}\".format(token)}\n",
    "eco_sites = requests.get(base_url, headers=headers)"
   ]
  },
  {
   "cell_type": "code",
   "execution_count": 233,
   "id": "166a908d-4e5b-4978-81bf-fd2d0aaa5d3a",
   "metadata": {},
   "outputs": [
    {
     "name": "stdout",
     "output_type": "stream",
     "text": [
      "CPU times: total: 2min 32s\n",
      "Wall time: 14min 33s\n"
     ]
    }
   ],
   "source": [
    "%%time\n",
    "# Get data for first few sites\n",
    "df = get_data(sites_json = eco_sites.json(),\n",
    "                   token = token, \n",
    "                    userType = 2, \n",
    "                    start_date = \"2008-01-01\", \n",
    "                    end_date = \"2008-12-31\", \n",
    "                    step_len = \"hour\")"
   ]
  },
  {
   "cell_type": "code",
   "execution_count": 234,
   "id": "e3a6e23f",
   "metadata": {},
   "outputs": [
    {
     "data": {
      "text/html": [
       "<div>\n",
       "<style scoped>\n",
       "    .dataframe tbody tr th:only-of-type {\n",
       "        vertical-align: middle;\n",
       "    }\n",
       "\n",
       "    .dataframe tbody tr th {\n",
       "        vertical-align: top;\n",
       "    }\n",
       "\n",
       "    .dataframe thead th {\n",
       "        text-align: right;\n",
       "    }\n",
       "</style>\n",
       "<table border=\"1\" class=\"dataframe\">\n",
       "  <thead>\n",
       "    <tr style=\"text-align: right;\">\n",
       "      <th></th>\n",
       "      <th>date</th>\n",
       "      <th>isoDate</th>\n",
       "      <th>counts</th>\n",
       "      <th>status</th>\n",
       "      <th>id</th>\n",
       "      <th>site_name</th>\n",
       "      <th>channel_name</th>\n",
       "      <th>latitude</th>\n",
       "      <th>longitude</th>\n",
       "      <th>direction</th>\n",
       "      <th>type</th>\n",
       "      <th>installationDate</th>\n",
       "      <th>counter</th>\n",
       "      <th>interval</th>\n",
       "    </tr>\n",
       "  </thead>\n",
       "  <tbody>\n",
       "    <tr>\n",
       "      <th>0</th>\n",
       "      <td>2008-01-01T00:00:00+0000</td>\n",
       "      <td>2008-01-01T00:00:00-0800</td>\n",
       "      <td>None</td>\n",
       "      <td>None</td>\n",
       "      <td>103000671</td>\n",
       "      <td>BART AT SPIRE</td>\n",
       "      <td>BART at Spire- Bikes IN to Spire</td>\n",
       "      <td>37.79116</td>\n",
       "      <td>-122.45944</td>\n",
       "      <td>1</td>\n",
       "      <td>real</td>\n",
       "      <td>2010-12-23T00:00:00-0800</td>\n",
       "      <td>X0412011792</td>\n",
       "      <td>60</td>\n",
       "    </tr>\n",
       "    <tr>\n",
       "      <th>1</th>\n",
       "      <td>2008-01-01T01:00:00+0000</td>\n",
       "      <td>2008-01-01T01:00:00-0800</td>\n",
       "      <td>None</td>\n",
       "      <td>None</td>\n",
       "      <td>103000671</td>\n",
       "      <td>BART AT SPIRE</td>\n",
       "      <td>BART at Spire- Bikes IN to Spire</td>\n",
       "      <td>37.79116</td>\n",
       "      <td>-122.45944</td>\n",
       "      <td>1</td>\n",
       "      <td>real</td>\n",
       "      <td>2010-12-23T00:00:00-0800</td>\n",
       "      <td>X0412011792</td>\n",
       "      <td>60</td>\n",
       "    </tr>\n",
       "    <tr>\n",
       "      <th>2</th>\n",
       "      <td>2008-01-01T02:00:00+0000</td>\n",
       "      <td>2008-01-01T02:00:00-0800</td>\n",
       "      <td>None</td>\n",
       "      <td>None</td>\n",
       "      <td>103000671</td>\n",
       "      <td>BART AT SPIRE</td>\n",
       "      <td>BART at Spire- Bikes IN to Spire</td>\n",
       "      <td>37.79116</td>\n",
       "      <td>-122.45944</td>\n",
       "      <td>1</td>\n",
       "      <td>real</td>\n",
       "      <td>2010-12-23T00:00:00-0800</td>\n",
       "      <td>X0412011792</td>\n",
       "      <td>60</td>\n",
       "    </tr>\n",
       "    <tr>\n",
       "      <th>3</th>\n",
       "      <td>2008-01-01T03:00:00+0000</td>\n",
       "      <td>2008-01-01T03:00:00-0800</td>\n",
       "      <td>None</td>\n",
       "      <td>None</td>\n",
       "      <td>103000671</td>\n",
       "      <td>BART AT SPIRE</td>\n",
       "      <td>BART at Spire- Bikes IN to Spire</td>\n",
       "      <td>37.79116</td>\n",
       "      <td>-122.45944</td>\n",
       "      <td>1</td>\n",
       "      <td>real</td>\n",
       "      <td>2010-12-23T00:00:00-0800</td>\n",
       "      <td>X0412011792</td>\n",
       "      <td>60</td>\n",
       "    </tr>\n",
       "    <tr>\n",
       "      <th>4</th>\n",
       "      <td>2008-01-01T04:00:00+0000</td>\n",
       "      <td>2008-01-01T04:00:00-0800</td>\n",
       "      <td>None</td>\n",
       "      <td>None</td>\n",
       "      <td>103000671</td>\n",
       "      <td>BART AT SPIRE</td>\n",
       "      <td>BART at Spire- Bikes IN to Spire</td>\n",
       "      <td>37.79116</td>\n",
       "      <td>-122.45944</td>\n",
       "      <td>1</td>\n",
       "      <td>real</td>\n",
       "      <td>2010-12-23T00:00:00-0800</td>\n",
       "      <td>X0412011792</td>\n",
       "      <td>60</td>\n",
       "    </tr>\n",
       "  </tbody>\n",
       "</table>\n",
       "</div>"
      ],
      "text/plain": [
       "                       date                   isoDate counts status  \\\n",
       "0  2008-01-01T00:00:00+0000  2008-01-01T00:00:00-0800   None   None   \n",
       "1  2008-01-01T01:00:00+0000  2008-01-01T01:00:00-0800   None   None   \n",
       "2  2008-01-01T02:00:00+0000  2008-01-01T02:00:00-0800   None   None   \n",
       "3  2008-01-01T03:00:00+0000  2008-01-01T03:00:00-0800   None   None   \n",
       "4  2008-01-01T04:00:00+0000  2008-01-01T04:00:00-0800   None   None   \n",
       "\n",
       "          id      site_name                      channel_name  latitude  \\\n",
       "0  103000671  BART AT SPIRE  BART at Spire- Bikes IN to Spire  37.79116   \n",
       "1  103000671  BART AT SPIRE  BART at Spire- Bikes IN to Spire  37.79116   \n",
       "2  103000671  BART AT SPIRE  BART at Spire- Bikes IN to Spire  37.79116   \n",
       "3  103000671  BART AT SPIRE  BART at Spire- Bikes IN to Spire  37.79116   \n",
       "4  103000671  BART AT SPIRE  BART at Spire- Bikes IN to Spire  37.79116   \n",
       "\n",
       "   longitude  direction  type          installationDate      counter  interval  \n",
       "0 -122.45944          1  real  2010-12-23T00:00:00-0800  X0412011792        60  \n",
       "1 -122.45944          1  real  2010-12-23T00:00:00-0800  X0412011792        60  \n",
       "2 -122.45944          1  real  2010-12-23T00:00:00-0800  X0412011792        60  \n",
       "3 -122.45944          1  real  2010-12-23T00:00:00-0800  X0412011792        60  \n",
       "4 -122.45944          1  real  2010-12-23T00:00:00-0800  X0412011792        60  "
      ]
     },
     "execution_count": 234,
     "metadata": {},
     "output_type": "execute_result"
    }
   ],
   "source": [
    "df.head()"
   ]
  },
  {
   "cell_type": "code",
   "execution_count": null,
   "id": "d813e699",
   "metadata": {},
   "outputs": [],
   "source": [
    "#https://developers.eco-counter.com/\n",
    "# sens:Direction detection information. {1: IN direction, 2: OUT direction, 5: No direction distinction}"
   ]
  },
  {
   "cell_type": "code",
   "execution_count": null,
   "id": "e8d6125d",
   "metadata": {},
   "outputs": [],
   "source": [
    "#eco_sites.json()[0] "
   ]
  },
  {
   "cell_type": "code",
   "execution_count": null,
   "id": "6ebb6fe9",
   "metadata": {},
   "outputs": [],
   "source": [
    "# j = 0\n",
    "# for site in eco_sites.json():\n",
    "#     if site['latitude'] > 40 and site['longitude'] < -120:\n",
    "#         print('id:', site['id'])\n",
    "#         print('site name:', site['name'])\n",
    "#         print('site domain:', site['domain'])\n",
    "#         print('site lat:', site['latitude'])\n",
    "#         print('site long:',site['longitude'])\n",
    "#         print('userType:',site['userType'])\n",
    "#         print('direction:',site['sens'])\n",
    "#         print('type:',site['type'])\n",
    "#         print('installationDate:',site['installationDate'])\n",
    "#         print(j)\n",
    "#     j = j + 1"
   ]
  },
  {
   "cell_type": "code",
   "execution_count": null,
   "id": "3f31c016",
   "metadata": {},
   "outputs": [],
   "source": [
    "city_state=df.drop_duplicates(subset=['id'], keep='first').reset_index()"
   ]
  },
  {
   "cell_type": "code",
   "execution_count": null,
   "id": "8e979cfa",
   "metadata": {},
   "outputs": [],
   "source": [
    "# lets bring to city, county with the data frame\n",
    "# def city_state_country(row):\n",
    "#     coord = f\"{row['latitude']}, {row['longitude']}\"\n",
    "#     location = geolocator.reverse(coord, exactly_one=True)\n",
    "#     address = location.raw['address']\n",
    "#     city = address.get('city', '')\n",
    "#     state = address.get('state', '')\n",
    "#     country = address.get('country', '')\n",
    "#     row['city'] = city\n",
    "#     row['state'] = state\n",
    "#     row['country'] = country\n",
    "#     return row"
   ]
  },
  {
   "cell_type": "code",
   "execution_count": null,
   "id": "238c738b",
   "metadata": {},
   "outputs": [],
   "source": [
    "def city_state_country(row):\n",
    "    coord = f\"{row['latitude']}, {row['longitude']}\"\n",
    "    sleep(1)\n",
    "    location = geolocator.reverse(coord, exactly_one=True, language='en')\n",
    "    if not location:\n",
    "        # if you see many in a row, it's probably Nominatim blocking you.\n",
    "        # if it's just every once in a while, there were just some bad results. \n",
    "        print('Failed with coord: ', coord)\n",
    "        row['city'], row['state'], row['country2'] = None, None, None\n",
    "        return row\n",
    "    address = location.raw['address']\n",
    "    city = address.get('city', '')\n",
    "    state = address.get('state', '')\n",
    "    country = address.get('country', '')\n",
    "    row['city'] = city\n",
    "    row['state'] = state\n",
    "    row['country2'] = country\n",
    "    return row"
   ]
  },
  {
   "cell_type": "code",
   "execution_count": null,
   "id": "1b6bdace",
   "metadata": {},
   "outputs": [],
   "source": [
    "city_state1 = city_state.apply(city_state_country, axis=1)"
   ]
  },
  {
   "cell_type": "code",
   "execution_count": null,
   "id": "71b81921",
   "metadata": {},
   "outputs": [],
   "source": [
    "city_state2=city_state1[['id','latitude','longitude','city','state','country2']]\n",
    "city_state3=pd.merge(df,city_state2, left_on=['id','latitude','longitude'],right_on=['id','latitude','longitude'], how='inner')"
   ]
  },
  {
   "cell_type": "code",
   "execution_count": null,
   "id": "50bd3cf3",
   "metadata": {},
   "outputs": [],
   "source": [
    "city_state3.shape, df.shape"
   ]
  },
  {
   "cell_type": "code",
   "execution_count": null,
   "id": "421b2a8f",
   "metadata": {},
   "outputs": [],
   "source": [
    "city_state2.groupby(['city'])['id'].count()"
   ]
  },
  {
   "cell_type": "code",
   "execution_count": null,
   "id": "0fc13351",
   "metadata": {},
   "outputs": [],
   "source": [
    "#df = df.apply(city_state_country, axis=1)\n",
    "#df.head()"
   ]
  },
  {
   "cell_type": "code",
   "execution_count": null,
   "id": "296c7afc",
   "metadata": {},
   "outputs": [],
   "source": [
    "# save the data\n",
    "city_state3.to_csv(\"D:/Bike_ped Exposure Model Project/Eco_data/eco_2008_hourly.csv\")"
   ]
  },
  {
   "cell_type": "code",
   "execution_count": null,
   "id": "3a2fe709",
   "metadata": {},
   "outputs": [],
   "source": []
  }
 ],
 "metadata": {
  "kernelspec": {
   "display_name": "Python 3 (ipykernel)",
   "language": "python",
   "name": "python3"
  },
  "language_info": {
   "codemirror_mode": {
    "name": "ipython",
    "version": 3
   },
   "file_extension": ".py",
   "mimetype": "text/x-python",
   "name": "python",
   "nbconvert_exporter": "python",
   "pygments_lexer": "ipython3",
   "version": "3.10.6"
  }
 },
 "nbformat": 4,
 "nbformat_minor": 5
}
