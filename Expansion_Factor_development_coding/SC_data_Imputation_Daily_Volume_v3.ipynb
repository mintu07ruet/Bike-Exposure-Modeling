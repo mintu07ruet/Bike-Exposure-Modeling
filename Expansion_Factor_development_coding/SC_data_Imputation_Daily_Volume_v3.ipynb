{
 "cells": [
  {
   "cell_type": "code",
   "execution_count": 1,
   "id": "debf0704",
   "metadata": {},
   "outputs": [
    {
     "name": "stderr",
     "output_type": "stream",
     "text": [
      "C:\\Users\\mmmiah\\AppData\\Local\\ESRI\\conda\\envs\\geo_env\\Lib\\site-packages\\geopandas\\_compat.py:123: UserWarning: The Shapely GEOS version (3.11.1-CAPI-1.17.1) is incompatible with the GEOS version PyGEOS was compiled with (3.10.4-CAPI-1.16.2). Conversions between both will be slow.\n",
      "  warnings.warn(\n",
      "C:\\Users\\mmmiah\\AppData\\Local\\Temp\\ipykernel_19244\\457341533.py:8: UserWarning: Shapely 2.0 is installed, but because PyGEOS is also installed, GeoPandas will still use PyGEOS by default for now. To force to use and test Shapely 2.0, you have to set the environment variable USE_PYGEOS=0. You can do this before starting the Python process, or in your code before importing geopandas:\n",
      "\n",
      "import os\n",
      "os.environ['USE_PYGEOS'] = '0'\n",
      "import geopandas\n",
      "\n",
      "In a future release, GeoPandas will switch to using Shapely by default. If you are using PyGEOS directly (calling PyGEOS functions on geometries from GeoPandas), this will then stop working and you are encouraged to migrate from PyGEOS to Shapely 2.0 (https://shapely.readthedocs.io/en/latest/migration_pygeos.html).\n",
      "  import geopandas as gpd\n"
     ]
    }
   ],
   "source": [
    "# import necessary library\n",
    "import pandas as pd\n",
    "import math\n",
    "import seaborn as sns\n",
    "from matplotlib import pyplot as plt\n",
    "import re\n",
    "import numpy as np\n",
    "import geopandas as gpd\n",
    "from shapely.geometry import Point # Point class\n",
    "from shapely.geometry import shape\n",
    "import networkx as nx\n",
    "import osmnx as ox\n",
    "import os \n",
    "from geopandas import GeoDataFrame, read_file\n",
    "from geopandas.tools import overlay\n",
    "import shapely.geometry as geom\n",
    "import shapely.wkt"
   ]
  },
  {
   "cell_type": "code",
   "execution_count": 2,
   "id": "78e57dc1",
   "metadata": {},
   "outputs": [],
   "source": [
    "# Helper Function\n",
    "def min_distance_ppoly(point, polygon):\n",
    "    return polygon.distance(point).min()"
   ]
  },
  {
   "cell_type": "code",
   "execution_count": 3,
   "id": "597bb4cb",
   "metadata": {},
   "outputs": [
    {
     "name": "stderr",
     "output_type": "stream",
     "text": [
      "C:\\Users\\mmmiah\\AppData\\Local\\Temp\\ipykernel_19244\\3955641035.py:2: DtypeWarning: Columns (21,22) have mixed types. Specify dtype option on import or set low_memory=False.\n",
      "  sci=pd.read_csv('H:/Desktop/Bike_ped Exposure Model Project/Processed Data/bike_unflagged_data.csv')\n"
     ]
    },
    {
     "data": {
      "text/html": [
       "<div>\n",
       "<style scoped>\n",
       "    .dataframe tbody tr th:only-of-type {\n",
       "        vertical-align: middle;\n",
       "    }\n",
       "\n",
       "    .dataframe tbody tr th {\n",
       "        vertical-align: top;\n",
       "    }\n",
       "\n",
       "    .dataframe thead th {\n",
       "        text-align: right;\n",
       "    }\n",
       "</style>\n",
       "<table border=\"1\" class=\"dataframe\">\n",
       "  <thead>\n",
       "    <tr style=\"text-align: right;\">\n",
       "      <th></th>\n",
       "      <th>Unnamed: 0.2</th>\n",
       "      <th>matched_seg_id</th>\n",
       "      <th>Leg</th>\n",
       "      <th>year</th>\n",
       "      <th>...1</th>\n",
       "      <th>Unnamed: 0.1</th>\n",
       "      <th>Unnamed: 0</th>\n",
       "      <th>ID</th>\n",
       "      <th>Date</th>\n",
       "      <th>Day of Week</th>\n",
       "      <th>...</th>\n",
       "      <th>season</th>\n",
       "      <th>max_flag</th>\n",
       "      <th>night_flag</th>\n",
       "      <th>counts</th>\n",
       "      <th>(hour &gt;= 6 &amp; hour &lt;= 21)</th>\n",
       "      <th>MAD_flag_threshold</th>\n",
       "      <th>MAD_flag</th>\n",
       "      <th>comb_flag</th>\n",
       "      <th>comb_flag_day_count</th>\n",
       "      <th>comb_flag_day</th>\n",
       "    </tr>\n",
       "  </thead>\n",
       "  <tbody>\n",
       "    <tr>\n",
       "      <th>0</th>\n",
       "      <td>1</td>\n",
       "      <td>1002</td>\n",
       "      <td>S</td>\n",
       "      <td>2017</td>\n",
       "      <td>30418</td>\n",
       "      <td>30418</td>\n",
       "      <td>243</td>\n",
       "      <td>Miovision6</td>\n",
       "      <td>2017-12-13</td>\n",
       "      <td>Wednesday</td>\n",
       "      <td>...</td>\n",
       "      <td>False</td>\n",
       "      <td>False</td>\n",
       "      <td>False</td>\n",
       "      <td>4</td>\n",
       "      <td>True</td>\n",
       "      <td>77.1648</td>\n",
       "      <td>False</td>\n",
       "      <td>False</td>\n",
       "      <td>0</td>\n",
       "      <td>False</td>\n",
       "    </tr>\n",
       "    <tr>\n",
       "      <th>1</th>\n",
       "      <td>2</td>\n",
       "      <td>1002</td>\n",
       "      <td>S</td>\n",
       "      <td>2017</td>\n",
       "      <td>30420</td>\n",
       "      <td>30420</td>\n",
       "      <td>245</td>\n",
       "      <td>Miovision6</td>\n",
       "      <td>2017-12-13</td>\n",
       "      <td>Wednesday</td>\n",
       "      <td>...</td>\n",
       "      <td>False</td>\n",
       "      <td>False</td>\n",
       "      <td>False</td>\n",
       "      <td>2</td>\n",
       "      <td>True</td>\n",
       "      <td>77.1648</td>\n",
       "      <td>False</td>\n",
       "      <td>False</td>\n",
       "      <td>0</td>\n",
       "      <td>False</td>\n",
       "    </tr>\n",
       "    <tr>\n",
       "      <th>2</th>\n",
       "      <td>3</td>\n",
       "      <td>1002</td>\n",
       "      <td>S</td>\n",
       "      <td>2017</td>\n",
       "      <td>30419</td>\n",
       "      <td>30419</td>\n",
       "      <td>244</td>\n",
       "      <td>Miovision6</td>\n",
       "      <td>2017-12-13</td>\n",
       "      <td>Wednesday</td>\n",
       "      <td>...</td>\n",
       "      <td>False</td>\n",
       "      <td>False</td>\n",
       "      <td>False</td>\n",
       "      <td>4</td>\n",
       "      <td>True</td>\n",
       "      <td>77.1648</td>\n",
       "      <td>False</td>\n",
       "      <td>False</td>\n",
       "      <td>0</td>\n",
       "      <td>False</td>\n",
       "    </tr>\n",
       "    <tr>\n",
       "      <th>3</th>\n",
       "      <td>4</td>\n",
       "      <td>1002</td>\n",
       "      <td>S</td>\n",
       "      <td>2017</td>\n",
       "      <td>30421</td>\n",
       "      <td>30421</td>\n",
       "      <td>246</td>\n",
       "      <td>Miovision6</td>\n",
       "      <td>2017-12-13</td>\n",
       "      <td>Wednesday</td>\n",
       "      <td>...</td>\n",
       "      <td>False</td>\n",
       "      <td>False</td>\n",
       "      <td>False</td>\n",
       "      <td>6</td>\n",
       "      <td>True</td>\n",
       "      <td>77.1648</td>\n",
       "      <td>False</td>\n",
       "      <td>False</td>\n",
       "      <td>0</td>\n",
       "      <td>False</td>\n",
       "    </tr>\n",
       "    <tr>\n",
       "      <th>4</th>\n",
       "      <td>5</td>\n",
       "      <td>101099</td>\n",
       "      <td>S</td>\n",
       "      <td>2018</td>\n",
       "      <td>29891</td>\n",
       "      <td>29891</td>\n",
       "      <td>787</td>\n",
       "      <td>Vista86</td>\n",
       "      <td>2018-04-19</td>\n",
       "      <td>Thursday</td>\n",
       "      <td>...</td>\n",
       "      <td>False</td>\n",
       "      <td>False</td>\n",
       "      <td>False</td>\n",
       "      <td>3</td>\n",
       "      <td>True</td>\n",
       "      <td>58.3736</td>\n",
       "      <td>False</td>\n",
       "      <td>False</td>\n",
       "      <td>0</td>\n",
       "      <td>False</td>\n",
       "    </tr>\n",
       "  </tbody>\n",
       "</table>\n",
       "<p>5 rows × 42 columns</p>\n",
       "</div>"
      ],
      "text/plain": [
       "   Unnamed: 0.2  matched_seg_id Leg  year   ...1  Unnamed: 0.1  Unnamed: 0  \\\n",
       "0             1            1002   S  2017  30418         30418         243   \n",
       "1             2            1002   S  2017  30420         30420         245   \n",
       "2             3            1002   S  2017  30419         30419         244   \n",
       "3             4            1002   S  2017  30421         30421         246   \n",
       "4             5          101099   S  2018  29891         29891         787   \n",
       "\n",
       "           ID        Date Day of Week  ... season max_flag  night_flag counts  \\\n",
       "0  Miovision6  2017-12-13   Wednesday  ...  False    False       False      4   \n",
       "1  Miovision6  2017-12-13   Wednesday  ...  False    False       False      2   \n",
       "2  Miovision6  2017-12-13   Wednesday  ...  False    False       False      4   \n",
       "3  Miovision6  2017-12-13   Wednesday  ...  False    False       False      6   \n",
       "4     Vista86  2018-04-19    Thursday  ...  False    False       False      3   \n",
       "\n",
       "   (hour >= 6 & hour <= 21)  MAD_flag_threshold  MAD_flag  comb_flag  \\\n",
       "0                      True             77.1648     False      False   \n",
       "1                      True             77.1648     False      False   \n",
       "2                      True             77.1648     False      False   \n",
       "3                      True             77.1648     False      False   \n",
       "4                      True             58.3736     False      False   \n",
       "\n",
       "  comb_flag_day_count comb_flag_day  \n",
       "0                   0         False  \n",
       "1                   0         False  \n",
       "2                   0         False  \n",
       "3                   0         False  \n",
       "4                   0         False  \n",
       "\n",
       "[5 rows x 42 columns]"
      ]
     },
     "execution_count": 3,
     "metadata": {},
     "output_type": "execute_result"
    }
   ],
   "source": [
    "# read the shprt term sites count data from 2016 to 2019\n",
    "sci=pd.read_csv('H:/Desktop/Bike_ped Exposure Model Project/Processed Data/bike_unflagged_data.csv')\n",
    "sci.head()"
   ]
  },
  {
   "cell_type": "code",
   "execution_count": 4,
   "id": "98190336",
   "metadata": {},
   "outputs": [
    {
     "data": {
      "text/plain": [
       "count    26520.000000\n",
       "mean        36.889253\n",
       "std         79.686817\n",
       "min          2.000000\n",
       "25%          4.000000\n",
       "50%          8.000000\n",
       "75%         21.000000\n",
       "max        353.000000\n",
       "Name: Total_hour, dtype: float64"
      ]
     },
     "execution_count": 4,
     "metadata": {},
     "output_type": "execute_result"
    }
   ],
   "source": [
    "sci['Total_hour'].describe()"
   ]
  },
  {
   "cell_type": "code",
   "execution_count": 29,
   "id": "bcc80a32",
   "metadata": {},
   "outputs": [
    {
     "data": {
      "text/plain": [
       "count    26520.000000\n",
       "mean         9.222210\n",
       "std         11.385765\n",
       "min          0.000000\n",
       "25%          2.000000\n",
       "50%          5.000000\n",
       "75%         11.000000\n",
       "max         95.000000\n",
       "Name: counts, dtype: float64"
      ]
     },
     "execution_count": 29,
     "metadata": {},
     "output_type": "execute_result"
    }
   ],
   "source": [
    "sci['counts'].describe()"
   ]
  },
  {
   "cell_type": "code",
   "execution_count": 5,
   "id": "c655b280",
   "metadata": {},
   "outputs": [
    {
     "data": {
      "text/plain": [
       "year\n",
       "2014    1095\n",
       "2015    2153\n",
       "2016    8586\n",
       "2017    4664\n",
       "2018    6110\n",
       "2019    3912\n",
       "Name: ID, dtype: int64"
      ]
     },
     "execution_count": 5,
     "metadata": {},
     "output_type": "execute_result"
    }
   ],
   "source": [
    "sci.groupby(['year'])['ID'].count()"
   ]
  },
  {
   "cell_type": "code",
   "execution_count": 8,
   "id": "34654512",
   "metadata": {},
   "outputs": [
    {
     "data": {
      "text/plain": [
       "matched_seg_id\n",
       "1002       4\n",
       "1030       9\n",
       "1197      11\n",
       "1266      10\n",
       "1388       9\n",
       "          ..\n",
       "163139     8\n",
       "163153     8\n",
       "163156     8\n",
       "163158     8\n",
       "163159     8\n",
       "Name: diff, Length: 3178, dtype: int64"
      ]
     },
     "execution_count": 8,
     "metadata": {},
     "output_type": "execute_result"
    }
   ],
   "source": [
    "sci.groupby(['matched_seg_id'])['diff'].count()"
   ]
  },
  {
   "cell_type": "code",
   "execution_count": 9,
   "id": "a03c4879",
   "metadata": {},
   "outputs": [
    {
     "data": {
      "text/plain": [
       "year\n",
       "2014    1095\n",
       "2015    2153\n",
       "2016    8586\n",
       "2017    4664\n",
       "2018    6110\n",
       "2019    3912\n",
       "Name: Leg, dtype: int64"
      ]
     },
     "execution_count": 9,
     "metadata": {},
     "output_type": "execute_result"
    }
   ],
   "source": [
    "sci.groupby(['year'])['Leg'].count()"
   ]
  },
  {
   "cell_type": "code",
   "execution_count": 10,
   "id": "e9d41c35",
   "metadata": {},
   "outputs": [],
   "source": [
    "sci['Leg'].replace({None: 'unknown'},inplace =True)\n",
    "sci['matched_seg_id'].replace({None: 'unknown'},inplace =True)"
   ]
  },
  {
   "cell_type": "code",
   "execution_count": 11,
   "id": "ceaf8a4f",
   "metadata": {},
   "outputs": [
    {
     "data": {
      "text/html": [
       "<div>\n",
       "<style scoped>\n",
       "    .dataframe tbody tr th:only-of-type {\n",
       "        vertical-align: middle;\n",
       "    }\n",
       "\n",
       "    .dataframe tbody tr th {\n",
       "        vertical-align: top;\n",
       "    }\n",
       "\n",
       "    .dataframe thead th {\n",
       "        text-align: right;\n",
       "    }\n",
       "</style>\n",
       "<table border=\"1\" class=\"dataframe\">\n",
       "  <thead>\n",
       "    <tr style=\"text-align: right;\">\n",
       "      <th></th>\n",
       "      <th>Unnamed: 0.2</th>\n",
       "      <th>matched_seg_id</th>\n",
       "      <th>Leg</th>\n",
       "      <th>year</th>\n",
       "      <th>...1</th>\n",
       "      <th>Unnamed: 0.1</th>\n",
       "      <th>Unnamed: 0</th>\n",
       "      <th>ID</th>\n",
       "      <th>Date</th>\n",
       "      <th>Day of Week</th>\n",
       "      <th>...</th>\n",
       "      <th>season</th>\n",
       "      <th>max_flag</th>\n",
       "      <th>night_flag</th>\n",
       "      <th>counts</th>\n",
       "      <th>(hour &gt;= 6 &amp; hour &lt;= 21)</th>\n",
       "      <th>MAD_flag_threshold</th>\n",
       "      <th>MAD_flag</th>\n",
       "      <th>comb_flag</th>\n",
       "      <th>comb_flag_day_count</th>\n",
       "      <th>comb_flag_day</th>\n",
       "    </tr>\n",
       "  </thead>\n",
       "  <tbody>\n",
       "    <tr>\n",
       "      <th>0</th>\n",
       "      <td>1</td>\n",
       "      <td>1002</td>\n",
       "      <td>S</td>\n",
       "      <td>2017</td>\n",
       "      <td>30418</td>\n",
       "      <td>30418</td>\n",
       "      <td>243</td>\n",
       "      <td>Miovision6</td>\n",
       "      <td>2017-12-13</td>\n",
       "      <td>Wednesday</td>\n",
       "      <td>...</td>\n",
       "      <td>False</td>\n",
       "      <td>False</td>\n",
       "      <td>False</td>\n",
       "      <td>4</td>\n",
       "      <td>True</td>\n",
       "      <td>77.1648</td>\n",
       "      <td>False</td>\n",
       "      <td>False</td>\n",
       "      <td>0</td>\n",
       "      <td>False</td>\n",
       "    </tr>\n",
       "    <tr>\n",
       "      <th>1</th>\n",
       "      <td>2</td>\n",
       "      <td>1002</td>\n",
       "      <td>S</td>\n",
       "      <td>2017</td>\n",
       "      <td>30420</td>\n",
       "      <td>30420</td>\n",
       "      <td>245</td>\n",
       "      <td>Miovision6</td>\n",
       "      <td>2017-12-13</td>\n",
       "      <td>Wednesday</td>\n",
       "      <td>...</td>\n",
       "      <td>False</td>\n",
       "      <td>False</td>\n",
       "      <td>False</td>\n",
       "      <td>2</td>\n",
       "      <td>True</td>\n",
       "      <td>77.1648</td>\n",
       "      <td>False</td>\n",
       "      <td>False</td>\n",
       "      <td>0</td>\n",
       "      <td>False</td>\n",
       "    </tr>\n",
       "    <tr>\n",
       "      <th>2</th>\n",
       "      <td>3</td>\n",
       "      <td>1002</td>\n",
       "      <td>S</td>\n",
       "      <td>2017</td>\n",
       "      <td>30419</td>\n",
       "      <td>30419</td>\n",
       "      <td>244</td>\n",
       "      <td>Miovision6</td>\n",
       "      <td>2017-12-13</td>\n",
       "      <td>Wednesday</td>\n",
       "      <td>...</td>\n",
       "      <td>False</td>\n",
       "      <td>False</td>\n",
       "      <td>False</td>\n",
       "      <td>4</td>\n",
       "      <td>True</td>\n",
       "      <td>77.1648</td>\n",
       "      <td>False</td>\n",
       "      <td>False</td>\n",
       "      <td>0</td>\n",
       "      <td>False</td>\n",
       "    </tr>\n",
       "    <tr>\n",
       "      <th>3</th>\n",
       "      <td>4</td>\n",
       "      <td>1002</td>\n",
       "      <td>S</td>\n",
       "      <td>2017</td>\n",
       "      <td>30421</td>\n",
       "      <td>30421</td>\n",
       "      <td>246</td>\n",
       "      <td>Miovision6</td>\n",
       "      <td>2017-12-13</td>\n",
       "      <td>Wednesday</td>\n",
       "      <td>...</td>\n",
       "      <td>False</td>\n",
       "      <td>False</td>\n",
       "      <td>False</td>\n",
       "      <td>6</td>\n",
       "      <td>True</td>\n",
       "      <td>77.1648</td>\n",
       "      <td>False</td>\n",
       "      <td>False</td>\n",
       "      <td>0</td>\n",
       "      <td>False</td>\n",
       "    </tr>\n",
       "    <tr>\n",
       "      <th>4</th>\n",
       "      <td>5</td>\n",
       "      <td>101099</td>\n",
       "      <td>S</td>\n",
       "      <td>2018</td>\n",
       "      <td>29891</td>\n",
       "      <td>29891</td>\n",
       "      <td>787</td>\n",
       "      <td>Vista86</td>\n",
       "      <td>2018-04-19</td>\n",
       "      <td>Thursday</td>\n",
       "      <td>...</td>\n",
       "      <td>False</td>\n",
       "      <td>False</td>\n",
       "      <td>False</td>\n",
       "      <td>3</td>\n",
       "      <td>True</td>\n",
       "      <td>58.3736</td>\n",
       "      <td>False</td>\n",
       "      <td>False</td>\n",
       "      <td>0</td>\n",
       "      <td>False</td>\n",
       "    </tr>\n",
       "  </tbody>\n",
       "</table>\n",
       "<p>5 rows × 42 columns</p>\n",
       "</div>"
      ],
      "text/plain": [
       "   Unnamed: 0.2  matched_seg_id Leg  year   ...1  Unnamed: 0.1  Unnamed: 0  \\\n",
       "0             1            1002   S  2017  30418         30418         243   \n",
       "1             2            1002   S  2017  30420         30420         245   \n",
       "2             3            1002   S  2017  30419         30419         244   \n",
       "3             4            1002   S  2017  30421         30421         246   \n",
       "4             5          101099   S  2018  29891         29891         787   \n",
       "\n",
       "           ID        Date Day of Week  ... season max_flag  night_flag counts  \\\n",
       "0  Miovision6  2017-12-13   Wednesday  ...  False    False       False      4   \n",
       "1  Miovision6  2017-12-13   Wednesday  ...  False    False       False      2   \n",
       "2  Miovision6  2017-12-13   Wednesday  ...  False    False       False      4   \n",
       "3  Miovision6  2017-12-13   Wednesday  ...  False    False       False      6   \n",
       "4     Vista86  2018-04-19    Thursday  ...  False    False       False      3   \n",
       "\n",
       "   (hour >= 6 & hour <= 21)  MAD_flag_threshold  MAD_flag  comb_flag  \\\n",
       "0                      True             77.1648     False      False   \n",
       "1                      True             77.1648     False      False   \n",
       "2                      True             77.1648     False      False   \n",
       "3                      True             77.1648     False      False   \n",
       "4                      True             58.3736     False      False   \n",
       "\n",
       "  comb_flag_day_count comb_flag_day  \n",
       "0                   0         False  \n",
       "1                   0         False  \n",
       "2                   0         False  \n",
       "3                   0         False  \n",
       "4                   0         False  \n",
       "\n",
       "[5 rows x 42 columns]"
      ]
     },
     "execution_count": 11,
     "metadata": {},
     "output_type": "execute_result"
    }
   ],
   "source": [
    "sci.head()"
   ]
  },
  {
   "cell_type": "code",
   "execution_count": 12,
   "id": "32b57ace",
   "metadata": {},
   "outputs": [
    {
     "name": "stderr",
     "output_type": "stream",
     "text": [
      "C:\\Users\\mmmiah\\AppData\\Local\\Temp\\ipykernel_19244\\2565710617.py:1: FutureWarning: The pandas.np module is deprecated and will be removed from pandas in a future version. Import numpy directly instead.\n",
      "  sci['Mio'] = pd.np.where(sci.ID.str.contains(\"NaN\"),\"0\",\n",
      "C:\\Users\\mmmiah\\AppData\\Local\\Temp\\ipykernel_19244\\2565710617.py:2: FutureWarning: The pandas.np module is deprecated and will be removed from pandas in a future version. Import numpy directly instead.\n",
      "  pd.np.where(sci.ID.str.contains(\"Miovision\"), '1',0))\n"
     ]
    },
    {
     "data": {
      "text/plain": [
       "21"
      ]
     },
     "execution_count": 12,
     "metadata": {},
     "output_type": "execute_result"
    }
   ],
   "source": [
    "sci['Mio'] = pd.np.where(sci.ID.str.contains(\"NaN\"),\"0\",\n",
    "                   pd.np.where(sci.ID.str.contains(\"Miovision\"), '1',0)) \n",
    "scc=sci.loc[sci['Mio']=='1']\n",
    "scc1=scc.loc[scc['year']==2015]\n",
    "scc1['ID'].nunique()\n"
   ]
  },
  {
   "cell_type": "code",
   "execution_count": 13,
   "id": "d8063627",
   "metadata": {},
   "outputs": [
    {
     "data": {
      "text/plain": [
       "Index(['Unnamed: 0.2', 'matched_seg_id', 'Leg', 'year', '...1', 'Unnamed: 0.1',\n",
       "       'Unnamed: 0', 'ID', 'Date', 'Day of Week', 'Start Time', 'End Time',\n",
       "       'Count', 'date', 'month', 'day', 'dayofweek', 'weekday_Status',\n",
       "       'Week Day Status', 'starttime', 'endtime', 'starttime1', 'endtime1',\n",
       "       'startDateTime', 'endDateTime', 'diff', 'hour', 'Total_hour',\n",
       "       'csum_counts', 'csum_hours', 'consec_flag', 'consec_flag1', 'season',\n",
       "       'max_flag', 'night_flag', 'counts', '(hour >= 6 & hour <= 21)',\n",
       "       'MAD_flag_threshold', 'MAD_flag', 'comb_flag', 'comb_flag_day_count',\n",
       "       'comb_flag_day', 'Mio'],\n",
       "      dtype='object')"
      ]
     },
     "execution_count": 13,
     "metadata": {},
     "output_type": "execute_result"
    }
   ],
   "source": [
    "sci.columns"
   ]
  },
  {
   "cell_type": "code",
   "execution_count": 14,
   "id": "35a166d6",
   "metadata": {},
   "outputs": [
    {
     "data": {
      "text/html": [
       "<div>\n",
       "<style scoped>\n",
       "    .dataframe tbody tr th:only-of-type {\n",
       "        vertical-align: middle;\n",
       "    }\n",
       "\n",
       "    .dataframe tbody tr th {\n",
       "        vertical-align: top;\n",
       "    }\n",
       "\n",
       "    .dataframe thead th {\n",
       "        text-align: right;\n",
       "    }\n",
       "</style>\n",
       "<table border=\"1\" class=\"dataframe\">\n",
       "  <thead>\n",
       "    <tr style=\"text-align: right;\">\n",
       "      <th></th>\n",
       "      <th>Unnamed: 0.2</th>\n",
       "      <th>matched_seg_id</th>\n",
       "      <th>Leg</th>\n",
       "      <th>year</th>\n",
       "      <th>...1</th>\n",
       "      <th>Unnamed: 0.1</th>\n",
       "      <th>Unnamed: 0</th>\n",
       "      <th>ID</th>\n",
       "      <th>Date</th>\n",
       "      <th>Day of Week</th>\n",
       "      <th>...</th>\n",
       "      <th>max_flag</th>\n",
       "      <th>night_flag</th>\n",
       "      <th>counts</th>\n",
       "      <th>(hour &gt;= 6 &amp; hour &lt;= 21)</th>\n",
       "      <th>MAD_flag_threshold</th>\n",
       "      <th>MAD_flag</th>\n",
       "      <th>comb_flag</th>\n",
       "      <th>comb_flag_day_count</th>\n",
       "      <th>comb_flag_day</th>\n",
       "      <th>Mio</th>\n",
       "    </tr>\n",
       "  </thead>\n",
       "  <tbody>\n",
       "    <tr>\n",
       "      <th>872</th>\n",
       "      <td>873</td>\n",
       "      <td>108051</td>\n",
       "      <td>W</td>\n",
       "      <td>2015</td>\n",
       "      <td>38125</td>\n",
       "      <td>38125</td>\n",
       "      <td>7950</td>\n",
       "      <td>Miovision416</td>\n",
       "      <td>2015-09-11</td>\n",
       "      <td>Friday</td>\n",
       "      <td>...</td>\n",
       "      <td>False</td>\n",
       "      <td>False</td>\n",
       "      <td>6</td>\n",
       "      <td>True</td>\n",
       "      <td>77.1648</td>\n",
       "      <td>False</td>\n",
       "      <td>False</td>\n",
       "      <td>0</td>\n",
       "      <td>False</td>\n",
       "      <td>1</td>\n",
       "    </tr>\n",
       "    <tr>\n",
       "      <th>873</th>\n",
       "      <td>874</td>\n",
       "      <td>108051</td>\n",
       "      <td>W</td>\n",
       "      <td>2015</td>\n",
       "      <td>38129</td>\n",
       "      <td>38129</td>\n",
       "      <td>7954</td>\n",
       "      <td>Miovision416</td>\n",
       "      <td>2015-09-11</td>\n",
       "      <td>Friday</td>\n",
       "      <td>...</td>\n",
       "      <td>False</td>\n",
       "      <td>False</td>\n",
       "      <td>1</td>\n",
       "      <td>True</td>\n",
       "      <td>77.1648</td>\n",
       "      <td>False</td>\n",
       "      <td>False</td>\n",
       "      <td>0</td>\n",
       "      <td>False</td>\n",
       "      <td>1</td>\n",
       "    </tr>\n",
       "    <tr>\n",
       "      <th>874</th>\n",
       "      <td>875</td>\n",
       "      <td>108051</td>\n",
       "      <td>W</td>\n",
       "      <td>2015</td>\n",
       "      <td>38130</td>\n",
       "      <td>38130</td>\n",
       "      <td>7955</td>\n",
       "      <td>Miovision416</td>\n",
       "      <td>2015-09-11</td>\n",
       "      <td>Friday</td>\n",
       "      <td>...</td>\n",
       "      <td>False</td>\n",
       "      <td>False</td>\n",
       "      <td>4</td>\n",
       "      <td>True</td>\n",
       "      <td>77.1648</td>\n",
       "      <td>False</td>\n",
       "      <td>False</td>\n",
       "      <td>0</td>\n",
       "      <td>False</td>\n",
       "      <td>1</td>\n",
       "    </tr>\n",
       "    <tr>\n",
       "      <th>875</th>\n",
       "      <td>876</td>\n",
       "      <td>108051</td>\n",
       "      <td>W</td>\n",
       "      <td>2015</td>\n",
       "      <td>38127</td>\n",
       "      <td>38127</td>\n",
       "      <td>7952</td>\n",
       "      <td>Miovision416</td>\n",
       "      <td>2015-09-11</td>\n",
       "      <td>Friday</td>\n",
       "      <td>...</td>\n",
       "      <td>False</td>\n",
       "      <td>False</td>\n",
       "      <td>1</td>\n",
       "      <td>True</td>\n",
       "      <td>77.1648</td>\n",
       "      <td>False</td>\n",
       "      <td>False</td>\n",
       "      <td>0</td>\n",
       "      <td>False</td>\n",
       "      <td>1</td>\n",
       "    </tr>\n",
       "    <tr>\n",
       "      <th>876</th>\n",
       "      <td>877</td>\n",
       "      <td>108051</td>\n",
       "      <td>W</td>\n",
       "      <td>2015</td>\n",
       "      <td>38122</td>\n",
       "      <td>38122</td>\n",
       "      <td>7947</td>\n",
       "      <td>Miovision416</td>\n",
       "      <td>2015-09-11</td>\n",
       "      <td>Friday</td>\n",
       "      <td>...</td>\n",
       "      <td>False</td>\n",
       "      <td>False</td>\n",
       "      <td>1</td>\n",
       "      <td>True</td>\n",
       "      <td>77.1648</td>\n",
       "      <td>False</td>\n",
       "      <td>False</td>\n",
       "      <td>0</td>\n",
       "      <td>False</td>\n",
       "      <td>1</td>\n",
       "    </tr>\n",
       "    <tr>\n",
       "      <th>...</th>\n",
       "      <td>...</td>\n",
       "      <td>...</td>\n",
       "      <td>...</td>\n",
       "      <td>...</td>\n",
       "      <td>...</td>\n",
       "      <td>...</td>\n",
       "      <td>...</td>\n",
       "      <td>...</td>\n",
       "      <td>...</td>\n",
       "      <td>...</td>\n",
       "      <td>...</td>\n",
       "      <td>...</td>\n",
       "      <td>...</td>\n",
       "      <td>...</td>\n",
       "      <td>...</td>\n",
       "      <td>...</td>\n",
       "      <td>...</td>\n",
       "      <td>...</td>\n",
       "      <td>...</td>\n",
       "      <td>...</td>\n",
       "      <td>...</td>\n",
       "    </tr>\n",
       "    <tr>\n",
       "      <th>23469</th>\n",
       "      <td>23470</td>\n",
       "      <td>73369</td>\n",
       "      <td>N</td>\n",
       "      <td>2015</td>\n",
       "      <td>37494</td>\n",
       "      <td>37494</td>\n",
       "      <td>7319</td>\n",
       "      <td>Miovision375</td>\n",
       "      <td>2015-08-20</td>\n",
       "      <td>Thursday</td>\n",
       "      <td>...</td>\n",
       "      <td>False</td>\n",
       "      <td>False</td>\n",
       "      <td>1</td>\n",
       "      <td>True</td>\n",
       "      <td>77.1648</td>\n",
       "      <td>False</td>\n",
       "      <td>False</td>\n",
       "      <td>0</td>\n",
       "      <td>False</td>\n",
       "      <td>1</td>\n",
       "    </tr>\n",
       "    <tr>\n",
       "      <th>23470</th>\n",
       "      <td>23471</td>\n",
       "      <td>73421</td>\n",
       "      <td>E</td>\n",
       "      <td>2015</td>\n",
       "      <td>37481</td>\n",
       "      <td>37481</td>\n",
       "      <td>7306</td>\n",
       "      <td>Miovision374</td>\n",
       "      <td>2015-08-20</td>\n",
       "      <td>Thursday</td>\n",
       "      <td>...</td>\n",
       "      <td>False</td>\n",
       "      <td>False</td>\n",
       "      <td>1</td>\n",
       "      <td>True</td>\n",
       "      <td>77.1648</td>\n",
       "      <td>False</td>\n",
       "      <td>False</td>\n",
       "      <td>0</td>\n",
       "      <td>False</td>\n",
       "      <td>1</td>\n",
       "    </tr>\n",
       "    <tr>\n",
       "      <th>23471</th>\n",
       "      <td>23472</td>\n",
       "      <td>73421</td>\n",
       "      <td>E</td>\n",
       "      <td>2015</td>\n",
       "      <td>37484</td>\n",
       "      <td>37484</td>\n",
       "      <td>7309</td>\n",
       "      <td>Miovision374</td>\n",
       "      <td>2015-08-20</td>\n",
       "      <td>Thursday</td>\n",
       "      <td>...</td>\n",
       "      <td>False</td>\n",
       "      <td>False</td>\n",
       "      <td>1</td>\n",
       "      <td>True</td>\n",
       "      <td>77.1648</td>\n",
       "      <td>False</td>\n",
       "      <td>False</td>\n",
       "      <td>0</td>\n",
       "      <td>False</td>\n",
       "      <td>1</td>\n",
       "    </tr>\n",
       "    <tr>\n",
       "      <th>23472</th>\n",
       "      <td>23473</td>\n",
       "      <td>73421</td>\n",
       "      <td>E</td>\n",
       "      <td>2015</td>\n",
       "      <td>37483</td>\n",
       "      <td>37483</td>\n",
       "      <td>7308</td>\n",
       "      <td>Miovision374</td>\n",
       "      <td>2015-08-20</td>\n",
       "      <td>Thursday</td>\n",
       "      <td>...</td>\n",
       "      <td>False</td>\n",
       "      <td>False</td>\n",
       "      <td>1</td>\n",
       "      <td>True</td>\n",
       "      <td>77.1648</td>\n",
       "      <td>False</td>\n",
       "      <td>False</td>\n",
       "      <td>0</td>\n",
       "      <td>False</td>\n",
       "      <td>1</td>\n",
       "    </tr>\n",
       "    <tr>\n",
       "      <th>23473</th>\n",
       "      <td>23474</td>\n",
       "      <td>73421</td>\n",
       "      <td>E</td>\n",
       "      <td>2015</td>\n",
       "      <td>37482</td>\n",
       "      <td>37482</td>\n",
       "      <td>7307</td>\n",
       "      <td>Miovision374</td>\n",
       "      <td>2015-08-20</td>\n",
       "      <td>Thursday</td>\n",
       "      <td>...</td>\n",
       "      <td>False</td>\n",
       "      <td>False</td>\n",
       "      <td>5</td>\n",
       "      <td>True</td>\n",
       "      <td>77.1648</td>\n",
       "      <td>False</td>\n",
       "      <td>False</td>\n",
       "      <td>0</td>\n",
       "      <td>False</td>\n",
       "      <td>1</td>\n",
       "    </tr>\n",
       "  </tbody>\n",
       "</table>\n",
       "<p>326 rows × 43 columns</p>\n",
       "</div>"
      ],
      "text/plain": [
       "       Unnamed: 0.2  matched_seg_id Leg  year   ...1  Unnamed: 0.1  \\\n",
       "872             873          108051   W  2015  38125         38125   \n",
       "873             874          108051   W  2015  38129         38129   \n",
       "874             875          108051   W  2015  38130         38130   \n",
       "875             876          108051   W  2015  38127         38127   \n",
       "876             877          108051   W  2015  38122         38122   \n",
       "...             ...             ...  ..   ...    ...           ...   \n",
       "23469         23470           73369   N  2015  37494         37494   \n",
       "23470         23471           73421   E  2015  37481         37481   \n",
       "23471         23472           73421   E  2015  37484         37484   \n",
       "23472         23473           73421   E  2015  37483         37483   \n",
       "23473         23474           73421   E  2015  37482         37482   \n",
       "\n",
       "       Unnamed: 0            ID        Date Day of Week  ... max_flag  \\\n",
       "872          7950  Miovision416  2015-09-11      Friday  ...    False   \n",
       "873          7954  Miovision416  2015-09-11      Friday  ...    False   \n",
       "874          7955  Miovision416  2015-09-11      Friday  ...    False   \n",
       "875          7952  Miovision416  2015-09-11      Friday  ...    False   \n",
       "876          7947  Miovision416  2015-09-11      Friday  ...    False   \n",
       "...           ...           ...         ...         ...  ...      ...   \n",
       "23469        7319  Miovision375  2015-08-20    Thursday  ...    False   \n",
       "23470        7306  Miovision374  2015-08-20    Thursday  ...    False   \n",
       "23471        7309  Miovision374  2015-08-20    Thursday  ...    False   \n",
       "23472        7308  Miovision374  2015-08-20    Thursday  ...    False   \n",
       "23473        7307  Miovision374  2015-08-20    Thursday  ...    False   \n",
       "\n",
       "      night_flag  counts (hour >= 6 & hour <= 21)  MAD_flag_threshold  \\\n",
       "872        False       6                     True             77.1648   \n",
       "873        False       1                     True             77.1648   \n",
       "874        False       4                     True             77.1648   \n",
       "875        False       1                     True             77.1648   \n",
       "876        False       1                     True             77.1648   \n",
       "...          ...     ...                      ...                 ...   \n",
       "23469      False       1                     True             77.1648   \n",
       "23470      False       1                     True             77.1648   \n",
       "23471      False       1                     True             77.1648   \n",
       "23472      False       1                     True             77.1648   \n",
       "23473      False       5                     True             77.1648   \n",
       "\n",
       "       MAD_flag  comb_flag  comb_flag_day_count comb_flag_day Mio  \n",
       "872       False      False                    0         False   1  \n",
       "873       False      False                    0         False   1  \n",
       "874       False      False                    0         False   1  \n",
       "875       False      False                    0         False   1  \n",
       "876       False      False                    0         False   1  \n",
       "...         ...        ...                  ...           ...  ..  \n",
       "23469     False      False                    0         False   1  \n",
       "23470     False      False                    0         False   1  \n",
       "23471     False      False                    0         False   1  \n",
       "23472     False      False                    0         False   1  \n",
       "23473     False      False                    0         False   1  \n",
       "\n",
       "[326 rows x 43 columns]"
      ]
     },
     "execution_count": 14,
     "metadata": {},
     "output_type": "execute_result"
    }
   ],
   "source": [
    "scc1"
   ]
  },
  {
   "cell_type": "code",
   "execution_count": 15,
   "id": "1cfcae3f",
   "metadata": {},
   "outputs": [
    {
     "data": {
      "text/plain": [
       "3178"
      ]
     },
     "execution_count": 15,
     "metadata": {},
     "output_type": "execute_result"
    }
   ],
   "source": [
    "sci['matched_seg_id'].nunique()"
   ]
  },
  {
   "cell_type": "code",
   "execution_count": 16,
   "id": "c138a6b2",
   "metadata": {},
   "outputs": [],
   "source": [
    "# dur1['matched_seg_id'].nunique(),sci['matched_seg_id'].nunique(), dur1.shape"
   ]
  },
  {
   "cell_type": "code",
   "execution_count": 17,
   "id": "c4531fd5",
   "metadata": {},
   "outputs": [
    {
     "data": {
      "text/html": [
       "<div>\n",
       "<style scoped>\n",
       "    .dataframe tbody tr th:only-of-type {\n",
       "        vertical-align: middle;\n",
       "    }\n",
       "\n",
       "    .dataframe tbody tr th {\n",
       "        vertical-align: top;\n",
       "    }\n",
       "\n",
       "    .dataframe thead th {\n",
       "        text-align: right;\n",
       "    }\n",
       "</style>\n",
       "<table border=\"1\" class=\"dataframe\">\n",
       "  <thead>\n",
       "    <tr style=\"text-align: right;\">\n",
       "      <th></th>\n",
       "      <th>Unnamed: 0.2</th>\n",
       "      <th>matched_seg_id</th>\n",
       "      <th>Leg</th>\n",
       "      <th>year</th>\n",
       "      <th>...1</th>\n",
       "      <th>Unnamed: 0.1</th>\n",
       "      <th>Unnamed: 0</th>\n",
       "      <th>ID</th>\n",
       "      <th>Date</th>\n",
       "      <th>Day of Week</th>\n",
       "      <th>...</th>\n",
       "      <th>max_flag</th>\n",
       "      <th>night_flag</th>\n",
       "      <th>counts</th>\n",
       "      <th>(hour &gt;= 6 &amp; hour &lt;= 21)</th>\n",
       "      <th>MAD_flag_threshold</th>\n",
       "      <th>MAD_flag</th>\n",
       "      <th>comb_flag</th>\n",
       "      <th>comb_flag_day_count</th>\n",
       "      <th>comb_flag_day</th>\n",
       "      <th>Mio</th>\n",
       "    </tr>\n",
       "  </thead>\n",
       "  <tbody>\n",
       "  </tbody>\n",
       "</table>\n",
       "<p>0 rows × 43 columns</p>\n",
       "</div>"
      ],
      "text/plain": [
       "Empty DataFrame\n",
       "Columns: [Unnamed: 0.2, matched_seg_id, Leg, year, ...1, Unnamed: 0.1, Unnamed: 0, ID, Date, Day of Week, Start Time, End Time, Count, date, month, day, dayofweek, weekday_Status, Week Day Status, starttime, endtime, starttime1, endtime1, startDateTime, endDateTime, diff, hour, Total_hour, csum_counts, csum_hours, consec_flag, consec_flag1, season, max_flag, night_flag, counts, (hour >= 6 & hour <= 21), MAD_flag_threshold, MAD_flag, comb_flag, comb_flag_day_count, comb_flag_day, Mio]\n",
       "Index: []\n",
       "\n",
       "[0 rows x 43 columns]"
      ]
     },
     "execution_count": 17,
     "metadata": {},
     "output_type": "execute_result"
    }
   ],
   "source": [
    "check=sci.loc[sci['Count']>500]\n",
    "check"
   ]
  },
  {
   "cell_type": "code",
   "execution_count": 18,
   "id": "501a9eaa",
   "metadata": {},
   "outputs": [],
   "source": [
    "# drop all one hour data \n",
    "# cond = sci['matched_seg_id'].isin(dur1['matched_seg_id'])\n",
    "# sci.drop(sci[cond].index, inplace = True)\n",
    "# sci.head()"
   ]
  },
  {
   "cell_type": "code",
   "execution_count": 19,
   "id": "4fccacf2",
   "metadata": {},
   "outputs": [],
   "source": [
    "# save this data and run lindsey QA/QC on this data\n"
   ]
  },
  {
   "cell_type": "code",
   "execution_count": 20,
   "id": "895007e8",
   "metadata": {},
   "outputs": [],
   "source": [
    "# check kern location high volume and drop hourly volume grater than 100\n",
    "# sci['kern'] = pd.np.where(sci.ID.str.contains(\"NaN\"),\"0\",\n",
    "#                    pd.np.where(sci.ID.str.contains(\"Kern\"), '1',0)) \n",
    "# scp=sci.loc[sci['kern']=='1']\n",
    "# scp1=scp.loc[scp['Count']<=100]\n",
    "\n",
    "# scp2=sci.loc[sci['kern']=='0']\n",
    "# scp2.shape, scp1.shape"
   ]
  },
  {
   "cell_type": "code",
   "execution_count": 21,
   "id": "d7a3ba0b",
   "metadata": {},
   "outputs": [],
   "source": [
    "# c=scp.loc[scp['ID']=='Kern540']\n",
    "# c"
   ]
  },
  {
   "cell_type": "code",
   "execution_count": 22,
   "id": "5780eaa4",
   "metadata": {},
   "outputs": [],
   "source": [
    "# plt.figure(figsize=(25,20))\n",
    "# sns.set(font_scale=2)\n",
    "# sns.scatterplot(data=scp, x=\"ID\", y=\"Count\", hue=\"ID\",legend=False)\n",
    "# plt.xticks(rotation=45)"
   ]
  },
  {
   "cell_type": "code",
   "execution_count": 23,
   "id": "fa6d4e80",
   "metadata": {},
   "outputs": [
    {
     "data": {
      "text/plain": [
       "(26520, 43)"
      ]
     },
     "execution_count": 23,
     "metadata": {},
     "output_type": "execute_result"
    }
   ],
   "source": [
    "# now join filter data set\n",
    "#sc=pd.concat([scp1,scp2],axis=0)\n",
    "sc=sci\n",
    "sc.shape"
   ]
  },
  {
   "cell_type": "code",
   "execution_count": 24,
   "id": "8575643d",
   "metadata": {},
   "outputs": [
    {
     "data": {
      "text/plain": [
       "26520"
      ]
     },
     "execution_count": 24,
     "metadata": {},
     "output_type": "execute_result"
    }
   ],
   "source": [
    "id=sc['ID'].str.contains('miov')\n",
    "id.count()"
   ]
  },
  {
   "cell_type": "code",
   "execution_count": 25,
   "id": "938f7f23",
   "metadata": {},
   "outputs": [
    {
     "data": {
      "text/plain": [
       "3178"
      ]
     },
     "execution_count": 25,
     "metadata": {},
     "output_type": "execute_result"
    }
   ],
   "source": [
    "sc['matched_seg_id'].nunique()"
   ]
  },
  {
   "cell_type": "code",
   "execution_count": 26,
   "id": "fa19b98d",
   "metadata": {},
   "outputs": [
    {
     "data": {
      "text/plain": [
       "(95, 4)"
      ]
     },
     "execution_count": 26,
     "metadata": {},
     "output_type": "execute_result"
    }
   ],
   "source": [
    "#now again check the sites that have only one hour counts\n",
    "dur=pd.DataFrame({'dur':sc.groupby(['matched_seg_id','Leg','year'])['diff'].sum()}).reset_index()\n",
    "dur1=dur.loc[dur['dur']==1]\n",
    "dur1.shape"
   ]
  },
  {
   "cell_type": "code",
   "execution_count": 27,
   "id": "d30ff6ae",
   "metadata": {},
   "outputs": [
    {
     "data": {
      "text/plain": [
       "count    4351.000000\n",
       "mean        6.445875\n",
       "std        14.560165\n",
       "min         1.000000\n",
       "25%         2.000000\n",
       "50%         4.000000\n",
       "75%         6.000000\n",
       "max       353.000000\n",
       "Name: dur, dtype: float64"
      ]
     },
     "execution_count": 27,
     "metadata": {},
     "output_type": "execute_result"
    }
   ],
   "source": [
    "dur['dur'].describe()"
   ]
  },
  {
   "cell_type": "code",
   "execution_count": null,
   "id": "794018b9",
   "metadata": {},
   "outputs": [],
   "source": [
    "dur['dur'].describe()"
   ]
  },
  {
   "cell_type": "code",
   "execution_count": 49,
   "id": "1ec94069",
   "metadata": {},
   "outputs": [
    {
     "data": {
      "text/plain": [
       "(504, 43)"
      ]
     },
     "execution_count": 49,
     "metadata": {},
     "output_type": "execute_result"
    }
   ],
   "source": [
    "c=sc.loc[sc['matched_seg_id']==66723]\n",
    "c.shape"
   ]
  },
  {
   "cell_type": "code",
   "execution_count": 50,
   "id": "49730ddb",
   "metadata": {},
   "outputs": [
    {
     "data": {
      "text/plain": [
       "0"
      ]
     },
     "execution_count": 50,
     "metadata": {},
     "output_type": "execute_result"
    }
   ],
   "source": [
    "#sc['Leg'].isnull().sum()\n",
    "sc['matched_seg_id'].isnull().sum()"
   ]
  },
  {
   "cell_type": "code",
   "execution_count": 51,
   "id": "0bb47465",
   "metadata": {},
   "outputs": [
    {
     "data": {
      "text/plain": [
       "array(['S', 'N', 'W', 'E'], dtype=object)"
      ]
     },
     "execution_count": 51,
     "metadata": {},
     "output_type": "execute_result"
    }
   ],
   "source": [
    "sc['Leg'].unique()"
   ]
  },
  {
   "cell_type": "code",
   "execution_count": 52,
   "id": "84af7936",
   "metadata": {},
   "outputs": [],
   "source": [
    "# Winter: Dec, Jan, feb\n",
    "# spring- March, April, May\n",
    "#summer- June, july and August\n",
    "# Autumn- Spetember, October, November"
   ]
  },
  {
   "cell_type": "code",
   "execution_count": 53,
   "id": "f33d2a85",
   "metadata": {},
   "outputs": [
    {
     "data": {
      "text/html": [
       "<div>\n",
       "<style scoped>\n",
       "    .dataframe tbody tr th:only-of-type {\n",
       "        vertical-align: middle;\n",
       "    }\n",
       "\n",
       "    .dataframe tbody tr th {\n",
       "        vertical-align: top;\n",
       "    }\n",
       "\n",
       "    .dataframe thead th {\n",
       "        text-align: right;\n",
       "    }\n",
       "</style>\n",
       "<table border=\"1\" class=\"dataframe\">\n",
       "  <thead>\n",
       "    <tr style=\"text-align: right;\">\n",
       "      <th></th>\n",
       "      <th>Unnamed: 0.2</th>\n",
       "      <th>matched_seg_id</th>\n",
       "      <th>Leg</th>\n",
       "      <th>year</th>\n",
       "      <th>...1</th>\n",
       "      <th>Unnamed: 0.1</th>\n",
       "      <th>Unnamed: 0</th>\n",
       "      <th>ID</th>\n",
       "      <th>Date</th>\n",
       "      <th>Day of Week</th>\n",
       "      <th>...</th>\n",
       "      <th>max_flag</th>\n",
       "      <th>night_flag</th>\n",
       "      <th>counts</th>\n",
       "      <th>(hour &gt;= 6 &amp; hour &lt;= 21)</th>\n",
       "      <th>MAD_flag_threshold</th>\n",
       "      <th>MAD_flag</th>\n",
       "      <th>comb_flag</th>\n",
       "      <th>comb_flag_day_count</th>\n",
       "      <th>comb_flag_day</th>\n",
       "      <th>Mio</th>\n",
       "    </tr>\n",
       "  </thead>\n",
       "  <tbody>\n",
       "    <tr>\n",
       "      <th>23</th>\n",
       "      <td>24</td>\n",
       "      <td>101131</td>\n",
       "      <td>N</td>\n",
       "      <td>2018</td>\n",
       "      <td>29844</td>\n",
       "      <td>29844</td>\n",
       "      <td>740</td>\n",
       "      <td>Vista81</td>\n",
       "      <td>2018-11-01</td>\n",
       "      <td>Thursday</td>\n",
       "      <td>...</td>\n",
       "      <td>False</td>\n",
       "      <td>False</td>\n",
       "      <td>6</td>\n",
       "      <td>True</td>\n",
       "      <td>58.3736</td>\n",
       "      <td>False</td>\n",
       "      <td>False</td>\n",
       "      <td>0</td>\n",
       "      <td>False</td>\n",
       "      <td>0</td>\n",
       "    </tr>\n",
       "    <tr>\n",
       "      <th>24</th>\n",
       "      <td>25</td>\n",
       "      <td>101131</td>\n",
       "      <td>N</td>\n",
       "      <td>2018</td>\n",
       "      <td>29843</td>\n",
       "      <td>29843</td>\n",
       "      <td>739</td>\n",
       "      <td>Vista81</td>\n",
       "      <td>2018-11-01</td>\n",
       "      <td>Thursday</td>\n",
       "      <td>...</td>\n",
       "      <td>False</td>\n",
       "      <td>False</td>\n",
       "      <td>2</td>\n",
       "      <td>True</td>\n",
       "      <td>58.3736</td>\n",
       "      <td>False</td>\n",
       "      <td>False</td>\n",
       "      <td>0</td>\n",
       "      <td>False</td>\n",
       "      <td>0</td>\n",
       "    </tr>\n",
       "    <tr>\n",
       "      <th>65</th>\n",
       "      <td>66</td>\n",
       "      <td>102772</td>\n",
       "      <td>N</td>\n",
       "      <td>2015</td>\n",
       "      <td>29105</td>\n",
       "      <td>29105</td>\n",
       "      <td>1</td>\n",
       "      <td>Vista0</td>\n",
       "      <td>2015-09-17</td>\n",
       "      <td>Thursday</td>\n",
       "      <td>...</td>\n",
       "      <td>False</td>\n",
       "      <td>False</td>\n",
       "      <td>1</td>\n",
       "      <td>True</td>\n",
       "      <td>77.1648</td>\n",
       "      <td>False</td>\n",
       "      <td>False</td>\n",
       "      <td>0</td>\n",
       "      <td>False</td>\n",
       "      <td>0</td>\n",
       "    </tr>\n",
       "    <tr>\n",
       "      <th>66</th>\n",
       "      <td>67</td>\n",
       "      <td>102772</td>\n",
       "      <td>N</td>\n",
       "      <td>2015</td>\n",
       "      <td>29104</td>\n",
       "      <td>29104</td>\n",
       "      <td>0</td>\n",
       "      <td>Vista0</td>\n",
       "      <td>2015-09-17</td>\n",
       "      <td>Thursday</td>\n",
       "      <td>...</td>\n",
       "      <td>False</td>\n",
       "      <td>False</td>\n",
       "      <td>2</td>\n",
       "      <td>True</td>\n",
       "      <td>77.1648</td>\n",
       "      <td>False</td>\n",
       "      <td>False</td>\n",
       "      <td>0</td>\n",
       "      <td>False</td>\n",
       "      <td>0</td>\n",
       "    </tr>\n",
       "    <tr>\n",
       "      <th>115</th>\n",
       "      <td>116</td>\n",
       "      <td>102859</td>\n",
       "      <td>E</td>\n",
       "      <td>2016</td>\n",
       "      <td>29172</td>\n",
       "      <td>29172</td>\n",
       "      <td>68</td>\n",
       "      <td>Vista10</td>\n",
       "      <td>2016-09-28</td>\n",
       "      <td>Wednesday</td>\n",
       "      <td>...</td>\n",
       "      <td>False</td>\n",
       "      <td>False</td>\n",
       "      <td>4</td>\n",
       "      <td>True</td>\n",
       "      <td>95.9560</td>\n",
       "      <td>False</td>\n",
       "      <td>False</td>\n",
       "      <td>0</td>\n",
       "      <td>False</td>\n",
       "      <td>0</td>\n",
       "    </tr>\n",
       "  </tbody>\n",
       "</table>\n",
       "<p>5 rows × 43 columns</p>\n",
       "</div>"
      ],
      "text/plain": [
       "     Unnamed: 0.2  matched_seg_id Leg  year   ...1  Unnamed: 0.1  Unnamed: 0  \\\n",
       "23             24          101131   N  2018  29844         29844         740   \n",
       "24             25          101131   N  2018  29843         29843         739   \n",
       "65             66          102772   N  2015  29105         29105           1   \n",
       "66             67          102772   N  2015  29104         29104           0   \n",
       "115           116          102859   E  2016  29172         29172          68   \n",
       "\n",
       "          ID        Date Day of Week  ... max_flag night_flag  counts  \\\n",
       "23   Vista81  2018-11-01    Thursday  ...    False      False       6   \n",
       "24   Vista81  2018-11-01    Thursday  ...    False      False       2   \n",
       "65    Vista0  2015-09-17    Thursday  ...    False      False       1   \n",
       "66    Vista0  2015-09-17    Thursday  ...    False      False       2   \n",
       "115  Vista10  2016-09-28   Wednesday  ...    False      False       4   \n",
       "\n",
       "    (hour >= 6 & hour <= 21)  MAD_flag_threshold  MAD_flag  comb_flag  \\\n",
       "23                      True             58.3736     False      False   \n",
       "24                      True             58.3736     False      False   \n",
       "65                      True             77.1648     False      False   \n",
       "66                      True             77.1648     False      False   \n",
       "115                     True             95.9560     False      False   \n",
       "\n",
       "     comb_flag_day_count comb_flag_day Mio  \n",
       "23                     0         False   0  \n",
       "24                     0         False   0  \n",
       "65                     0         False   0  \n",
       "66                     0         False   0  \n",
       "115                    0         False   0  \n",
       "\n",
       "[5 rows x 43 columns]"
      ]
     },
     "execution_count": 53,
     "metadata": {},
     "output_type": "execute_result"
    }
   ],
   "source": [
    "# check the seasonal data collection\n",
    "winter_mask=sc['month'].isin([12, 1,2])\n",
    "winter=sc[winter_mask]\n",
    "spring_mask=sc['month'].isin([3, 4,5])\n",
    "spring=sc[spring_mask]\n",
    "summer_mask=sc['month'].isin([6, 7,8])\n",
    "summer=sc[summer_mask]\n",
    "autumn_mask=sc['month'].isin([9, 10,11])\n",
    "autumn=sc[autumn_mask]\n",
    "autumn.head()"
   ]
  },
  {
   "cell_type": "code",
   "execution_count": 54,
   "id": "f7cce888",
   "metadata": {},
   "outputs": [
    {
     "name": "stdout",
     "output_type": "stream",
     "text": [
      "winter sites 482\n",
      "spring sites 566\n",
      "summer sites 253\n",
      "autumn sites 917\n"
     ]
    }
   ],
   "source": [
    "print('winter sites', winter['ID'].nunique())\n",
    "print('spring sites', spring['ID'].nunique())\n",
    "print('summer sites', summer['ID'].nunique())\n",
    "print('autumn sites', autumn['ID'].nunique())"
   ]
  },
  {
   "cell_type": "code",
   "execution_count": 55,
   "id": "15376503",
   "metadata": {},
   "outputs": [
    {
     "data": {
      "text/plain": [
       "177"
      ]
     },
     "execution_count": 55,
     "metadata": {},
     "output_type": "execute_result"
    }
   ],
   "source": [
    "# sites collected data in saturdaya nd sunday\n",
    "sat_sun=sc.loc[sc['Week Day Status']=='Weekend']\n",
    "sat_sun['ID'].nunique()"
   ]
  },
  {
   "cell_type": "code",
   "execution_count": 56,
   "id": "ab675cca",
   "metadata": {},
   "outputs": [
    {
     "data": {
      "text/plain": [
       "1970"
      ]
     },
     "execution_count": 56,
     "metadata": {},
     "output_type": "execute_result"
    }
   ],
   "source": [
    "# Sites collected data from monday to friday\n",
    "mon_fri=sc.loc[sc['Week Day Status']=='Week Day']\n",
    "mon_fri['ID'].nunique()"
   ]
  },
  {
   "cell_type": "code",
   "execution_count": 57,
   "id": "73a26406",
   "metadata": {},
   "outputs": [
    {
     "data": {
      "text/plain": [
       "2129"
      ]
     },
     "execution_count": 57,
     "metadata": {},
     "output_type": "execute_result"
    }
   ],
   "source": [
    "# unique number of sites\n",
    "sc['ID'].nunique()\n"
   ]
  },
  {
   "cell_type": "code",
   "execution_count": 58,
   "id": "3b5205d3",
   "metadata": {},
   "outputs": [
    {
     "data": {
      "text/html": [
       "<div>\n",
       "<style scoped>\n",
       "    .dataframe tbody tr th:only-of-type {\n",
       "        vertical-align: middle;\n",
       "    }\n",
       "\n",
       "    .dataframe tbody tr th {\n",
       "        vertical-align: top;\n",
       "    }\n",
       "\n",
       "    .dataframe thead th {\n",
       "        text-align: right;\n",
       "    }\n",
       "</style>\n",
       "<table border=\"1\" class=\"dataframe\">\n",
       "  <thead>\n",
       "    <tr style=\"text-align: right;\">\n",
       "      <th></th>\n",
       "      <th>Unnamed: 0</th>\n",
       "      <th>ID</th>\n",
       "      <th>Leg</th>\n",
       "      <th>year</th>\n",
       "      <th>tdg_id</th>\n",
       "      <th>Lat</th>\n",
       "      <th>Long</th>\n",
       "      <th>edgeUID</th>\n",
       "      <th>osmId</th>\n",
       "      <th>stv_total</th>\n",
       "      <th>stv_com_total</th>\n",
       "      <th>stv_rec_total</th>\n",
       "      <th>stv_com_ratio</th>\n",
       "      <th>stv_rec_ratio</th>\n",
       "    </tr>\n",
       "  </thead>\n",
       "  <tbody>\n",
       "    <tr>\n",
       "      <th>0</th>\n",
       "      <td>0</td>\n",
       "      <td>Eric_Fischer1089</td>\n",
       "      <td>N</td>\n",
       "      <td>2014.0</td>\n",
       "      <td>60313.0</td>\n",
       "      <td>34.062543</td>\n",
       "      <td>-118.309114</td>\n",
       "      <td>307766980.0</td>\n",
       "      <td>47895363.0</td>\n",
       "      <td>3905.0</td>\n",
       "      <td>865.0</td>\n",
       "      <td>3040.0</td>\n",
       "      <td>NaN</td>\n",
       "      <td>0.778489</td>\n",
       "    </tr>\n",
       "    <tr>\n",
       "      <th>1</th>\n",
       "      <td>1</td>\n",
       "      <td>Eric_Fischer1089</td>\n",
       "      <td>E</td>\n",
       "      <td>2014.0</td>\n",
       "      <td>60316.0</td>\n",
       "      <td>34.061703</td>\n",
       "      <td>-118.308480</td>\n",
       "      <td>307766746.0</td>\n",
       "      <td>398048051.0</td>\n",
       "      <td>4970.0</td>\n",
       "      <td>1885.0</td>\n",
       "      <td>3085.0</td>\n",
       "      <td>NaN</td>\n",
       "      <td>0.620724</td>\n",
       "    </tr>\n",
       "    <tr>\n",
       "      <th>2</th>\n",
       "      <td>2</td>\n",
       "      <td>Eric_Fischer1089</td>\n",
       "      <td>S</td>\n",
       "      <td>2014.0</td>\n",
       "      <td>60314.0</td>\n",
       "      <td>34.061193</td>\n",
       "      <td>-118.309105</td>\n",
       "      <td>307766737.0</td>\n",
       "      <td>398053760.0</td>\n",
       "      <td>2050.0</td>\n",
       "      <td>620.0</td>\n",
       "      <td>1430.0</td>\n",
       "      <td>NaN</td>\n",
       "      <td>0.697561</td>\n",
       "    </tr>\n",
       "    <tr>\n",
       "      <th>3</th>\n",
       "      <td>3</td>\n",
       "      <td>Eric_Fischer1089</td>\n",
       "      <td>W</td>\n",
       "      <td>2014.0</td>\n",
       "      <td>60320.0</td>\n",
       "      <td>34.061700</td>\n",
       "      <td>-118.309727</td>\n",
       "      <td>307766743.0</td>\n",
       "      <td>398048057.0</td>\n",
       "      <td>3560.0</td>\n",
       "      <td>1830.0</td>\n",
       "      <td>1730.0</td>\n",
       "      <td>NaN</td>\n",
       "      <td>0.485955</td>\n",
       "    </tr>\n",
       "    <tr>\n",
       "      <th>4</th>\n",
       "      <td>4</td>\n",
       "      <td>Eric_Fischer1086</td>\n",
       "      <td>E</td>\n",
       "      <td>2014.0</td>\n",
       "      <td>44255.0</td>\n",
       "      <td>34.090759</td>\n",
       "      <td>-118.308870</td>\n",
       "      <td>307771629.0</td>\n",
       "      <td>398048112.0</td>\n",
       "      <td>2390.0</td>\n",
       "      <td>905.0</td>\n",
       "      <td>1485.0</td>\n",
       "      <td>NaN</td>\n",
       "      <td>0.621339</td>\n",
       "    </tr>\n",
       "  </tbody>\n",
       "</table>\n",
       "</div>"
      ],
      "text/plain": [
       "   Unnamed: 0                ID Leg    year   tdg_id        Lat        Long  \\\n",
       "0           0  Eric_Fischer1089   N  2014.0  60313.0  34.062543 -118.309114   \n",
       "1           1  Eric_Fischer1089   E  2014.0  60316.0  34.061703 -118.308480   \n",
       "2           2  Eric_Fischer1089   S  2014.0  60314.0  34.061193 -118.309105   \n",
       "3           3  Eric_Fischer1089   W  2014.0  60320.0  34.061700 -118.309727   \n",
       "4           4  Eric_Fischer1086   E  2014.0  44255.0  34.090759 -118.308870   \n",
       "\n",
       "       edgeUID        osmId  stv_total  stv_com_total  stv_rec_total  \\\n",
       "0  307766980.0   47895363.0     3905.0          865.0         3040.0   \n",
       "1  307766746.0  398048051.0     4970.0         1885.0         3085.0   \n",
       "2  307766737.0  398053760.0     2050.0          620.0         1430.0   \n",
       "3  307766743.0  398048057.0     3560.0         1830.0         1730.0   \n",
       "4  307771629.0  398048112.0     2390.0          905.0         1485.0   \n",
       "\n",
       "   stv_com_ratio  stv_rec_ratio  \n",
       "0            NaN       0.778489  \n",
       "1            NaN       0.620724  \n",
       "2            NaN       0.697561  \n",
       "3            NaN       0.485955  \n",
       "4            NaN       0.621339  "
      ]
     },
     "execution_count": 58,
     "metadata": {},
     "output_type": "execute_result"
    }
   ],
   "source": [
    "location=pd.read_csv('H:/Desktop/Bike_ped Exposure Model Project/Processed Data/sc_stv_2014_2019.csv')\n",
    "location.head()"
   ]
  },
  {
   "cell_type": "code",
   "execution_count": 59,
   "id": "6bd784ec",
   "metadata": {},
   "outputs": [],
   "source": [
    "# # bring the lat and long\n",
    "# location=pd.read_csv('H:/Desktop/Bike_ped Exposure Model Project/Processed Data/SMART3_locations_20201130.csv',encoding='cp1252')\n",
    "# #location['RecentYear'] = location['RecentYear'].apply(np.int64)\n",
    "# location=location.rename(columns={'Study_ID':'ID'})\n",
    "# location.head()"
   ]
  },
  {
   "cell_type": "code",
   "execution_count": 60,
   "id": "7d9920c2",
   "metadata": {},
   "outputs": [
    {
     "data": {
      "text/html": [
       "<div>\n",
       "<style scoped>\n",
       "    .dataframe tbody tr th:only-of-type {\n",
       "        vertical-align: middle;\n",
       "    }\n",
       "\n",
       "    .dataframe tbody tr th {\n",
       "        vertical-align: top;\n",
       "    }\n",
       "\n",
       "    .dataframe thead th {\n",
       "        text-align: right;\n",
       "    }\n",
       "</style>\n",
       "<table border=\"1\" class=\"dataframe\">\n",
       "  <thead>\n",
       "    <tr style=\"text-align: right;\">\n",
       "      <th></th>\n",
       "      <th>ID</th>\n",
       "      <th>tdg_id</th>\n",
       "      <th>Lat</th>\n",
       "      <th>Long</th>\n",
       "    </tr>\n",
       "  </thead>\n",
       "  <tbody>\n",
       "    <tr>\n",
       "      <th>0</th>\n",
       "      <td>Eric_Fischer1089</td>\n",
       "      <td>60313.0</td>\n",
       "      <td>34.062543</td>\n",
       "      <td>-118.309114</td>\n",
       "    </tr>\n",
       "    <tr>\n",
       "      <th>1</th>\n",
       "      <td>Eric_Fischer1089</td>\n",
       "      <td>60316.0</td>\n",
       "      <td>34.061703</td>\n",
       "      <td>-118.308480</td>\n",
       "    </tr>\n",
       "    <tr>\n",
       "      <th>2</th>\n",
       "      <td>Eric_Fischer1089</td>\n",
       "      <td>60314.0</td>\n",
       "      <td>34.061193</td>\n",
       "      <td>-118.309105</td>\n",
       "    </tr>\n",
       "    <tr>\n",
       "      <th>3</th>\n",
       "      <td>Eric_Fischer1089</td>\n",
       "      <td>60320.0</td>\n",
       "      <td>34.061700</td>\n",
       "      <td>-118.309727</td>\n",
       "    </tr>\n",
       "    <tr>\n",
       "      <th>4</th>\n",
       "      <td>Eric_Fischer1086</td>\n",
       "      <td>44255.0</td>\n",
       "      <td>34.090759</td>\n",
       "      <td>-118.308870</td>\n",
       "    </tr>\n",
       "  </tbody>\n",
       "</table>\n",
       "</div>"
      ],
      "text/plain": [
       "                 ID   tdg_id        Lat        Long\n",
       "0  Eric_Fischer1089  60313.0  34.062543 -118.309114\n",
       "1  Eric_Fischer1089  60316.0  34.061703 -118.308480\n",
       "2  Eric_Fischer1089  60314.0  34.061193 -118.309105\n",
       "3  Eric_Fischer1089  60320.0  34.061700 -118.309727\n",
       "4  Eric_Fischer1086  44255.0  34.090759 -118.308870"
      ]
     },
     "execution_count": 60,
     "metadata": {},
     "output_type": "execute_result"
    }
   ],
   "source": [
    "location1=location[['ID','tdg_id', 'Lat', 'Long']]\n",
    "location1.head()"
   ]
  },
  {
   "cell_type": "code",
   "execution_count": 61,
   "id": "c8d59f1d",
   "metadata": {},
   "outputs": [],
   "source": [
    "# Import additional short term location\n",
    "# add_short=gpd.read_file('H:/Desktop/Bike_ped Exposure Model Project/ForMintu/ForMintu/sc_missing.shp')\n",
    "# add_short=add_short.to_crs('epsg:4326')\n",
    "# add_short[\"Long\"] = add_short.centroid.x\n",
    "# add_short[\"Lat\"] =add_short.centroid.y\n",
    "# add_short1=add_short[['ID','Lat', 'Long']]\n",
    "# #add_short1=add_short1.rename(columns={'syear':'year'})\n",
    "# add_short1.head()"
   ]
  },
  {
   "cell_type": "code",
   "execution_count": 62,
   "id": "15b7cf9e",
   "metadata": {},
   "outputs": [],
   "source": [
    "# c=add_short1.loc[add_short1[\"ID\"]=='Kern504']\n",
    "# c"
   ]
  },
  {
   "cell_type": "code",
   "execution_count": 63,
   "id": "51f2306f",
   "metadata": {},
   "outputs": [],
   "source": [
    "# Combine all short term togther\n",
    "# short_all=pd.concat([location1,add_short1],axis=0)\n",
    "# short_all.head()"
   ]
  },
  {
   "cell_type": "code",
   "execution_count": 64,
   "id": "ae2c3625",
   "metadata": {},
   "outputs": [],
   "source": [
    "short_all=location1"
   ]
  },
  {
   "cell_type": "code",
   "execution_count": 65,
   "id": "bdb66e10",
   "metadata": {},
   "outputs": [
    {
     "data": {
      "text/plain": [
       "(2340, 2340)"
      ]
     },
     "execution_count": 65,
     "metadata": {},
     "output_type": "execute_result"
    }
   ],
   "source": [
    "short_all['ID'].nunique(),short_all['ID'].nunique()"
   ]
  },
  {
   "cell_type": "code",
   "execution_count": 66,
   "id": "6bc75c6c",
   "metadata": {},
   "outputs": [
    {
     "data": {
      "text/plain": [
       "(2129, (26520, 43))"
      ]
     },
     "execution_count": 66,
     "metadata": {},
     "output_type": "execute_result"
    }
   ],
   "source": [
    "sc['ID'].nunique(), sc.shape"
   ]
  },
  {
   "cell_type": "code",
   "execution_count": 67,
   "id": "8fa5a230",
   "metadata": {},
   "outputs": [
    {
     "data": {
      "text/html": [
       "<div>\n",
       "<style scoped>\n",
       "    .dataframe tbody tr th:only-of-type {\n",
       "        vertical-align: middle;\n",
       "    }\n",
       "\n",
       "    .dataframe tbody tr th {\n",
       "        vertical-align: top;\n",
       "    }\n",
       "\n",
       "    .dataframe thead th {\n",
       "        text-align: right;\n",
       "    }\n",
       "</style>\n",
       "<table border=\"1\" class=\"dataframe\">\n",
       "  <thead>\n",
       "    <tr style=\"text-align: right;\">\n",
       "      <th></th>\n",
       "      <th>Unnamed: 0.2</th>\n",
       "      <th>matched_seg_id</th>\n",
       "      <th>Leg</th>\n",
       "      <th>year</th>\n",
       "      <th>...1</th>\n",
       "      <th>Unnamed: 0.1</th>\n",
       "      <th>Unnamed: 0</th>\n",
       "      <th>ID</th>\n",
       "      <th>Date</th>\n",
       "      <th>Day of Week</th>\n",
       "      <th>...</th>\n",
       "      <th>MAD_flag_threshold</th>\n",
       "      <th>MAD_flag</th>\n",
       "      <th>comb_flag</th>\n",
       "      <th>comb_flag_day_count</th>\n",
       "      <th>comb_flag_day</th>\n",
       "      <th>Mio</th>\n",
       "      <th>ID_y</th>\n",
       "      <th>tdg_id</th>\n",
       "      <th>Lat</th>\n",
       "      <th>Long</th>\n",
       "    </tr>\n",
       "  </thead>\n",
       "  <tbody>\n",
       "    <tr>\n",
       "      <th>214154</th>\n",
       "      <td>26516</td>\n",
       "      <td>9219</td>\n",
       "      <td>E</td>\n",
       "      <td>2015</td>\n",
       "      <td>28715</td>\n",
       "      <td>28715</td>\n",
       "      <td>164</td>\n",
       "      <td>Tahoe10</td>\n",
       "      <td>2015-08-25</td>\n",
       "      <td>Tuesday</td>\n",
       "      <td>...</td>\n",
       "      <td>77.1648</td>\n",
       "      <td>False</td>\n",
       "      <td>False</td>\n",
       "      <td>0</td>\n",
       "      <td>False</td>\n",
       "      <td>0</td>\n",
       "      <td>Tahoe10</td>\n",
       "      <td>9219.0</td>\n",
       "      <td>38.922616</td>\n",
       "      <td>-120.018667</td>\n",
       "    </tr>\n",
       "    <tr>\n",
       "      <th>214155</th>\n",
       "      <td>26517</td>\n",
       "      <td>9219</td>\n",
       "      <td>E</td>\n",
       "      <td>2015</td>\n",
       "      <td>28719</td>\n",
       "      <td>28719</td>\n",
       "      <td>168</td>\n",
       "      <td>Tahoe10</td>\n",
       "      <td>2015-08-29</td>\n",
       "      <td>Saturday</td>\n",
       "      <td>...</td>\n",
       "      <td>77.1648</td>\n",
       "      <td>False</td>\n",
       "      <td>False</td>\n",
       "      <td>0</td>\n",
       "      <td>False</td>\n",
       "      <td>0</td>\n",
       "      <td>Tahoe10</td>\n",
       "      <td>9219.0</td>\n",
       "      <td>38.922616</td>\n",
       "      <td>-120.018667</td>\n",
       "    </tr>\n",
       "    <tr>\n",
       "      <th>214156</th>\n",
       "      <td>26518</td>\n",
       "      <td>9231</td>\n",
       "      <td>W</td>\n",
       "      <td>2015</td>\n",
       "      <td>28666</td>\n",
       "      <td>28666</td>\n",
       "      <td>115</td>\n",
       "      <td>Tahoe7</td>\n",
       "      <td>2015-09-21</td>\n",
       "      <td>Monday</td>\n",
       "      <td>...</td>\n",
       "      <td>77.1648</td>\n",
       "      <td>False</td>\n",
       "      <td>False</td>\n",
       "      <td>0</td>\n",
       "      <td>False</td>\n",
       "      <td>0</td>\n",
       "      <td>Tahoe7</td>\n",
       "      <td>9231.0</td>\n",
       "      <td>38.928611</td>\n",
       "      <td>-119.969014</td>\n",
       "    </tr>\n",
       "    <tr>\n",
       "      <th>214157</th>\n",
       "      <td>26519</td>\n",
       "      <td>9231</td>\n",
       "      <td>W</td>\n",
       "      <td>2015</td>\n",
       "      <td>28660</td>\n",
       "      <td>28660</td>\n",
       "      <td>109</td>\n",
       "      <td>Tahoe7</td>\n",
       "      <td>2015-08-29</td>\n",
       "      <td>Saturday</td>\n",
       "      <td>...</td>\n",
       "      <td>77.1648</td>\n",
       "      <td>False</td>\n",
       "      <td>False</td>\n",
       "      <td>0</td>\n",
       "      <td>False</td>\n",
       "      <td>0</td>\n",
       "      <td>Tahoe7</td>\n",
       "      <td>9231.0</td>\n",
       "      <td>38.928611</td>\n",
       "      <td>-119.969014</td>\n",
       "    </tr>\n",
       "    <tr>\n",
       "      <th>214158</th>\n",
       "      <td>26520</td>\n",
       "      <td>9231</td>\n",
       "      <td>W</td>\n",
       "      <td>2015</td>\n",
       "      <td>28670</td>\n",
       "      <td>28670</td>\n",
       "      <td>119</td>\n",
       "      <td>Tahoe7</td>\n",
       "      <td>2015-09-26</td>\n",
       "      <td>Saturday</td>\n",
       "      <td>...</td>\n",
       "      <td>77.1648</td>\n",
       "      <td>False</td>\n",
       "      <td>False</td>\n",
       "      <td>0</td>\n",
       "      <td>False</td>\n",
       "      <td>0</td>\n",
       "      <td>Tahoe7</td>\n",
       "      <td>9231.0</td>\n",
       "      <td>38.928611</td>\n",
       "      <td>-119.969014</td>\n",
       "    </tr>\n",
       "  </tbody>\n",
       "</table>\n",
       "<p>5 rows × 47 columns</p>\n",
       "</div>"
      ],
      "text/plain": [
       "        Unnamed: 0.2  matched_seg_id Leg  year   ...1  Unnamed: 0.1  \\\n",
       "214154         26516            9219   E  2015  28715         28715   \n",
       "214155         26517            9219   E  2015  28719         28719   \n",
       "214156         26518            9231   W  2015  28666         28666   \n",
       "214157         26519            9231   W  2015  28660         28660   \n",
       "214158         26520            9231   W  2015  28670         28670   \n",
       "\n",
       "        Unnamed: 0       ID        Date Day of Week  ... MAD_flag_threshold  \\\n",
       "214154         164  Tahoe10  2015-08-25     Tuesday  ...            77.1648   \n",
       "214155         168  Tahoe10  2015-08-29    Saturday  ...            77.1648   \n",
       "214156         115   Tahoe7  2015-09-21      Monday  ...            77.1648   \n",
       "214157         109   Tahoe7  2015-08-29    Saturday  ...            77.1648   \n",
       "214158         119   Tahoe7  2015-09-26    Saturday  ...            77.1648   \n",
       "\n",
       "       MAD_flag  comb_flag comb_flag_day_count  comb_flag_day  Mio     ID_y  \\\n",
       "214154    False      False                   0          False    0  Tahoe10   \n",
       "214155    False      False                   0          False    0  Tahoe10   \n",
       "214156    False      False                   0          False    0   Tahoe7   \n",
       "214157    False      False                   0          False    0   Tahoe7   \n",
       "214158    False      False                   0          False    0   Tahoe7   \n",
       "\n",
       "        tdg_id        Lat        Long  \n",
       "214154  9219.0  38.922616 -120.018667  \n",
       "214155  9219.0  38.922616 -120.018667  \n",
       "214156  9231.0  38.928611 -119.969014  \n",
       "214157  9231.0  38.928611 -119.969014  \n",
       "214158  9231.0  38.928611 -119.969014  \n",
       "\n",
       "[5 rows x 47 columns]"
      ]
     },
     "execution_count": 67,
     "metadata": {},
     "output_type": "execute_result"
    }
   ],
   "source": [
    "# jpin short term counts sites data with location\n",
    "sc_loc1=pd.merge(sc, short_all, left_on=['matched_seg_id'], right_on=['tdg_id'], how='inner')\n",
    "sc_loc1=sc_loc1.rename(columns={'ID_x':'ID'})\n",
    "sc_loc1.tail()"
   ]
  },
  {
   "cell_type": "code",
   "execution_count": 68,
   "id": "ce70cc05",
   "metadata": {},
   "outputs": [
    {
     "data": {
      "text/plain": [
       "1962"
      ]
     },
     "execution_count": 68,
     "metadata": {},
     "output_type": "execute_result"
    }
   ],
   "source": [
    "sc_loc1['ID'].nunique()"
   ]
  },
  {
   "cell_type": "code",
   "execution_count": 69,
   "id": "88f06c1b",
   "metadata": {},
   "outputs": [
    {
     "data": {
      "text/plain": [
       "year\n",
       "2014    120\n",
       "2015    145\n",
       "2016    625\n",
       "2017    379\n",
       "2018    528\n",
       "2019    265\n",
       "Name: ID, dtype: int64"
      ]
     },
     "execution_count": 69,
     "metadata": {},
     "output_type": "execute_result"
    }
   ],
   "source": [
    "sc_loc1.groupby(['year'])['ID'].nunique()"
   ]
  },
  {
   "cell_type": "code",
   "execution_count": 313,
   "id": "e0b6ff8c",
   "metadata": {},
   "outputs": [],
   "source": [
    "sc_loc=sc_loc1"
   ]
  },
  {
   "cell_type": "markdown",
   "id": "b1482730",
   "metadata": {},
   "source": [
    "#  Imput weekday Daily Volume"
   ]
  },
  {
   "cell_type": "code",
   "execution_count": 314,
   "id": "9e361c3e",
   "metadata": {},
   "outputs": [
    {
     "data": {
      "text/html": [
       "<div>\n",
       "<style scoped>\n",
       "    .dataframe tbody tr th:only-of-type {\n",
       "        vertical-align: middle;\n",
       "    }\n",
       "\n",
       "    .dataframe tbody tr th {\n",
       "        vertical-align: top;\n",
       "    }\n",
       "\n",
       "    .dataframe thead th {\n",
       "        text-align: right;\n",
       "    }\n",
       "</style>\n",
       "<table border=\"1\" class=\"dataframe\">\n",
       "  <thead>\n",
       "    <tr style=\"text-align: right;\">\n",
       "      <th></th>\n",
       "      <th>Unnamed: 0.2</th>\n",
       "      <th>matched_seg_id</th>\n",
       "      <th>Leg</th>\n",
       "      <th>year</th>\n",
       "      <th>...1</th>\n",
       "      <th>Unnamed: 0.1</th>\n",
       "      <th>Unnamed: 0</th>\n",
       "      <th>ID</th>\n",
       "      <th>Date</th>\n",
       "      <th>Day of Week</th>\n",
       "      <th>...</th>\n",
       "      <th>MAD_flag_threshold</th>\n",
       "      <th>MAD_flag</th>\n",
       "      <th>comb_flag</th>\n",
       "      <th>comb_flag_day_count</th>\n",
       "      <th>comb_flag_day</th>\n",
       "      <th>Mio</th>\n",
       "      <th>ID_y</th>\n",
       "      <th>tdg_id</th>\n",
       "      <th>Lat</th>\n",
       "      <th>Long</th>\n",
       "    </tr>\n",
       "  </thead>\n",
       "  <tbody>\n",
       "    <tr>\n",
       "      <th>0</th>\n",
       "      <td>8</td>\n",
       "      <td>101100</td>\n",
       "      <td>N</td>\n",
       "      <td>2018</td>\n",
       "      <td>29901</td>\n",
       "      <td>29901</td>\n",
       "      <td>797</td>\n",
       "      <td>Vista88</td>\n",
       "      <td>2018-04-19</td>\n",
       "      <td>Thursday</td>\n",
       "      <td>...</td>\n",
       "      <td>58.3736</td>\n",
       "      <td>False</td>\n",
       "      <td>False</td>\n",
       "      <td>0</td>\n",
       "      <td>False</td>\n",
       "      <td>0</td>\n",
       "      <td>Vista87</td>\n",
       "      <td>101100.0</td>\n",
       "      <td>33.195443</td>\n",
       "      <td>-117.249603</td>\n",
       "    </tr>\n",
       "    <tr>\n",
       "      <th>1</th>\n",
       "      <td>8</td>\n",
       "      <td>101100</td>\n",
       "      <td>N</td>\n",
       "      <td>2018</td>\n",
       "      <td>29901</td>\n",
       "      <td>29901</td>\n",
       "      <td>797</td>\n",
       "      <td>Vista88</td>\n",
       "      <td>2018-04-19</td>\n",
       "      <td>Thursday</td>\n",
       "      <td>...</td>\n",
       "      <td>58.3736</td>\n",
       "      <td>False</td>\n",
       "      <td>False</td>\n",
       "      <td>0</td>\n",
       "      <td>False</td>\n",
       "      <td>0</td>\n",
       "      <td>Vista88</td>\n",
       "      <td>101100.0</td>\n",
       "      <td>33.195443</td>\n",
       "      <td>-117.249603</td>\n",
       "    </tr>\n",
       "    <tr>\n",
       "      <th>2</th>\n",
       "      <td>9</td>\n",
       "      <td>101100</td>\n",
       "      <td>N</td>\n",
       "      <td>2018</td>\n",
       "      <td>29896</td>\n",
       "      <td>29896</td>\n",
       "      <td>792</td>\n",
       "      <td>Vista87</td>\n",
       "      <td>2018-04-19</td>\n",
       "      <td>Thursday</td>\n",
       "      <td>...</td>\n",
       "      <td>58.3736</td>\n",
       "      <td>False</td>\n",
       "      <td>False</td>\n",
       "      <td>0</td>\n",
       "      <td>False</td>\n",
       "      <td>0</td>\n",
       "      <td>Vista87</td>\n",
       "      <td>101100.0</td>\n",
       "      <td>33.195443</td>\n",
       "      <td>-117.249603</td>\n",
       "    </tr>\n",
       "    <tr>\n",
       "      <th>3</th>\n",
       "      <td>9</td>\n",
       "      <td>101100</td>\n",
       "      <td>N</td>\n",
       "      <td>2018</td>\n",
       "      <td>29896</td>\n",
       "      <td>29896</td>\n",
       "      <td>792</td>\n",
       "      <td>Vista87</td>\n",
       "      <td>2018-04-19</td>\n",
       "      <td>Thursday</td>\n",
       "      <td>...</td>\n",
       "      <td>58.3736</td>\n",
       "      <td>False</td>\n",
       "      <td>False</td>\n",
       "      <td>0</td>\n",
       "      <td>False</td>\n",
       "      <td>0</td>\n",
       "      <td>Vista88</td>\n",
       "      <td>101100.0</td>\n",
       "      <td>33.195443</td>\n",
       "      <td>-117.249603</td>\n",
       "    </tr>\n",
       "    <tr>\n",
       "      <th>4</th>\n",
       "      <td>10</td>\n",
       "      <td>101100</td>\n",
       "      <td>N</td>\n",
       "      <td>2018</td>\n",
       "      <td>29894</td>\n",
       "      <td>29894</td>\n",
       "      <td>790</td>\n",
       "      <td>Vista87</td>\n",
       "      <td>2018-04-19</td>\n",
       "      <td>Thursday</td>\n",
       "      <td>...</td>\n",
       "      <td>58.3736</td>\n",
       "      <td>False</td>\n",
       "      <td>False</td>\n",
       "      <td>0</td>\n",
       "      <td>False</td>\n",
       "      <td>0</td>\n",
       "      <td>Vista87</td>\n",
       "      <td>101100.0</td>\n",
       "      <td>33.195443</td>\n",
       "      <td>-117.249603</td>\n",
       "    </tr>\n",
       "  </tbody>\n",
       "</table>\n",
       "<p>5 rows × 47 columns</p>\n",
       "</div>"
      ],
      "text/plain": [
       "   Unnamed: 0.2  matched_seg_id Leg  year   ...1  Unnamed: 0.1  Unnamed: 0  \\\n",
       "0             8          101100   N  2018  29901         29901         797   \n",
       "1             8          101100   N  2018  29901         29901         797   \n",
       "2             9          101100   N  2018  29896         29896         792   \n",
       "3             9          101100   N  2018  29896         29896         792   \n",
       "4            10          101100   N  2018  29894         29894         790   \n",
       "\n",
       "        ID        Date Day of Week  ... MAD_flag_threshold MAD_flag  \\\n",
       "0  Vista88  2018-04-19    Thursday  ...            58.3736    False   \n",
       "1  Vista88  2018-04-19    Thursday  ...            58.3736    False   \n",
       "2  Vista87  2018-04-19    Thursday  ...            58.3736    False   \n",
       "3  Vista87  2018-04-19    Thursday  ...            58.3736    False   \n",
       "4  Vista87  2018-04-19    Thursday  ...            58.3736    False   \n",
       "\n",
       "   comb_flag comb_flag_day_count  comb_flag_day  Mio     ID_y    tdg_id  \\\n",
       "0      False                   0          False    0  Vista87  101100.0   \n",
       "1      False                   0          False    0  Vista88  101100.0   \n",
       "2      False                   0          False    0  Vista87  101100.0   \n",
       "3      False                   0          False    0  Vista88  101100.0   \n",
       "4      False                   0          False    0  Vista87  101100.0   \n",
       "\n",
       "         Lat        Long  \n",
       "0  33.195443 -117.249603  \n",
       "1  33.195443 -117.249603  \n",
       "2  33.195443 -117.249603  \n",
       "3  33.195443 -117.249603  \n",
       "4  33.195443 -117.249603  \n",
       "\n",
       "[5 rows x 47 columns]"
      ]
     },
     "execution_count": 314,
     "metadata": {},
     "output_type": "execute_result"
    }
   ],
   "source": [
    "# weekend=1 and weekday=0\n",
    "weekend_hr_data=sc_loc.loc[sc_loc['weekday_Status']==1]\n",
    "weekday_hr_data=sc_loc.loc[sc_loc['weekday_Status']==0]\n",
    "weekday_hr_data.head()"
   ]
  },
  {
   "cell_type": "code",
   "execution_count": 315,
   "id": "92362e2c",
   "metadata": {},
   "outputs": [
    {
     "data": {
      "text/plain": [
       "(1833, 147)"
      ]
     },
     "execution_count": 315,
     "metadata": {},
     "output_type": "execute_result"
    }
   ],
   "source": [
    "weekday_hr_data['ID'].nunique(),weekend_hr_data['ID'].nunique()"
   ]
  },
  {
   "cell_type": "code",
   "execution_count": 316,
   "id": "27c7185b",
   "metadata": {},
   "outputs": [
    {
     "data": {
      "text/html": [
       "<div>\n",
       "<style scoped>\n",
       "    .dataframe tbody tr th:only-of-type {\n",
       "        vertical-align: middle;\n",
       "    }\n",
       "\n",
       "    .dataframe tbody tr th {\n",
       "        vertical-align: top;\n",
       "    }\n",
       "\n",
       "    .dataframe thead th {\n",
       "        text-align: right;\n",
       "    }\n",
       "</style>\n",
       "<table border=\"1\" class=\"dataframe\">\n",
       "  <thead>\n",
       "    <tr style=\"text-align: right;\">\n",
       "      <th></th>\n",
       "      <th>matched_seg_id</th>\n",
       "      <th>year</th>\n",
       "      <th>Leg</th>\n",
       "      <th>AM_count</th>\n",
       "      <th>PM_count</th>\n",
       "      <th>AMI</th>\n",
       "    </tr>\n",
       "  </thead>\n",
       "  <tbody>\n",
       "    <tr>\n",
       "      <th>0</th>\n",
       "      <td>1030</td>\n",
       "      <td>2019</td>\n",
       "      <td>E</td>\n",
       "      <td>1</td>\n",
       "      <td>5</td>\n",
       "      <td>0.200000</td>\n",
       "    </tr>\n",
       "    <tr>\n",
       "      <th>1</th>\n",
       "      <td>1197</td>\n",
       "      <td>2018</td>\n",
       "      <td>E</td>\n",
       "      <td>1</td>\n",
       "      <td>11</td>\n",
       "      <td>0.090909</td>\n",
       "    </tr>\n",
       "    <tr>\n",
       "      <th>2</th>\n",
       "      <td>1266</td>\n",
       "      <td>2018</td>\n",
       "      <td>W</td>\n",
       "      <td>1</td>\n",
       "      <td>14</td>\n",
       "      <td>0.071429</td>\n",
       "    </tr>\n",
       "    <tr>\n",
       "      <th>3</th>\n",
       "      <td>1388</td>\n",
       "      <td>2019</td>\n",
       "      <td>E</td>\n",
       "      <td>2</td>\n",
       "      <td>5</td>\n",
       "      <td>0.400000</td>\n",
       "    </tr>\n",
       "    <tr>\n",
       "      <th>4</th>\n",
       "      <td>1497</td>\n",
       "      <td>2019</td>\n",
       "      <td>N</td>\n",
       "      <td>12</td>\n",
       "      <td>22</td>\n",
       "      <td>0.545455</td>\n",
       "    </tr>\n",
       "  </tbody>\n",
       "</table>\n",
       "</div>"
      ],
      "text/plain": [
       "   matched_seg_id  year Leg  AM_count  PM_count       AMI\n",
       "0            1030  2019   E         1         5  0.200000\n",
       "1            1197  2018   E         1        11  0.090909\n",
       "2            1266  2018   W         1        14  0.071429\n",
       "3            1388  2019   E         2         5  0.400000\n",
       "4            1497  2019   N        12        22  0.545455"
      ]
     },
     "execution_count": 316,
     "metadata": {},
     "output_type": "execute_result"
    }
   ],
   "source": [
    "# Calculate AM Count by eco id\n",
    "weekday_am1=weekday_hr_data[(weekday_hr_data['starttime']=='07:00:00')]\n",
    "weekday_am2=weekday_hr_data[(weekday_hr_data['starttime']=='08:00:00')]\n",
    "weekday_am=pd.concat([weekday_am1,weekday_am2],axis=0)\n",
    "#df181amg=df181am.groupby(['ID'])['Bicycle Count'].sum()\n",
    "df181amg=pd.DataFrame({'AM_count' : weekday_am.groupby(['matched_seg_id','year','Leg'])['Count'].sum()}).reset_index()\n",
    "\n",
    "# Calculate pM count by Eco ID\n",
    "weekday_pm1=weekday_hr_data[(weekday_hr_data['starttime']=='11:00:00')]\n",
    "weekday_pm2=weekday_hr_data[(weekday_hr_data['starttime']=='12:00:00')]\n",
    "df181pm=pd.concat([weekday_pm1,weekday_pm2],axis=0)\n",
    "#df181amg=df181am.groupby(['ID'])['Bicycle Count'].sum()\n",
    "df181pmg=pd.DataFrame({'PM_count' : df181pm.groupby(['matched_seg_id','year','Leg'])['Count'].sum()}).reset_index()\n",
    "\n",
    "# Join am and Pm count by eco id\n",
    "df181_am_pm=pd.merge(df181amg,df181pmg,left_on=['matched_seg_id','year','Leg'],right_on=['matched_seg_id','year','Leg'],how='inner')\n",
    "# Calculate the AMI\n",
    "df181_am_pm['AMI']=df181_am_pm['AM_count']/df181_am_pm['PM_count']\n",
    "df181_am_pm.head()"
   ]
  },
  {
   "cell_type": "code",
   "execution_count": 317,
   "id": "fed9af24",
   "metadata": {},
   "outputs": [
    {
     "data": {
      "text/plain": [
       "709"
      ]
     },
     "execution_count": 317,
     "metadata": {},
     "output_type": "execute_result"
    }
   ],
   "source": [
    "df181_am_pm['matched_seg_id'].nunique()"
   ]
  },
  {
   "cell_type": "code",
   "execution_count": 318,
   "id": "97415686",
   "metadata": {},
   "outputs": [
    {
     "data": {
      "text/plain": [
       "year  Leg\n",
       "2014  E       2\n",
       "      N       2\n",
       "      S       5\n",
       "      W       4\n",
       "2015  E       8\n",
       "      N       4\n",
       "      S       6\n",
       "      W       6\n",
       "2016  E      87\n",
       "      N      87\n",
       "      S      82\n",
       "      W      75\n",
       "2017  E      18\n",
       "      N      39\n",
       "      S      28\n",
       "      W      17\n",
       "2018  E      50\n",
       "      N      43\n",
       "      S      38\n",
       "      W      28\n",
       "2019  E      50\n",
       "      N      55\n",
       "      S      43\n",
       "      W      48\n",
       "Name: matched_seg_id, dtype: int64"
      ]
     },
     "execution_count": 318,
     "metadata": {},
     "output_type": "execute_result"
    }
   ],
   "source": [
    "df181_am_pm.groupby(['year','Leg'])['matched_seg_id'].count()"
   ]
  },
  {
   "cell_type": "code",
   "execution_count": 319,
   "id": "2b971b25",
   "metadata": {},
   "outputs": [
    {
     "data": {
      "text/html": [
       "<div>\n",
       "<style scoped>\n",
       "    .dataframe tbody tr th:only-of-type {\n",
       "        vertical-align: middle;\n",
       "    }\n",
       "\n",
       "    .dataframe tbody tr th {\n",
       "        vertical-align: top;\n",
       "    }\n",
       "\n",
       "    .dataframe thead th {\n",
       "        text-align: right;\n",
       "    }\n",
       "</style>\n",
       "<table border=\"1\" class=\"dataframe\">\n",
       "  <thead>\n",
       "    <tr style=\"text-align: right;\">\n",
       "      <th></th>\n",
       "      <th>matched_seg_id</th>\n",
       "      <th>year</th>\n",
       "      <th>Leg</th>\n",
       "      <th>late_PM_count</th>\n",
       "      <th>early_PM_count</th>\n",
       "      <th>PMI</th>\n",
       "    </tr>\n",
       "  </thead>\n",
       "  <tbody>\n",
       "    <tr>\n",
       "      <th>0</th>\n",
       "      <td>1030</td>\n",
       "      <td>2019</td>\n",
       "      <td>E</td>\n",
       "      <td>2</td>\n",
       "      <td>5</td>\n",
       "      <td>0.400000</td>\n",
       "    </tr>\n",
       "    <tr>\n",
       "      <th>1</th>\n",
       "      <td>1197</td>\n",
       "      <td>2018</td>\n",
       "      <td>E</td>\n",
       "      <td>7</td>\n",
       "      <td>11</td>\n",
       "      <td>0.636364</td>\n",
       "    </tr>\n",
       "    <tr>\n",
       "      <th>2</th>\n",
       "      <td>1266</td>\n",
       "      <td>2018</td>\n",
       "      <td>W</td>\n",
       "      <td>6</td>\n",
       "      <td>14</td>\n",
       "      <td>0.428571</td>\n",
       "    </tr>\n",
       "    <tr>\n",
       "      <th>3</th>\n",
       "      <td>1388</td>\n",
       "      <td>2019</td>\n",
       "      <td>E</td>\n",
       "      <td>11</td>\n",
       "      <td>5</td>\n",
       "      <td>2.200000</td>\n",
       "    </tr>\n",
       "    <tr>\n",
       "      <th>4</th>\n",
       "      <td>1497</td>\n",
       "      <td>2019</td>\n",
       "      <td>N</td>\n",
       "      <td>26</td>\n",
       "      <td>22</td>\n",
       "      <td>1.181818</td>\n",
       "    </tr>\n",
       "  </tbody>\n",
       "</table>\n",
       "</div>"
      ],
      "text/plain": [
       "   matched_seg_id  year Leg  late_PM_count  early_PM_count       PMI\n",
       "0            1030  2019   E              2               5  0.400000\n",
       "1            1197  2018   E              7              11  0.636364\n",
       "2            1266  2018   W              6              14  0.428571\n",
       "3            1388  2019   E             11               5  2.200000\n",
       "4            1497  2019   N             26              22  1.181818"
      ]
     },
     "execution_count": 319,
     "metadata": {},
     "output_type": "execute_result"
    }
   ],
   "source": [
    "# Calculate AM Count by eco id\n",
    "df181pm1=weekday_hr_data[(weekday_hr_data['starttime']=='17:00:00')]\n",
    "df181pm2=weekday_hr_data[(weekday_hr_data['starttime']=='18:00:00')]\n",
    "df181pm=pd.concat([df181pm1,df181pm2],axis=0)\n",
    "#df181amg=df181am.groupby(['ID'])['Bicycle Count'].sum()\n",
    "df181pmg=pd.DataFrame({'late_PM_count' : df181pm.groupby(['matched_seg_id','year','Leg'])['Count'].sum()}).reset_index()\n",
    "\n",
    "# Calculate pM count by Eco ID\n",
    "df181pm2g1=weekday_hr_data[(weekday_hr_data['starttime']=='11:00:00')]\n",
    "df181pm2g2=weekday_hr_data[(weekday_hr_data['starttime']=='12:00:00')]\n",
    "df181pm2g=pd.concat([df181pm2g1,df181pm2g2],axis=0)\n",
    "#df181amg=df181am.groupby(['ID'])['Bicycle Count'].sum()\n",
    "df181pm2g=pd.DataFrame({'early_PM_count' : df181pm2g.groupby(['matched_seg_id','year','Leg'])['Count'].sum()}).reset_index()\n",
    "\n",
    "# Join am and Pm count by eco id\n",
    "df181_pm_pm=pd.merge(df181pmg,df181pm2g,left_on=['matched_seg_id','year','Leg'],right_on=['matched_seg_id','year','Leg'],how='inner')\n",
    "# Calculate the AMI\n",
    "df181_pm_pm['PMI']=df181_pm_pm['late_PM_count']/df181_pm_pm['early_PM_count']\n",
    "df181_pm_pm.head()"
   ]
  },
  {
   "cell_type": "code",
   "execution_count": 320,
   "id": "669137e2",
   "metadata": {},
   "outputs": [
    {
     "data": {
      "text/plain": [
       "580"
      ]
     },
     "execution_count": 320,
     "metadata": {},
     "output_type": "execute_result"
    }
   ],
   "source": [
    "df181_pm_pm['matched_seg_id'].nunique()"
   ]
  },
  {
   "cell_type": "code",
   "execution_count": 321,
   "id": "7092acee",
   "metadata": {},
   "outputs": [
    {
     "data": {
      "text/plain": [
       "year  Leg\n",
       "2014  E       3\n",
       "      N       2\n",
       "      S       5\n",
       "      W       5\n",
       "2015  E       8\n",
       "      N       4\n",
       "      S       6\n",
       "      W       6\n",
       "2016  E      43\n",
       "      N      40\n",
       "      S      32\n",
       "      W      31\n",
       "2017  E      28\n",
       "      N      46\n",
       "      S      33\n",
       "      W      25\n",
       "2018  E      63\n",
       "      N      60\n",
       "      S      51\n",
       "      W      42\n",
       "2019  E      51\n",
       "      N      52\n",
       "      S      42\n",
       "      W      51\n",
       "Name: matched_seg_id, dtype: int64"
      ]
     },
     "execution_count": 321,
     "metadata": {},
     "output_type": "execute_result"
    }
   ],
   "source": [
    "df181_pm_pm.groupby(['year','Leg'])['matched_seg_id'].count()"
   ]
  },
  {
   "cell_type": "code",
   "execution_count": 322,
   "id": "a0c4267b",
   "metadata": {},
   "outputs": [
    {
     "data": {
      "text/html": [
       "<div>\n",
       "<style scoped>\n",
       "    .dataframe tbody tr th:only-of-type {\n",
       "        vertical-align: middle;\n",
       "    }\n",
       "\n",
       "    .dataframe tbody tr th {\n",
       "        vertical-align: top;\n",
       "    }\n",
       "\n",
       "    .dataframe thead th {\n",
       "        text-align: right;\n",
       "    }\n",
       "</style>\n",
       "<table border=\"1\" class=\"dataframe\">\n",
       "  <thead>\n",
       "    <tr style=\"text-align: right;\">\n",
       "      <th></th>\n",
       "      <th>matched_seg_id</th>\n",
       "      <th>year</th>\n",
       "      <th>Leg</th>\n",
       "      <th>AM_count</th>\n",
       "      <th>PM_count</th>\n",
       "      <th>AMI</th>\n",
       "      <th>late_PM_count</th>\n",
       "      <th>early_PM_count</th>\n",
       "      <th>PMI</th>\n",
       "    </tr>\n",
       "  </thead>\n",
       "  <tbody>\n",
       "    <tr>\n",
       "      <th>0</th>\n",
       "      <td>1030</td>\n",
       "      <td>2019</td>\n",
       "      <td>E</td>\n",
       "      <td>1</td>\n",
       "      <td>5</td>\n",
       "      <td>0.200000</td>\n",
       "      <td>2</td>\n",
       "      <td>5</td>\n",
       "      <td>0.400000</td>\n",
       "    </tr>\n",
       "    <tr>\n",
       "      <th>1</th>\n",
       "      <td>1197</td>\n",
       "      <td>2018</td>\n",
       "      <td>E</td>\n",
       "      <td>1</td>\n",
       "      <td>11</td>\n",
       "      <td>0.090909</td>\n",
       "      <td>7</td>\n",
       "      <td>11</td>\n",
       "      <td>0.636364</td>\n",
       "    </tr>\n",
       "    <tr>\n",
       "      <th>2</th>\n",
       "      <td>1266</td>\n",
       "      <td>2018</td>\n",
       "      <td>W</td>\n",
       "      <td>1</td>\n",
       "      <td>14</td>\n",
       "      <td>0.071429</td>\n",
       "      <td>6</td>\n",
       "      <td>14</td>\n",
       "      <td>0.428571</td>\n",
       "    </tr>\n",
       "    <tr>\n",
       "      <th>3</th>\n",
       "      <td>1388</td>\n",
       "      <td>2019</td>\n",
       "      <td>E</td>\n",
       "      <td>2</td>\n",
       "      <td>5</td>\n",
       "      <td>0.400000</td>\n",
       "      <td>11</td>\n",
       "      <td>5</td>\n",
       "      <td>2.200000</td>\n",
       "    </tr>\n",
       "    <tr>\n",
       "      <th>4</th>\n",
       "      <td>1497</td>\n",
       "      <td>2019</td>\n",
       "      <td>N</td>\n",
       "      <td>12</td>\n",
       "      <td>22</td>\n",
       "      <td>0.545455</td>\n",
       "      <td>26</td>\n",
       "      <td>22</td>\n",
       "      <td>1.181818</td>\n",
       "    </tr>\n",
       "    <tr>\n",
       "      <th>5</th>\n",
       "      <td>1497</td>\n",
       "      <td>2019</td>\n",
       "      <td>S</td>\n",
       "      <td>2</td>\n",
       "      <td>12</td>\n",
       "      <td>0.166667</td>\n",
       "      <td>18</td>\n",
       "      <td>12</td>\n",
       "      <td>1.500000</td>\n",
       "    </tr>\n",
       "    <tr>\n",
       "      <th>6</th>\n",
       "      <td>1605</td>\n",
       "      <td>2019</td>\n",
       "      <td>W</td>\n",
       "      <td>2</td>\n",
       "      <td>5</td>\n",
       "      <td>0.400000</td>\n",
       "      <td>2</td>\n",
       "      <td>5</td>\n",
       "      <td>0.400000</td>\n",
       "    </tr>\n",
       "    <tr>\n",
       "      <th>7</th>\n",
       "      <td>2062</td>\n",
       "      <td>2019</td>\n",
       "      <td>W</td>\n",
       "      <td>2</td>\n",
       "      <td>5</td>\n",
       "      <td>0.400000</td>\n",
       "      <td>7</td>\n",
       "      <td>5</td>\n",
       "      <td>1.400000</td>\n",
       "    </tr>\n",
       "    <tr>\n",
       "      <th>8</th>\n",
       "      <td>2126</td>\n",
       "      <td>2018</td>\n",
       "      <td>S</td>\n",
       "      <td>16</td>\n",
       "      <td>20</td>\n",
       "      <td>0.800000</td>\n",
       "      <td>8</td>\n",
       "      <td>20</td>\n",
       "      <td>0.400000</td>\n",
       "    </tr>\n",
       "    <tr>\n",
       "      <th>9</th>\n",
       "      <td>5820</td>\n",
       "      <td>2019</td>\n",
       "      <td>S</td>\n",
       "      <td>8</td>\n",
       "      <td>13</td>\n",
       "      <td>0.615385</td>\n",
       "      <td>4</td>\n",
       "      <td>13</td>\n",
       "      <td>0.307692</td>\n",
       "    </tr>\n",
       "  </tbody>\n",
       "</table>\n",
       "</div>"
      ],
      "text/plain": [
       "   matched_seg_id  year Leg  AM_count  PM_count       AMI  late_PM_count  \\\n",
       "0            1030  2019   E         1         5  0.200000              2   \n",
       "1            1197  2018   E         1        11  0.090909              7   \n",
       "2            1266  2018   W         1        14  0.071429              6   \n",
       "3            1388  2019   E         2         5  0.400000             11   \n",
       "4            1497  2019   N        12        22  0.545455             26   \n",
       "5            1497  2019   S         2        12  0.166667             18   \n",
       "6            1605  2019   W         2         5  0.400000              2   \n",
       "7            2062  2019   W         2         5  0.400000              7   \n",
       "8            2126  2018   S        16        20  0.800000              8   \n",
       "9            5820  2019   S         8        13  0.615385              4   \n",
       "\n",
       "   early_PM_count       PMI  \n",
       "0               5  0.400000  \n",
       "1              11  0.636364  \n",
       "2              14  0.428571  \n",
       "3               5  2.200000  \n",
       "4              22  1.181818  \n",
       "5              12  1.500000  \n",
       "6               5  0.400000  \n",
       "7               5  1.400000  \n",
       "8              20  0.400000  \n",
       "9              13  0.307692  "
      ]
     },
     "execution_count": 322,
     "metadata": {},
     "output_type": "execute_result"
    }
   ],
   "source": [
    "AMI_PMI=pd.merge(df181_am_pm,df181_pm_pm, left_on=['matched_seg_id','year','Leg'], right_on=['matched_seg_id','year','Leg'], how='inner')\n",
    "AMI_PMI.head(10)"
   ]
  },
  {
   "cell_type": "code",
   "execution_count": 323,
   "id": "ce8eef69",
   "metadata": {},
   "outputs": [
    {
     "data": {
      "text/plain": [
       "((538, 9), 462)"
      ]
     },
     "execution_count": 323,
     "metadata": {},
     "output_type": "execute_result"
    }
   ],
   "source": [
    "AMI_PMI.shape,AMI_PMI[\"matched_seg_id\"].nunique()"
   ]
  },
  {
   "cell_type": "code",
   "execution_count": 324,
   "id": "ab983bb0",
   "metadata": {},
   "outputs": [
    {
     "data": {
      "text/plain": [
       "462"
      ]
     },
     "execution_count": 324,
     "metadata": {},
     "output_type": "execute_result"
    }
   ],
   "source": [
    "AMI_PMI['matched_seg_id'].nunique()"
   ]
  },
  {
   "cell_type": "code",
   "execution_count": 325,
   "id": "b55b6b24",
   "metadata": {},
   "outputs": [],
   "source": [
    "# mask=sc['ID'].isin(location['Study_ID'])\n",
    "# sc_mis=sc[mask]\n",
    "# sc_mis.shape"
   ]
  },
  {
   "cell_type": "code",
   "execution_count": 326,
   "id": "9eecba25",
   "metadata": {},
   "outputs": [],
   "source": [
    "# expoort short term location with missing lat and long\n",
    "# sc_m=sc[~sc.ID.isin(location.Study_ID)]\n",
    "# sc_m1=sc_m.drop_duplicates(subset=['ID','Leg','year'], keep='first')\n",
    "# sc_m1.columns"
   ]
  },
  {
   "cell_type": "code",
   "execution_count": 327,
   "id": "fa1a2aea",
   "metadata": {},
   "outputs": [],
   "source": [
    "# sc_m2=sc_m1[['ID', 'year','Leg','matched_seg_id']]\n",
    "# sc_m2.shape"
   ]
  },
  {
   "cell_type": "code",
   "execution_count": 328,
   "id": "4f9a55ad",
   "metadata": {},
   "outputs": [],
   "source": [
    "# sc_m2.to_csv('C:/UC Berkeley Project Backup/Bike_ped Exposure Model Project/Processed Data/SC_with_missing_location.csv')"
   ]
  },
  {
   "cell_type": "code",
   "execution_count": 329,
   "id": "48097464",
   "metadata": {},
   "outputs": [],
   "source": [
    "# Calculate the max AMI_PMI Value\n",
    "def max_weekday_value(Max_weekday_AMI,Max_weekday_PMI):\n",
    "    if Max_weekday_AMI>Max_weekday_PMI:\n",
    "        return Max_weekday_AMI\n",
    "    else:\n",
    "        return Max_weekday_PMI"
   ]
  },
  {
   "cell_type": "code",
   "execution_count": 330,
   "id": "825bad82",
   "metadata": {},
   "outputs": [
    {
     "data": {
      "text/html": [
       "<div>\n",
       "<style scoped>\n",
       "    .dataframe tbody tr th:only-of-type {\n",
       "        vertical-align: middle;\n",
       "    }\n",
       "\n",
       "    .dataframe tbody tr th {\n",
       "        vertical-align: top;\n",
       "    }\n",
       "\n",
       "    .dataframe thead th {\n",
       "        text-align: right;\n",
       "    }\n",
       "</style>\n",
       "<table border=\"1\" class=\"dataframe\">\n",
       "  <thead>\n",
       "    <tr style=\"text-align: right;\">\n",
       "      <th></th>\n",
       "      <th>Unnamed: 0.2</th>\n",
       "      <th>matched_seg_id</th>\n",
       "      <th>Leg</th>\n",
       "      <th>year</th>\n",
       "      <th>...1</th>\n",
       "      <th>Unnamed: 0.1</th>\n",
       "      <th>Unnamed: 0</th>\n",
       "      <th>ID</th>\n",
       "      <th>Date</th>\n",
       "      <th>Day of Week</th>\n",
       "      <th>...</th>\n",
       "      <th>MAD_flag</th>\n",
       "      <th>comb_flag</th>\n",
       "      <th>comb_flag_day_count</th>\n",
       "      <th>comb_flag_day</th>\n",
       "      <th>Mio</th>\n",
       "      <th>ID_y</th>\n",
       "      <th>tdg_id</th>\n",
       "      <th>Lat</th>\n",
       "      <th>Long</th>\n",
       "      <th>Max_AMI_PMI</th>\n",
       "    </tr>\n",
       "  </thead>\n",
       "  <tbody>\n",
       "    <tr>\n",
       "      <th>0</th>\n",
       "      <td>115</td>\n",
       "      <td>102859</td>\n",
       "      <td>E</td>\n",
       "      <td>2016</td>\n",
       "      <td>29156</td>\n",
       "      <td>29156</td>\n",
       "      <td>52</td>\n",
       "      <td>Vista9</td>\n",
       "      <td>2016-02-02</td>\n",
       "      <td>Tuesday</td>\n",
       "      <td>...</td>\n",
       "      <td>False</td>\n",
       "      <td>False</td>\n",
       "      <td>0</td>\n",
       "      <td>False</td>\n",
       "      <td>0</td>\n",
       "      <td>Vista9</td>\n",
       "      <td>102859.0</td>\n",
       "      <td>33.201857</td>\n",
       "      <td>-117.242968</td>\n",
       "      <td>1.5</td>\n",
       "    </tr>\n",
       "    <tr>\n",
       "      <th>1</th>\n",
       "      <td>115</td>\n",
       "      <td>102859</td>\n",
       "      <td>E</td>\n",
       "      <td>2016</td>\n",
       "      <td>29156</td>\n",
       "      <td>29156</td>\n",
       "      <td>52</td>\n",
       "      <td>Vista9</td>\n",
       "      <td>2016-02-02</td>\n",
       "      <td>Tuesday</td>\n",
       "      <td>...</td>\n",
       "      <td>False</td>\n",
       "      <td>False</td>\n",
       "      <td>0</td>\n",
       "      <td>False</td>\n",
       "      <td>0</td>\n",
       "      <td>Vista10</td>\n",
       "      <td>102859.0</td>\n",
       "      <td>33.201857</td>\n",
       "      <td>-117.242968</td>\n",
       "      <td>1.5</td>\n",
       "    </tr>\n",
       "    <tr>\n",
       "      <th>2</th>\n",
       "      <td>116</td>\n",
       "      <td>102859</td>\n",
       "      <td>E</td>\n",
       "      <td>2016</td>\n",
       "      <td>29172</td>\n",
       "      <td>29172</td>\n",
       "      <td>68</td>\n",
       "      <td>Vista10</td>\n",
       "      <td>2016-09-28</td>\n",
       "      <td>Wednesday</td>\n",
       "      <td>...</td>\n",
       "      <td>False</td>\n",
       "      <td>False</td>\n",
       "      <td>0</td>\n",
       "      <td>False</td>\n",
       "      <td>0</td>\n",
       "      <td>Vista9</td>\n",
       "      <td>102859.0</td>\n",
       "      <td>33.201857</td>\n",
       "      <td>-117.242968</td>\n",
       "      <td>1.5</td>\n",
       "    </tr>\n",
       "    <tr>\n",
       "      <th>3</th>\n",
       "      <td>116</td>\n",
       "      <td>102859</td>\n",
       "      <td>E</td>\n",
       "      <td>2016</td>\n",
       "      <td>29172</td>\n",
       "      <td>29172</td>\n",
       "      <td>68</td>\n",
       "      <td>Vista10</td>\n",
       "      <td>2016-09-28</td>\n",
       "      <td>Wednesday</td>\n",
       "      <td>...</td>\n",
       "      <td>False</td>\n",
       "      <td>False</td>\n",
       "      <td>0</td>\n",
       "      <td>False</td>\n",
       "      <td>0</td>\n",
       "      <td>Vista10</td>\n",
       "      <td>102859.0</td>\n",
       "      <td>33.201857</td>\n",
       "      <td>-117.242968</td>\n",
       "      <td>1.5</td>\n",
       "    </tr>\n",
       "    <tr>\n",
       "      <th>4</th>\n",
       "      <td>117</td>\n",
       "      <td>102859</td>\n",
       "      <td>E</td>\n",
       "      <td>2016</td>\n",
       "      <td>29169</td>\n",
       "      <td>29169</td>\n",
       "      <td>65</td>\n",
       "      <td>Vista10</td>\n",
       "      <td>2016-09-28</td>\n",
       "      <td>Wednesday</td>\n",
       "      <td>...</td>\n",
       "      <td>False</td>\n",
       "      <td>False</td>\n",
       "      <td>0</td>\n",
       "      <td>False</td>\n",
       "      <td>0</td>\n",
       "      <td>Vista9</td>\n",
       "      <td>102859.0</td>\n",
       "      <td>33.201857</td>\n",
       "      <td>-117.242968</td>\n",
       "      <td>1.5</td>\n",
       "    </tr>\n",
       "  </tbody>\n",
       "</table>\n",
       "<p>5 rows × 48 columns</p>\n",
       "</div>"
      ],
      "text/plain": [
       "   Unnamed: 0.2  matched_seg_id Leg  year   ...1  Unnamed: 0.1  Unnamed: 0  \\\n",
       "0           115          102859   E  2016  29156         29156          52   \n",
       "1           115          102859   E  2016  29156         29156          52   \n",
       "2           116          102859   E  2016  29172         29172          68   \n",
       "3           116          102859   E  2016  29172         29172          68   \n",
       "4           117          102859   E  2016  29169         29169          65   \n",
       "\n",
       "        ID        Date Day of Week  ... MAD_flag comb_flag  \\\n",
       "0   Vista9  2016-02-02     Tuesday  ...    False     False   \n",
       "1   Vista9  2016-02-02     Tuesday  ...    False     False   \n",
       "2  Vista10  2016-09-28   Wednesday  ...    False     False   \n",
       "3  Vista10  2016-09-28   Wednesday  ...    False     False   \n",
       "4  Vista10  2016-09-28   Wednesday  ...    False     False   \n",
       "\n",
       "   comb_flag_day_count comb_flag_day  Mio     ID_y    tdg_id        Lat  \\\n",
       "0                    0         False    0   Vista9  102859.0  33.201857   \n",
       "1                    0         False    0  Vista10  102859.0  33.201857   \n",
       "2                    0         False    0   Vista9  102859.0  33.201857   \n",
       "3                    0         False    0  Vista10  102859.0  33.201857   \n",
       "4                    0         False    0   Vista9  102859.0  33.201857   \n",
       "\n",
       "         Long Max_AMI_PMI  \n",
       "0 -117.242968         1.5  \n",
       "1 -117.242968         1.5  \n",
       "2 -117.242968         1.5  \n",
       "3 -117.242968         1.5  \n",
       "4 -117.242968         1.5  \n",
       "\n",
       "[5 rows x 48 columns]"
      ]
     },
     "execution_count": 330,
     "metadata": {},
     "output_type": "execute_result"
    }
   ],
   "source": [
    "AMI_PMI['Max_AMI_PMI']=AMI_PMI.apply(lambda row:max_weekday_value(row['AMI'],row['PMI']),axis=1)\n",
    "AMI_PMI1=AMI_PMI[['matched_seg_id','year','Leg','Max_AMI_PMI']]\n",
    "AMI_PMI2=pd.merge(weekday_hr_data,AMI_PMI1,on=['matched_seg_id','year','Leg'], how='inner')\n",
    "AMI_PMI2.head()"
   ]
  },
  {
   "cell_type": "code",
   "execution_count": 331,
   "id": "35cd8ead",
   "metadata": {},
   "outputs": [
    {
     "data": {
      "text/plain": [
       "(15048, 48)"
      ]
     },
     "execution_count": 331,
     "metadata": {},
     "output_type": "execute_result"
    }
   ],
   "source": [
    "AMI_PMI2.shape"
   ]
  },
  {
   "cell_type": "code",
   "execution_count": 332,
   "id": "1121e8e3",
   "metadata": {},
   "outputs": [],
   "source": [
    "AMI_PMI2=AMI_PMI2.drop_duplicates(subset=['year','month','day','Leg','Day of Week','matched_seg_id','Lat','Long','starttime'], keep='first')"
   ]
  },
  {
   "cell_type": "code",
   "execution_count": 333,
   "id": "bd2ccbb3",
   "metadata": {},
   "outputs": [
    {
     "data": {
      "text/plain": [
       "(6179, 48)"
      ]
     },
     "execution_count": 333,
     "metadata": {},
     "output_type": "execute_result"
    }
   ],
   "source": [
    "AMI_PMI2.shape"
   ]
  },
  {
   "cell_type": "code",
   "execution_count": 334,
   "id": "59edc669",
   "metadata": {},
   "outputs": [
    {
     "data": {
      "text/plain": [
       "year  Leg\n",
       "2014  E       2\n",
       "      N       2\n",
       "      S       5\n",
       "      W       4\n",
       "2015  E       8\n",
       "      N       3\n",
       "      S       6\n",
       "      W       5\n",
       "2016  E      28\n",
       "      N      22\n",
       "      S      19\n",
       "      W      18\n",
       "2017  E      18\n",
       "      N      37\n",
       "      S      26\n",
       "      W      16\n",
       "2018  E      42\n",
       "      N      39\n",
       "      S      34\n",
       "      W      24\n",
       "2019  E      48\n",
       "      N      48\n",
       "      S      39\n",
       "      W      45\n",
       "Name: matched_seg_id, dtype: int64"
      ]
     },
     "execution_count": 334,
     "metadata": {},
     "output_type": "execute_result"
    }
   ],
   "source": [
    "AMI_PMI.groupby(['year','Leg'])['matched_seg_id'].count()"
   ]
  },
  {
   "cell_type": "code",
   "execution_count": 335,
   "id": "5d2704ef",
   "metadata": {},
   "outputs": [
    {
     "data": {
      "text/plain": [
       "year\n",
       "2014     13\n",
       "2015     22\n",
       "2016     87\n",
       "2017     97\n",
       "2018    139\n",
       "2019    180\n",
       "Name: matched_seg_id, dtype: int64"
      ]
     },
     "execution_count": 335,
     "metadata": {},
     "output_type": "execute_result"
    }
   ],
   "source": [
    "AMI_PMI.groupby(['year'])['matched_seg_id'].count()"
   ]
  },
  {
   "cell_type": "code",
   "execution_count": 336,
   "id": "525bb1c6",
   "metadata": {},
   "outputs": [],
   "source": [
    "# split the data by Max_AMI_PMI Value\n",
    "AMI_PMI2_g1=AMI_PMI2.loc[AMI_PMI2['Max_AMI_PMI']<=1]\n",
    "AMI_PMI2_g1=AMI_PMI2_g1.drop(['Unnamed: 0.2','Unnamed: 0.1','Unnamed: 0','Start Time', 'End Time', 'starttime1', 'endtime1','startDateTime',\n",
    "       'endDateTime'],axis=1)\n",
    "AMI_PMI2_g2=AMI_PMI2[(AMI_PMI2.Max_AMI_PMI>1) &(AMI_PMI2.Max_AMI_PMI<=2.50)]\n",
    "AMI_PMI2_g3=AMI_PMI2.loc[AMI_PMI2['Max_AMI_PMI']>2.50]"
   ]
  },
  {
   "cell_type": "code",
   "execution_count": 337,
   "id": "c1595a3b",
   "metadata": {},
   "outputs": [],
   "source": [
    "#AMI_PMI2_g1.loc[AMI_PMI2_g1['ID']=='Kern125']"
   ]
  },
  {
   "cell_type": "code",
   "execution_count": 338,
   "id": "2bbd34c6",
   "metadata": {},
   "outputs": [
    {
     "data": {
      "text/plain": [
       "((538, 4), (6179, 48))"
      ]
     },
     "execution_count": 338,
     "metadata": {},
     "output_type": "execute_result"
    }
   ],
   "source": [
    "AMI_PMI1.shape,AMI_PMI2.shape"
   ]
  },
  {
   "cell_type": "code",
   "execution_count": 339,
   "id": "bbb935c8",
   "metadata": {},
   "outputs": [],
   "source": [
    "# read the HOD factor for weekday and group it by criteria\n",
    "HOD=pd.read_csv('H:/Desktop/Bike_ped Exposure Model Project/Final Factor/Final_HOD_Factor.csv')\n",
    "HOD_weekday=HOD.loc[HOD['day_of_status']=='weekday']\n",
    "HOD_weekday_g1=HOD_weekday.loc[HOD_weekday['Criteria']=='Max_AMI_PMI<=1']\n",
    "HOD_weekday_g2=HOD_weekday.loc[HOD_weekday['Criteria']=='1<Max_AMI_PMI<=2.5']\n",
    "HOD_weekday_g3=HOD_weekday.loc[HOD_weekday['Criteria']=='Max_AMI_PMI>2.5']"
   ]
  },
  {
   "cell_type": "code",
   "execution_count": 340,
   "id": "e3305e91",
   "metadata": {},
   "outputs": [
    {
     "data": {
      "text/html": [
       "<div>\n",
       "<style scoped>\n",
       "    .dataframe tbody tr th:only-of-type {\n",
       "        vertical-align: middle;\n",
       "    }\n",
       "\n",
       "    .dataframe tbody tr th {\n",
       "        vertical-align: top;\n",
       "    }\n",
       "\n",
       "    .dataframe thead th {\n",
       "        text-align: right;\n",
       "    }\n",
       "</style>\n",
       "<table border=\"1\" class=\"dataframe\">\n",
       "  <thead>\n",
       "    <tr style=\"text-align: right;\">\n",
       "      <th></th>\n",
       "      <th>Unnamed: 0</th>\n",
       "      <th>starttime</th>\n",
       "      <th>Average_Group_HOD_Factor</th>\n",
       "      <th>Criteria</th>\n",
       "      <th>day_of_status</th>\n",
       "    </tr>\n",
       "  </thead>\n",
       "  <tbody>\n",
       "    <tr>\n",
       "      <th>0</th>\n",
       "      <td>0</td>\n",
       "      <td>00:00:00</td>\n",
       "      <td>0.002970</td>\n",
       "      <td>Max_AMI_PMI&lt;=1</td>\n",
       "      <td>weekday</td>\n",
       "    </tr>\n",
       "    <tr>\n",
       "      <th>1</th>\n",
       "      <td>1</td>\n",
       "      <td>01:00:00</td>\n",
       "      <td>0.002145</td>\n",
       "      <td>Max_AMI_PMI&lt;=1</td>\n",
       "      <td>weekday</td>\n",
       "    </tr>\n",
       "    <tr>\n",
       "      <th>2</th>\n",
       "      <td>2</td>\n",
       "      <td>02:00:00</td>\n",
       "      <td>0.001953</td>\n",
       "      <td>Max_AMI_PMI&lt;=1</td>\n",
       "      <td>weekday</td>\n",
       "    </tr>\n",
       "    <tr>\n",
       "      <th>3</th>\n",
       "      <td>3</td>\n",
       "      <td>03:00:00</td>\n",
       "      <td>0.001807</td>\n",
       "      <td>Max_AMI_PMI&lt;=1</td>\n",
       "      <td>weekday</td>\n",
       "    </tr>\n",
       "    <tr>\n",
       "      <th>4</th>\n",
       "      <td>4</td>\n",
       "      <td>04:00:00</td>\n",
       "      <td>0.002084</td>\n",
       "      <td>Max_AMI_PMI&lt;=1</td>\n",
       "      <td>weekday</td>\n",
       "    </tr>\n",
       "  </tbody>\n",
       "</table>\n",
       "</div>"
      ],
      "text/plain": [
       "   Unnamed: 0 starttime  Average_Group_HOD_Factor        Criteria  \\\n",
       "0           0  00:00:00                  0.002970  Max_AMI_PMI<=1   \n",
       "1           1  01:00:00                  0.002145  Max_AMI_PMI<=1   \n",
       "2           2  02:00:00                  0.001953  Max_AMI_PMI<=1   \n",
       "3           3  03:00:00                  0.001807  Max_AMI_PMI<=1   \n",
       "4           4  04:00:00                  0.002084  Max_AMI_PMI<=1   \n",
       "\n",
       "  day_of_status  \n",
       "0       weekday  \n",
       "1       weekday  \n",
       "2       weekday  \n",
       "3       weekday  \n",
       "4       weekday  "
      ]
     },
     "execution_count": 340,
     "metadata": {},
     "output_type": "execute_result"
    }
   ],
   "source": [
    "HOD_weekday_g1.head()"
   ]
  },
  {
   "cell_type": "code",
   "execution_count": 341,
   "id": "1f6290fb",
   "metadata": {},
   "outputs": [],
   "source": [
    "# Calculate daily Volume for group 1\n",
    "g1_DV=pd.merge(AMI_PMI2_g1,HOD_weekday_g1, on=['starttime'], how='inner')\n",
    "g1_DV1=pd.DataFrame({'agge_count' : g1_DV.groupby(['year','month','day','Leg','Day of Week','matched_seg_id','Lat','Long'])['Count'].sum()}).reset_index()\n",
    "g1_DV1f=pd.DataFrame({'agge_factor' : g1_DV.groupby(['year','month','day','Leg','Day of Week','matched_seg_id','Lat','Long'])['Average_Group_HOD_Factor'].sum()}).reset_index()\n",
    "g1_DV1r=pd.merge(g1_DV1,g1_DV1f, on=['year','month','day','Leg','Day of Week','matched_seg_id','Lat','Long'], how='inner')\n",
    "g1_DV1r['Daily_Volume']=g1_DV1r['agge_count']/g1_DV1r['agge_factor']\n",
    "g1_DV1rf=pd.DataFrame({'TDV' : g1_DV1r.groupby(['year','Leg','Day of Week','month','matched_seg_id','Lat','Long'])['Daily_Volume'].mean()}).reset_index()"
   ]
  },
  {
   "cell_type": "code",
   "execution_count": 342,
   "id": "5f651122",
   "metadata": {},
   "outputs": [
    {
     "data": {
      "text/plain": [
       "((208, 9), (208, 11))"
      ]
     },
     "execution_count": 342,
     "metadata": {},
     "output_type": "execute_result"
    }
   ],
   "source": [
    "g1_DV1.shape,g1_DV1r.shape"
   ]
  },
  {
   "cell_type": "code",
   "execution_count": 343,
   "id": "79da52c2",
   "metadata": {},
   "outputs": [
    {
     "data": {
      "text/plain": [
       "((0, 43), (0, 9))"
      ]
     },
     "execution_count": 343,
     "metadata": {},
     "output_type": "execute_result"
    }
   ],
   "source": [
    "c=g1_DV.loc[g1_DV['Count']==0]\n",
    "c1=g1_DV1.loc[g1_DV1['agge_count']==0]\n",
    "c.shape,c1.shape"
   ]
  },
  {
   "cell_type": "code",
   "execution_count": 344,
   "id": "ad69a519",
   "metadata": {},
   "outputs": [],
   "source": [
    "# Calculate daily Volume for group 2\n",
    "g2_DV=pd.merge(AMI_PMI2_g2,HOD_weekday_g2, on=['starttime'], how='inner')\n",
    "g2_DV2=pd.DataFrame({'agge_count' : g2_DV.groupby(['year','month','day','Leg','Day of Week','matched_seg_id','Lat','Long'])['Count'].sum()}).reset_index()\n",
    "g2_DV2f=pd.DataFrame({'agge_factor' : g2_DV.groupby(['year','month','day','Leg','Day of Week','matched_seg_id','Lat','Long'])['Average_Group_HOD_Factor'].sum()}).reset_index()\n",
    "g2_DV2r=pd.merge(g2_DV2,g2_DV2f, on=['year','month','day','Leg','Day of Week','matched_seg_id','Lat','Long'], how='inner')\n",
    "g2_DV2r['Daily_Volume']=g2_DV2r['agge_count']/g2_DV2r['agge_factor']\n",
    "g2_DV2rf=pd.DataFrame({'TDV' : g2_DV2r.groupby(['year','Leg','Day of Week','month','matched_seg_id','Lat','Long'])['Daily_Volume'].mean()}).reset_index()"
   ]
  },
  {
   "cell_type": "code",
   "execution_count": 345,
   "id": "1a8fadf7",
   "metadata": {},
   "outputs": [
    {
     "data": {
      "text/plain": [
       "((207, 9), (207, 11))"
      ]
     },
     "execution_count": 345,
     "metadata": {},
     "output_type": "execute_result"
    }
   ],
   "source": [
    "g2_DV2.shape,g2_DV2r.shape"
   ]
  },
  {
   "cell_type": "code",
   "execution_count": 346,
   "id": "775777f0",
   "metadata": {},
   "outputs": [],
   "source": [
    "# Calculate daily Volume for group 3\n",
    "g3_DV=pd.merge(AMI_PMI2_g3,HOD_weekday_g3, on=['starttime'], how='inner')\n",
    "g3_DV3=pd.DataFrame({'agge_count' : g3_DV.groupby(['year','month','day','Leg','Day of Week','matched_seg_id','Lat','Long'])['Count'].sum()}).reset_index()\n",
    "g3_DV3f=pd.DataFrame({'agge_factor' : g3_DV.groupby(['year','month','day','Leg','Day of Week','matched_seg_id','Lat','Long'])['Average_Group_HOD_Factor'].sum()}).reset_index()\n",
    "g3_DV3r=pd.merge(g3_DV3,g3_DV3f, on=['year','month','day','Leg','Day of Week','matched_seg_id','Lat','Long'], how='inner')\n",
    "g3_DV3r['Daily_Volume']=g3_DV3r['agge_count']/g3_DV3r['agge_factor']\n",
    "g3_DV3rf=pd.DataFrame({'TDV' : g3_DV3r.groupby(['year','Leg','Day of Week','month','matched_seg_id','Lat','Long'])['Daily_Volume'].mean()}).reset_index()"
   ]
  },
  {
   "cell_type": "code",
   "execution_count": 347,
   "id": "7789f0fb",
   "metadata": {},
   "outputs": [
    {
     "data": {
      "text/plain": [
       "((198, 9), (198, 11))"
      ]
     },
     "execution_count": 347,
     "metadata": {},
     "output_type": "execute_result"
    }
   ],
   "source": [
    "g3_DV3.shape,g3_DV3r.shape"
   ]
  },
  {
   "cell_type": "code",
   "execution_count": 348,
   "id": "c16ba739",
   "metadata": {},
   "outputs": [],
   "source": [
    "# Apply HOD factor to get Daily Total volume\n",
    "# g1_DV=pd.merge(AMI_PMI2_g1,HOD_weekday_g1, on=['starttime'], how='inner')\n",
    "# g1_DV['Daily_Volume']=g1_DV['Count']/g1_DV['Average_Group_HOD_Factor']\n",
    "# g1_DV1=pd.DataFrame({'TDV' : g1_DV.groupby(['ID','year','Leg','Day of Week','month','matched_seg_id','Lat','Long'])['Daily_Volume'].mean()}).reset_index()\n",
    "# g2_DV=pd.merge(AMI_PMI2_g2,HOD_weekday_g2, on=['starttime'], how='inner')\n",
    "# g2_DV['Daily_Volume']=g2_DV['Count']/g2_DV['Average_Group_HOD_Factor']\n",
    "# g2_DV2=pd.DataFrame({'TDV' : g2_DV.groupby(['ID','year','Leg','Day of Week','month','matched_seg_id','Lat','Long'])['Daily_Volume'].mean()}).reset_index()\n",
    "# g3_DV=pd.merge(AMI_PMI2_g3,HOD_weekday_g3, on=['starttime'], how='inner')\n",
    "# g3_DV['Daily_Volume']=g3_DV['Count']/g3_DV['Average_Group_HOD_Factor']\n",
    "# g3_DV3=pd.DataFrame({'TDV' : g3_DV.groupby(['ID','year','Leg','Day of Week','month','matched_seg_id','Lat','Long'])['Daily_Volume'].mean()}).reset_index()\n",
    "# g3_DV3.head()"
   ]
  },
  {
   "cell_type": "code",
   "execution_count": 349,
   "id": "c4a1054c",
   "metadata": {},
   "outputs": [
    {
     "data": {
      "text/plain": [
       "(605, 9)"
      ]
     },
     "execution_count": 349,
     "metadata": {},
     "output_type": "execute_result"
    }
   ],
   "source": [
    "# combine these three group of estimated daily volume together\n",
    "DV_part1=pd.concat([g1_DV1rf,g2_DV2rf,g3_DV3rf],axis=0).reset_index()\n",
    "DV_part1.shape"
   ]
  },
  {
   "cell_type": "code",
   "execution_count": 350,
   "id": "94168adc",
   "metadata": {},
   "outputs": [
    {
     "data": {
      "text/plain": [
       "index             0\n",
       "year              0\n",
       "Leg               0\n",
       "Day of Week       0\n",
       "month             0\n",
       "matched_seg_id    0\n",
       "Lat               0\n",
       "Long              0\n",
       "TDV               0\n",
       "dtype: int64"
      ]
     },
     "execution_count": 350,
     "metadata": {},
     "output_type": "execute_result"
    }
   ],
   "source": [
    "DV_part1.isnull().sum()"
   ]
  },
  {
   "cell_type": "code",
   "execution_count": 351,
   "id": "7feb9163",
   "metadata": {},
   "outputs": [
    {
     "data": {
      "text/plain": [
       "<AxesSubplot: >"
      ]
     },
     "execution_count": 351,
     "metadata": {},
     "output_type": "execute_result"
    },
    {
     "data": {
      "image/png": "[encoded data removed]",
      "text/plain": [
       "<Figure size 640x480 with 1 Axes>"
      ]
     },
     "metadata": {},
     "output_type": "display_data"
    }
   ],
   "source": [
    "DV_part1['TDV'].plot()"
   ]
  },
  {
   "cell_type": "code",
   "execution_count": 352,
   "id": "5c1b49f4",
   "metadata": {},
   "outputs": [
    {
     "data": {
      "text/plain": [
       "Index(['index', 'year', 'Leg', 'Day of Week', 'month', 'matched_seg_id', 'Lat',\n",
       "       'Long', 'TDV'],\n",
       "      dtype='object')"
      ]
     },
     "execution_count": 352,
     "metadata": {},
     "output_type": "execute_result"
    }
   ],
   "source": [
    "DV_part1.columns"
   ]
  },
  {
   "cell_type": "code",
   "execution_count": 353,
   "id": "5bf4044c",
   "metadata": {},
   "outputs": [
    {
     "data": {
      "text/plain": [
       "array([2014, 2015, 2016, 2017, 2018, 2019], dtype=int64)"
      ]
     },
     "execution_count": 353,
     "metadata": {},
     "output_type": "execute_result"
    }
   ],
   "source": [
    "DV_part1['year'].unique()"
   ]
  },
  {
   "cell_type": "code",
   "execution_count": 354,
   "id": "39b7da74",
   "metadata": {},
   "outputs": [],
   "source": [
    "# it seems still 1992--456= 1536 sites weekday saily volume still need to be estimated\n",
    "# use Maximum Weekday AMI_PMI= 5.57710+7.58428e-05* population Density -4.76462* Strava Recreational Ratio"
   ]
  },
  {
   "cell_type": "code",
   "execution_count": 355,
   "id": "50d48ba1",
   "metadata": {},
   "outputs": [
    {
     "data": {
      "text/html": [
       "<div>\n",
       "<style scoped>\n",
       "    .dataframe tbody tr th:only-of-type {\n",
       "        vertical-align: middle;\n",
       "    }\n",
       "\n",
       "    .dataframe tbody tr th {\n",
       "        vertical-align: top;\n",
       "    }\n",
       "\n",
       "    .dataframe thead th {\n",
       "        text-align: right;\n",
       "    }\n",
       "</style>\n",
       "<table border=\"1\" class=\"dataframe\">\n",
       "  <thead>\n",
       "    <tr style=\"text-align: right;\">\n",
       "      <th></th>\n",
       "      <th>Unnamed: 0.2</th>\n",
       "      <th>matched_seg_id</th>\n",
       "      <th>Leg</th>\n",
       "      <th>year</th>\n",
       "      <th>...1</th>\n",
       "      <th>Unnamed: 0.1</th>\n",
       "      <th>Unnamed: 0</th>\n",
       "      <th>ID</th>\n",
       "      <th>Date</th>\n",
       "      <th>Day of Week</th>\n",
       "      <th>...</th>\n",
       "      <th>MAD_flag_threshold</th>\n",
       "      <th>MAD_flag</th>\n",
       "      <th>comb_flag</th>\n",
       "      <th>comb_flag_day_count</th>\n",
       "      <th>comb_flag_day</th>\n",
       "      <th>Mio</th>\n",
       "      <th>ID_y</th>\n",
       "      <th>tdg_id</th>\n",
       "      <th>Lat</th>\n",
       "      <th>Long</th>\n",
       "    </tr>\n",
       "  </thead>\n",
       "  <tbody>\n",
       "    <tr>\n",
       "      <th>0</th>\n",
       "      <td>8</td>\n",
       "      <td>101100</td>\n",
       "      <td>N</td>\n",
       "      <td>2018</td>\n",
       "      <td>29901</td>\n",
       "      <td>29901</td>\n",
       "      <td>797</td>\n",
       "      <td>Vista88</td>\n",
       "      <td>2018-04-19</td>\n",
       "      <td>Thursday</td>\n",
       "      <td>...</td>\n",
       "      <td>58.3736</td>\n",
       "      <td>False</td>\n",
       "      <td>False</td>\n",
       "      <td>0</td>\n",
       "      <td>False</td>\n",
       "      <td>0</td>\n",
       "      <td>Vista87</td>\n",
       "      <td>101100.0</td>\n",
       "      <td>33.195443</td>\n",
       "      <td>-117.249603</td>\n",
       "    </tr>\n",
       "    <tr>\n",
       "      <th>1</th>\n",
       "      <td>8</td>\n",
       "      <td>101100</td>\n",
       "      <td>N</td>\n",
       "      <td>2018</td>\n",
       "      <td>29901</td>\n",
       "      <td>29901</td>\n",
       "      <td>797</td>\n",
       "      <td>Vista88</td>\n",
       "      <td>2018-04-19</td>\n",
       "      <td>Thursday</td>\n",
       "      <td>...</td>\n",
       "      <td>58.3736</td>\n",
       "      <td>False</td>\n",
       "      <td>False</td>\n",
       "      <td>0</td>\n",
       "      <td>False</td>\n",
       "      <td>0</td>\n",
       "      <td>Vista88</td>\n",
       "      <td>101100.0</td>\n",
       "      <td>33.195443</td>\n",
       "      <td>-117.249603</td>\n",
       "    </tr>\n",
       "    <tr>\n",
       "      <th>2</th>\n",
       "      <td>9</td>\n",
       "      <td>101100</td>\n",
       "      <td>N</td>\n",
       "      <td>2018</td>\n",
       "      <td>29896</td>\n",
       "      <td>29896</td>\n",
       "      <td>792</td>\n",
       "      <td>Vista87</td>\n",
       "      <td>2018-04-19</td>\n",
       "      <td>Thursday</td>\n",
       "      <td>...</td>\n",
       "      <td>58.3736</td>\n",
       "      <td>False</td>\n",
       "      <td>False</td>\n",
       "      <td>0</td>\n",
       "      <td>False</td>\n",
       "      <td>0</td>\n",
       "      <td>Vista87</td>\n",
       "      <td>101100.0</td>\n",
       "      <td>33.195443</td>\n",
       "      <td>-117.249603</td>\n",
       "    </tr>\n",
       "    <tr>\n",
       "      <th>3</th>\n",
       "      <td>9</td>\n",
       "      <td>101100</td>\n",
       "      <td>N</td>\n",
       "      <td>2018</td>\n",
       "      <td>29896</td>\n",
       "      <td>29896</td>\n",
       "      <td>792</td>\n",
       "      <td>Vista87</td>\n",
       "      <td>2018-04-19</td>\n",
       "      <td>Thursday</td>\n",
       "      <td>...</td>\n",
       "      <td>58.3736</td>\n",
       "      <td>False</td>\n",
       "      <td>False</td>\n",
       "      <td>0</td>\n",
       "      <td>False</td>\n",
       "      <td>0</td>\n",
       "      <td>Vista88</td>\n",
       "      <td>101100.0</td>\n",
       "      <td>33.195443</td>\n",
       "      <td>-117.249603</td>\n",
       "    </tr>\n",
       "    <tr>\n",
       "      <th>4</th>\n",
       "      <td>10</td>\n",
       "      <td>101100</td>\n",
       "      <td>N</td>\n",
       "      <td>2018</td>\n",
       "      <td>29894</td>\n",
       "      <td>29894</td>\n",
       "      <td>790</td>\n",
       "      <td>Vista87</td>\n",
       "      <td>2018-04-19</td>\n",
       "      <td>Thursday</td>\n",
       "      <td>...</td>\n",
       "      <td>58.3736</td>\n",
       "      <td>False</td>\n",
       "      <td>False</td>\n",
       "      <td>0</td>\n",
       "      <td>False</td>\n",
       "      <td>0</td>\n",
       "      <td>Vista87</td>\n",
       "      <td>101100.0</td>\n",
       "      <td>33.195443</td>\n",
       "      <td>-117.249603</td>\n",
       "    </tr>\n",
       "  </tbody>\n",
       "</table>\n",
       "<p>5 rows × 47 columns</p>\n",
       "</div>"
      ],
      "text/plain": [
       "   Unnamed: 0.2  matched_seg_id Leg  year   ...1  Unnamed: 0.1  Unnamed: 0  \\\n",
       "0             8          101100   N  2018  29901         29901         797   \n",
       "1             8          101100   N  2018  29901         29901         797   \n",
       "2             9          101100   N  2018  29896         29896         792   \n",
       "3             9          101100   N  2018  29896         29896         792   \n",
       "4            10          101100   N  2018  29894         29894         790   \n",
       "\n",
       "        ID        Date Day of Week  ... MAD_flag_threshold MAD_flag  \\\n",
       "0  Vista88  2018-04-19    Thursday  ...            58.3736    False   \n",
       "1  Vista88  2018-04-19    Thursday  ...            58.3736    False   \n",
       "2  Vista87  2018-04-19    Thursday  ...            58.3736    False   \n",
       "3  Vista87  2018-04-19    Thursday  ...            58.3736    False   \n",
       "4  Vista87  2018-04-19    Thursday  ...            58.3736    False   \n",
       "\n",
       "   comb_flag comb_flag_day_count  comb_flag_day  Mio     ID_y    tdg_id  \\\n",
       "0      False                   0          False    0  Vista87  101100.0   \n",
       "1      False                   0          False    0  Vista88  101100.0   \n",
       "2      False                   0          False    0  Vista87  101100.0   \n",
       "3      False                   0          False    0  Vista88  101100.0   \n",
       "4      False                   0          False    0  Vista87  101100.0   \n",
       "\n",
       "         Lat        Long  \n",
       "0  33.195443 -117.249603  \n",
       "1  33.195443 -117.249603  \n",
       "2  33.195443 -117.249603  \n",
       "3  33.195443 -117.249603  \n",
       "4  33.195443 -117.249603  \n",
       "\n",
       "[5 rows x 47 columns]"
      ]
     },
     "execution_count": 355,
     "metadata": {},
     "output_type": "execute_result"
    }
   ],
   "source": [
    "# Now find the short term sites in the weekday where Max_AMI_PMI was not able to calculate due to lack of data\n",
    "common = weekday_hr_data.merge(DV_part1,on=['matched_seg_id', 'year', 'Leg'])\n",
    "sc_weekday=weekday_hr_data[(~weekday_hr_data.ID.isin(common.ID))]\n",
    "sc_weekday.head()"
   ]
  },
  {
   "cell_type": "code",
   "execution_count": 356,
   "id": "ee6cfe05",
   "metadata": {},
   "outputs": [
    {
     "data": {
      "text/plain": [
       "((210695, 47), (194894, 47), (605, 9))"
      ]
     },
     "execution_count": 356,
     "metadata": {},
     "output_type": "execute_result"
    }
   ],
   "source": [
    "weekday_hr_data.shape, sc_weekday.shape, DV_part1.shape"
   ]
  },
  {
   "cell_type": "code",
   "execution_count": 357,
   "id": "0bcc8900",
   "metadata": {},
   "outputs": [
    {
     "data": {
      "text/plain": [
       "(2540, 462, 2055)"
      ]
     },
     "execution_count": 357,
     "metadata": {},
     "output_type": "execute_result"
    }
   ],
   "source": [
    "weekday_hr_data['matched_seg_id'].nunique(),DV_part1['matched_seg_id'].nunique(),sc_weekday['matched_seg_id'].nunique()"
   ]
  },
  {
   "cell_type": "code",
   "execution_count": 358,
   "id": "e124ef81",
   "metadata": {},
   "outputs": [
    {
     "data": {
      "text/html": [
       "<div>\n",
       "<style scoped>\n",
       "    .dataframe tbody tr th:only-of-type {\n",
       "        vertical-align: middle;\n",
       "    }\n",
       "\n",
       "    .dataframe tbody tr th {\n",
       "        vertical-align: top;\n",
       "    }\n",
       "\n",
       "    .dataframe thead th {\n",
       "        text-align: right;\n",
       "    }\n",
       "</style>\n",
       "<table border=\"1\" class=\"dataframe\">\n",
       "  <thead>\n",
       "    <tr style=\"text-align: right;\">\n",
       "      <th></th>\n",
       "      <th>Unnamed: 0.2</th>\n",
       "      <th>matched_seg_id</th>\n",
       "      <th>Leg</th>\n",
       "      <th>year</th>\n",
       "      <th>...1</th>\n",
       "      <th>Unnamed: 0.1</th>\n",
       "      <th>Unnamed: 0</th>\n",
       "      <th>ID</th>\n",
       "      <th>Date</th>\n",
       "      <th>Day of Week</th>\n",
       "      <th>...</th>\n",
       "      <th>MAD_flag_threshold</th>\n",
       "      <th>MAD_flag</th>\n",
       "      <th>comb_flag</th>\n",
       "      <th>comb_flag_day_count</th>\n",
       "      <th>comb_flag_day</th>\n",
       "      <th>Mio</th>\n",
       "      <th>ID_y</th>\n",
       "      <th>tdg_id</th>\n",
       "      <th>Lat</th>\n",
       "      <th>Long</th>\n",
       "    </tr>\n",
       "  </thead>\n",
       "  <tbody>\n",
       "    <tr>\n",
       "      <th>0</th>\n",
       "      <td>8</td>\n",
       "      <td>101100</td>\n",
       "      <td>N</td>\n",
       "      <td>2018</td>\n",
       "      <td>29901</td>\n",
       "      <td>29901</td>\n",
       "      <td>797</td>\n",
       "      <td>Vista88</td>\n",
       "      <td>2018-04-19</td>\n",
       "      <td>Thursday</td>\n",
       "      <td>...</td>\n",
       "      <td>58.3736</td>\n",
       "      <td>False</td>\n",
       "      <td>False</td>\n",
       "      <td>0</td>\n",
       "      <td>False</td>\n",
       "      <td>0</td>\n",
       "      <td>Vista87</td>\n",
       "      <td>101100.0</td>\n",
       "      <td>33.195443</td>\n",
       "      <td>-117.249603</td>\n",
       "    </tr>\n",
       "    <tr>\n",
       "      <th>1</th>\n",
       "      <td>8</td>\n",
       "      <td>101100</td>\n",
       "      <td>N</td>\n",
       "      <td>2018</td>\n",
       "      <td>29901</td>\n",
       "      <td>29901</td>\n",
       "      <td>797</td>\n",
       "      <td>Vista88</td>\n",
       "      <td>2018-04-19</td>\n",
       "      <td>Thursday</td>\n",
       "      <td>...</td>\n",
       "      <td>58.3736</td>\n",
       "      <td>False</td>\n",
       "      <td>False</td>\n",
       "      <td>0</td>\n",
       "      <td>False</td>\n",
       "      <td>0</td>\n",
       "      <td>Vista88</td>\n",
       "      <td>101100.0</td>\n",
       "      <td>33.195443</td>\n",
       "      <td>-117.249603</td>\n",
       "    </tr>\n",
       "    <tr>\n",
       "      <th>2</th>\n",
       "      <td>9</td>\n",
       "      <td>101100</td>\n",
       "      <td>N</td>\n",
       "      <td>2018</td>\n",
       "      <td>29896</td>\n",
       "      <td>29896</td>\n",
       "      <td>792</td>\n",
       "      <td>Vista87</td>\n",
       "      <td>2018-04-19</td>\n",
       "      <td>Thursday</td>\n",
       "      <td>...</td>\n",
       "      <td>58.3736</td>\n",
       "      <td>False</td>\n",
       "      <td>False</td>\n",
       "      <td>0</td>\n",
       "      <td>False</td>\n",
       "      <td>0</td>\n",
       "      <td>Vista87</td>\n",
       "      <td>101100.0</td>\n",
       "      <td>33.195443</td>\n",
       "      <td>-117.249603</td>\n",
       "    </tr>\n",
       "    <tr>\n",
       "      <th>3</th>\n",
       "      <td>9</td>\n",
       "      <td>101100</td>\n",
       "      <td>N</td>\n",
       "      <td>2018</td>\n",
       "      <td>29896</td>\n",
       "      <td>29896</td>\n",
       "      <td>792</td>\n",
       "      <td>Vista87</td>\n",
       "      <td>2018-04-19</td>\n",
       "      <td>Thursday</td>\n",
       "      <td>...</td>\n",
       "      <td>58.3736</td>\n",
       "      <td>False</td>\n",
       "      <td>False</td>\n",
       "      <td>0</td>\n",
       "      <td>False</td>\n",
       "      <td>0</td>\n",
       "      <td>Vista88</td>\n",
       "      <td>101100.0</td>\n",
       "      <td>33.195443</td>\n",
       "      <td>-117.249603</td>\n",
       "    </tr>\n",
       "    <tr>\n",
       "      <th>4</th>\n",
       "      <td>10</td>\n",
       "      <td>101100</td>\n",
       "      <td>N</td>\n",
       "      <td>2018</td>\n",
       "      <td>29894</td>\n",
       "      <td>29894</td>\n",
       "      <td>790</td>\n",
       "      <td>Vista87</td>\n",
       "      <td>2018-04-19</td>\n",
       "      <td>Thursday</td>\n",
       "      <td>...</td>\n",
       "      <td>58.3736</td>\n",
       "      <td>False</td>\n",
       "      <td>False</td>\n",
       "      <td>0</td>\n",
       "      <td>False</td>\n",
       "      <td>0</td>\n",
       "      <td>Vista87</td>\n",
       "      <td>101100.0</td>\n",
       "      <td>33.195443</td>\n",
       "      <td>-117.249603</td>\n",
       "    </tr>\n",
       "  </tbody>\n",
       "</table>\n",
       "<p>5 rows × 47 columns</p>\n",
       "</div>"
      ],
      "text/plain": [
       "   Unnamed: 0.2  matched_seg_id Leg  year   ...1  Unnamed: 0.1  Unnamed: 0  \\\n",
       "0             8          101100   N  2018  29901         29901         797   \n",
       "1             8          101100   N  2018  29901         29901         797   \n",
       "2             9          101100   N  2018  29896         29896         792   \n",
       "3             9          101100   N  2018  29896         29896         792   \n",
       "4            10          101100   N  2018  29894         29894         790   \n",
       "\n",
       "        ID        Date Day of Week  ... MAD_flag_threshold MAD_flag  \\\n",
       "0  Vista88  2018-04-19    Thursday  ...            58.3736    False   \n",
       "1  Vista88  2018-04-19    Thursday  ...            58.3736    False   \n",
       "2  Vista87  2018-04-19    Thursday  ...            58.3736    False   \n",
       "3  Vista87  2018-04-19    Thursday  ...            58.3736    False   \n",
       "4  Vista87  2018-04-19    Thursday  ...            58.3736    False   \n",
       "\n",
       "   comb_flag comb_flag_day_count  comb_flag_day  Mio     ID_y    tdg_id  \\\n",
       "0      False                   0          False    0  Vista87  101100.0   \n",
       "1      False                   0          False    0  Vista88  101100.0   \n",
       "2      False                   0          False    0  Vista87  101100.0   \n",
       "3      False                   0          False    0  Vista88  101100.0   \n",
       "4      False                   0          False    0  Vista87  101100.0   \n",
       "\n",
       "         Lat        Long  \n",
       "0  33.195443 -117.249603  \n",
       "1  33.195443 -117.249603  \n",
       "2  33.195443 -117.249603  \n",
       "3  33.195443 -117.249603  \n",
       "4  33.195443 -117.249603  \n",
       "\n",
       "[5 rows x 47 columns]"
      ]
     },
     "execution_count": 358,
     "metadata": {},
     "output_type": "execute_result"
    }
   ],
   "source": [
    "sc_weekday.head()"
   ]
  },
  {
   "cell_type": "code",
   "execution_count": 359,
   "id": "8a997071",
   "metadata": {},
   "outputs": [
    {
     "data": {
      "text/html": [
       "<div>\n",
       "<style scoped>\n",
       "    .dataframe tbody tr th:only-of-type {\n",
       "        vertical-align: middle;\n",
       "    }\n",
       "\n",
       "    .dataframe tbody tr th {\n",
       "        vertical-align: top;\n",
       "    }\n",
       "\n",
       "    .dataframe thead th {\n",
       "        text-align: right;\n",
       "    }\n",
       "</style>\n",
       "<table border=\"1\" class=\"dataframe\">\n",
       "  <thead>\n",
       "    <tr style=\"text-align: right;\">\n",
       "      <th></th>\n",
       "      <th>Unnamed: 0</th>\n",
       "      <th>ID</th>\n",
       "      <th>Leg</th>\n",
       "      <th>year</th>\n",
       "      <th>tdg_id</th>\n",
       "      <th>Lat</th>\n",
       "      <th>Long</th>\n",
       "      <th>edgeUID</th>\n",
       "      <th>osmId</th>\n",
       "      <th>stv_total</th>\n",
       "      <th>stv_com_total</th>\n",
       "      <th>stv_rec_total</th>\n",
       "      <th>stv_com_ratio</th>\n",
       "      <th>stv_rec_ratio</th>\n",
       "    </tr>\n",
       "  </thead>\n",
       "  <tbody>\n",
       "    <tr>\n",
       "      <th>0</th>\n",
       "      <td>0</td>\n",
       "      <td>Eric_Fischer1089</td>\n",
       "      <td>N</td>\n",
       "      <td>2014.0</td>\n",
       "      <td>60313.0</td>\n",
       "      <td>34.062543</td>\n",
       "      <td>-118.309114</td>\n",
       "      <td>307766980.0</td>\n",
       "      <td>47895363.0</td>\n",
       "      <td>3905.0</td>\n",
       "      <td>865.0</td>\n",
       "      <td>3040.0</td>\n",
       "      <td>NaN</td>\n",
       "      <td>0.778489</td>\n",
       "    </tr>\n",
       "    <tr>\n",
       "      <th>1</th>\n",
       "      <td>1</td>\n",
       "      <td>Eric_Fischer1089</td>\n",
       "      <td>E</td>\n",
       "      <td>2014.0</td>\n",
       "      <td>60316.0</td>\n",
       "      <td>34.061703</td>\n",
       "      <td>-118.308480</td>\n",
       "      <td>307766746.0</td>\n",
       "      <td>398048051.0</td>\n",
       "      <td>4970.0</td>\n",
       "      <td>1885.0</td>\n",
       "      <td>3085.0</td>\n",
       "      <td>NaN</td>\n",
       "      <td>0.620724</td>\n",
       "    </tr>\n",
       "    <tr>\n",
       "      <th>2</th>\n",
       "      <td>2</td>\n",
       "      <td>Eric_Fischer1089</td>\n",
       "      <td>S</td>\n",
       "      <td>2014.0</td>\n",
       "      <td>60314.0</td>\n",
       "      <td>34.061193</td>\n",
       "      <td>-118.309105</td>\n",
       "      <td>307766737.0</td>\n",
       "      <td>398053760.0</td>\n",
       "      <td>2050.0</td>\n",
       "      <td>620.0</td>\n",
       "      <td>1430.0</td>\n",
       "      <td>NaN</td>\n",
       "      <td>0.697561</td>\n",
       "    </tr>\n",
       "    <tr>\n",
       "      <th>3</th>\n",
       "      <td>3</td>\n",
       "      <td>Eric_Fischer1089</td>\n",
       "      <td>W</td>\n",
       "      <td>2014.0</td>\n",
       "      <td>60320.0</td>\n",
       "      <td>34.061700</td>\n",
       "      <td>-118.309727</td>\n",
       "      <td>307766743.0</td>\n",
       "      <td>398048057.0</td>\n",
       "      <td>3560.0</td>\n",
       "      <td>1830.0</td>\n",
       "      <td>1730.0</td>\n",
       "      <td>NaN</td>\n",
       "      <td>0.485955</td>\n",
       "    </tr>\n",
       "    <tr>\n",
       "      <th>4</th>\n",
       "      <td>4</td>\n",
       "      <td>Eric_Fischer1086</td>\n",
       "      <td>E</td>\n",
       "      <td>2014.0</td>\n",
       "      <td>44255.0</td>\n",
       "      <td>34.090759</td>\n",
       "      <td>-118.308870</td>\n",
       "      <td>307771629.0</td>\n",
       "      <td>398048112.0</td>\n",
       "      <td>2390.0</td>\n",
       "      <td>905.0</td>\n",
       "      <td>1485.0</td>\n",
       "      <td>NaN</td>\n",
       "      <td>0.621339</td>\n",
       "    </tr>\n",
       "    <tr>\n",
       "      <th>5</th>\n",
       "      <td>5</td>\n",
       "      <td>Eric_Fischer1086</td>\n",
       "      <td>W</td>\n",
       "      <td>2014.0</td>\n",
       "      <td>44313.0</td>\n",
       "      <td>34.090760</td>\n",
       "      <td>-118.310051</td>\n",
       "      <td>307771624.0</td>\n",
       "      <td>398048110.0</td>\n",
       "      <td>1900.0</td>\n",
       "      <td>830.0</td>\n",
       "      <td>1070.0</td>\n",
       "      <td>NaN</td>\n",
       "      <td>0.563158</td>\n",
       "    </tr>\n",
       "    <tr>\n",
       "      <th>6</th>\n",
       "      <td>6</td>\n",
       "      <td>Eric_Fischer1117</td>\n",
       "      <td>E</td>\n",
       "      <td>2014.0</td>\n",
       "      <td>65355.0</td>\n",
       "      <td>34.147891</td>\n",
       "      <td>-118.430403</td>\n",
       "      <td>308067403.0</td>\n",
       "      <td>405318134.0</td>\n",
       "      <td>735.0</td>\n",
       "      <td>80.0</td>\n",
       "      <td>655.0</td>\n",
       "      <td>NaN</td>\n",
       "      <td>0.891156</td>\n",
       "    </tr>\n",
       "    <tr>\n",
       "      <th>7</th>\n",
       "      <td>7</td>\n",
       "      <td>Eric_Fischer1117</td>\n",
       "      <td>W</td>\n",
       "      <td>2014.0</td>\n",
       "      <td>65361.0</td>\n",
       "      <td>34.148135</td>\n",
       "      <td>-118.431898</td>\n",
       "      <td>308067452.0</td>\n",
       "      <td>405318136.0</td>\n",
       "      <td>745.0</td>\n",
       "      <td>75.0</td>\n",
       "      <td>670.0</td>\n",
       "      <td>NaN</td>\n",
       "      <td>0.899329</td>\n",
       "    </tr>\n",
       "  </tbody>\n",
       "</table>\n",
       "</div>"
      ],
      "text/plain": [
       "   Unnamed: 0                ID Leg    year   tdg_id        Lat        Long  \\\n",
       "0           0  Eric_Fischer1089   N  2014.0  60313.0  34.062543 -118.309114   \n",
       "1           1  Eric_Fischer1089   E  2014.0  60316.0  34.061703 -118.308480   \n",
       "2           2  Eric_Fischer1089   S  2014.0  60314.0  34.061193 -118.309105   \n",
       "3           3  Eric_Fischer1089   W  2014.0  60320.0  34.061700 -118.309727   \n",
       "4           4  Eric_Fischer1086   E  2014.0  44255.0  34.090759 -118.308870   \n",
       "5           5  Eric_Fischer1086   W  2014.0  44313.0  34.090760 -118.310051   \n",
       "6           6  Eric_Fischer1117   E  2014.0  65355.0  34.147891 -118.430403   \n",
       "7           7  Eric_Fischer1117   W  2014.0  65361.0  34.148135 -118.431898   \n",
       "\n",
       "       edgeUID        osmId  stv_total  stv_com_total  stv_rec_total  \\\n",
       "0  307766980.0   47895363.0     3905.0          865.0         3040.0   \n",
       "1  307766746.0  398048051.0     4970.0         1885.0         3085.0   \n",
       "2  307766737.0  398053760.0     2050.0          620.0         1430.0   \n",
       "3  307766743.0  398048057.0     3560.0         1830.0         1730.0   \n",
       "4  307771629.0  398048112.0     2390.0          905.0         1485.0   \n",
       "5  307771624.0  398048110.0     1900.0          830.0         1070.0   \n",
       "6  308067403.0  405318134.0      735.0           80.0          655.0   \n",
       "7  308067452.0  405318136.0      745.0           75.0          670.0   \n",
       "\n",
       "   stv_com_ratio  stv_rec_ratio  \n",
       "0            NaN       0.778489  \n",
       "1            NaN       0.620724  \n",
       "2            NaN       0.697561  \n",
       "3            NaN       0.485955  \n",
       "4            NaN       0.621339  \n",
       "5            NaN       0.563158  \n",
       "6            NaN       0.891156  \n",
       "7            NaN       0.899329  "
      ]
     },
     "execution_count": 359,
     "metadata": {},
     "output_type": "execute_result"
    }
   ],
   "source": [
    "# read Strava recreation ratio data for corresponding short term sites\n",
    "sc_stv=pd.read_csv('H:/Desktop/Bike_ped Exposure Model Project/Processed Data/sc_stv_2014_2019.csv')\n",
    "sc_stv.head(8)"
   ]
  },
  {
   "cell_type": "code",
   "execution_count": 360,
   "id": "224d9522",
   "metadata": {},
   "outputs": [],
   "source": [
    "# Calculate the populationden\n",
    "count_sites=sc_stv\n",
    "# Use Dr. Frank Code to get population density for each location of the counter within buffer\n",
    "count_sites['geometry'] = gpd.points_from_xy(count_sites.Long, count_sites.Lat)\n",
    "count_sites = gpd.GeoDataFrame(count_sites, geometry='geometry', crs='EPSG:4326')\n",
    "# project the data for geographic analysis\n",
    "count_sites = count_sites.to_crs(3310)"
   ]
  },
  {
   "cell_type": "code",
   "execution_count": 361,
   "id": "578172b7",
   "metadata": {},
   "outputs": [],
   "source": [
    "# Calculate the CBD Distance\n",
    "## Try to pull whole CA state Network using polygon\n",
    "# ca_poly=gpd.read_file('H:/Desktop/AT Census/OSM Bike Network/ca-state-boundary/CA_State_TIGER2016.shp',encoding='utf-8')\n",
    "# ca_poly2=gpd.GeoDataFrame(ca_poly, geometry='geometry', crs='EPSG:3857')\n",
    "# one_mile=1609.34\n",
    "# ca_poly2['geometry'] = ca_poly2['geometry'].buffer(one_mile)\n",
    "# ca_poly3=ca_poly2.to_crs(\"epsg:4326\")\n",
    "# polygon=ca_poly3.loc[0,'geometry']\n",
    "# polygon"
   ]
  },
  {
   "cell_type": "code",
   "execution_count": 362,
   "id": "61c148ed",
   "metadata": {},
   "outputs": [],
   "source": [
    "# Calculate the CBD distance\n",
    "#https://wiki.openstreetmap.org/wiki/Tag:amenity%3Dtownhall\n",
    "# Import University\n",
    "# tags = {'office': 'government'}\n",
    "# city_hall = ox.geometries_from_polygon(polygon, tags)\n",
    "# city_proj = city_hall.to_crs(epsg=3310)"
   ]
  },
  {
   "cell_type": "code",
   "execution_count": 363,
   "id": "9ef2afc5",
   "metadata": {},
   "outputs": [],
   "source": [
    "# Consider the rows that have city hall\n",
    "# city_proj1 = city_proj[city_proj['name'].str.contains('City Hall', regex=False, case=False, na=False)]\n",
    "# city_proj2 = city_proj[city_proj['name'].str.contains('Town Hall', regex=False, case=False, na=False)]\n",
    "# city_proj3 = city_proj[city_proj['name'].str.contains('Civic Center', regex=False, case=False, na=False)]\n",
    "# city_proj4 = city_proj[city_proj['name'].str.contains('Administration Building', regex=False, case=False, na=False)]\n",
    "# city_proj5=pd.concat([city_proj1,city_proj2,city_proj3,city_proj4]).reset_index()\n",
    "# city_proj5.head(2)"
   ]
  },
  {
   "cell_type": "code",
   "execution_count": 364,
   "id": "e602d3c0",
   "metadata": {},
   "outputs": [],
   "source": [
    "# Distance to CBD\n",
    "# count_sites['CBD Distance'] = count_sites.geometry.apply(min_distance_ppoly, args=(city_proj5,))*0.000621371\n",
    "# count_sites=count_sites.reset_index()\n",
    "# count_sites.head(2)"
   ]
  },
  {
   "cell_type": "code",
   "execution_count": 365,
   "id": "8190da44",
   "metadata": {},
   "outputs": [],
   "source": [
    "# count_sites['CBD Distance'].isnull().sum()"
   ]
  },
  {
   "cell_type": "code",
   "execution_count": 366,
   "id": "5a1d6bc2",
   "metadata": {},
   "outputs": [
    {
     "data": {
      "text/html": [
       "<div>\n",
       "<style scoped>\n",
       "    .dataframe tbody tr th:only-of-type {\n",
       "        vertical-align: middle;\n",
       "    }\n",
       "\n",
       "    .dataframe tbody tr th {\n",
       "        vertical-align: top;\n",
       "    }\n",
       "\n",
       "    .dataframe thead th {\n",
       "        text-align: right;\n",
       "    }\n",
       "</style>\n",
       "<table border=\"1\" class=\"dataframe\">\n",
       "  <thead>\n",
       "    <tr style=\"text-align: right;\">\n",
       "      <th></th>\n",
       "      <th>GISJOIN</th>\n",
       "      <th>STATEFP</th>\n",
       "      <th>COUNTYFP</th>\n",
       "      <th>TRACTCE</th>\n",
       "      <th>BLKGRPCE</th>\n",
       "      <th>NAMELSAD</th>\n",
       "      <th>MTFCC</th>\n",
       "      <th>FUNCSTAT</th>\n",
       "      <th>ALAND</th>\n",
       "      <th>AWATER</th>\n",
       "      <th>INTPTLAT</th>\n",
       "      <th>INTPTLON</th>\n",
       "      <th>Shape_Leng</th>\n",
       "      <th>Shape_Area</th>\n",
       "      <th>geometry</th>\n",
       "      <th>aland_sqmi</th>\n",
       "    </tr>\n",
       "    <tr>\n",
       "      <th>GEOID</th>\n",
       "      <th></th>\n",
       "      <th></th>\n",
       "      <th></th>\n",
       "      <th></th>\n",
       "      <th></th>\n",
       "      <th></th>\n",
       "      <th></th>\n",
       "      <th></th>\n",
       "      <th></th>\n",
       "      <th></th>\n",
       "      <th></th>\n",
       "      <th></th>\n",
       "      <th></th>\n",
       "      <th></th>\n",
       "      <th></th>\n",
       "      <th></th>\n",
       "    </tr>\n",
       "  </thead>\n",
       "  <tbody>\n",
       "    <tr>\n",
       "      <th>060014001001</th>\n",
       "      <td>G06000104001001</td>\n",
       "      <td>06</td>\n",
       "      <td>001</td>\n",
       "      <td>400100</td>\n",
       "      <td>1</td>\n",
       "      <td>Block Group 1</td>\n",
       "      <td>G5030</td>\n",
       "      <td>S</td>\n",
       "      <td>6894339.0</td>\n",
       "      <td>0.0</td>\n",
       "      <td>+37.8676275</td>\n",
       "      <td>-122.2319460</td>\n",
       "      <td>14302.721555</td>\n",
       "      <td>6.894335e+06</td>\n",
       "      <td>POLYGON ((-2255602.272 353149.335, -2255597.39...</td>\n",
       "      <td>2.663058</td>\n",
       "    </tr>\n",
       "    <tr>\n",
       "      <th>060014002001</th>\n",
       "      <td>G06000104002001</td>\n",
       "      <td>06</td>\n",
       "      <td>001</td>\n",
       "      <td>400200</td>\n",
       "      <td>1</td>\n",
       "      <td>Block Group 1</td>\n",
       "      <td>G5030</td>\n",
       "      <td>S</td>\n",
       "      <td>288069.0</td>\n",
       "      <td>0.0</td>\n",
       "      <td>+37.8497451</td>\n",
       "      <td>-122.2488478</td>\n",
       "      <td>2971.010308</td>\n",
       "      <td>2.880696e+05</td>\n",
       "      <td>POLYGON ((-2258184.246 353217.527, -2258186.81...</td>\n",
       "      <td>0.111272</td>\n",
       "    </tr>\n",
       "  </tbody>\n",
       "</table>\n",
       "</div>"
      ],
      "text/plain": [
       "                      GISJOIN STATEFP COUNTYFP TRACTCE BLKGRPCE  \\\n",
       "GEOID                                                             \n",
       "060014001001  G06000104001001      06      001  400100        1   \n",
       "060014002001  G06000104002001      06      001  400200        1   \n",
       "\n",
       "                   NAMELSAD  MTFCC FUNCSTAT      ALAND  AWATER     INTPTLAT  \\\n",
       "GEOID                                                                         \n",
       "060014001001  Block Group 1  G5030        S  6894339.0     0.0  +37.8676275   \n",
       "060014002001  Block Group 1  G5030        S   288069.0     0.0  +37.8497451   \n",
       "\n",
       "                  INTPTLON    Shape_Leng    Shape_Area  \\\n",
       "GEOID                                                    \n",
       "060014001001  -122.2319460  14302.721555  6.894335e+06   \n",
       "060014002001  -122.2488478   2971.010308  2.880696e+05   \n",
       "\n",
       "                                                       geometry  aland_sqmi  \n",
       "GEOID                                                                        \n",
       "060014001001  POLYGON ((-2255602.272 353149.335, -2255597.39...    2.663058  \n",
       "060014002001  POLYGON ((-2258184.246 353217.527, -2258186.81...    0.111272  "
      ]
     },
     "execution_count": 366,
     "metadata": {},
     "output_type": "execute_result"
    }
   ],
   "source": [
    "#read Block group\n",
    "block_groups_CA = gpd.read_file('H:/Desktop/Bike_ped Exposure Model Project/Block_Gp/nhgis0101_shape/nhgis0101_shape/nhgis0101_shapefile_tl2019_060_blck_grp_2019/CA_blck_grp_2019.shp')\n",
    "block_groups_Ne=  gpd.read_file('H:/Desktop/Bike_ped Exposure Model Project/Block_Gp/nhgis0101_shape/nhgis0101_shape/nhgis0101_shapefile_tl2019_320_blck_grp_2019/NV_blck_grp_2019.shp')\n",
    "block_groups=pd.concat([block_groups_CA,block_groups_Ne],axis=0).set_index('GEOID')\n",
    "block_groups['aland_sqmi'] = block_groups['ALAND'] / (1609.*1609.)\n",
    "block_groups.head(2)"
   ]
  },
  {
   "cell_type": "code",
   "execution_count": 367,
   "id": "7673a830",
   "metadata": {},
   "outputs": [
    {
     "data": {
      "text/html": [
       "<div>\n",
       "<style scoped>\n",
       "    .dataframe tbody tr th:only-of-type {\n",
       "        vertical-align: middle;\n",
       "    }\n",
       "\n",
       "    .dataframe tbody tr th {\n",
       "        vertical-align: top;\n",
       "    }\n",
       "\n",
       "    .dataframe thead th {\n",
       "        text-align: right;\n",
       "    }\n",
       "</style>\n",
       "<table border=\"1\" class=\"dataframe\">\n",
       "  <thead>\n",
       "    <tr style=\"text-align: right;\">\n",
       "      <th></th>\n",
       "      <th>GISJOIN</th>\n",
       "      <th>YEAR</th>\n",
       "      <th>STUSAB</th>\n",
       "      <th>REGIONA</th>\n",
       "      <th>DIVISIONA</th>\n",
       "      <th>STATE</th>\n",
       "      <th>STATEA</th>\n",
       "      <th>COUNTY</th>\n",
       "      <th>COUNTYA</th>\n",
       "      <th>COUSUBA</th>\n",
       "      <th>...</th>\n",
       "      <th>SDUNIA</th>\n",
       "      <th>PCI</th>\n",
       "      <th>PUMAA</th>\n",
       "      <th>GEOID</th>\n",
       "      <th>BTTRA</th>\n",
       "      <th>BTBGA</th>\n",
       "      <th>NAME_E</th>\n",
       "      <th>pop</th>\n",
       "      <th>NAME_M</th>\n",
       "      <th>ALUBM001</th>\n",
       "    </tr>\n",
       "    <tr>\n",
       "      <th>geoid</th>\n",
       "      <th></th>\n",
       "      <th></th>\n",
       "      <th></th>\n",
       "      <th></th>\n",
       "      <th></th>\n",
       "      <th></th>\n",
       "      <th></th>\n",
       "      <th></th>\n",
       "      <th></th>\n",
       "      <th></th>\n",
       "      <th></th>\n",
       "      <th></th>\n",
       "      <th></th>\n",
       "      <th></th>\n",
       "      <th></th>\n",
       "      <th></th>\n",
       "      <th></th>\n",
       "      <th></th>\n",
       "      <th></th>\n",
       "      <th></th>\n",
       "      <th></th>\n",
       "    </tr>\n",
       "  </thead>\n",
       "  <tbody>\n",
       "    <tr>\n",
       "      <th>060014001001</th>\n",
       "      <td>G06000104001001</td>\n",
       "      <td>2015-2019</td>\n",
       "      <td>CA</td>\n",
       "      <td>NaN</td>\n",
       "      <td>NaN</td>\n",
       "      <td>California</td>\n",
       "      <td>6</td>\n",
       "      <td>Alameda County</td>\n",
       "      <td>1</td>\n",
       "      <td>NaN</td>\n",
       "      <td>...</td>\n",
       "      <td>NaN</td>\n",
       "      <td>NaN</td>\n",
       "      <td>NaN</td>\n",
       "      <td>15000US060014001001</td>\n",
       "      <td>NaN</td>\n",
       "      <td>NaN</td>\n",
       "      <td>Block Group 1, Census Tract 4001, Alameda Coun...</td>\n",
       "      <td>3120</td>\n",
       "      <td>Block Group 1, Census Tract 4001, Alameda Coun...</td>\n",
       "      <td>208</td>\n",
       "    </tr>\n",
       "    <tr>\n",
       "      <th>060014002001</th>\n",
       "      <td>G06000104002001</td>\n",
       "      <td>2015-2019</td>\n",
       "      <td>CA</td>\n",
       "      <td>NaN</td>\n",
       "      <td>NaN</td>\n",
       "      <td>California</td>\n",
       "      <td>6</td>\n",
       "      <td>Alameda County</td>\n",
       "      <td>1</td>\n",
       "      <td>NaN</td>\n",
       "      <td>...</td>\n",
       "      <td>NaN</td>\n",
       "      <td>NaN</td>\n",
       "      <td>NaN</td>\n",
       "      <td>15000US060014002001</td>\n",
       "      <td>NaN</td>\n",
       "      <td>NaN</td>\n",
       "      <td>Block Group 1, Census Tract 4002, Alameda Coun...</td>\n",
       "      <td>990</td>\n",
       "      <td>Block Group 1, Census Tract 4002, Alameda Coun...</td>\n",
       "      <td>138</td>\n",
       "    </tr>\n",
       "  </tbody>\n",
       "</table>\n",
       "<p>2 rows × 45 columns</p>\n",
       "</div>"
      ],
      "text/plain": [
       "                      GISJOIN       YEAR STUSAB  REGIONA  DIVISIONA  \\\n",
       "geoid                                                                 \n",
       "060014001001  G06000104001001  2015-2019     CA      NaN        NaN   \n",
       "060014002001  G06000104002001  2015-2019     CA      NaN        NaN   \n",
       "\n",
       "                   STATE  STATEA          COUNTY  COUNTYA  COUSUBA  ...  \\\n",
       "geoid                                                               ...   \n",
       "060014001001  California       6  Alameda County        1      NaN  ...   \n",
       "060014002001  California       6  Alameda County        1      NaN  ...   \n",
       "\n",
       "              SDUNIA  PCI  PUMAA                GEOID  BTTRA  BTBGA  \\\n",
       "geoid                                                                 \n",
       "060014001001     NaN  NaN    NaN  15000US060014001001    NaN    NaN   \n",
       "060014002001     NaN  NaN    NaN  15000US060014002001    NaN    NaN   \n",
       "\n",
       "                                                         NAME_E   pop  \\\n",
       "geoid                                                                   \n",
       "060014001001  Block Group 1, Census Tract 4001, Alameda Coun...  3120   \n",
       "060014002001  Block Group 1, Census Tract 4002, Alameda Coun...   990   \n",
       "\n",
       "                                                         NAME_M  ALUBM001  \n",
       "geoid                                                                      \n",
       "060014001001  Block Group 1, Census Tract 4001, Alameda Coun...       208  \n",
       "060014002001  Block Group 1, Census Tract 4002, Alameda Coun...       138  \n",
       "\n",
       "[2 rows x 45 columns]"
      ]
     },
     "execution_count": 367,
     "metadata": {},
     "output_type": "execute_result"
    }
   ],
   "source": [
    "bg_pop = pd.read_csv('H:/Desktop/Bike_ped Exposure Model Project/Block_Gp/pop/nhgis0102_csv/nhgis0102_ds244_20195_blck_grp.csv')\n",
    "bg_pop['geoid'] = bg_pop['GEOID'].str[7:]\n",
    "bg_pop = bg_pop.set_index('geoid')\n",
    "bg_pop = bg_pop.rename(columns={'ALUBE001': 'pop'})\n",
    "bg_pop.head(2)"
   ]
  },
  {
   "cell_type": "code",
   "execution_count": 368,
   "id": "d4c90cd3",
   "metadata": {},
   "outputs": [],
   "source": [
    "block_groups = block_groups.join(bg_pop[['pop']])\n",
    "# calculate area-weightd average population density - make this a function if needed\n",
    "count_sites = count_sites.set_index(['tdg_id', 'year'])\n",
    "\n",
    "block_groups['popden'] = block_groups['pop']/block_groups['aland_sqmi']\n",
    "block_groups = block_groups.to_crs(3310)\n",
    "\n",
    "count_sites['buffer_geometry'] = count_sites.buffer(1609.)\n",
    "count_sites = count_sites.set_geometry('buffer_geometry')\n",
    "\n",
    "joined_geos = count_sites[['buffer_geometry']].\\\n",
    "    sjoin(block_groups[['geometry']]).\\\n",
    "    join(block_groups[['geometry']], on='index_right')\n",
    "\n",
    "joined_geos['overlap'] = joined_geos['buffer_geometry'].intersection(joined_geos['geometry']).area\n",
    "\n",
    "joined_geos['overlap_ratio'] = joined_geos['overlap']/(joined_geos['buffer_geometry'].area)\n",
    "\n",
    "joined_geos = joined_geos.join(block_groups[['popden']], on='index_right')\n",
    "\n",
    "joined_geos['weighted_popden'] = joined_geos['overlap_ratio'] * joined_geos['popden']\n",
    "\n",
    "count_sites['popden'] = joined_geos.groupby(['tdg_id', 'year'])['weighted_popden'].sum()"
   ]
  },
  {
   "cell_type": "code",
   "execution_count": 369,
   "id": "88195d83",
   "metadata": {},
   "outputs": [],
   "source": [
    "count_sites = count_sites.set_geometry('geometry').drop(columns='buffer_geometry')"
   ]
  },
  {
   "cell_type": "code",
   "execution_count": 370,
   "id": "c2176e4f",
   "metadata": {},
   "outputs": [
    {
     "data": {
      "text/html": [
       "<div>\n",
       "<style scoped>\n",
       "    .dataframe tbody tr th:only-of-type {\n",
       "        vertical-align: middle;\n",
       "    }\n",
       "\n",
       "    .dataframe tbody tr th {\n",
       "        vertical-align: top;\n",
       "    }\n",
       "\n",
       "    .dataframe thead th {\n",
       "        text-align: right;\n",
       "    }\n",
       "</style>\n",
       "<table border=\"1\" class=\"dataframe\">\n",
       "  <thead>\n",
       "    <tr style=\"text-align: right;\">\n",
       "      <th></th>\n",
       "      <th>tdg_id</th>\n",
       "      <th>year</th>\n",
       "      <th>Unnamed: 0</th>\n",
       "      <th>ID</th>\n",
       "      <th>Leg</th>\n",
       "      <th>Lat</th>\n",
       "      <th>Long</th>\n",
       "      <th>edgeUID</th>\n",
       "      <th>osmId</th>\n",
       "      <th>stv_total</th>\n",
       "      <th>stv_com_total</th>\n",
       "      <th>stv_rec_total</th>\n",
       "      <th>stv_com_ratio</th>\n",
       "      <th>stv_rec_ratio</th>\n",
       "      <th>geometry</th>\n",
       "      <th>popden</th>\n",
       "    </tr>\n",
       "  </thead>\n",
       "  <tbody>\n",
       "    <tr>\n",
       "      <th>0</th>\n",
       "      <td>60313.0</td>\n",
       "      <td>2014.0</td>\n",
       "      <td>0</td>\n",
       "      <td>Eric_Fischer1089</td>\n",
       "      <td>N</td>\n",
       "      <td>34.062543</td>\n",
       "      <td>-118.309114</td>\n",
       "      <td>307766980.0</td>\n",
       "      <td>47895363.0</td>\n",
       "      <td>3905.0</td>\n",
       "      <td>865.0</td>\n",
       "      <td>3040.0</td>\n",
       "      <td>NaN</td>\n",
       "      <td>0.778489</td>\n",
       "      <td>POINT (156080.152 -437837.271)</td>\n",
       "      <td>31855.628241</td>\n",
       "    </tr>\n",
       "    <tr>\n",
       "      <th>1</th>\n",
       "      <td>60316.0</td>\n",
       "      <td>2014.0</td>\n",
       "      <td>1</td>\n",
       "      <td>Eric_Fischer1089</td>\n",
       "      <td>E</td>\n",
       "      <td>34.061703</td>\n",
       "      <td>-118.308480</td>\n",
       "      <td>307766746.0</td>\n",
       "      <td>398048051.0</td>\n",
       "      <td>4970.0</td>\n",
       "      <td>1885.0</td>\n",
       "      <td>3085.0</td>\n",
       "      <td>NaN</td>\n",
       "      <td>0.620724</td>\n",
       "      <td>POINT (156140.360 -437929.311)</td>\n",
       "      <td>32550.878297</td>\n",
       "    </tr>\n",
       "  </tbody>\n",
       "</table>\n",
       "</div>"
      ],
      "text/plain": [
       "    tdg_id    year  Unnamed: 0                ID Leg        Lat        Long  \\\n",
       "0  60313.0  2014.0           0  Eric_Fischer1089   N  34.062543 -118.309114   \n",
       "1  60316.0  2014.0           1  Eric_Fischer1089   E  34.061703 -118.308480   \n",
       "\n",
       "       edgeUID        osmId  stv_total  stv_com_total  stv_rec_total  \\\n",
       "0  307766980.0   47895363.0     3905.0          865.0         3040.0   \n",
       "1  307766746.0  398048051.0     4970.0         1885.0         3085.0   \n",
       "\n",
       "   stv_com_ratio  stv_rec_ratio                        geometry        popden  \n",
       "0            NaN       0.778489  POINT (156080.152 -437837.271)  31855.628241  \n",
       "1            NaN       0.620724  POINT (156140.360 -437929.311)  32550.878297  "
      ]
     },
     "execution_count": 370,
     "metadata": {},
     "output_type": "execute_result"
    }
   ],
   "source": [
    "count_sites=count_sites.reset_index()\n",
    "count_sites.head(2)"
   ]
  },
  {
   "cell_type": "code",
   "execution_count": 371,
   "id": "36fe2456",
   "metadata": {},
   "outputs": [],
   "source": [
    "count_sites.to_csv('H:/Desktop/Bike_ped Exposure Model Project/Estimated_Outcomes/Sc_Stv_pop_CBD.csv')"
   ]
  },
  {
   "cell_type": "code",
   "execution_count": 372,
   "id": "3c8fac6c",
   "metadata": {},
   "outputs": [
    {
     "data": {
      "text/html": [
       "<div>\n",
       "<style scoped>\n",
       "    .dataframe tbody tr th:only-of-type {\n",
       "        vertical-align: middle;\n",
       "    }\n",
       "\n",
       "    .dataframe tbody tr th {\n",
       "        vertical-align: top;\n",
       "    }\n",
       "\n",
       "    .dataframe thead th {\n",
       "        text-align: right;\n",
       "    }\n",
       "</style>\n",
       "<table border=\"1\" class=\"dataframe\">\n",
       "  <thead>\n",
       "    <tr style=\"text-align: right;\">\n",
       "      <th></th>\n",
       "      <th>index</th>\n",
       "      <th>tdg_id</th>\n",
       "      <th>year</th>\n",
       "      <th>Unnamed: 0</th>\n",
       "      <th>ID</th>\n",
       "      <th>Leg</th>\n",
       "      <th>Lat</th>\n",
       "      <th>Long</th>\n",
       "      <th>edgeUID</th>\n",
       "      <th>osmId</th>\n",
       "      <th>stv_total</th>\n",
       "      <th>stv_com_total</th>\n",
       "      <th>stv_rec_total</th>\n",
       "      <th>stv_com_ratio</th>\n",
       "      <th>stv_rec_ratio</th>\n",
       "      <th>geometry</th>\n",
       "      <th>popden</th>\n",
       "    </tr>\n",
       "  </thead>\n",
       "  <tbody>\n",
       "    <tr>\n",
       "      <th>0</th>\n",
       "      <td>0</td>\n",
       "      <td>60313.0</td>\n",
       "      <td>2014.0</td>\n",
       "      <td>0</td>\n",
       "      <td>Eric_Fischer1089</td>\n",
       "      <td>N</td>\n",
       "      <td>34.062543</td>\n",
       "      <td>-118.309114</td>\n",
       "      <td>307766980.0</td>\n",
       "      <td>47895363.0</td>\n",
       "      <td>3905.0</td>\n",
       "      <td>865.0</td>\n",
       "      <td>3040.0</td>\n",
       "      <td>NaN</td>\n",
       "      <td>0.778489</td>\n",
       "      <td>POINT (156080.152 -437837.271)</td>\n",
       "      <td>31855.628241</td>\n",
       "    </tr>\n",
       "    <tr>\n",
       "      <th>1</th>\n",
       "      <td>1</td>\n",
       "      <td>60316.0</td>\n",
       "      <td>2014.0</td>\n",
       "      <td>1</td>\n",
       "      <td>Eric_Fischer1089</td>\n",
       "      <td>E</td>\n",
       "      <td>34.061703</td>\n",
       "      <td>-118.308480</td>\n",
       "      <td>307766746.0</td>\n",
       "      <td>398048051.0</td>\n",
       "      <td>4970.0</td>\n",
       "      <td>1885.0</td>\n",
       "      <td>3085.0</td>\n",
       "      <td>NaN</td>\n",
       "      <td>0.620724</td>\n",
       "      <td>POINT (156140.360 -437929.311)</td>\n",
       "      <td>32550.878297</td>\n",
       "    </tr>\n",
       "    <tr>\n",
       "      <th>2</th>\n",
       "      <td>2</td>\n",
       "      <td>60314.0</td>\n",
       "      <td>2014.0</td>\n",
       "      <td>2</td>\n",
       "      <td>Eric_Fischer1089</td>\n",
       "      <td>S</td>\n",
       "      <td>34.061193</td>\n",
       "      <td>-118.309105</td>\n",
       "      <td>307766737.0</td>\n",
       "      <td>398053760.0</td>\n",
       "      <td>2050.0</td>\n",
       "      <td>620.0</td>\n",
       "      <td>1430.0</td>\n",
       "      <td>NaN</td>\n",
       "      <td>0.697561</td>\n",
       "      <td>POINT (156083.639 -437986.952)</td>\n",
       "      <td>31741.126338</td>\n",
       "    </tr>\n",
       "    <tr>\n",
       "      <th>3</th>\n",
       "      <td>3</td>\n",
       "      <td>60320.0</td>\n",
       "      <td>2014.0</td>\n",
       "      <td>3</td>\n",
       "      <td>Eric_Fischer1089</td>\n",
       "      <td>W</td>\n",
       "      <td>34.061700</td>\n",
       "      <td>-118.309727</td>\n",
       "      <td>307766743.0</td>\n",
       "      <td>398048057.0</td>\n",
       "      <td>3560.0</td>\n",
       "      <td>1830.0</td>\n",
       "      <td>1730.0</td>\n",
       "      <td>NaN</td>\n",
       "      <td>0.485955</td>\n",
       "      <td>POINT (156025.260 -437931.735)</td>\n",
       "      <td>30898.086056</td>\n",
       "    </tr>\n",
       "    <tr>\n",
       "      <th>4</th>\n",
       "      <td>4</td>\n",
       "      <td>44255.0</td>\n",
       "      <td>2014.0</td>\n",
       "      <td>4</td>\n",
       "      <td>Eric_Fischer1086</td>\n",
       "      <td>E</td>\n",
       "      <td>34.090759</td>\n",
       "      <td>-118.308870</td>\n",
       "      <td>307771629.0</td>\n",
       "      <td>398048112.0</td>\n",
       "      <td>2390.0</td>\n",
       "      <td>905.0</td>\n",
       "      <td>1485.0</td>\n",
       "      <td>NaN</td>\n",
       "      <td>0.621339</td>\n",
       "      <td>POINT (156046.884 -434707.306)</td>\n",
       "      <td>26375.825438</td>\n",
       "    </tr>\n",
       "  </tbody>\n",
       "</table>\n",
       "</div>"
      ],
      "text/plain": [
       "   index   tdg_id    year  Unnamed: 0                ID Leg        Lat  \\\n",
       "0      0  60313.0  2014.0           0  Eric_Fischer1089   N  34.062543   \n",
       "1      1  60316.0  2014.0           1  Eric_Fischer1089   E  34.061703   \n",
       "2      2  60314.0  2014.0           2  Eric_Fischer1089   S  34.061193   \n",
       "3      3  60320.0  2014.0           3  Eric_Fischer1089   W  34.061700   \n",
       "4      4  44255.0  2014.0           4  Eric_Fischer1086   E  34.090759   \n",
       "\n",
       "         Long      edgeUID        osmId  stv_total  stv_com_total  \\\n",
       "0 -118.309114  307766980.0   47895363.0     3905.0          865.0   \n",
       "1 -118.308480  307766746.0  398048051.0     4970.0         1885.0   \n",
       "2 -118.309105  307766737.0  398053760.0     2050.0          620.0   \n",
       "3 -118.309727  307766743.0  398048057.0     3560.0         1830.0   \n",
       "4 -118.308870  307771629.0  398048112.0     2390.0          905.0   \n",
       "\n",
       "   stv_rec_total  stv_com_ratio  stv_rec_ratio  \\\n",
       "0         3040.0            NaN       0.778489   \n",
       "1         3085.0            NaN       0.620724   \n",
       "2         1430.0            NaN       0.697561   \n",
       "3         1730.0            NaN       0.485955   \n",
       "4         1485.0            NaN       0.621339   \n",
       "\n",
       "                         geometry        popden  \n",
       "0  POINT (156080.152 -437837.271)  31855.628241  \n",
       "1  POINT (156140.360 -437929.311)  32550.878297  \n",
       "2  POINT (156083.639 -437986.952)  31741.126338  \n",
       "3  POINT (156025.260 -437931.735)  30898.086056  \n",
       "4  POINT (156046.884 -434707.306)  26375.825438  "
      ]
     },
     "execution_count": 372,
     "metadata": {},
     "output_type": "execute_result"
    }
   ],
   "source": [
    "# separate 2019 and 2018 data as it has strava \n",
    "#count_sites1=count_sites[(count_sites['year']==2019)|(count_sites['year']==2018)]\n",
    "count_sites1=count_sites.reset_index()\n",
    "count_sites1['stv_rec_ratio'].fillna(0, inplace=True)\n",
    "count_sites1['popden'].fillna(1, inplace=True)\n",
    "count_sites1.head()"
   ]
  },
  {
   "cell_type": "code",
   "execution_count": 373,
   "id": "14556ada",
   "metadata": {},
   "outputs": [
    {
     "data": {
      "text/plain": [
       "0"
      ]
     },
     "execution_count": 373,
     "metadata": {},
     "output_type": "execute_result"
    }
   ],
   "source": [
    "count_sites1['stv_rec_ratio'].isnull().sum()"
   ]
  },
  {
   "cell_type": "code",
   "execution_count": 374,
   "id": "0b907d91",
   "metadata": {},
   "outputs": [
    {
     "data": {
      "text/plain": [
       "2340"
      ]
     },
     "execution_count": 374,
     "metadata": {},
     "output_type": "execute_result"
    }
   ],
   "source": [
    "count_sites1['ID'].nunique()"
   ]
  },
  {
   "cell_type": "markdown",
   "id": "9b705eb9",
   "metadata": {},
   "source": [
    "# Now estimate Weekday Max AMI_PMI \n"
   ]
  },
  {
   "cell_type": "code",
   "execution_count": 375,
   "id": "e47a30a1",
   "metadata": {},
   "outputs": [
    {
     "data": {
      "text/html": [
       "<div>\n",
       "<style scoped>\n",
       "    .dataframe tbody tr th:only-of-type {\n",
       "        vertical-align: middle;\n",
       "    }\n",
       "\n",
       "    .dataframe tbody tr th {\n",
       "        vertical-align: top;\n",
       "    }\n",
       "\n",
       "    .dataframe thead th {\n",
       "        text-align: right;\n",
       "    }\n",
       "</style>\n",
       "<table border=\"1\" class=\"dataframe\">\n",
       "  <thead>\n",
       "    <tr style=\"text-align: right;\">\n",
       "      <th></th>\n",
       "      <th>index</th>\n",
       "      <th>tdg_id</th>\n",
       "      <th>year</th>\n",
       "      <th>Unnamed: 0</th>\n",
       "      <th>ID</th>\n",
       "      <th>Leg</th>\n",
       "      <th>Lat</th>\n",
       "      <th>Long</th>\n",
       "      <th>edgeUID</th>\n",
       "      <th>osmId</th>\n",
       "      <th>stv_total</th>\n",
       "      <th>stv_com_total</th>\n",
       "      <th>stv_rec_total</th>\n",
       "      <th>stv_com_ratio</th>\n",
       "      <th>stv_rec_ratio</th>\n",
       "      <th>geometry</th>\n",
       "      <th>popden</th>\n",
       "      <th>Max_AMI_PMI</th>\n",
       "    </tr>\n",
       "  </thead>\n",
       "  <tbody>\n",
       "    <tr>\n",
       "      <th>0</th>\n",
       "      <td>0</td>\n",
       "      <td>60313.0</td>\n",
       "      <td>2014.0</td>\n",
       "      <td>0</td>\n",
       "      <td>Eric_Fischer1089</td>\n",
       "      <td>N</td>\n",
       "      <td>34.062543</td>\n",
       "      <td>-118.309114</td>\n",
       "      <td>307766980.0</td>\n",
       "      <td>47895363.0</td>\n",
       "      <td>3905.0</td>\n",
       "      <td>865.0</td>\n",
       "      <td>3040.0</td>\n",
       "      <td>NaN</td>\n",
       "      <td>0.778489</td>\n",
       "      <td>POINT (156080.152 -437837.271)</td>\n",
       "      <td>31855.628241</td>\n",
       "      <td>4.855803</td>\n",
       "    </tr>\n",
       "    <tr>\n",
       "      <th>1</th>\n",
       "      <td>1</td>\n",
       "      <td>60316.0</td>\n",
       "      <td>2014.0</td>\n",
       "      <td>1</td>\n",
       "      <td>Eric_Fischer1089</td>\n",
       "      <td>E</td>\n",
       "      <td>34.061703</td>\n",
       "      <td>-118.308480</td>\n",
       "      <td>307766746.0</td>\n",
       "      <td>398048051.0</td>\n",
       "      <td>4970.0</td>\n",
       "      <td>1885.0</td>\n",
       "      <td>3085.0</td>\n",
       "      <td>NaN</td>\n",
       "      <td>0.620724</td>\n",
       "      <td>POINT (156140.360 -437929.311)</td>\n",
       "      <td>32550.878297</td>\n",
       "      <td>5.605054</td>\n",
       "    </tr>\n",
       "    <tr>\n",
       "      <th>2</th>\n",
       "      <td>2</td>\n",
       "      <td>60314.0</td>\n",
       "      <td>2014.0</td>\n",
       "      <td>2</td>\n",
       "      <td>Eric_Fischer1089</td>\n",
       "      <td>S</td>\n",
       "      <td>34.061193</td>\n",
       "      <td>-118.309105</td>\n",
       "      <td>307766737.0</td>\n",
       "      <td>398053760.0</td>\n",
       "      <td>2050.0</td>\n",
       "      <td>620.0</td>\n",
       "      <td>1430.0</td>\n",
       "      <td>NaN</td>\n",
       "      <td>0.697561</td>\n",
       "      <td>POINT (156083.639 -437986.952)</td>\n",
       "      <td>31741.126338</td>\n",
       "      <td>5.215656</td>\n",
       "    </tr>\n",
       "  </tbody>\n",
       "</table>\n",
       "</div>"
      ],
      "text/plain": [
       "   index   tdg_id    year  Unnamed: 0                ID Leg        Lat  \\\n",
       "0      0  60313.0  2014.0           0  Eric_Fischer1089   N  34.062543   \n",
       "1      1  60316.0  2014.0           1  Eric_Fischer1089   E  34.061703   \n",
       "2      2  60314.0  2014.0           2  Eric_Fischer1089   S  34.061193   \n",
       "\n",
       "         Long      edgeUID        osmId  stv_total  stv_com_total  \\\n",
       "0 -118.309114  307766980.0   47895363.0     3905.0          865.0   \n",
       "1 -118.308480  307766746.0  398048051.0     4970.0         1885.0   \n",
       "2 -118.309105  307766737.0  398053760.0     2050.0          620.0   \n",
       "\n",
       "   stv_rec_total  stv_com_ratio  stv_rec_ratio  \\\n",
       "0         3040.0            NaN       0.778489   \n",
       "1         3085.0            NaN       0.620724   \n",
       "2         1430.0            NaN       0.697561   \n",
       "\n",
       "                         geometry        popden  Max_AMI_PMI  \n",
       "0  POINT (156080.152 -437837.271)  31855.628241     4.855803  \n",
       "1  POINT (156140.360 -437929.311)  32550.878297     5.605054  \n",
       "2  POINT (156083.639 -437986.952)  31741.126338     5.215656  "
      ]
     },
     "execution_count": 375,
     "metadata": {},
     "output_type": "execute_result"
    }
   ],
   "source": [
    "a=3.77571742\n",
    "b= 9.29116576e-05\n",
    "c= -3.10154018e+00\n",
    "count_sites1['Max_AMI_PMI']=a+b*count_sites1['popden']+c*np.power(count_sites1['stv_rec_ratio'],2)\n",
    "count_sites1.head(3)"
   ]
  },
  {
   "cell_type": "code",
   "execution_count": 376,
   "id": "2a501921",
   "metadata": {},
   "outputs": [
    {
     "data": {
      "text/plain": [
       "count    5704.000000\n",
       "mean        3.828025\n",
       "std         4.217390\n",
       "min         0.676088\n",
       "25%         1.732626\n",
       "50%         2.884823\n",
       "75%         4.123158\n",
       "max        23.173368\n",
       "Name: Max_AMI_PMI, dtype: float64"
      ]
     },
     "execution_count": 376,
     "metadata": {},
     "output_type": "execute_result"
    }
   ],
   "source": [
    "count_sites1['Max_AMI_PMI'].describe()"
   ]
  },
  {
   "cell_type": "code",
   "execution_count": 377,
   "id": "bceff6b6",
   "metadata": {},
   "outputs": [],
   "source": [
    "#count_sites2=count_sites[(count_sites['year']==2016)|(count_sites['year']==2017)]\n",
    "count_sites1['popden'].fillna(1, inplace=True)"
   ]
  },
  {
   "cell_type": "code",
   "execution_count": 378,
   "id": "7a90b664",
   "metadata": {},
   "outputs": [],
   "source": [
    "#count_sites1['popden'].isnull().sum(),count_sites1['CBD Distance'].isnull().sum()"
   ]
  },
  {
   "cell_type": "code",
   "execution_count": 379,
   "id": "71b8782a",
   "metadata": {},
   "outputs": [
    {
     "data": {
      "text/plain": [
       "3608"
      ]
     },
     "execution_count": 379,
     "metadata": {},
     "output_type": "execute_result"
    }
   ],
   "source": [
    "count_sites1['tdg_id'].nunique()"
   ]
  },
  {
   "cell_type": "code",
   "execution_count": 380,
   "id": "a803f860",
   "metadata": {},
   "outputs": [],
   "source": [
    "# Strava is missing for 2016 and 2017, therefore,now use Maximum Weekday AMI_PMI= -0.32406+0.03444*√(\"population Density\" ) +𝟎.𝟎𝟒𝟐𝟖𝟑∗𝐥𝐧(𝐃𝐢𝐬𝐭𝐚𝐧𝐜𝐞 𝐭𝐨 𝐂𝐁𝐃 𝐢𝐧 𝐦𝐢𝐥𝐞) to \n",
    "#calculate max AMI_PMI for 2016 and 2017 data \n",
    "#count_sites2=count_sites[(count_sites['year']==2016)|(count_sites['year']==2017)]\n",
    "# a=-0.32406\n",
    "# b=0.03444\n",
    "# c=0.04283\n",
    "# count_sites2['Max_AMI_PMI']=a+b*np.sqrt(count_sites2['popden'])+c*np.log(count_sites2['CBD Distance'])\n",
    "# count_sites2.head()"
   ]
  },
  {
   "cell_type": "code",
   "execution_count": 381,
   "id": "8c9c5ff5",
   "metadata": {},
   "outputs": [],
   "source": [
    "# count_sites1['Max_AMI_PMI'].isnull().sum(), count_sites2['Max_AMI_PMI'].isnull().sum()"
   ]
  },
  {
   "cell_type": "code",
   "execution_count": 382,
   "id": "e61af137",
   "metadata": {},
   "outputs": [
    {
     "data": {
      "text/html": [
       "<div>\n",
       "<style scoped>\n",
       "    .dataframe tbody tr th:only-of-type {\n",
       "        vertical-align: middle;\n",
       "    }\n",
       "\n",
       "    .dataframe tbody tr th {\n",
       "        vertical-align: top;\n",
       "    }\n",
       "\n",
       "    .dataframe thead th {\n",
       "        text-align: right;\n",
       "    }\n",
       "</style>\n",
       "<table border=\"1\" class=\"dataframe\">\n",
       "  <thead>\n",
       "    <tr style=\"text-align: right;\">\n",
       "      <th></th>\n",
       "      <th>Unnamed: 0.2</th>\n",
       "      <th>matched_seg_id</th>\n",
       "      <th>Leg</th>\n",
       "      <th>year</th>\n",
       "      <th>...1</th>\n",
       "      <th>Unnamed: 0.1</th>\n",
       "      <th>Unnamed: 0</th>\n",
       "      <th>ID</th>\n",
       "      <th>Date</th>\n",
       "      <th>Day of Week</th>\n",
       "      <th>...</th>\n",
       "      <th>MAD_flag_threshold</th>\n",
       "      <th>MAD_flag</th>\n",
       "      <th>comb_flag</th>\n",
       "      <th>comb_flag_day_count</th>\n",
       "      <th>comb_flag_day</th>\n",
       "      <th>Mio</th>\n",
       "      <th>ID_y</th>\n",
       "      <th>tdg_id</th>\n",
       "      <th>Lat</th>\n",
       "      <th>Long</th>\n",
       "    </tr>\n",
       "  </thead>\n",
       "  <tbody>\n",
       "    <tr>\n",
       "      <th>0</th>\n",
       "      <td>8</td>\n",
       "      <td>101100</td>\n",
       "      <td>N</td>\n",
       "      <td>2018</td>\n",
       "      <td>29901</td>\n",
       "      <td>29901</td>\n",
       "      <td>797</td>\n",
       "      <td>Vista88</td>\n",
       "      <td>2018-04-19</td>\n",
       "      <td>Thursday</td>\n",
       "      <td>...</td>\n",
       "      <td>58.3736</td>\n",
       "      <td>False</td>\n",
       "      <td>False</td>\n",
       "      <td>0</td>\n",
       "      <td>False</td>\n",
       "      <td>0</td>\n",
       "      <td>Vista87</td>\n",
       "      <td>101100.0</td>\n",
       "      <td>33.195443</td>\n",
       "      <td>-117.249603</td>\n",
       "    </tr>\n",
       "    <tr>\n",
       "      <th>1</th>\n",
       "      <td>8</td>\n",
       "      <td>101100</td>\n",
       "      <td>N</td>\n",
       "      <td>2018</td>\n",
       "      <td>29901</td>\n",
       "      <td>29901</td>\n",
       "      <td>797</td>\n",
       "      <td>Vista88</td>\n",
       "      <td>2018-04-19</td>\n",
       "      <td>Thursday</td>\n",
       "      <td>...</td>\n",
       "      <td>58.3736</td>\n",
       "      <td>False</td>\n",
       "      <td>False</td>\n",
       "      <td>0</td>\n",
       "      <td>False</td>\n",
       "      <td>0</td>\n",
       "      <td>Vista88</td>\n",
       "      <td>101100.0</td>\n",
       "      <td>33.195443</td>\n",
       "      <td>-117.249603</td>\n",
       "    </tr>\n",
       "    <tr>\n",
       "      <th>2</th>\n",
       "      <td>9</td>\n",
       "      <td>101100</td>\n",
       "      <td>N</td>\n",
       "      <td>2018</td>\n",
       "      <td>29896</td>\n",
       "      <td>29896</td>\n",
       "      <td>792</td>\n",
       "      <td>Vista87</td>\n",
       "      <td>2018-04-19</td>\n",
       "      <td>Thursday</td>\n",
       "      <td>...</td>\n",
       "      <td>58.3736</td>\n",
       "      <td>False</td>\n",
       "      <td>False</td>\n",
       "      <td>0</td>\n",
       "      <td>False</td>\n",
       "      <td>0</td>\n",
       "      <td>Vista87</td>\n",
       "      <td>101100.0</td>\n",
       "      <td>33.195443</td>\n",
       "      <td>-117.249603</td>\n",
       "    </tr>\n",
       "    <tr>\n",
       "      <th>3</th>\n",
       "      <td>9</td>\n",
       "      <td>101100</td>\n",
       "      <td>N</td>\n",
       "      <td>2018</td>\n",
       "      <td>29896</td>\n",
       "      <td>29896</td>\n",
       "      <td>792</td>\n",
       "      <td>Vista87</td>\n",
       "      <td>2018-04-19</td>\n",
       "      <td>Thursday</td>\n",
       "      <td>...</td>\n",
       "      <td>58.3736</td>\n",
       "      <td>False</td>\n",
       "      <td>False</td>\n",
       "      <td>0</td>\n",
       "      <td>False</td>\n",
       "      <td>0</td>\n",
       "      <td>Vista88</td>\n",
       "      <td>101100.0</td>\n",
       "      <td>33.195443</td>\n",
       "      <td>-117.249603</td>\n",
       "    </tr>\n",
       "    <tr>\n",
       "      <th>4</th>\n",
       "      <td>10</td>\n",
       "      <td>101100</td>\n",
       "      <td>N</td>\n",
       "      <td>2018</td>\n",
       "      <td>29894</td>\n",
       "      <td>29894</td>\n",
       "      <td>790</td>\n",
       "      <td>Vista87</td>\n",
       "      <td>2018-04-19</td>\n",
       "      <td>Thursday</td>\n",
       "      <td>...</td>\n",
       "      <td>58.3736</td>\n",
       "      <td>False</td>\n",
       "      <td>False</td>\n",
       "      <td>0</td>\n",
       "      <td>False</td>\n",
       "      <td>0</td>\n",
       "      <td>Vista87</td>\n",
       "      <td>101100.0</td>\n",
       "      <td>33.195443</td>\n",
       "      <td>-117.249603</td>\n",
       "    </tr>\n",
       "  </tbody>\n",
       "</table>\n",
       "<p>5 rows × 47 columns</p>\n",
       "</div>"
      ],
      "text/plain": [
       "   Unnamed: 0.2  matched_seg_id Leg  year   ...1  Unnamed: 0.1  Unnamed: 0  \\\n",
       "0             8          101100   N  2018  29901         29901         797   \n",
       "1             8          101100   N  2018  29901         29901         797   \n",
       "2             9          101100   N  2018  29896         29896         792   \n",
       "3             9          101100   N  2018  29896         29896         792   \n",
       "4            10          101100   N  2018  29894         29894         790   \n",
       "\n",
       "        ID        Date Day of Week  ... MAD_flag_threshold MAD_flag  \\\n",
       "0  Vista88  2018-04-19    Thursday  ...            58.3736    False   \n",
       "1  Vista88  2018-04-19    Thursday  ...            58.3736    False   \n",
       "2  Vista87  2018-04-19    Thursday  ...            58.3736    False   \n",
       "3  Vista87  2018-04-19    Thursday  ...            58.3736    False   \n",
       "4  Vista87  2018-04-19    Thursday  ...            58.3736    False   \n",
       "\n",
       "   comb_flag comb_flag_day_count  comb_flag_day  Mio     ID_y    tdg_id  \\\n",
       "0      False                   0          False    0  Vista87  101100.0   \n",
       "1      False                   0          False    0  Vista88  101100.0   \n",
       "2      False                   0          False    0  Vista87  101100.0   \n",
       "3      False                   0          False    0  Vista88  101100.0   \n",
       "4      False                   0          False    0  Vista87  101100.0   \n",
       "\n",
       "         Lat        Long  \n",
       "0  33.195443 -117.249603  \n",
       "1  33.195443 -117.249603  \n",
       "2  33.195443 -117.249603  \n",
       "3  33.195443 -117.249603  \n",
       "4  33.195443 -117.249603  \n",
       "\n",
       "[5 rows x 47 columns]"
      ]
     },
     "execution_count": 382,
     "metadata": {},
     "output_type": "execute_result"
    }
   ],
   "source": [
    "sc_weekday.head()"
   ]
  },
  {
   "cell_type": "code",
   "execution_count": 383,
   "id": "524f62a0",
   "metadata": {},
   "outputs": [
    {
     "data": {
      "text/html": [
       "<div>\n",
       "<style scoped>\n",
       "    .dataframe tbody tr th:only-of-type {\n",
       "        vertical-align: middle;\n",
       "    }\n",
       "\n",
       "    .dataframe tbody tr th {\n",
       "        vertical-align: top;\n",
       "    }\n",
       "\n",
       "    .dataframe thead th {\n",
       "        text-align: right;\n",
       "    }\n",
       "</style>\n",
       "<table border=\"1\" class=\"dataframe\">\n",
       "  <thead>\n",
       "    <tr style=\"text-align: right;\">\n",
       "      <th></th>\n",
       "      <th>Unnamed: 0.2</th>\n",
       "      <th>matched_seg_id</th>\n",
       "      <th>Leg_x</th>\n",
       "      <th>year</th>\n",
       "      <th>...1</th>\n",
       "      <th>Unnamed: 0.1</th>\n",
       "      <th>Unnamed: 0_x</th>\n",
       "      <th>ID_x</th>\n",
       "      <th>Date</th>\n",
       "      <th>Day of Week</th>\n",
       "      <th>...</th>\n",
       "      <th>edgeUID</th>\n",
       "      <th>osmId</th>\n",
       "      <th>stv_total</th>\n",
       "      <th>stv_com_total</th>\n",
       "      <th>stv_rec_total</th>\n",
       "      <th>stv_com_ratio</th>\n",
       "      <th>stv_rec_ratio</th>\n",
       "      <th>geometry</th>\n",
       "      <th>popden</th>\n",
       "      <th>Max_AMI_PMI</th>\n",
       "    </tr>\n",
       "  </thead>\n",
       "  <tbody>\n",
       "    <tr>\n",
       "      <th>0</th>\n",
       "      <td>8</td>\n",
       "      <td>101100</td>\n",
       "      <td>N</td>\n",
       "      <td>2018</td>\n",
       "      <td>29901</td>\n",
       "      <td>29901</td>\n",
       "      <td>797</td>\n",
       "      <td>Vista88</td>\n",
       "      <td>2018-04-19</td>\n",
       "      <td>Thursday</td>\n",
       "      <td>...</td>\n",
       "      <td>306471736.0</td>\n",
       "      <td>436302315.0</td>\n",
       "      <td>170.0</td>\n",
       "      <td>20.0</td>\n",
       "      <td>150.0</td>\n",
       "      <td>0.117647</td>\n",
       "      <td>0.882353</td>\n",
       "      <td>POINT (256646.499 -531645.129)</td>\n",
       "      <td>14860.951441</td>\n",
       "      <td>2.741779</td>\n",
       "    </tr>\n",
       "    <tr>\n",
       "      <th>1</th>\n",
       "      <td>8</td>\n",
       "      <td>101100</td>\n",
       "      <td>N</td>\n",
       "      <td>2018</td>\n",
       "      <td>29901</td>\n",
       "      <td>29901</td>\n",
       "      <td>797</td>\n",
       "      <td>Vista88</td>\n",
       "      <td>2018-04-19</td>\n",
       "      <td>Thursday</td>\n",
       "      <td>...</td>\n",
       "      <td>306471736.0</td>\n",
       "      <td>436302315.0</td>\n",
       "      <td>170.0</td>\n",
       "      <td>20.0</td>\n",
       "      <td>150.0</td>\n",
       "      <td>0.117647</td>\n",
       "      <td>0.882353</td>\n",
       "      <td>POINT (256646.499 -531645.129)</td>\n",
       "      <td>14860.951441</td>\n",
       "      <td>2.741779</td>\n",
       "    </tr>\n",
       "    <tr>\n",
       "      <th>2</th>\n",
       "      <td>8</td>\n",
       "      <td>101100</td>\n",
       "      <td>N</td>\n",
       "      <td>2018</td>\n",
       "      <td>29901</td>\n",
       "      <td>29901</td>\n",
       "      <td>797</td>\n",
       "      <td>Vista88</td>\n",
       "      <td>2018-04-19</td>\n",
       "      <td>Thursday</td>\n",
       "      <td>...</td>\n",
       "      <td>306471736.0</td>\n",
       "      <td>436302315.0</td>\n",
       "      <td>170.0</td>\n",
       "      <td>20.0</td>\n",
       "      <td>150.0</td>\n",
       "      <td>0.117647</td>\n",
       "      <td>0.882353</td>\n",
       "      <td>POINT (256646.499 -531645.129)</td>\n",
       "      <td>14860.951441</td>\n",
       "      <td>2.741779</td>\n",
       "    </tr>\n",
       "    <tr>\n",
       "      <th>3</th>\n",
       "      <td>8</td>\n",
       "      <td>101100</td>\n",
       "      <td>N</td>\n",
       "      <td>2018</td>\n",
       "      <td>29901</td>\n",
       "      <td>29901</td>\n",
       "      <td>797</td>\n",
       "      <td>Vista88</td>\n",
       "      <td>2018-04-19</td>\n",
       "      <td>Thursday</td>\n",
       "      <td>...</td>\n",
       "      <td>306471736.0</td>\n",
       "      <td>436302315.0</td>\n",
       "      <td>170.0</td>\n",
       "      <td>20.0</td>\n",
       "      <td>150.0</td>\n",
       "      <td>0.117647</td>\n",
       "      <td>0.882353</td>\n",
       "      <td>POINT (256646.499 -531645.129)</td>\n",
       "      <td>14860.951441</td>\n",
       "      <td>2.741779</td>\n",
       "    </tr>\n",
       "    <tr>\n",
       "      <th>4</th>\n",
       "      <td>9</td>\n",
       "      <td>101100</td>\n",
       "      <td>N</td>\n",
       "      <td>2018</td>\n",
       "      <td>29896</td>\n",
       "      <td>29896</td>\n",
       "      <td>792</td>\n",
       "      <td>Vista87</td>\n",
       "      <td>2018-04-19</td>\n",
       "      <td>Thursday</td>\n",
       "      <td>...</td>\n",
       "      <td>306471736.0</td>\n",
       "      <td>436302315.0</td>\n",
       "      <td>170.0</td>\n",
       "      <td>20.0</td>\n",
       "      <td>150.0</td>\n",
       "      <td>0.117647</td>\n",
       "      <td>0.882353</td>\n",
       "      <td>POINT (256646.499 -531645.129)</td>\n",
       "      <td>14860.951441</td>\n",
       "      <td>2.741779</td>\n",
       "    </tr>\n",
       "  </tbody>\n",
       "</table>\n",
       "<p>5 rows × 63 columns</p>\n",
       "</div>"
      ],
      "text/plain": [
       "   Unnamed: 0.2  matched_seg_id Leg_x  year   ...1  Unnamed: 0.1  \\\n",
       "0             8          101100     N  2018  29901         29901   \n",
       "1             8          101100     N  2018  29901         29901   \n",
       "2             8          101100     N  2018  29901         29901   \n",
       "3             8          101100     N  2018  29901         29901   \n",
       "4             9          101100     N  2018  29896         29896   \n",
       "\n",
       "   Unnamed: 0_x     ID_x        Date Day of Week  ...      edgeUID  \\\n",
       "0           797  Vista88  2018-04-19    Thursday  ...  306471736.0   \n",
       "1           797  Vista88  2018-04-19    Thursday  ...  306471736.0   \n",
       "2           797  Vista88  2018-04-19    Thursday  ...  306471736.0   \n",
       "3           797  Vista88  2018-04-19    Thursday  ...  306471736.0   \n",
       "4           792  Vista87  2018-04-19    Thursday  ...  306471736.0   \n",
       "\n",
       "         osmId  stv_total stv_com_total  stv_rec_total  stv_com_ratio  \\\n",
       "0  436302315.0      170.0          20.0          150.0       0.117647   \n",
       "1  436302315.0      170.0          20.0          150.0       0.117647   \n",
       "2  436302315.0      170.0          20.0          150.0       0.117647   \n",
       "3  436302315.0      170.0          20.0          150.0       0.117647   \n",
       "4  436302315.0      170.0          20.0          150.0       0.117647   \n",
       "\n",
       "   stv_rec_ratio                        geometry        popden Max_AMI_PMI  \n",
       "0       0.882353  POINT (256646.499 -531645.129)  14860.951441    2.741779  \n",
       "1       0.882353  POINT (256646.499 -531645.129)  14860.951441    2.741779  \n",
       "2       0.882353  POINT (256646.499 -531645.129)  14860.951441    2.741779  \n",
       "3       0.882353  POINT (256646.499 -531645.129)  14860.951441    2.741779  \n",
       "4       0.882353  POINT (256646.499 -531645.129)  14860.951441    2.741779  \n",
       "\n",
       "[5 rows x 63 columns]"
      ]
     },
     "execution_count": 383,
     "metadata": {},
     "output_type": "execute_result"
    }
   ],
   "source": [
    "# Now combine count_sites1 and count sites 2 data\n",
    "#count_sites3=pd.concat([count_sites1,count_sites2],axis=0)\n",
    "count_sites4=pd.merge(sc_weekday,count_sites1,on=['tdg_id','year'], how='inner')\n",
    "count_sites4.head()"
   ]
  },
  {
   "cell_type": "code",
   "execution_count": 384,
   "id": "354b8e3f",
   "metadata": {},
   "outputs": [
    {
     "data": {
      "text/plain": [
       "(2055, 2055)"
      ]
     },
     "execution_count": 384,
     "metadata": {},
     "output_type": "execute_result"
    }
   ],
   "source": [
    "sc_weekday['tdg_id'].nunique(), count_sites4['tdg_id'].nunique()"
   ]
  },
  {
   "cell_type": "code",
   "execution_count": 385,
   "id": "e739e682",
   "metadata": {},
   "outputs": [],
   "source": [
    "count_sites4=count_sites4.rename(columns={\"Leg_x\":'Leg'})\n",
    "count_sites4=count_sites4.rename(columns={\"Lat_x\":'Lat'})\n",
    "count_sites4=count_sites4.rename(columns={\"Long_x\":'Long'})"
   ]
  },
  {
   "cell_type": "code",
   "execution_count": 386,
   "id": "a0791276",
   "metadata": {},
   "outputs": [
    {
     "data": {
      "text/plain": [
       "(0, 0)"
      ]
     },
     "execution_count": 386,
     "metadata": {},
     "output_type": "execute_result"
    }
   ],
   "source": [
    "count_sites1['Max_AMI_PMI'].isnull().sum(), count_sites4['Max_AMI_PMI'].isnull().sum()"
   ]
  },
  {
   "cell_type": "code",
   "execution_count": 387,
   "id": "2dacad48",
   "metadata": {},
   "outputs": [
    {
     "data": {
      "text/plain": [
       "((194894, 47), (5704, 18))"
      ]
     },
     "execution_count": 387,
     "metadata": {},
     "output_type": "execute_result"
    }
   ],
   "source": [
    "sc_weekday.shape,count_sites1.shape"
   ]
  },
  {
   "cell_type": "code",
   "execution_count": 388,
   "id": "7a9707ff",
   "metadata": {},
   "outputs": [
    {
     "data": {
      "text/plain": [
       "(2055, 2055)"
      ]
     },
     "execution_count": 388,
     "metadata": {},
     "output_type": "execute_result"
    }
   ],
   "source": [
    "sc_weekday['tdg_id'].nunique(),count_sites4['tdg_id'].nunique()"
   ]
  },
  {
   "cell_type": "code",
   "execution_count": 389,
   "id": "54fd2ac8",
   "metadata": {},
   "outputs": [
    {
     "data": {
      "text/html": [
       "<div>\n",
       "<style scoped>\n",
       "    .dataframe tbody tr th:only-of-type {\n",
       "        vertical-align: middle;\n",
       "    }\n",
       "\n",
       "    .dataframe tbody tr th {\n",
       "        vertical-align: top;\n",
       "    }\n",
       "\n",
       "    .dataframe thead th {\n",
       "        text-align: right;\n",
       "    }\n",
       "</style>\n",
       "<table border=\"1\" class=\"dataframe\">\n",
       "  <thead>\n",
       "    <tr style=\"text-align: right;\">\n",
       "      <th></th>\n",
       "      <th>Unnamed: 0.2</th>\n",
       "      <th>matched_seg_id</th>\n",
       "      <th>Leg</th>\n",
       "      <th>year</th>\n",
       "      <th>...1</th>\n",
       "      <th>Unnamed: 0.1</th>\n",
       "      <th>Unnamed: 0_x</th>\n",
       "      <th>ID_x</th>\n",
       "      <th>Date</th>\n",
       "      <th>Day of Week</th>\n",
       "      <th>...</th>\n",
       "      <th>edgeUID</th>\n",
       "      <th>osmId</th>\n",
       "      <th>stv_total</th>\n",
       "      <th>stv_com_total</th>\n",
       "      <th>stv_rec_total</th>\n",
       "      <th>stv_com_ratio</th>\n",
       "      <th>stv_rec_ratio</th>\n",
       "      <th>geometry</th>\n",
       "      <th>popden</th>\n",
       "      <th>Max_AMI_PMI</th>\n",
       "    </tr>\n",
       "  </thead>\n",
       "  <tbody>\n",
       "    <tr>\n",
       "      <th>0</th>\n",
       "      <td>8</td>\n",
       "      <td>101100</td>\n",
       "      <td>N</td>\n",
       "      <td>2018</td>\n",
       "      <td>29901</td>\n",
       "      <td>29901</td>\n",
       "      <td>797</td>\n",
       "      <td>Vista88</td>\n",
       "      <td>2018-04-19</td>\n",
       "      <td>Thursday</td>\n",
       "      <td>...</td>\n",
       "      <td>306471736.0</td>\n",
       "      <td>436302315.0</td>\n",
       "      <td>170.0</td>\n",
       "      <td>20.0</td>\n",
       "      <td>150.0</td>\n",
       "      <td>0.117647</td>\n",
       "      <td>0.882353</td>\n",
       "      <td>POINT (256646.499 -531645.129)</td>\n",
       "      <td>14860.951441</td>\n",
       "      <td>2.741779</td>\n",
       "    </tr>\n",
       "    <tr>\n",
       "      <th>1</th>\n",
       "      <td>8</td>\n",
       "      <td>101100</td>\n",
       "      <td>N</td>\n",
       "      <td>2018</td>\n",
       "      <td>29901</td>\n",
       "      <td>29901</td>\n",
       "      <td>797</td>\n",
       "      <td>Vista88</td>\n",
       "      <td>2018-04-19</td>\n",
       "      <td>Thursday</td>\n",
       "      <td>...</td>\n",
       "      <td>306471736.0</td>\n",
       "      <td>436302315.0</td>\n",
       "      <td>170.0</td>\n",
       "      <td>20.0</td>\n",
       "      <td>150.0</td>\n",
       "      <td>0.117647</td>\n",
       "      <td>0.882353</td>\n",
       "      <td>POINT (256646.499 -531645.129)</td>\n",
       "      <td>14860.951441</td>\n",
       "      <td>2.741779</td>\n",
       "    </tr>\n",
       "  </tbody>\n",
       "</table>\n",
       "<p>2 rows × 63 columns</p>\n",
       "</div>"
      ],
      "text/plain": [
       "   Unnamed: 0.2  matched_seg_id Leg  year   ...1  Unnamed: 0.1  Unnamed: 0_x  \\\n",
       "0             8          101100   N  2018  29901         29901           797   \n",
       "1             8          101100   N  2018  29901         29901           797   \n",
       "\n",
       "      ID_x        Date Day of Week  ...      edgeUID        osmId  stv_total  \\\n",
       "0  Vista88  2018-04-19    Thursday  ...  306471736.0  436302315.0      170.0   \n",
       "1  Vista88  2018-04-19    Thursday  ...  306471736.0  436302315.0      170.0   \n",
       "\n",
       "  stv_com_total  stv_rec_total  stv_com_ratio  stv_rec_ratio  \\\n",
       "0          20.0          150.0       0.117647       0.882353   \n",
       "1          20.0          150.0       0.117647       0.882353   \n",
       "\n",
       "                         geometry        popden Max_AMI_PMI  \n",
       "0  POINT (256646.499 -531645.129)  14860.951441    2.741779  \n",
       "1  POINT (256646.499 -531645.129)  14860.951441    2.741779  \n",
       "\n",
       "[2 rows x 63 columns]"
      ]
     },
     "execution_count": 389,
     "metadata": {},
     "output_type": "execute_result"
    }
   ],
   "source": [
    "# split by MAX AMI_PMI Value\n",
    "m_g1=count_sites4.loc[count_sites4['Max_AMI_PMI']<=1]\n",
    "m_g2=count_sites4[(count_sites4.Max_AMI_PMI>1) &(count_sites4.Max_AMI_PMI<=2.50)]\n",
    "m_g3=count_sites4.loc[count_sites4['Max_AMI_PMI']>2.50]\n",
    "m_g3.head(2)"
   ]
  },
  {
   "cell_type": "code",
   "execution_count": 390,
   "id": "07c68744",
   "metadata": {},
   "outputs": [
    {
     "data": {
      "text/plain": [
       "((1655, 63), (13465, 63), (8762124, 63), (8777244, 63))"
      ]
     },
     "execution_count": 390,
     "metadata": {},
     "output_type": "execute_result"
    }
   ],
   "source": [
    "m_g1.shape,m_g2.shape,m_g3.shape,count_sites4.shape"
   ]
  },
  {
   "cell_type": "code",
   "execution_count": 391,
   "id": "e59c767c",
   "metadata": {},
   "outputs": [
    {
     "data": {
      "text/plain": [
       "Index(['Unnamed: 0.2', 'matched_seg_id', 'Leg', 'year', '...1', 'Unnamed: 0.1',\n",
       "       'Unnamed: 0_x', 'ID_x', 'Date', 'Day of Week', 'Start Time', 'End Time',\n",
       "       'Count', 'date', 'month', 'day', 'dayofweek', 'weekday_Status',\n",
       "       'Week Day Status', 'starttime', 'endtime', 'starttime1', 'endtime1',\n",
       "       'startDateTime', 'endDateTime', 'diff', 'hour', 'Total_hour',\n",
       "       'csum_counts', 'csum_hours', 'consec_flag', 'consec_flag1', 'season',\n",
       "       'max_flag', 'night_flag', 'counts', '(hour >= 6 & hour <= 21)',\n",
       "       'MAD_flag_threshold', 'MAD_flag', 'comb_flag', 'comb_flag_day_count',\n",
       "       'comb_flag_day', 'Mio', 'ID_y', 'tdg_id', 'Lat', 'Long', 'index',\n",
       "       'Unnamed: 0_y', 'ID_y', 'Leg_y', 'Lat_y', 'Long_y', 'edgeUID', 'osmId',\n",
       "       'stv_total', 'stv_com_total', 'stv_rec_total', 'stv_com_ratio',\n",
       "       'stv_rec_ratio', 'geometry', 'popden', 'Max_AMI_PMI'],\n",
       "      dtype='object')"
      ]
     },
     "execution_count": 391,
     "metadata": {},
     "output_type": "execute_result"
    }
   ],
   "source": [
    "m_g3.columns"
   ]
  },
  {
   "cell_type": "code",
   "execution_count": 392,
   "id": "7ab0e417",
   "metadata": {},
   "outputs": [],
   "source": [
    "# Calculate daily Volume for group 1\n",
    "mg1_DV=pd.merge(m_g1,HOD_weekday_g1, on=['starttime'], how='inner')\n",
    "mg1_DV1=pd.DataFrame({'agge_count' : mg1_DV.groupby(['year','month','day','Leg','Day of Week','matched_seg_id','Lat','Long'])['Count'].sum()}).reset_index()\n",
    "mg1_DV1f=pd.DataFrame({'agge_factor' : mg1_DV.groupby(['year','month','day','Leg','Day of Week','matched_seg_id','Lat','Long'])['Average_Group_HOD_Factor'].sum()}).reset_index()\n",
    "mg1_DV1r=pd.merge(mg1_DV1,mg1_DV1f, on=['year','month','day','Leg','Day of Week','matched_seg_id','Lat','Long'], how='inner')\n",
    "mg1_DV1r['Daily_Volume']=mg1_DV1r['agge_count']/mg1_DV1r['agge_factor']\n",
    "mg1_DV1rf=pd.DataFrame({'TDV' : mg1_DV1r.groupby(['year','Leg','Day of Week','month','matched_seg_id','Lat','Long'])['Daily_Volume'].mean()}).reset_index()"
   ]
  },
  {
   "cell_type": "code",
   "execution_count": 393,
   "id": "81a18710",
   "metadata": {},
   "outputs": [
    {
     "data": {
      "text/plain": [
       "((0, 67), (0, 9))"
      ]
     },
     "execution_count": 393,
     "metadata": {},
     "output_type": "execute_result"
    }
   ],
   "source": [
    "c=mg1_DV.loc[mg1_DV['Count']==0]\n",
    "c1=mg1_DV1.loc[mg1_DV1['agge_count']==0]\n",
    "c.shape,c1.shape"
   ]
  },
  {
   "cell_type": "code",
   "execution_count": 394,
   "id": "186216d9",
   "metadata": {},
   "outputs": [
    {
     "data": {
      "text/plain": [
       "year              0\n",
       "Leg               0\n",
       "Day of Week       0\n",
       "month             0\n",
       "matched_seg_id    0\n",
       "Lat               0\n",
       "Long              0\n",
       "TDV               0\n",
       "dtype: int64"
      ]
     },
     "execution_count": 394,
     "metadata": {},
     "output_type": "execute_result"
    }
   ],
   "source": [
    "mg1_DV1rf.isnull().sum()"
   ]
  },
  {
   "cell_type": "code",
   "execution_count": 395,
   "id": "61cb861f",
   "metadata": {},
   "outputs": [],
   "source": [
    "# Calculate daily Volume for group 2\n",
    "mg2_DV=pd.merge(m_g2,HOD_weekday_g2, on=['starttime'], how='inner')\n",
    "mg2_DV2=pd.DataFrame({'agge_count' : mg2_DV.groupby(['year','month','day','Leg','Day of Week','matched_seg_id','Lat','Long'])['Count'].sum()}).reset_index()\n",
    "mg2_DV2f=pd.DataFrame({'agge_factor' : mg2_DV.groupby(['year','month','day','Leg','Day of Week','matched_seg_id','Lat','Long'])['Average_Group_HOD_Factor'].sum()}).reset_index()\n",
    "mg2_DV2r=pd.merge(mg2_DV2,mg2_DV2f, on=['year','month','day','Leg','Day of Week','matched_seg_id','Lat','Long'], how='inner')\n",
    "mg2_DV2r['Daily_Volume']=mg2_DV2r['agge_count']/mg2_DV2r['agge_factor']\n",
    "mg2_DV2rf=pd.DataFrame({'TDV' : mg2_DV2r.groupby(['year','Leg','Day of Week','month','matched_seg_id','Lat','Long'])['Daily_Volume'].mean()}).reset_index()"
   ]
  },
  {
   "cell_type": "code",
   "execution_count": 396,
   "id": "11c25be0",
   "metadata": {},
   "outputs": [
    {
     "data": {
      "text/plain": [
       "((116, 67), (0, 9))"
      ]
     },
     "execution_count": 396,
     "metadata": {},
     "output_type": "execute_result"
    }
   ],
   "source": [
    "c=mg2_DV.loc[mg2_DV['Count']==0]\n",
    "c1=mg2_DV2.loc[mg2_DV2['agge_count']==0]\n",
    "c.shape,c1.shape"
   ]
  },
  {
   "cell_type": "code",
   "execution_count": 397,
   "id": "7eb65927",
   "metadata": {},
   "outputs": [
    {
     "data": {
      "text/plain": [
       "((1153, 9), (1153, 9), (1153, 11))"
      ]
     },
     "execution_count": 397,
     "metadata": {},
     "output_type": "execute_result"
    }
   ],
   "source": [
    "mg2_DV2.shape,mg2_DV2f.shape,mg2_DV2r.shape"
   ]
  },
  {
   "cell_type": "code",
   "execution_count": 398,
   "id": "75e9a672",
   "metadata": {},
   "outputs": [
    {
     "data": {
      "text/plain": [
       "(0, 11)"
      ]
     },
     "execution_count": 398,
     "metadata": {},
     "output_type": "execute_result"
    }
   ],
   "source": [
    "c=mg2_DV2r.loc[mg2_DV2r['agge_count']==0]\n",
    "c.shape"
   ]
  },
  {
   "cell_type": "code",
   "execution_count": 399,
   "id": "af3f4a21",
   "metadata": {},
   "outputs": [
    {
     "data": {
      "text/plain": [
       "year              0\n",
       "month             0\n",
       "day               0\n",
       "Leg               0\n",
       "Day of Week       0\n",
       "matched_seg_id    0\n",
       "Lat               0\n",
       "Long              0\n",
       "agge_count        0\n",
       "agge_factor       0\n",
       "Daily_Volume      0\n",
       "dtype: int64"
      ]
     },
     "execution_count": 399,
     "metadata": {},
     "output_type": "execute_result"
    }
   ],
   "source": [
    "mg2_DV2r.isnull().sum()"
   ]
  },
  {
   "cell_type": "code",
   "execution_count": 400,
   "id": "e261be52",
   "metadata": {},
   "outputs": [],
   "source": [
    "# Calculate daily Volume for group 3\n",
    "mg3_DV=pd.merge(m_g3,HOD_weekday_g3, on=['starttime'], how='inner')\n",
    "mg3_DV3=pd.DataFrame({'agge_count' : mg3_DV.groupby(['year','month','day','Leg','Day of Week','matched_seg_id','Lat','Long'])['Count'].sum()}).reset_index()\n",
    "mg3_DV3f=pd.DataFrame({'agge_factor' : mg3_DV.groupby(['year','month','day','Leg','Day of Week','matched_seg_id','Lat','Long'])['Average_Group_HOD_Factor'].sum()}).reset_index()\n",
    "mg3_DV3r=pd.merge(mg3_DV3,mg3_DV3f, on=['year','month','day','Leg','Day of Week','matched_seg_id','Lat','Long'], how='inner')\n",
    "mg3_DV3r['Daily_Volume']=mg3_DV3r['agge_count']/mg3_DV3r['agge_factor']\n",
    "mg3_DV3rf=pd.DataFrame({'TDV' : mg3_DV3r.groupby(['year','Leg','Day of Week','month','matched_seg_id','Lat','Long'])['Daily_Volume'].mean()}).reset_index()"
   ]
  },
  {
   "cell_type": "code",
   "execution_count": 401,
   "id": "ce0ecfb4",
   "metadata": {},
   "outputs": [
    {
     "data": {
      "text/plain": [
       "((108, 67), (0, 9))"
      ]
     },
     "execution_count": 401,
     "metadata": {},
     "output_type": "execute_result"
    }
   ],
   "source": [
    "c=mg3_DV.loc[mg3_DV['Count']==0]\n",
    "c1=mg3_DV3.loc[mg3_DV3['agge_count']==0]\n",
    "c.shape,c1.shape"
   ]
  },
  {
   "cell_type": "code",
   "execution_count": 402,
   "id": "d62bcd2a",
   "metadata": {},
   "outputs": [
    {
     "data": {
      "text/plain": [
       "year              0\n",
       "Leg               0\n",
       "Day of Week       0\n",
       "month             0\n",
       "matched_seg_id    0\n",
       "Lat               0\n",
       "Long              0\n",
       "TDV               0\n",
       "dtype: int64"
      ]
     },
     "execution_count": 402,
     "metadata": {},
     "output_type": "execute_result"
    }
   ],
   "source": [
    "mg3_DV3rf.isnull().sum()"
   ]
  },
  {
   "cell_type": "code",
   "execution_count": 403,
   "id": "80790216",
   "metadata": {},
   "outputs": [],
   "source": [
    "# Apply factor to obtain daily Volume\n",
    "# mg1_DV=pd.merge(m_g1,HOD_weekday_g1, on=['starttime'], how='inner')\n",
    "# mg1_DV['Daily_Volume']=mg1_DV['Count']/mg1_DV['Average_Group_HOD_Factor']\n",
    "# mg1_DV1=pd.DataFrame({'TDV' : mg1_DV.groupby(['ID','year','Leg','Day of Week','month','matched_seg_id','Lat','Long'])['Daily_Volume'].mean()}).reset_index()\n",
    "# mg2_DV=pd.merge(m_g2,HOD_weekday_g2, on=['starttime'], how='inner')\n",
    "# mg2_DV['Daily_Volume']=mg2_DV['Count']/mg2_DV['Average_Group_HOD_Factor']\n",
    "# mg2_DV2=pd.DataFrame({'TDV' : mg2_DV.groupby(['ID','year','Leg','Day of Week','month','matched_seg_id','Lat','Long'])['Daily_Volume'].mean()}).reset_index()\n",
    "# mg3_DV=pd.merge(m_g3,HOD_weekday_g3, on=['starttime'], how='inner')\n",
    "# mg3_DV['Daily_Volume']=mg3_DV['Count']/mg3_DV['Average_Group_HOD_Factor']\n",
    "# mg3_DV3=pd.DataFrame({'TDV' : mg3_DV.groupby(['ID','year','Leg','Day of Week','month','matched_seg_id','Lat','Long'])['Daily_Volume'].mean()}).reset_index()\n",
    "# mg3_DV3.head()"
   ]
  },
  {
   "cell_type": "code",
   "execution_count": 404,
   "id": "63639058",
   "metadata": {},
   "outputs": [
    {
     "data": {
      "text/plain": [
       "((250, 8), (250, 11))"
      ]
     },
     "execution_count": 404,
     "metadata": {},
     "output_type": "execute_result"
    }
   ],
   "source": [
    "mg1_DV1rf.shape, mg1_DV1r.shape"
   ]
  },
  {
   "cell_type": "code",
   "execution_count": 405,
   "id": "2fc41b90",
   "metadata": {},
   "outputs": [
    {
     "data": {
      "text/plain": [
       "(3193, 9)"
      ]
     },
     "execution_count": 405,
     "metadata": {},
     "output_type": "execute_result"
    }
   ],
   "source": [
    "# combine these three group of estimated daily volume together\n",
    "DV_part2=pd.concat([mg1_DV1rf,mg2_DV2rf,mg3_DV3rf],axis=0).reset_index()\n",
    "DV_part2.shape"
   ]
  },
  {
   "cell_type": "code",
   "execution_count": 406,
   "id": "3fdd2074",
   "metadata": {},
   "outputs": [
    {
     "data": {
      "text/plain": [
       "index             0\n",
       "year              0\n",
       "Leg               0\n",
       "Day of Week       0\n",
       "month             0\n",
       "matched_seg_id    0\n",
       "Lat               0\n",
       "Long              0\n",
       "TDV               0\n",
       "dtype: int64"
      ]
     },
     "execution_count": 406,
     "metadata": {},
     "output_type": "execute_result"
    }
   ],
   "source": [
    "DV_part2.isnull().sum()"
   ]
  },
  {
   "cell_type": "code",
   "execution_count": 407,
   "id": "3da3c75c",
   "metadata": {},
   "outputs": [
    {
     "data": {
      "text/html": [
       "<div>\n",
       "<style scoped>\n",
       "    .dataframe tbody tr th:only-of-type {\n",
       "        vertical-align: middle;\n",
       "    }\n",
       "\n",
       "    .dataframe tbody tr th {\n",
       "        vertical-align: top;\n",
       "    }\n",
       "\n",
       "    .dataframe thead th {\n",
       "        text-align: right;\n",
       "    }\n",
       "</style>\n",
       "<table border=\"1\" class=\"dataframe\">\n",
       "  <thead>\n",
       "    <tr style=\"text-align: right;\">\n",
       "      <th></th>\n",
       "      <th>index</th>\n",
       "      <th>year</th>\n",
       "      <th>Leg</th>\n",
       "      <th>Day of Week</th>\n",
       "      <th>month</th>\n",
       "      <th>matched_seg_id</th>\n",
       "      <th>Lat</th>\n",
       "      <th>Long</th>\n",
       "      <th>TDV</th>\n",
       "    </tr>\n",
       "  </thead>\n",
       "  <tbody>\n",
       "    <tr>\n",
       "      <th>0</th>\n",
       "      <td>0</td>\n",
       "      <td>2014</td>\n",
       "      <td>E</td>\n",
       "      <td>Thursday</td>\n",
       "      <td>7</td>\n",
       "      <td>108466</td>\n",
       "      <td>35.196107</td>\n",
       "      <td>-120.700363</td>\n",
       "      <td>41.410369</td>\n",
       "    </tr>\n",
       "    <tr>\n",
       "      <th>1</th>\n",
       "      <td>1</td>\n",
       "      <td>2014</td>\n",
       "      <td>E</td>\n",
       "      <td>Thursday</td>\n",
       "      <td>7</td>\n",
       "      <td>108831</td>\n",
       "      <td>35.195876</td>\n",
       "      <td>-120.697624</td>\n",
       "      <td>61.792726</td>\n",
       "    </tr>\n",
       "    <tr>\n",
       "      <th>2</th>\n",
       "      <td>2</td>\n",
       "      <td>2014</td>\n",
       "      <td>E</td>\n",
       "      <td>Thursday</td>\n",
       "      <td>9</td>\n",
       "      <td>107843</td>\n",
       "      <td>35.045348</td>\n",
       "      <td>-120.568661</td>\n",
       "      <td>28.515399</td>\n",
       "    </tr>\n",
       "    <tr>\n",
       "      <th>3</th>\n",
       "      <td>3</td>\n",
       "      <td>2014</td>\n",
       "      <td>E</td>\n",
       "      <td>Thursday</td>\n",
       "      <td>9</td>\n",
       "      <td>109495</td>\n",
       "      <td>35.442174</td>\n",
       "      <td>-120.891010</td>\n",
       "      <td>86.604208</td>\n",
       "    </tr>\n",
       "    <tr>\n",
       "      <th>4</th>\n",
       "      <td>4</td>\n",
       "      <td>2014</td>\n",
       "      <td>E</td>\n",
       "      <td>Thursday</td>\n",
       "      <td>9</td>\n",
       "      <td>109742</td>\n",
       "      <td>35.449183</td>\n",
       "      <td>-120.905062</td>\n",
       "      <td>65.675815</td>\n",
       "    </tr>\n",
       "  </tbody>\n",
       "</table>\n",
       "</div>"
      ],
      "text/plain": [
       "   index  year Leg Day of Week  month  matched_seg_id        Lat        Long  \\\n",
       "0      0  2014   E    Thursday      7          108466  35.196107 -120.700363   \n",
       "1      1  2014   E    Thursday      7          108831  35.195876 -120.697624   \n",
       "2      2  2014   E    Thursday      9          107843  35.045348 -120.568661   \n",
       "3      3  2014   E    Thursday      9          109495  35.442174 -120.891010   \n",
       "4      4  2014   E    Thursday      9          109742  35.449183 -120.905062   \n",
       "\n",
       "         TDV  \n",
       "0  41.410369  \n",
       "1  61.792726  \n",
       "2  28.515399  \n",
       "3  86.604208  \n",
       "4  65.675815  "
      ]
     },
     "execution_count": 407,
     "metadata": {},
     "output_type": "execute_result"
    }
   ],
   "source": [
    "DV_part2.head()"
   ]
  },
  {
   "cell_type": "code",
   "execution_count": 408,
   "id": "af1fdb18",
   "metadata": {},
   "outputs": [
    {
     "data": {
      "text/plain": [
       "<AxesSubplot: >"
      ]
     },
     "execution_count": 408,
     "metadata": {},
     "output_type": "execute_result"
    },
    {
     "data": {
      "image/png": "[encoded data removed]",
      "text/plain": [
       "<Figure size 640x480 with 1 Axes>"
      ]
     },
     "metadata": {},
     "output_type": "display_data"
    }
   ],
   "source": [
    "DV_part2['TDV'].plot()"
   ]
  },
  {
   "cell_type": "code",
   "execution_count": 409,
   "id": "071a5caf",
   "metadata": {},
   "outputs": [
    {
     "data": {
      "text/plain": [
       "(3798, 9)"
      ]
     },
     "execution_count": 409,
     "metadata": {},
     "output_type": "execute_result"
    }
   ],
   "source": [
    "# Combine all Estimated weekday Daily Volume\n",
    "Weekday_DV=pd.concat([DV_part1,DV_part2],axis=0)\n",
    "Weekday_DV.shape"
   ]
  },
  {
   "cell_type": "markdown",
   "id": "4cf2b274",
   "metadata": {},
   "source": [
    "# Now Estimate weekend Daily Volume"
   ]
  },
  {
   "cell_type": "code",
   "execution_count": 410,
   "id": "b714e804",
   "metadata": {},
   "outputs": [
    {
     "data": {
      "text/html": [
       "<div>\n",
       "<style scoped>\n",
       "    .dataframe tbody tr th:only-of-type {\n",
       "        vertical-align: middle;\n",
       "    }\n",
       "\n",
       "    .dataframe tbody tr th {\n",
       "        vertical-align: top;\n",
       "    }\n",
       "\n",
       "    .dataframe thead th {\n",
       "        text-align: right;\n",
       "    }\n",
       "</style>\n",
       "<table border=\"1\" class=\"dataframe\">\n",
       "  <thead>\n",
       "    <tr style=\"text-align: right;\">\n",
       "      <th></th>\n",
       "      <th>Unnamed: 0.2</th>\n",
       "      <th>matched_seg_id</th>\n",
       "      <th>Leg</th>\n",
       "      <th>year</th>\n",
       "      <th>...1</th>\n",
       "      <th>Unnamed: 0.1</th>\n",
       "      <th>Unnamed: 0</th>\n",
       "      <th>ID</th>\n",
       "      <th>Date</th>\n",
       "      <th>Day of Week</th>\n",
       "      <th>...</th>\n",
       "      <th>MAD_flag_threshold</th>\n",
       "      <th>MAD_flag</th>\n",
       "      <th>comb_flag</th>\n",
       "      <th>comb_flag_day_count</th>\n",
       "      <th>comb_flag_day</th>\n",
       "      <th>Mio</th>\n",
       "      <th>ID_y</th>\n",
       "      <th>tdg_id</th>\n",
       "      <th>Lat</th>\n",
       "      <th>Long</th>\n",
       "    </tr>\n",
       "  </thead>\n",
       "  <tbody>\n",
       "    <tr>\n",
       "      <th>2763</th>\n",
       "      <td>1879</td>\n",
       "      <td>110182</td>\n",
       "      <td>S</td>\n",
       "      <td>2014</td>\n",
       "      <td>25956</td>\n",
       "      <td>25956</td>\n",
       "      <td>407</td>\n",
       "      <td>SLO_Co40</td>\n",
       "      <td>2014-09-28</td>\n",
       "      <td>Sunday</td>\n",
       "      <td>...</td>\n",
       "      <td>57.3736</td>\n",
       "      <td>False</td>\n",
       "      <td>False</td>\n",
       "      <td>0</td>\n",
       "      <td>False</td>\n",
       "      <td>0</td>\n",
       "      <td>SLO_Co40</td>\n",
       "      <td>110182.0</td>\n",
       "      <td>35.31227</td>\n",
       "      <td>-120.847924</td>\n",
       "    </tr>\n",
       "    <tr>\n",
       "      <th>2764</th>\n",
       "      <td>1879</td>\n",
       "      <td>110182</td>\n",
       "      <td>S</td>\n",
       "      <td>2014</td>\n",
       "      <td>25956</td>\n",
       "      <td>25956</td>\n",
       "      <td>407</td>\n",
       "      <td>SLO_Co40</td>\n",
       "      <td>2014-09-28</td>\n",
       "      <td>Sunday</td>\n",
       "      <td>...</td>\n",
       "      <td>57.3736</td>\n",
       "      <td>False</td>\n",
       "      <td>False</td>\n",
       "      <td>0</td>\n",
       "      <td>False</td>\n",
       "      <td>0</td>\n",
       "      <td>SLO_Co39</td>\n",
       "      <td>110182.0</td>\n",
       "      <td>35.31227</td>\n",
       "      <td>-120.847924</td>\n",
       "    </tr>\n",
       "    <tr>\n",
       "      <th>2765</th>\n",
       "      <td>1880</td>\n",
       "      <td>110182</td>\n",
       "      <td>S</td>\n",
       "      <td>2014</td>\n",
       "      <td>25958</td>\n",
       "      <td>25958</td>\n",
       "      <td>409</td>\n",
       "      <td>SLO_Co40</td>\n",
       "      <td>2014-09-28</td>\n",
       "      <td>Sunday</td>\n",
       "      <td>...</td>\n",
       "      <td>57.3736</td>\n",
       "      <td>False</td>\n",
       "      <td>False</td>\n",
       "      <td>0</td>\n",
       "      <td>False</td>\n",
       "      <td>0</td>\n",
       "      <td>SLO_Co40</td>\n",
       "      <td>110182.0</td>\n",
       "      <td>35.31227</td>\n",
       "      <td>-120.847924</td>\n",
       "    </tr>\n",
       "    <tr>\n",
       "      <th>2766</th>\n",
       "      <td>1880</td>\n",
       "      <td>110182</td>\n",
       "      <td>S</td>\n",
       "      <td>2014</td>\n",
       "      <td>25958</td>\n",
       "      <td>25958</td>\n",
       "      <td>409</td>\n",
       "      <td>SLO_Co40</td>\n",
       "      <td>2014-09-28</td>\n",
       "      <td>Sunday</td>\n",
       "      <td>...</td>\n",
       "      <td>57.3736</td>\n",
       "      <td>False</td>\n",
       "      <td>False</td>\n",
       "      <td>0</td>\n",
       "      <td>False</td>\n",
       "      <td>0</td>\n",
       "      <td>SLO_Co39</td>\n",
       "      <td>110182.0</td>\n",
       "      <td>35.31227</td>\n",
       "      <td>-120.847924</td>\n",
       "    </tr>\n",
       "    <tr>\n",
       "      <th>2767</th>\n",
       "      <td>1881</td>\n",
       "      <td>110182</td>\n",
       "      <td>S</td>\n",
       "      <td>2014</td>\n",
       "      <td>25957</td>\n",
       "      <td>25957</td>\n",
       "      <td>408</td>\n",
       "      <td>SLO_Co40</td>\n",
       "      <td>2014-09-28</td>\n",
       "      <td>Sunday</td>\n",
       "      <td>...</td>\n",
       "      <td>57.3736</td>\n",
       "      <td>False</td>\n",
       "      <td>False</td>\n",
       "      <td>0</td>\n",
       "      <td>False</td>\n",
       "      <td>0</td>\n",
       "      <td>SLO_Co40</td>\n",
       "      <td>110182.0</td>\n",
       "      <td>35.31227</td>\n",
       "      <td>-120.847924</td>\n",
       "    </tr>\n",
       "  </tbody>\n",
       "</table>\n",
       "<p>5 rows × 47 columns</p>\n",
       "</div>"
      ],
      "text/plain": [
       "      Unnamed: 0.2  matched_seg_id Leg  year   ...1  Unnamed: 0.1  Unnamed: 0  \\\n",
       "2763          1879          110182   S  2014  25956         25956         407   \n",
       "2764          1879          110182   S  2014  25956         25956         407   \n",
       "2765          1880          110182   S  2014  25958         25958         409   \n",
       "2766          1880          110182   S  2014  25958         25958         409   \n",
       "2767          1881          110182   S  2014  25957         25957         408   \n",
       "\n",
       "            ID        Date Day of Week  ... MAD_flag_threshold MAD_flag  \\\n",
       "2763  SLO_Co40  2014-09-28      Sunday  ...            57.3736    False   \n",
       "2764  SLO_Co40  2014-09-28      Sunday  ...            57.3736    False   \n",
       "2765  SLO_Co40  2014-09-28      Sunday  ...            57.3736    False   \n",
       "2766  SLO_Co40  2014-09-28      Sunday  ...            57.3736    False   \n",
       "2767  SLO_Co40  2014-09-28      Sunday  ...            57.3736    False   \n",
       "\n",
       "      comb_flag comb_flag_day_count  comb_flag_day  Mio      ID_y    tdg_id  \\\n",
       "2763      False                   0          False    0  SLO_Co40  110182.0   \n",
       "2764      False                   0          False    0  SLO_Co39  110182.0   \n",
       "2765      False                   0          False    0  SLO_Co40  110182.0   \n",
       "2766      False                   0          False    0  SLO_Co39  110182.0   \n",
       "2767      False                   0          False    0  SLO_Co40  110182.0   \n",
       "\n",
       "           Lat        Long  \n",
       "2763  35.31227 -120.847924  \n",
       "2764  35.31227 -120.847924  \n",
       "2765  35.31227 -120.847924  \n",
       "2766  35.31227 -120.847924  \n",
       "2767  35.31227 -120.847924  \n",
       "\n",
       "[5 rows x 47 columns]"
      ]
     },
     "execution_count": 410,
     "metadata": {},
     "output_type": "execute_result"
    }
   ],
   "source": [
    "weekend_hr_data.head()"
   ]
  },
  {
   "cell_type": "code",
   "execution_count": 411,
   "id": "8de881ff",
   "metadata": {},
   "outputs": [
    {
     "data": {
      "text/plain": [
       "0"
      ]
     },
     "execution_count": 411,
     "metadata": {},
     "output_type": "execute_result"
    }
   ],
   "source": [
    "weekend_hr_data['Count'].min()"
   ]
  },
  {
   "cell_type": "code",
   "execution_count": 412,
   "id": "27e0ddb5",
   "metadata": {},
   "outputs": [
    {
     "data": {
      "text/html": [
       "<div>\n",
       "<style scoped>\n",
       "    .dataframe tbody tr th:only-of-type {\n",
       "        vertical-align: middle;\n",
       "    }\n",
       "\n",
       "    .dataframe tbody tr th {\n",
       "        vertical-align: top;\n",
       "    }\n",
       "\n",
       "    .dataframe thead th {\n",
       "        text-align: right;\n",
       "    }\n",
       "</style>\n",
       "<table border=\"1\" class=\"dataframe\">\n",
       "  <thead>\n",
       "    <tr style=\"text-align: right;\">\n",
       "      <th></th>\n",
       "      <th>tdg_id</th>\n",
       "      <th>year</th>\n",
       "      <th>Unnamed: 0</th>\n",
       "      <th>ID</th>\n",
       "      <th>edgeUID</th>\n",
       "      <th>osmId</th>\n",
       "      <th>stv_total</th>\n",
       "      <th>stv_com_total</th>\n",
       "      <th>stv_rec_total</th>\n",
       "      <th>stv_com_ratio</th>\n",
       "      <th>stv_rec_ratio</th>\n",
       "      <th>geometry</th>\n",
       "      <th>popden</th>\n",
       "    </tr>\n",
       "  </thead>\n",
       "  <tbody>\n",
       "    <tr>\n",
       "      <th>0</th>\n",
       "      <td>60313.0</td>\n",
       "      <td>2014.0</td>\n",
       "      <td>0</td>\n",
       "      <td>Eric_Fischer1089</td>\n",
       "      <td>307766980.0</td>\n",
       "      <td>47895363.0</td>\n",
       "      <td>3905.0</td>\n",
       "      <td>865.0</td>\n",
       "      <td>3040.0</td>\n",
       "      <td>NaN</td>\n",
       "      <td>0.778489</td>\n",
       "      <td>POINT (156080.152 -437837.271)</td>\n",
       "      <td>31855.628241</td>\n",
       "    </tr>\n",
       "    <tr>\n",
       "      <th>1</th>\n",
       "      <td>60316.0</td>\n",
       "      <td>2014.0</td>\n",
       "      <td>1</td>\n",
       "      <td>Eric_Fischer1089</td>\n",
       "      <td>307766746.0</td>\n",
       "      <td>398048051.0</td>\n",
       "      <td>4970.0</td>\n",
       "      <td>1885.0</td>\n",
       "      <td>3085.0</td>\n",
       "      <td>NaN</td>\n",
       "      <td>0.620724</td>\n",
       "      <td>POINT (156140.360 -437929.311)</td>\n",
       "      <td>32550.878297</td>\n",
       "    </tr>\n",
       "  </tbody>\n",
       "</table>\n",
       "</div>"
      ],
      "text/plain": [
       "    tdg_id    year  Unnamed: 0                ID      edgeUID        osmId  \\\n",
       "0  60313.0  2014.0           0  Eric_Fischer1089  307766980.0   47895363.0   \n",
       "1  60316.0  2014.0           1  Eric_Fischer1089  307766746.0  398048051.0   \n",
       "\n",
       "   stv_total  stv_com_total  stv_rec_total  stv_com_ratio  stv_rec_ratio  \\\n",
       "0     3905.0          865.0         3040.0            NaN       0.778489   \n",
       "1     4970.0         1885.0         3085.0            NaN       0.620724   \n",
       "\n",
       "                         geometry        popden  \n",
       "0  POINT (156080.152 -437837.271)  31855.628241  \n",
       "1  POINT (156140.360 -437929.311)  32550.878297  "
      ]
     },
     "execution_count": 412,
     "metadata": {},
     "output_type": "execute_result"
    }
   ],
   "source": [
    "count_sites=count_sites.drop(['Leg','Lat','Long'],axis=1)\n",
    "count_sites.head(2)"
   ]
  },
  {
   "cell_type": "code",
   "execution_count": 413,
   "id": "741c3359",
   "metadata": {},
   "outputs": [
    {
     "data": {
      "text/plain": [
       "((3464, 47), (5704, 13))"
      ]
     },
     "execution_count": 413,
     "metadata": {},
     "output_type": "execute_result"
    }
   ],
   "source": [
    "weekend_hr_data.shape, count_sites.shape"
   ]
  },
  {
   "cell_type": "code",
   "execution_count": 414,
   "id": "19879364",
   "metadata": {},
   "outputs": [
    {
     "data": {
      "text/plain": [
       "(12116, 58)"
      ]
     },
     "execution_count": 414,
     "metadata": {},
     "output_type": "execute_result"
    }
   ],
   "source": [
    "weekend_hr_data1=pd.merge(weekend_hr_data,count_sites,on=['tdg_id','year'], how='inner')\n",
    "weekend_hr_data1.shape"
   ]
  },
  {
   "cell_type": "code",
   "execution_count": 415,
   "id": "d9d76a5b",
   "metadata": {},
   "outputs": [
    {
     "data": {
      "text/html": [
       "<div>\n",
       "<style scoped>\n",
       "    .dataframe tbody tr th:only-of-type {\n",
       "        vertical-align: middle;\n",
       "    }\n",
       "\n",
       "    .dataframe tbody tr th {\n",
       "        vertical-align: top;\n",
       "    }\n",
       "\n",
       "    .dataframe thead th {\n",
       "        text-align: right;\n",
       "    }\n",
       "</style>\n",
       "<table border=\"1\" class=\"dataframe\">\n",
       "  <thead>\n",
       "    <tr style=\"text-align: right;\">\n",
       "      <th></th>\n",
       "      <th>Unnamed: 0.2</th>\n",
       "      <th>matched_seg_id</th>\n",
       "      <th>Leg</th>\n",
       "      <th>year</th>\n",
       "      <th>...1</th>\n",
       "      <th>Unnamed: 0.1</th>\n",
       "      <th>Unnamed: 0_x</th>\n",
       "      <th>ID_x</th>\n",
       "      <th>Date</th>\n",
       "      <th>Day of Week</th>\n",
       "      <th>...</th>\n",
       "      <th>ID_y</th>\n",
       "      <th>edgeUID</th>\n",
       "      <th>osmId</th>\n",
       "      <th>stv_total</th>\n",
       "      <th>stv_com_total</th>\n",
       "      <th>stv_rec_total</th>\n",
       "      <th>stv_com_ratio</th>\n",
       "      <th>stv_rec_ratio</th>\n",
       "      <th>geometry</th>\n",
       "      <th>popden</th>\n",
       "    </tr>\n",
       "  </thead>\n",
       "  <tbody>\n",
       "    <tr>\n",
       "      <th>0</th>\n",
       "      <td>1879</td>\n",
       "      <td>110182</td>\n",
       "      <td>S</td>\n",
       "      <td>2014</td>\n",
       "      <td>25956</td>\n",
       "      <td>25956</td>\n",
       "      <td>407</td>\n",
       "      <td>SLO_Co40</td>\n",
       "      <td>2014-09-28</td>\n",
       "      <td>Sunday</td>\n",
       "      <td>...</td>\n",
       "      <td>SLO_Co40</td>\n",
       "      <td>308301630.0</td>\n",
       "      <td>10560400.0</td>\n",
       "      <td>645.0</td>\n",
       "      <td>10.0</td>\n",
       "      <td>635.0</td>\n",
       "      <td>NaN</td>\n",
       "      <td>0.984496</td>\n",
       "      <td>POINT (-77031.423 -300167.826)</td>\n",
       "      <td>2007.191301</td>\n",
       "    </tr>\n",
       "    <tr>\n",
       "      <th>1</th>\n",
       "      <td>1879</td>\n",
       "      <td>110182</td>\n",
       "      <td>S</td>\n",
       "      <td>2014</td>\n",
       "      <td>25956</td>\n",
       "      <td>25956</td>\n",
       "      <td>407</td>\n",
       "      <td>SLO_Co40</td>\n",
       "      <td>2014-09-28</td>\n",
       "      <td>Sunday</td>\n",
       "      <td>...</td>\n",
       "      <td>SLO_Co40</td>\n",
       "      <td>308301630.0</td>\n",
       "      <td>10560400.0</td>\n",
       "      <td>645.0</td>\n",
       "      <td>10.0</td>\n",
       "      <td>635.0</td>\n",
       "      <td>NaN</td>\n",
       "      <td>0.984496</td>\n",
       "      <td>POINT (-77031.423 -300167.826)</td>\n",
       "      <td>2007.191301</td>\n",
       "    </tr>\n",
       "    <tr>\n",
       "      <th>2</th>\n",
       "      <td>1880</td>\n",
       "      <td>110182</td>\n",
       "      <td>S</td>\n",
       "      <td>2014</td>\n",
       "      <td>25958</td>\n",
       "      <td>25958</td>\n",
       "      <td>409</td>\n",
       "      <td>SLO_Co40</td>\n",
       "      <td>2014-09-28</td>\n",
       "      <td>Sunday</td>\n",
       "      <td>...</td>\n",
       "      <td>SLO_Co40</td>\n",
       "      <td>308301630.0</td>\n",
       "      <td>10560400.0</td>\n",
       "      <td>645.0</td>\n",
       "      <td>10.0</td>\n",
       "      <td>635.0</td>\n",
       "      <td>NaN</td>\n",
       "      <td>0.984496</td>\n",
       "      <td>POINT (-77031.423 -300167.826)</td>\n",
       "      <td>2007.191301</td>\n",
       "    </tr>\n",
       "    <tr>\n",
       "      <th>3</th>\n",
       "      <td>1880</td>\n",
       "      <td>110182</td>\n",
       "      <td>S</td>\n",
       "      <td>2014</td>\n",
       "      <td>25958</td>\n",
       "      <td>25958</td>\n",
       "      <td>409</td>\n",
       "      <td>SLO_Co40</td>\n",
       "      <td>2014-09-28</td>\n",
       "      <td>Sunday</td>\n",
       "      <td>...</td>\n",
       "      <td>SLO_Co40</td>\n",
       "      <td>308301630.0</td>\n",
       "      <td>10560400.0</td>\n",
       "      <td>645.0</td>\n",
       "      <td>10.0</td>\n",
       "      <td>635.0</td>\n",
       "      <td>NaN</td>\n",
       "      <td>0.984496</td>\n",
       "      <td>POINT (-77031.423 -300167.826)</td>\n",
       "      <td>2007.191301</td>\n",
       "    </tr>\n",
       "    <tr>\n",
       "      <th>4</th>\n",
       "      <td>1881</td>\n",
       "      <td>110182</td>\n",
       "      <td>S</td>\n",
       "      <td>2014</td>\n",
       "      <td>25957</td>\n",
       "      <td>25957</td>\n",
       "      <td>408</td>\n",
       "      <td>SLO_Co40</td>\n",
       "      <td>2014-09-28</td>\n",
       "      <td>Sunday</td>\n",
       "      <td>...</td>\n",
       "      <td>SLO_Co40</td>\n",
       "      <td>308301630.0</td>\n",
       "      <td>10560400.0</td>\n",
       "      <td>645.0</td>\n",
       "      <td>10.0</td>\n",
       "      <td>635.0</td>\n",
       "      <td>NaN</td>\n",
       "      <td>0.984496</td>\n",
       "      <td>POINT (-77031.423 -300167.826)</td>\n",
       "      <td>2007.191301</td>\n",
       "    </tr>\n",
       "  </tbody>\n",
       "</table>\n",
       "<p>5 rows × 58 columns</p>\n",
       "</div>"
      ],
      "text/plain": [
       "   Unnamed: 0.2  matched_seg_id Leg  year   ...1  Unnamed: 0.1  Unnamed: 0_x  \\\n",
       "0          1879          110182   S  2014  25956         25956           407   \n",
       "1          1879          110182   S  2014  25956         25956           407   \n",
       "2          1880          110182   S  2014  25958         25958           409   \n",
       "3          1880          110182   S  2014  25958         25958           409   \n",
       "4          1881          110182   S  2014  25957         25957           408   \n",
       "\n",
       "       ID_x        Date Day of Week  ...      ID_y      edgeUID       osmId  \\\n",
       "0  SLO_Co40  2014-09-28      Sunday  ...  SLO_Co40  308301630.0  10560400.0   \n",
       "1  SLO_Co40  2014-09-28      Sunday  ...  SLO_Co40  308301630.0  10560400.0   \n",
       "2  SLO_Co40  2014-09-28      Sunday  ...  SLO_Co40  308301630.0  10560400.0   \n",
       "3  SLO_Co40  2014-09-28      Sunday  ...  SLO_Co40  308301630.0  10560400.0   \n",
       "4  SLO_Co40  2014-09-28      Sunday  ...  SLO_Co40  308301630.0  10560400.0   \n",
       "\n",
       "  stv_total  stv_com_total  stv_rec_total  stv_com_ratio  stv_rec_ratio  \\\n",
       "0     645.0           10.0          635.0            NaN       0.984496   \n",
       "1     645.0           10.0          635.0            NaN       0.984496   \n",
       "2     645.0           10.0          635.0            NaN       0.984496   \n",
       "3     645.0           10.0          635.0            NaN       0.984496   \n",
       "4     645.0           10.0          635.0            NaN       0.984496   \n",
       "\n",
       "                         geometry       popden  \n",
       "0  POINT (-77031.423 -300167.826)  2007.191301  \n",
       "1  POINT (-77031.423 -300167.826)  2007.191301  \n",
       "2  POINT (-77031.423 -300167.826)  2007.191301  \n",
       "3  POINT (-77031.423 -300167.826)  2007.191301  \n",
       "4  POINT (-77031.423 -300167.826)  2007.191301  \n",
       "\n",
       "[5 rows x 58 columns]"
      ]
     },
     "execution_count": 415,
     "metadata": {},
     "output_type": "execute_result"
    }
   ],
   "source": [
    "weekend_hr_data1.head()"
   ]
  },
  {
   "cell_type": "code",
   "execution_count": 416,
   "id": "ebf55b91",
   "metadata": {},
   "outputs": [
    {
     "data": {
      "text/plain": [
       "Index(['Unnamed: 0.2', 'matched_seg_id', 'Leg', 'year', '...1', 'Unnamed: 0.1',\n",
       "       'Unnamed: 0_x', 'ID_x', 'Date', 'Day of Week', 'Start Time', 'End Time',\n",
       "       'Count', 'date', 'month', 'day', 'dayofweek', 'weekday_Status',\n",
       "       'Week Day Status', 'starttime', 'endtime', 'starttime1', 'endtime1',\n",
       "       'startDateTime', 'endDateTime', 'diff', 'hour', 'Total_hour',\n",
       "       'csum_counts', 'csum_hours', 'consec_flag', 'consec_flag1', 'season',\n",
       "       'max_flag', 'night_flag', 'counts', '(hour >= 6 & hour <= 21)',\n",
       "       'MAD_flag_threshold', 'MAD_flag', 'comb_flag', 'comb_flag_day_count',\n",
       "       'comb_flag_day', 'Mio', 'ID_y', 'tdg_id', 'Lat', 'Long', 'Unnamed: 0_y',\n",
       "       'ID_y', 'edgeUID', 'osmId', 'stv_total', 'stv_com_total',\n",
       "       'stv_rec_total', 'stv_com_ratio', 'stv_rec_ratio', 'geometry',\n",
       "       'popden'],\n",
       "      dtype='object')"
      ]
     },
     "execution_count": 416,
     "metadata": {},
     "output_type": "execute_result"
    }
   ],
   "source": [
    "weekend_hr_data1.columns"
   ]
  },
  {
   "cell_type": "code",
   "execution_count": 417,
   "id": "a341cdf4",
   "metadata": {},
   "outputs": [
    {
     "data": {
      "text/plain": [
       "0"
      ]
     },
     "execution_count": 417,
     "metadata": {},
     "output_type": "execute_result"
    }
   ],
   "source": [
    "weekend_hr_data1['starttime'].isnull().sum()"
   ]
  },
  {
   "cell_type": "code",
   "execution_count": 418,
   "id": "52908d89",
   "metadata": {},
   "outputs": [
    {
     "data": {
      "text/plain": [
       "(267, 267)"
      ]
     },
     "execution_count": 418,
     "metadata": {},
     "output_type": "execute_result"
    }
   ],
   "source": [
    "weekend_hr_data['tdg_id'].nunique(),weekend_hr_data1['tdg_id'].nunique()"
   ]
  },
  {
   "cell_type": "code",
   "execution_count": 419,
   "id": "fd037621",
   "metadata": {},
   "outputs": [],
   "source": [
    "# weekend_hr_data1=weekend_hr_data1.rename(columns={\"Leg_x\":'Leg'})\n",
    "# weekend_hr_data1=weekend_hr_data1.rename(columns={\"Lat_x\":'Lat'})\n",
    "# weekend_hr_data11=weekend_hr_data1.rename(columns={\"Long_x\":'Long'})"
   ]
  },
  {
   "cell_type": "code",
   "execution_count": 420,
   "id": "f49c2f01",
   "metadata": {},
   "outputs": [
    {
     "data": {
      "text/html": [
       "<div>\n",
       "<style scoped>\n",
       "    .dataframe tbody tr th:only-of-type {\n",
       "        vertical-align: middle;\n",
       "    }\n",
       "\n",
       "    .dataframe tbody tr th {\n",
       "        vertical-align: top;\n",
       "    }\n",
       "\n",
       "    .dataframe thead th {\n",
       "        text-align: right;\n",
       "    }\n",
       "</style>\n",
       "<table border=\"1\" class=\"dataframe\">\n",
       "  <thead>\n",
       "    <tr style=\"text-align: right;\">\n",
       "      <th></th>\n",
       "      <th>Unnamed: 0.2</th>\n",
       "      <th>matched_seg_id</th>\n",
       "      <th>Leg</th>\n",
       "      <th>year</th>\n",
       "      <th>...1</th>\n",
       "      <th>Unnamed: 0.1</th>\n",
       "      <th>Unnamed: 0_x</th>\n",
       "      <th>ID_x</th>\n",
       "      <th>Date</th>\n",
       "      <th>Day of Week</th>\n",
       "      <th>...</th>\n",
       "      <th>ID_y</th>\n",
       "      <th>edgeUID</th>\n",
       "      <th>osmId</th>\n",
       "      <th>stv_total</th>\n",
       "      <th>stv_com_total</th>\n",
       "      <th>stv_rec_total</th>\n",
       "      <th>stv_com_ratio</th>\n",
       "      <th>stv_rec_ratio</th>\n",
       "      <th>geometry</th>\n",
       "      <th>popden</th>\n",
       "    </tr>\n",
       "  </thead>\n",
       "  <tbody>\n",
       "    <tr>\n",
       "      <th>12114</th>\n",
       "      <td>26519</td>\n",
       "      <td>9231</td>\n",
       "      <td>W</td>\n",
       "      <td>2015</td>\n",
       "      <td>28660</td>\n",
       "      <td>28660</td>\n",
       "      <td>109</td>\n",
       "      <td>Tahoe7</td>\n",
       "      <td>2015-08-29</td>\n",
       "      <td>Saturday</td>\n",
       "      <td>...</td>\n",
       "      <td>Tahoe7</td>\n",
       "      <td>311396853.0</td>\n",
       "      <td>10328169.0</td>\n",
       "      <td>80.0</td>\n",
       "      <td>5.0</td>\n",
       "      <td>75.0</td>\n",
       "      <td>NaN</td>\n",
       "      <td>0.9375</td>\n",
       "      <td>POINT (2684.329 101404.529)</td>\n",
       "      <td>2096.100924</td>\n",
       "    </tr>\n",
       "    <tr>\n",
       "      <th>12115</th>\n",
       "      <td>26520</td>\n",
       "      <td>9231</td>\n",
       "      <td>W</td>\n",
       "      <td>2015</td>\n",
       "      <td>28670</td>\n",
       "      <td>28670</td>\n",
       "      <td>119</td>\n",
       "      <td>Tahoe7</td>\n",
       "      <td>2015-09-26</td>\n",
       "      <td>Saturday</td>\n",
       "      <td>...</td>\n",
       "      <td>Tahoe7</td>\n",
       "      <td>311396853.0</td>\n",
       "      <td>10328169.0</td>\n",
       "      <td>80.0</td>\n",
       "      <td>5.0</td>\n",
       "      <td>75.0</td>\n",
       "      <td>NaN</td>\n",
       "      <td>0.9375</td>\n",
       "      <td>POINT (2684.329 101404.529)</td>\n",
       "      <td>2096.100924</td>\n",
       "    </tr>\n",
       "  </tbody>\n",
       "</table>\n",
       "<p>2 rows × 58 columns</p>\n",
       "</div>"
      ],
      "text/plain": [
       "       Unnamed: 0.2  matched_seg_id Leg  year   ...1  Unnamed: 0.1  \\\n",
       "12114         26519            9231   W  2015  28660         28660   \n",
       "12115         26520            9231   W  2015  28670         28670   \n",
       "\n",
       "       Unnamed: 0_x    ID_x        Date Day of Week  ...    ID_y      edgeUID  \\\n",
       "12114           109  Tahoe7  2015-08-29    Saturday  ...  Tahoe7  311396853.0   \n",
       "12115           119  Tahoe7  2015-09-26    Saturday  ...  Tahoe7  311396853.0   \n",
       "\n",
       "            osmId stv_total  stv_com_total  stv_rec_total  stv_com_ratio  \\\n",
       "12114  10328169.0      80.0            5.0           75.0            NaN   \n",
       "12115  10328169.0      80.0            5.0           75.0            NaN   \n",
       "\n",
       "       stv_rec_ratio                     geometry       popden  \n",
       "12114         0.9375  POINT (2684.329 101404.529)  2096.100924  \n",
       "12115         0.9375  POINT (2684.329 101404.529)  2096.100924  \n",
       "\n",
       "[2 rows x 58 columns]"
      ]
     },
     "execution_count": 420,
     "metadata": {},
     "output_type": "execute_result"
    }
   ],
   "source": [
    "# Split the weekend data by strava recreational threshold to apply factor\n",
    "w_g1=weekend_hr_data1.loc[weekend_hr_data1['stv_rec_ratio']<=0.75]\n",
    "w_g2=weekend_hr_data1.loc[weekend_hr_data1['stv_rec_ratio']>0.75]\n",
    "w_g2.tail(2)"
   ]
  },
  {
   "cell_type": "code",
   "execution_count": 421,
   "id": "b0ab45af",
   "metadata": {},
   "outputs": [
    {
     "data": {
      "text/plain": [
       "0"
      ]
     },
     "execution_count": 421,
     "metadata": {},
     "output_type": "execute_result"
    }
   ],
   "source": [
    "weekend_hr_data1['stv_rec_ratio'].isnull().sum()"
   ]
  },
  {
   "cell_type": "code",
   "execution_count": 422,
   "id": "8c671c28",
   "metadata": {},
   "outputs": [
    {
     "data": {
      "text/plain": [
       "((793, 58), (11323, 58), (12116, 58))"
      ]
     },
     "execution_count": 422,
     "metadata": {},
     "output_type": "execute_result"
    }
   ],
   "source": [
    "w_g1.shape,w_g2.shape, weekend_hr_data1.shape"
   ]
  },
  {
   "cell_type": "code",
   "execution_count": 423,
   "id": "cc8a0b38",
   "metadata": {},
   "outputs": [
    {
     "data": {
      "text/html": [
       "<div>\n",
       "<style scoped>\n",
       "    .dataframe tbody tr th:only-of-type {\n",
       "        vertical-align: middle;\n",
       "    }\n",
       "\n",
       "    .dataframe tbody tr th {\n",
       "        vertical-align: top;\n",
       "    }\n",
       "\n",
       "    .dataframe thead th {\n",
       "        text-align: right;\n",
       "    }\n",
       "</style>\n",
       "<table border=\"1\" class=\"dataframe\">\n",
       "  <thead>\n",
       "    <tr style=\"text-align: right;\">\n",
       "      <th></th>\n",
       "      <th>Unnamed: 0</th>\n",
       "      <th>starttime</th>\n",
       "      <th>Average_Group_HOD_Factor</th>\n",
       "      <th>Criteria</th>\n",
       "      <th>day_of_status</th>\n",
       "    </tr>\n",
       "  </thead>\n",
       "  <tbody>\n",
       "    <tr>\n",
       "      <th>72</th>\n",
       "      <td>0</td>\n",
       "      <td>00:00:00</td>\n",
       "      <td>0.012375</td>\n",
       "      <td>Average_stv_rec_ratio&lt;=0.75</td>\n",
       "      <td>weekend</td>\n",
       "    </tr>\n",
       "    <tr>\n",
       "      <th>73</th>\n",
       "      <td>1</td>\n",
       "      <td>01:00:00</td>\n",
       "      <td>0.007436</td>\n",
       "      <td>Average_stv_rec_ratio&lt;=0.75</td>\n",
       "      <td>weekend</td>\n",
       "    </tr>\n",
       "    <tr>\n",
       "      <th>74</th>\n",
       "      <td>2</td>\n",
       "      <td>02:00:00</td>\n",
       "      <td>0.005741</td>\n",
       "      <td>Average_stv_rec_ratio&lt;=0.75</td>\n",
       "      <td>weekend</td>\n",
       "    </tr>\n",
       "    <tr>\n",
       "      <th>75</th>\n",
       "      <td>3</td>\n",
       "      <td>03:00:00</td>\n",
       "      <td>0.004020</td>\n",
       "      <td>Average_stv_rec_ratio&lt;=0.75</td>\n",
       "      <td>weekend</td>\n",
       "    </tr>\n",
       "    <tr>\n",
       "      <th>76</th>\n",
       "      <td>4</td>\n",
       "      <td>04:00:00</td>\n",
       "      <td>0.003764</td>\n",
       "      <td>Average_stv_rec_ratio&lt;=0.75</td>\n",
       "      <td>weekend</td>\n",
       "    </tr>\n",
       "  </tbody>\n",
       "</table>\n",
       "</div>"
      ],
      "text/plain": [
       "    Unnamed: 0 starttime  Average_Group_HOD_Factor  \\\n",
       "72           0  00:00:00                  0.012375   \n",
       "73           1  01:00:00                  0.007436   \n",
       "74           2  02:00:00                  0.005741   \n",
       "75           3  03:00:00                  0.004020   \n",
       "76           4  04:00:00                  0.003764   \n",
       "\n",
       "                       Criteria day_of_status  \n",
       "72  Average_stv_rec_ratio<=0.75       weekend  \n",
       "73  Average_stv_rec_ratio<=0.75       weekend  \n",
       "74  Average_stv_rec_ratio<=0.75       weekend  \n",
       "75  Average_stv_rec_ratio<=0.75       weekend  \n",
       "76  Average_stv_rec_ratio<=0.75       weekend  "
      ]
     },
     "execution_count": 423,
     "metadata": {},
     "output_type": "execute_result"
    }
   ],
   "source": [
    "# Split the factor by criteria\n",
    "HOD_weekend=HOD.loc[HOD['day_of_status']=='weekend']\n",
    "HOD_weekend_g1=HOD_weekend.loc[HOD_weekend['Criteria']=='Average_stv_rec_ratio<=0.75']\n",
    "HOD_weekend_g2=HOD_weekend.loc[HOD_weekend['Criteria']=='Average_stv_rec_ratio>0.75']\n",
    "HOD_weekend_g1.head()"
   ]
  },
  {
   "cell_type": "code",
   "execution_count": 424,
   "id": "f65d3773",
   "metadata": {},
   "outputs": [
    {
     "data": {
      "text/plain": [
       "Index(['Unnamed: 0.2', 'matched_seg_id', 'Leg', 'year', '...1', 'Unnamed: 0.1',\n",
       "       'Unnamed: 0_x', 'ID_x', 'Date', 'Day of Week', 'Start Time', 'End Time',\n",
       "       'Count', 'date', 'month', 'day', 'dayofweek', 'weekday_Status',\n",
       "       'Week Day Status', 'starttime', 'endtime', 'starttime1', 'endtime1',\n",
       "       'startDateTime', 'endDateTime', 'diff', 'hour', 'Total_hour',\n",
       "       'csum_counts', 'csum_hours', 'consec_flag', 'consec_flag1', 'season',\n",
       "       'max_flag', 'night_flag', 'counts', '(hour >= 6 & hour <= 21)',\n",
       "       'MAD_flag_threshold', 'MAD_flag', 'comb_flag', 'comb_flag_day_count',\n",
       "       'comb_flag_day', 'Mio', 'ID_y', 'tdg_id', 'Lat', 'Long', 'Unnamed: 0_y',\n",
       "       'ID_y', 'edgeUID', 'osmId', 'stv_total', 'stv_com_total',\n",
       "       'stv_rec_total', 'stv_com_ratio', 'stv_rec_ratio', 'geometry',\n",
       "       'popden'],\n",
       "      dtype='object')"
      ]
     },
     "execution_count": 424,
     "metadata": {},
     "output_type": "execute_result"
    }
   ],
   "source": [
    "weekend_hr_data1.columns"
   ]
  },
  {
   "cell_type": "code",
   "execution_count": 425,
   "id": "e0057d5e",
   "metadata": {},
   "outputs": [],
   "source": [
    "# Calculate daily Volume for group 1\n",
    "wg1_DV=pd.merge(w_g1,HOD_weekend_g1, on=['starttime'], how='inner')\n",
    "wg1_DV1=pd.DataFrame({'agge_count' : wg1_DV.groupby(['year','month','day','Leg','Day of Week','matched_seg_id','Lat','Long'])['Count'].sum()}).reset_index()\n",
    "wg1_DV1f=pd.DataFrame({'agge_factor' : wg1_DV.groupby(['year','month','day','Leg','Day of Week','matched_seg_id','Lat','Long'])['Average_Group_HOD_Factor'].sum()}).reset_index()\n",
    "wg1_DV1r=pd.merge(wg1_DV1,wg1_DV1f, on=['year','month','day','Leg','Day of Week','matched_seg_id','Lat','Long'], how='inner')\n",
    "wg1_DV1r['Daily_Volume']=wg1_DV1r['agge_count']/wg1_DV1r['agge_factor']\n",
    "wg1_DV1rf=pd.DataFrame({'TDV' : wg1_DV1r.groupby(['year','Leg','Day of Week','month','matched_seg_id','Lat','Long'])['Daily_Volume'].mean()}).reset_index()"
   ]
  },
  {
   "cell_type": "code",
   "execution_count": 426,
   "id": "100b88ce",
   "metadata": {},
   "outputs": [
    {
     "data": {
      "text/plain": [
       "((1, 62), (0, 9))"
      ]
     },
     "execution_count": 426,
     "metadata": {},
     "output_type": "execute_result"
    }
   ],
   "source": [
    "c=wg1_DV.loc[wg1_DV['Count']==0]\n",
    "c1=wg1_DV1.loc[wg1_DV1['agge_count']==0]\n",
    "c.shape,c1.shape"
   ]
  },
  {
   "cell_type": "code",
   "execution_count": 427,
   "id": "5445e847",
   "metadata": {},
   "outputs": [],
   "source": [
    "# Calculate daily Volume for group 1\n",
    "wg2_DV=pd.merge(w_g2,HOD_weekend_g2, on=['starttime'], how='inner')\n",
    "wg2_DV2=pd.DataFrame({'agge_count' : wg2_DV.groupby(['year','month','day','Leg','Day of Week','matched_seg_id','Lat','Long'])['Count'].sum()}).reset_index()\n",
    "wg2_DV2f=pd.DataFrame({'agge_factor' : wg2_DV.groupby(['year','month','day','Leg','Day of Week','matched_seg_id','Lat','Long'])['Average_Group_HOD_Factor'].sum()}).reset_index()\n",
    "wg2_DV2r=pd.merge(wg2_DV2,wg2_DV2f, on=['year','month','day','Leg','Day of Week','matched_seg_id','Lat','Long'], how='inner')\n",
    "wg2_DV2r['Daily_Volume']=wg2_DV2r['agge_count']/wg2_DV2r['agge_factor']\n",
    "wg2_DV2rf=pd.DataFrame({'TDV' : wg2_DV2r.groupby(['year','Leg','Day of Week','month','matched_seg_id','Lat','Long'])['Daily_Volume'].mean()}).reset_index()"
   ]
  },
  {
   "cell_type": "code",
   "execution_count": 428,
   "id": "01fab04e",
   "metadata": {},
   "outputs": [
    {
     "data": {
      "text/plain": [
       "((0, 62), (0, 9))"
      ]
     },
     "execution_count": 428,
     "metadata": {},
     "output_type": "execute_result"
    }
   ],
   "source": [
    "c=wg2_DV.loc[wg2_DV['Count']==0]\n",
    "c1=wg2_DV2.loc[wg2_DV2['agge_count']==0]\n",
    "c.shape,c1.shape"
   ]
  },
  {
   "cell_type": "code",
   "execution_count": 429,
   "id": "9f3402d2",
   "metadata": {},
   "outputs": [],
   "source": [
    "# Apply factor to obtain daily Volume\n",
    "# wg1_DV=pd.merge(w_g1,HOD_weekend_g1, on=['starttime'], how='inner')\n",
    "# wg1_DV['Daily_Volume']=wg1_DV['Count']/wg1_DV['Average_Group_HOD_Factor']\n",
    "# wg1_DV1=pd.DataFrame({'TDV' : wg1_DV.groupby(['ID','year','Leg','Day of Week','month','matched_seg_id','Lat','Long'])['Daily_Volume'].mean()}).reset_index()\n",
    "# wg2_DV=pd.merge(w_g2,HOD_weekend_g2, on=['starttime'], how='inner')\n",
    "# wg2_DV['Daily_Volume']=wg2_DV['Count']/wg2_DV['Average_Group_HOD_Factor']\n",
    "# wg2_DV2=pd.DataFrame({'TDV' : wg2_DV.groupby(['ID','year','Leg','Day of Week','month','matched_seg_id','Lat','Long'])['Daily_Volume'].mean()}).reset_index()"
   ]
  },
  {
   "cell_type": "code",
   "execution_count": 430,
   "id": "c38e4483",
   "metadata": {},
   "outputs": [
    {
     "data": {
      "text/plain": [
       "(324, 9)"
      ]
     },
     "execution_count": 430,
     "metadata": {},
     "output_type": "execute_result"
    }
   ],
   "source": [
    "# combine these three group of estimated daily volume together\n",
    "Weekend_DV_part1=pd.concat([wg1_DV1rf,wg2_DV2rf],axis=0).reset_index()\n",
    "Weekend_DV_part1.shape"
   ]
  },
  {
   "cell_type": "code",
   "execution_count": 431,
   "id": "4fc7af67",
   "metadata": {},
   "outputs": [
    {
     "data": {
      "text/plain": [
       "Index(['Unnamed: 0.2', 'matched_seg_id', 'Leg', 'year', '...1', 'Unnamed: 0.1',\n",
       "       'Unnamed: 0_x', 'ID_x', 'Date', 'Day of Week', 'Start Time', 'End Time',\n",
       "       'Count', 'date', 'month', 'day', 'dayofweek', 'weekday_Status',\n",
       "       'Week Day Status', 'starttime', 'endtime', 'starttime1', 'endtime1',\n",
       "       'startDateTime', 'endDateTime', 'diff', 'hour', 'Total_hour',\n",
       "       'csum_counts', 'csum_hours', 'consec_flag', 'consec_flag1', 'season',\n",
       "       'max_flag', 'night_flag', 'counts', '(hour >= 6 & hour <= 21)',\n",
       "       'MAD_flag_threshold', 'MAD_flag', 'comb_flag', 'comb_flag_day_count',\n",
       "       'comb_flag_day', 'Mio', 'ID_y', 'tdg_id', 'Lat', 'Long', 'Unnamed: 0_y',\n",
       "       'ID_y', 'edgeUID', 'osmId', 'stv_total', 'stv_com_total',\n",
       "       'stv_rec_total', 'stv_com_ratio', 'stv_rec_ratio', 'geometry',\n",
       "       'popden'],\n",
       "      dtype='object')"
      ]
     },
     "execution_count": 431,
     "metadata": {},
     "output_type": "execute_result"
    }
   ],
   "source": [
    " weekend_hr_data1.columns"
   ]
  },
  {
   "cell_type": "code",
   "execution_count": 432,
   "id": "dd0e14ce",
   "metadata": {},
   "outputs": [
    {
     "data": {
      "text/plain": [
       "Index(['index', 'year', 'Leg', 'Day of Week', 'month', 'matched_seg_id', 'Lat',\n",
       "       'Long', 'TDV'],\n",
       "      dtype='object')"
      ]
     },
     "execution_count": 432,
     "metadata": {},
     "output_type": "execute_result"
    }
   ],
   "source": [
    "Weekend_DV_part1.columns"
   ]
  },
  {
   "cell_type": "code",
   "execution_count": 433,
   "id": "4e6df7f1",
   "metadata": {},
   "outputs": [
    {
     "data": {
      "text/html": [
       "<div>\n",
       "<style scoped>\n",
       "    .dataframe tbody tr th:only-of-type {\n",
       "        vertical-align: middle;\n",
       "    }\n",
       "\n",
       "    .dataframe tbody tr th {\n",
       "        vertical-align: top;\n",
       "    }\n",
       "\n",
       "    .dataframe thead th {\n",
       "        text-align: right;\n",
       "    }\n",
       "</style>\n",
       "<table border=\"1\" class=\"dataframe\">\n",
       "  <thead>\n",
       "    <tr style=\"text-align: right;\">\n",
       "      <th></th>\n",
       "      <th>Unnamed: 0.2</th>\n",
       "      <th>matched_seg_id</th>\n",
       "      <th>Leg</th>\n",
       "      <th>year</th>\n",
       "      <th>...1</th>\n",
       "      <th>Unnamed: 0.1</th>\n",
       "      <th>Unnamed: 0_x</th>\n",
       "      <th>ID_x</th>\n",
       "      <th>Date</th>\n",
       "      <th>Day of Week</th>\n",
       "      <th>...</th>\n",
       "      <th>Unnamed: 0_y</th>\n",
       "      <th>ID_y</th>\n",
       "      <th>edgeUID</th>\n",
       "      <th>osmId</th>\n",
       "      <th>stv_total</th>\n",
       "      <th>stv_com_total</th>\n",
       "      <th>stv_rec_total</th>\n",
       "      <th>stv_com_ratio</th>\n",
       "      <th>geometry</th>\n",
       "      <th>popden</th>\n",
       "    </tr>\n",
       "  </thead>\n",
       "  <tbody>\n",
       "  </tbody>\n",
       "</table>\n",
       "<p>0 rows × 57 columns</p>\n",
       "</div>"
      ],
      "text/plain": [
       "Empty DataFrame\n",
       "Columns: [Unnamed: 0.2, matched_seg_id, Leg, year, ...1, Unnamed: 0.1, Unnamed: 0_x, ID_x, Date, Day of Week, Start Time, End Time, Count, date, month, day, dayofweek, weekday_Status, Week Day Status, starttime, endtime, starttime1, endtime1, startDateTime, endDateTime, diff, hour, Total_hour, csum_counts, csum_hours, consec_flag, consec_flag1, season, max_flag, night_flag, counts, (hour >= 6 & hour <= 21), MAD_flag_threshold, MAD_flag, comb_flag, comb_flag_day_count, comb_flag_day, Mio, ID_y, tdg_id, Lat, Long, Unnamed: 0_y, ID_y, edgeUID, osmId, stv_total, stv_com_total, stv_rec_total, stv_com_ratio, geometry, popden]\n",
       "Index: []\n",
       "\n",
       "[0 rows x 57 columns]"
      ]
     },
     "execution_count": 433,
     "metadata": {},
     "output_type": "execute_result"
    }
   ],
   "source": [
    "# Now find the short term sites in the weekend where strava recreation data was not available to calculate due to lack of data\n",
    "common = weekend_hr_data1.merge(Weekend_DV_part1,on=['matched_seg_id', 'year', 'Leg'])\n",
    "weekend_hr_data2=weekend_hr_data1[(~weekend_hr_data1.matched_seg_id.isin(common.matched_seg_id))]\n",
    "weekend_hr_data2=weekend_hr_data2.drop(['stv_rec_ratio'],axis=1)\n",
    "weekend_hr_data2.head()"
   ]
  },
  {
   "cell_type": "code",
   "execution_count": 434,
   "id": "6e31bab0",
   "metadata": {},
   "outputs": [],
   "source": [
    "# Now estimate Strava recreation Ratio using the formula Strava Recreational Ratio (SRR)= 0.96967-0.00303*√(\"population Density\" ) +𝟎.𝟎𝟐𝟑𝟗𝟓∗𝐥𝐧(𝐃𝐢𝐬𝐭𝐚𝐧𝐜𝐞 𝐭𝐨 𝐂𝐁𝐃 𝐢𝐧 𝐦𝐢𝐥𝐞)\n",
    "# a=0.96967\n",
    "# b=-0.00303\n",
    "# c=0.02395\n",
    "# weekend_hr_data2['stv_rec_ratio']=a+b*np.sqrt(weekend_hr_data2['popden'])+c*np.log(weekend_hr_data2['CBD Distance'])\n",
    "# weekend_hr_data2.head()"
   ]
  },
  {
   "cell_type": "code",
   "execution_count": 435,
   "id": "16b021ac",
   "metadata": {},
   "outputs": [],
   "source": [
    "#weekend_hr_data2['stv_rec_ratio'].describe()"
   ]
  },
  {
   "cell_type": "code",
   "execution_count": 436,
   "id": "8de1c7e1",
   "metadata": {},
   "outputs": [],
   "source": [
    "# Split the weekend data by strava recreational threshold to apply factor\n",
    "# w_g11=weekend_hr_data2.loc[weekend_hr_data2['stv_rec_ratio']<=0.75]\n",
    "# w_g22=weekend_hr_data2.loc[weekend_hr_data2['stv_rec_ratio']>0.75]\n",
    "# w_g22.tail(2)"
   ]
  },
  {
   "cell_type": "code",
   "execution_count": 437,
   "id": "401c0868",
   "metadata": {},
   "outputs": [],
   "source": [
    "# Apply factor to obtain daily Volume\n",
    "# wg11_DV=pd.merge(w_g11,HOD_weekend_g1, on=['starttime'], how='inner')\n",
    "# wg11_DV['Daily_Volume']=wg11_DV['Count']/wg11_DV['Average_Group_HOD_Factor']\n",
    "# wg11_DV11=pd.DataFrame({'TDV' : wg11_DV.groupby(['ID','year','Leg','Day of Week','month','matched_seg_id','Lat','Long'])['Daily_Volume'].mean()}).reset_index()\n",
    "# wg22_DV=pd.merge(w_g22,HOD_weekend_g2, on=['starttime'], how='inner')\n",
    "# wg22_DV['Daily_Volume']=wg22_DV['Count']/wg22_DV['Average_Group_HOD_Factor']\n",
    "# wg22_DV22=pd.DataFrame({'TDV' : wg22_DV.groupby(['ID','year','Leg','Day of Week','month','matched_seg_id','Lat','Long'])['Daily_Volume'].mean()}).reset_index()"
   ]
  },
  {
   "cell_type": "code",
   "execution_count": 438,
   "id": "76bcd329",
   "metadata": {},
   "outputs": [],
   "source": [
    "# combine these three group of estimated daily volume together\n",
    "# Weekend_DV_part2=pd.concat([wg11_DV11,wg22_DV22],axis=0).reset_index()\n",
    "# Weekend_DV_part2.shape"
   ]
  },
  {
   "cell_type": "code",
   "execution_count": 439,
   "id": "8e7b55c4",
   "metadata": {},
   "outputs": [],
   "source": [
    "# combine weekend total estimated daily volume data\n",
    "Weekend_DV=Weekend_DV_part1"
   ]
  },
  {
   "cell_type": "code",
   "execution_count": 440,
   "id": "2e179dff",
   "metadata": {},
   "outputs": [
    {
     "data": {
      "text/plain": [
       "<AxesSubplot: >"
      ]
     },
     "execution_count": 440,
     "metadata": {},
     "output_type": "execute_result"
    },
    {
     "data": {
      "image/png": "[encoded data removed]",
      "text/plain": [
       "<Figure size 640x480 with 1 Axes>"
      ]
     },
     "metadata": {},
     "output_type": "display_data"
    }
   ],
   "source": [
    "Weekend_DV['TDV'].plot()"
   ]
  },
  {
   "cell_type": "code",
   "execution_count": 441,
   "id": "78090dcc",
   "metadata": {},
   "outputs": [
    {
     "data": {
      "text/plain": [
       "267"
      ]
     },
     "execution_count": 441,
     "metadata": {},
     "output_type": "execute_result"
    }
   ],
   "source": [
    "Weekend_DV['matched_seg_id'].nunique()"
   ]
  },
  {
   "cell_type": "markdown",
   "id": "0d2242a4",
   "metadata": {},
   "source": [
    "# Combine weekday and weekend Estimated Daily Volume"
   ]
  },
  {
   "cell_type": "code",
   "execution_count": 442,
   "id": "2f9ce2a0",
   "metadata": {},
   "outputs": [
    {
     "data": {
      "text/html": [
       "<div>\n",
       "<style scoped>\n",
       "    .dataframe tbody tr th:only-of-type {\n",
       "        vertical-align: middle;\n",
       "    }\n",
       "\n",
       "    .dataframe tbody tr th {\n",
       "        vertical-align: top;\n",
       "    }\n",
       "\n",
       "    .dataframe thead th {\n",
       "        text-align: right;\n",
       "    }\n",
       "</style>\n",
       "<table border=\"1\" class=\"dataframe\">\n",
       "  <thead>\n",
       "    <tr style=\"text-align: right;\">\n",
       "      <th></th>\n",
       "      <th>level_0</th>\n",
       "      <th>index</th>\n",
       "      <th>year</th>\n",
       "      <th>Leg</th>\n",
       "      <th>Day of Week</th>\n",
       "      <th>month</th>\n",
       "      <th>matched_seg_id</th>\n",
       "      <th>Lat</th>\n",
       "      <th>Long</th>\n",
       "      <th>TDV</th>\n",
       "    </tr>\n",
       "  </thead>\n",
       "  <tbody>\n",
       "    <tr>\n",
       "      <th>0</th>\n",
       "      <td>0</td>\n",
       "      <td>0</td>\n",
       "      <td>2014</td>\n",
       "      <td>E</td>\n",
       "      <td>Thursday</td>\n",
       "      <td>5</td>\n",
       "      <td>6191</td>\n",
       "      <td>37.916293</td>\n",
       "      <td>-122.026658</td>\n",
       "      <td>323.429092</td>\n",
       "    </tr>\n",
       "    <tr>\n",
       "      <th>1</th>\n",
       "      <td>1</td>\n",
       "      <td>1</td>\n",
       "      <td>2014</td>\n",
       "      <td>N</td>\n",
       "      <td>Thursday</td>\n",
       "      <td>5</td>\n",
       "      <td>6274</td>\n",
       "      <td>37.919106</td>\n",
       "      <td>-122.065131</td>\n",
       "      <td>44.209732</td>\n",
       "    </tr>\n",
       "    <tr>\n",
       "      <th>2</th>\n",
       "      <td>2</td>\n",
       "      <td>2</td>\n",
       "      <td>2014</td>\n",
       "      <td>S</td>\n",
       "      <td>Thursday</td>\n",
       "      <td>5</td>\n",
       "      <td>6002</td>\n",
       "      <td>37.916497</td>\n",
       "      <td>-122.027719</td>\n",
       "      <td>51.190216</td>\n",
       "    </tr>\n",
       "    <tr>\n",
       "      <th>3</th>\n",
       "      <td>3</td>\n",
       "      <td>3</td>\n",
       "      <td>2014</td>\n",
       "      <td>S</td>\n",
       "      <td>Thursday</td>\n",
       "      <td>5</td>\n",
       "      <td>6127</td>\n",
       "      <td>37.917992</td>\n",
       "      <td>-122.065518</td>\n",
       "      <td>44.209732</td>\n",
       "    </tr>\n",
       "    <tr>\n",
       "      <th>4</th>\n",
       "      <td>4</td>\n",
       "      <td>4</td>\n",
       "      <td>2014</td>\n",
       "      <td>S</td>\n",
       "      <td>Thursday</td>\n",
       "      <td>5</td>\n",
       "      <td>6192</td>\n",
       "      <td>37.884941</td>\n",
       "      <td>-122.077718</td>\n",
       "      <td>20.941452</td>\n",
       "    </tr>\n",
       "  </tbody>\n",
       "</table>\n",
       "</div>"
      ],
      "text/plain": [
       "   level_0  index  year Leg Day of Week  month  matched_seg_id        Lat  \\\n",
       "0        0      0  2014   E    Thursday      5            6191  37.916293   \n",
       "1        1      1  2014   N    Thursday      5            6274  37.919106   \n",
       "2        2      2  2014   S    Thursday      5            6002  37.916497   \n",
       "3        3      3  2014   S    Thursday      5            6127  37.917992   \n",
       "4        4      4  2014   S    Thursday      5            6192  37.884941   \n",
       "\n",
       "         Long         TDV  \n",
       "0 -122.026658  323.429092  \n",
       "1 -122.065131   44.209732  \n",
       "2 -122.027719   51.190216  \n",
       "3 -122.065518   44.209732  \n",
       "4 -122.077718   20.941452  "
      ]
     },
     "execution_count": 442,
     "metadata": {},
     "output_type": "execute_result"
    }
   ],
   "source": [
    "ES_DV=pd.concat([Weekday_DV, Weekend_DV],axis=0).reset_index()\n",
    "#ES_DV=ES_DV.drop_duplicates(subset=['ID','year','Leg','matched_seg_id','Lat','Long'], keep='first')\n",
    "ES_DV.head()"
   ]
  },
  {
   "cell_type": "code",
   "execution_count": 443,
   "id": "cb54a67f",
   "metadata": {},
   "outputs": [
    {
     "data": {
      "text/plain": [
       "(0, 10)"
      ]
     },
     "execution_count": 443,
     "metadata": {},
     "output_type": "execute_result"
    }
   ],
   "source": [
    "zero=ES_DV.loc[ES_DV['TDV']==0]\n",
    "zero.shape"
   ]
  },
  {
   "cell_type": "code",
   "execution_count": 444,
   "id": "afe1607f",
   "metadata": {},
   "outputs": [
    {
     "data": {
      "text/plain": [
       "(2605, 0)"
      ]
     },
     "execution_count": 444,
     "metadata": {},
     "output_type": "execute_result"
    }
   ],
   "source": [
    "ES_DV['matched_seg_id'].nunique(),zero['matched_seg_id'].nunique()"
   ]
  },
  {
   "cell_type": "code",
   "execution_count": 445,
   "id": "b3747f23",
   "metadata": {},
   "outputs": [
    {
     "data": {
      "text/plain": [
       "year\n",
       "2014     261\n",
       "2015     399\n",
       "2016    1464\n",
       "2017     493\n",
       "2018    1134\n",
       "2019     371\n",
       "Name: matched_seg_id, dtype: int64"
      ]
     },
     "execution_count": 445,
     "metadata": {},
     "output_type": "execute_result"
    }
   ],
   "source": [
    "ES_DV.groupby(['year'])['matched_seg_id'].count()"
   ]
  },
  {
   "cell_type": "code",
   "execution_count": 446,
   "id": "a1484709",
   "metadata": {},
   "outputs": [
    {
     "data": {
      "text/plain": [
       "year\n",
       "2014     227\n",
       "2015     320\n",
       "2016    1218\n",
       "2017     472\n",
       "2018     939\n",
       "2019     297\n",
       "Name: matched_seg_id, dtype: int64"
      ]
     },
     "execution_count": 446,
     "metadata": {},
     "output_type": "execute_result"
    }
   ],
   "source": [
    "ES_DV.groupby(['year'])['matched_seg_id'].nunique()"
   ]
  },
  {
   "cell_type": "code",
   "execution_count": 447,
   "id": "43091b2f",
   "metadata": {},
   "outputs": [
    {
     "data": {
      "text/plain": [
       "<AxesSubplot: >"
      ]
     },
     "execution_count": 447,
     "metadata": {},
     "output_type": "execute_result"
    },
    {
     "data": {
      "image/png": "[encoded data removed]",
      "text/plain": [
       "<Figure size 640x480 with 1 Axes>"
      ]
     },
     "metadata": {},
     "output_type": "display_data"
    }
   ],
   "source": [
    "ES_DV['TDV'].plot()"
   ]
  },
  {
   "cell_type": "code",
   "execution_count": 448,
   "id": "e8b9f3ce",
   "metadata": {},
   "outputs": [
    {
     "data": {
      "text/plain": [
       "level_0           0\n",
       "index             0\n",
       "year              0\n",
       "Leg               0\n",
       "Day of Week       0\n",
       "month             0\n",
       "matched_seg_id    0\n",
       "Lat               0\n",
       "Long              0\n",
       "TDV               0\n",
       "dtype: int64"
      ]
     },
     "execution_count": 448,
     "metadata": {},
     "output_type": "execute_result"
    }
   ],
   "source": [
    "ES_DV.isnull().sum()"
   ]
  },
  {
   "cell_type": "code",
   "execution_count": 449,
   "id": "29829484",
   "metadata": {},
   "outputs": [
    {
     "data": {
      "text/html": [
       "<div>\n",
       "<style scoped>\n",
       "    .dataframe tbody tr th:only-of-type {\n",
       "        vertical-align: middle;\n",
       "    }\n",
       "\n",
       "    .dataframe tbody tr th {\n",
       "        vertical-align: top;\n",
       "    }\n",
       "\n",
       "    .dataframe thead th {\n",
       "        text-align: right;\n",
       "    }\n",
       "</style>\n",
       "<table border=\"1\" class=\"dataframe\">\n",
       "  <thead>\n",
       "    <tr style=\"text-align: right;\">\n",
       "      <th></th>\n",
       "      <th>level_0</th>\n",
       "      <th>index</th>\n",
       "      <th>year</th>\n",
       "      <th>Leg</th>\n",
       "      <th>Day of Week</th>\n",
       "      <th>month</th>\n",
       "      <th>matched_seg_id</th>\n",
       "      <th>Lat</th>\n",
       "      <th>Long</th>\n",
       "      <th>TDV</th>\n",
       "    </tr>\n",
       "  </thead>\n",
       "  <tbody>\n",
       "  </tbody>\n",
       "</table>\n",
       "</div>"
      ],
      "text/plain": [
       "Empty DataFrame\n",
       "Columns: [level_0, index, year, Leg, Day of Week, month, matched_seg_id, Lat, Long, TDV]\n",
       "Index: []"
      ]
     },
     "execution_count": 449,
     "metadata": {},
     "output_type": "execute_result"
    }
   ],
   "source": [
    "anomally=ES_DV.loc[ES_DV['TDV']>4000]\n",
    "anomally"
   ]
  },
  {
   "cell_type": "code",
   "execution_count": 450,
   "id": "7282aae3",
   "metadata": {},
   "outputs": [
    {
     "data": {
      "text/html": [
       "<div>\n",
       "<style scoped>\n",
       "    .dataframe tbody tr th:only-of-type {\n",
       "        vertical-align: middle;\n",
       "    }\n",
       "\n",
       "    .dataframe tbody tr th {\n",
       "        vertical-align: top;\n",
       "    }\n",
       "\n",
       "    .dataframe thead th {\n",
       "        text-align: right;\n",
       "    }\n",
       "</style>\n",
       "<table border=\"1\" class=\"dataframe\">\n",
       "  <thead>\n",
       "    <tr style=\"text-align: right;\">\n",
       "      <th></th>\n",
       "      <th>Unnamed: 0.2</th>\n",
       "      <th>matched_seg_id</th>\n",
       "      <th>Leg</th>\n",
       "      <th>year</th>\n",
       "      <th>...1</th>\n",
       "      <th>Unnamed: 0.1</th>\n",
       "      <th>Unnamed: 0</th>\n",
       "      <th>ID</th>\n",
       "      <th>Date</th>\n",
       "      <th>Day of Week</th>\n",
       "      <th>...</th>\n",
       "      <th>max_flag</th>\n",
       "      <th>night_flag</th>\n",
       "      <th>counts</th>\n",
       "      <th>(hour &gt;= 6 &amp; hour &lt;= 21)</th>\n",
       "      <th>MAD_flag_threshold</th>\n",
       "      <th>MAD_flag</th>\n",
       "      <th>comb_flag</th>\n",
       "      <th>comb_flag_day_count</th>\n",
       "      <th>comb_flag_day</th>\n",
       "      <th>Mio</th>\n",
       "    </tr>\n",
       "  </thead>\n",
       "  <tbody>\n",
       "    <tr>\n",
       "      <th>23313</th>\n",
       "      <td>23314</td>\n",
       "      <td>7175</td>\n",
       "      <td>N</td>\n",
       "      <td>2017</td>\n",
       "      <td>32675</td>\n",
       "      <td>32675</td>\n",
       "      <td>2500</td>\n",
       "      <td>Miovision81</td>\n",
       "      <td>2017-06-04</td>\n",
       "      <td>Sunday</td>\n",
       "      <td>...</td>\n",
       "      <td>False</td>\n",
       "      <td>False</td>\n",
       "      <td>16</td>\n",
       "      <td>True</td>\n",
       "      <td>77.1648</td>\n",
       "      <td>False</td>\n",
       "      <td>False</td>\n",
       "      <td>0</td>\n",
       "      <td>False</td>\n",
       "      <td>1</td>\n",
       "    </tr>\n",
       "    <tr>\n",
       "      <th>23314</th>\n",
       "      <td>23315</td>\n",
       "      <td>7175</td>\n",
       "      <td>N</td>\n",
       "      <td>2017</td>\n",
       "      <td>32673</td>\n",
       "      <td>32673</td>\n",
       "      <td>2498</td>\n",
       "      <td>Miovision81</td>\n",
       "      <td>2017-06-04</td>\n",
       "      <td>Sunday</td>\n",
       "      <td>...</td>\n",
       "      <td>False</td>\n",
       "      <td>False</td>\n",
       "      <td>28</td>\n",
       "      <td>True</td>\n",
       "      <td>77.1648</td>\n",
       "      <td>False</td>\n",
       "      <td>False</td>\n",
       "      <td>0</td>\n",
       "      <td>False</td>\n",
       "      <td>1</td>\n",
       "    </tr>\n",
       "    <tr>\n",
       "      <th>23315</th>\n",
       "      <td>23316</td>\n",
       "      <td>7175</td>\n",
       "      <td>N</td>\n",
       "      <td>2017</td>\n",
       "      <td>32674</td>\n",
       "      <td>32674</td>\n",
       "      <td>2499</td>\n",
       "      <td>Miovision81</td>\n",
       "      <td>2017-06-04</td>\n",
       "      <td>Sunday</td>\n",
       "      <td>...</td>\n",
       "      <td>False</td>\n",
       "      <td>False</td>\n",
       "      <td>17</td>\n",
       "      <td>True</td>\n",
       "      <td>77.1648</td>\n",
       "      <td>False</td>\n",
       "      <td>False</td>\n",
       "      <td>0</td>\n",
       "      <td>False</td>\n",
       "      <td>1</td>\n",
       "    </tr>\n",
       "    <tr>\n",
       "      <th>23333</th>\n",
       "      <td>23334</td>\n",
       "      <td>7175</td>\n",
       "      <td>N</td>\n",
       "      <td>2017</td>\n",
       "      <td>32679</td>\n",
       "      <td>32679</td>\n",
       "      <td>2504</td>\n",
       "      <td>Miovision81</td>\n",
       "      <td>2017-06-04</td>\n",
       "      <td>Sunday</td>\n",
       "      <td>...</td>\n",
       "      <td>False</td>\n",
       "      <td>False</td>\n",
       "      <td>10</td>\n",
       "      <td>True</td>\n",
       "      <td>77.1648</td>\n",
       "      <td>False</td>\n",
       "      <td>False</td>\n",
       "      <td>0</td>\n",
       "      <td>False</td>\n",
       "      <td>1</td>\n",
       "    </tr>\n",
       "    <tr>\n",
       "      <th>23335</th>\n",
       "      <td>23336</td>\n",
       "      <td>7175</td>\n",
       "      <td>N</td>\n",
       "      <td>2017</td>\n",
       "      <td>32681</td>\n",
       "      <td>32681</td>\n",
       "      <td>2506</td>\n",
       "      <td>Miovision81</td>\n",
       "      <td>2017-06-04</td>\n",
       "      <td>Sunday</td>\n",
       "      <td>...</td>\n",
       "      <td>False</td>\n",
       "      <td>False</td>\n",
       "      <td>6</td>\n",
       "      <td>True</td>\n",
       "      <td>77.1648</td>\n",
       "      <td>False</td>\n",
       "      <td>False</td>\n",
       "      <td>0</td>\n",
       "      <td>False</td>\n",
       "      <td>1</td>\n",
       "    </tr>\n",
       "  </tbody>\n",
       "</table>\n",
       "<p>5 rows × 43 columns</p>\n",
       "</div>"
      ],
      "text/plain": [
       "       Unnamed: 0.2  matched_seg_id Leg  year   ...1  Unnamed: 0.1  \\\n",
       "23313         23314            7175   N  2017  32675         32675   \n",
       "23314         23315            7175   N  2017  32673         32673   \n",
       "23315         23316            7175   N  2017  32674         32674   \n",
       "23333         23334            7175   N  2017  32679         32679   \n",
       "23335         23336            7175   N  2017  32681         32681   \n",
       "\n",
       "       Unnamed: 0           ID        Date Day of Week  ... max_flag  \\\n",
       "23313        2500  Miovision81  2017-06-04      Sunday  ...    False   \n",
       "23314        2498  Miovision81  2017-06-04      Sunday  ...    False   \n",
       "23315        2499  Miovision81  2017-06-04      Sunday  ...    False   \n",
       "23333        2504  Miovision81  2017-06-04      Sunday  ...    False   \n",
       "23335        2506  Miovision81  2017-06-04      Sunday  ...    False   \n",
       "\n",
       "      night_flag  counts (hour >= 6 & hour <= 21)  MAD_flag_threshold  \\\n",
       "23313      False      16                     True             77.1648   \n",
       "23314      False      28                     True             77.1648   \n",
       "23315      False      17                     True             77.1648   \n",
       "23333      False      10                     True             77.1648   \n",
       "23335      False       6                     True             77.1648   \n",
       "\n",
       "       MAD_flag  comb_flag  comb_flag_day_count comb_flag_day Mio  \n",
       "23313     False      False                    0         False   1  \n",
       "23314     False      False                    0         False   1  \n",
       "23315     False      False                    0         False   1  \n",
       "23333     False      False                    0         False   1  \n",
       "23335     False      False                    0         False   1  \n",
       "\n",
       "[5 rows x 43 columns]"
      ]
     },
     "execution_count": 450,
     "metadata": {},
     "output_type": "execute_result"
    }
   ],
   "source": [
    "an1=sc.loc[sc['ID']=='Miovision81']\n",
    "an1.head()"
   ]
  },
  {
   "cell_type": "code",
   "execution_count": 451,
   "id": "63e99347",
   "metadata": {},
   "outputs": [],
   "source": [
    "ES_DV.to_csv('H:/Desktop/Bike_ped Exposure Model Project/Estimated_Outcomes/Revised_Estimated_SC_DV_feb19.csv',index=False)"
   ]
  },
  {
   "cell_type": "markdown",
   "id": "a41e93ed",
   "metadata": {},
   "source": [
    "# End of the Code"
   ]
  },
  {
   "cell_type": "code",
   "execution_count": null,
   "id": "99a5feeb",
   "metadata": {},
   "outputs": [],
   "source": []
  }
 ],
 "metadata": {
  "kernelspec": {
   "display_name": "Python 3 (ipykernel)",
   "language": "python",
   "name": "python3"
  },
  "language_info": {
   "codemirror_mode": {
    "name": "ipython",
    "version": 3
   },
   "file_extension": ".py",
   "mimetype": "text/x-python",
   "name": "python",
   "nbconvert_exporter": "python",
   "pygments_lexer": "ipython3",
   "version": "3.11.0"
  }
 },
 "nbformat": 4,
 "nbformat_minor": 5
}
